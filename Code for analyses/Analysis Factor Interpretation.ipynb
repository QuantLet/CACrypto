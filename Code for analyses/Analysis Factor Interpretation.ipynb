{
 "cells": [
  {
   "cell_type": "code",
   "execution_count": 37,
   "outputs": [
    {
     "data": {
      "text/plain": "<module 'my_functions_v13' from '/Users/lucasumann/PycharmProjects/Masterarbeit/Notebooks/my_functions_v13.py'>"
     },
     "execution_count": 37,
     "metadata": {},
     "output_type": "execute_result"
    }
   ],
   "source": [
    "\n",
    "import numpy as np\n",
    "import matplotlib.pyplot as plt\n",
    "import pickle\n",
    "import pandas as pd\n",
    "import os\n",
    "import my_functions_v13 as my\n",
    "import importlib\n",
    "import statsmodels.api as sm\n",
    "import statsmodels\n",
    "importlib.reload(my)"
   ],
   "metadata": {
    "collapsed": false,
    "pycharm": {
     "name": "#%%\n"
    }
   }
  },
  {
   "cell_type": "markdown",
   "source": [
    "# V6: Data fixes were implemented before feature engineering. There is a new column which marks dates that need to be excluded from the estimation of R squared on the test set (due to data fixes or missing at that date)"
   ],
   "metadata": {
    "collapsed": false,
    "pycharm": {
     "name": "#%% md\n"
    }
   }
  },
  {
   "cell_type": "code",
   "execution_count": 1,
   "outputs": [],
   "source": [],
   "metadata": {
    "collapsed": false,
    "pycharm": {
     "name": "#%%\n"
    }
   }
  },
  {
   "cell_type": "markdown",
   "source": [
    "# V9: Same as V6, but with Aggregate Data v3, more coins (fake volume only single days excluded), illiquidity fixed"
   ],
   "metadata": {
    "collapsed": false,
    "pycharm": {
     "name": "#%% md\n"
    }
   }
  },
  {
   "cell_type": "markdown",
   "source": [
    "# V11: Same as V9, but with varying window sizes for training and 3 parallel"
   ],
   "metadata": {
    "collapsed": false,
    "pycharm": {
     "name": "#%% md\n"
    }
   }
  },
  {
   "cell_type": "code",
   "execution_count": 2,
   "outputs": [],
   "source": [
    "# V12: Same as V11, but with variable importance functionality"
   ],
   "metadata": {
    "collapsed": false,
    "pycharm": {
     "name": "#%%\n"
    }
   }
  },
  {
   "cell_type": "code",
   "execution_count": 3,
   "outputs": [],
   "source": [
    "# V14: Same as V12, now with fixed number of factors = 3"
   ],
   "metadata": {
    "collapsed": false,
    "pycharm": {
     "name": "#%%\n"
    }
   }
  },
  {
   "cell_type": "markdown",
   "source": [],
   "metadata": {
    "collapsed": false,
    "pycharm": {
     "name": "#%% md\n"
    }
   }
  },
  {
   "cell_type": "code",
   "execution_count": 4,
   "outputs": [],
   "source": [
    "window_size_training = 0.1"
   ],
   "metadata": {
    "collapsed": false,
    "pycharm": {
     "name": "#%%\n"
    }
   }
  },
  {
   "cell_type": "code",
   "execution_count": 5,
   "outputs": [],
   "source": [
    "number_factors = 3"
   ],
   "metadata": {
    "collapsed": false,
    "pycharm": {
     "name": "#%%\n"
    }
   }
  },
  {
   "cell_type": "markdown",
   "source": [
    "# This version has faster future prediction"
   ],
   "metadata": {
    "collapsed": false,
    "pycharm": {
     "name": "#%% md\n"
    }
   }
  },
  {
   "cell_type": "code",
   "execution_count": 6,
   "outputs": [],
   "source": [
    "full_coins_model = my.cond_auto_model(full_input = True, parallel_runs = 2, factor_dim=number_factors, model_name = \"322 coins with intercept v13 training window \"+str(window_size_training))\n",
    "full_coins_model.test_percent = 1 - window_size_training"
   ],
   "metadata": {
    "collapsed": false,
    "pycharm": {
     "name": "#%%\n"
    }
   }
  },
  {
   "cell_type": "code",
   "execution_count": 7,
   "outputs": [],
   "source": [
    "full_coins_model.initialize_X_Y()"
   ],
   "metadata": {
    "collapsed": false,
    "pycharm": {
     "name": "#%%\n"
    }
   }
  },
  {
   "cell_type": "code",
   "execution_count": 101,
   "outputs": [],
   "source": [
    "portfolios = full_coins_model.sorted_portfolios[-1535:]"
   ],
   "metadata": {
    "collapsed": false,
    "pycharm": {
     "name": "#%%\n"
    }
   }
  },
  {
   "cell_type": "code",
   "execution_count": 102,
   "outputs": [],
   "source": [
    "\n",
    "del portfolios[\"Intercept\"]"
   ],
   "metadata": {
    "collapsed": false,
    "pycharm": {
     "name": "#%%\n"
    }
   }
  },
  {
   "cell_type": "code",
   "execution_count": 103,
   "outputs": [
    {
     "data": {
      "text/plain": "            new_addresses  active_addresses        bm    volume  \\\n2017-12-18      -0.042616          0.039247  0.000927  0.057444   \n2017-12-19       0.003345         -0.015382 -0.007817  0.039844   \n2017-12-20       0.034052         -0.029271  0.009508  0.039807   \n2017-12-21       0.040579         -0.030344  0.003742  0.025454   \n2017-12-22      -0.033642          0.040956 -0.001150 -0.081866   \n...                   ...               ...       ...       ...   \n2022-02-25       0.011676          0.011045 -0.005365  0.024761   \n2022-02-26      -0.006784          0.000798  0.011780 -0.002737   \n2022-02-27      -0.032433          0.034381  0.000075  0.017336   \n2022-02-28       0.035708         -0.020013  0.003763  0.126148   \n2022-03-01      -0.000270         -0.002747  0.001629  0.026273   \n\n            standard deviation volume      size     illiq  capm beta  \\\n2017-12-18                   0.038626  0.003872 -0.044039  -0.019550   \n2017-12-19                  -0.017505 -0.009697  0.017725  -0.002649   \n2017-12-20                  -0.053920  0.002028 -0.010247  -0.030243   \n2017-12-21                   0.002907 -0.032239 -0.017493  -0.012224   \n2017-12-22                   0.041326 -0.047466  0.010796   0.044294   \n...                               ...       ...       ...        ...   \n2022-02-25                   0.005874 -0.013143 -0.006131  -0.006902   \n2022-02-26                   0.038649  0.003472 -0.025104  -0.009904   \n2022-02-27                  -0.015024 -0.007813 -0.001063  -0.005371   \n2022-02-28                  -0.083683  0.024501 -0.009854  -0.004492   \n2022-03-01                   0.029847 -0.020523 -0.022761   0.008162   \n\n                 max  capm alpha  ...  volume shock 60      r2_1      r7_2  \\\n2017-12-18 -0.022763   -0.024717  ...         0.017932 -0.010384  0.020825   \n2017-12-19 -0.022732    0.011081  ...        -0.135925 -0.013700 -0.032298   \n2017-12-20 -0.030489   -0.015037  ...        -0.073228 -0.008709  0.002290   \n2017-12-21 -0.029776   -0.031744  ...         0.012685  0.000037  0.010112   \n2017-12-22 -0.039081    0.014116  ...         0.027384 -0.014127 -0.023909   \n...              ...         ...  ...              ...       ...       ...   \n2022-02-25  0.016261   -0.039205  ...         0.015302 -0.000658 -0.016013   \n2022-02-26  0.039648   -0.012306  ...        -0.000547 -0.021027  0.007130   \n2022-02-27 -0.008499    0.001081  ...         0.008368 -0.008847 -0.003866   \n2022-02-28  0.022092   -0.000317  ...         0.004702 -0.009023 -0.004177   \n2022-03-01 -0.033600   -0.012532  ...        -0.008606 -0.008436  0.003968   \n\n               r13_2     r22_2     r31_2    r30_14   r180_60     var_5  \\\n2017-12-18 -0.025600 -0.016642  0.016113  0.015832  0.017678 -0.011418   \n2017-12-19  0.010856  0.038712 -0.006341 -0.041600 -0.024458  0.008376   \n2017-12-20 -0.015411 -0.008412 -0.000169  0.033114  0.016172  0.042105   \n2017-12-21  0.013041  0.018640 -0.004352  0.013837 -0.013634 -0.006032   \n2017-12-22 -0.002422 -0.003156  0.004888 -0.011166  0.015521 -0.022689   \n...              ...       ...       ...       ...       ...       ...   \n2022-02-25  0.004541  0.015935  0.014679 -0.004212 -0.009898 -0.000173   \n2022-02-26 -0.009105 -0.016298  0.026471  0.000066 -0.011779  0.001766   \n2022-02-27 -0.001136  0.011865 -0.005137 -0.001270  0.005717  0.006771   \n2022-02-28  0.031369 -0.001224 -0.028652  0.024336  0.002636 -0.029309   \n2022-03-01  0.016913 -0.000075 -0.006712  0.003148  0.005569 -0.002096   \n\n            constant  \n2017-12-18         1  \n2017-12-19         1  \n2017-12-20         1  \n2017-12-21         1  \n2017-12-22         1  \n...              ...  \n2022-02-25         1  \n2022-02-26         1  \n2022-02-27         1  \n2022-02-28         1  \n2022-03-01         1  \n\n[1535 rows x 28 columns]",
      "text/html": "<div>\n<style scoped>\n    .dataframe tbody tr th:only-of-type {\n        vertical-align: middle;\n    }\n\n    .dataframe tbody tr th {\n        vertical-align: top;\n    }\n\n    .dataframe thead th {\n        text-align: right;\n    }\n</style>\n<table border=\"1\" class=\"dataframe\">\n  <thead>\n    <tr style=\"text-align: right;\">\n      <th></th>\n      <th>new_addresses</th>\n      <th>active_addresses</th>\n      <th>bm</th>\n      <th>volume</th>\n      <th>standard deviation volume</th>\n      <th>size</th>\n      <th>illiq</th>\n      <th>capm beta</th>\n      <th>max</th>\n      <th>capm alpha</th>\n      <th>...</th>\n      <th>volume shock 60</th>\n      <th>r2_1</th>\n      <th>r7_2</th>\n      <th>r13_2</th>\n      <th>r22_2</th>\n      <th>r31_2</th>\n      <th>r30_14</th>\n      <th>r180_60</th>\n      <th>var_5</th>\n      <th>constant</th>\n    </tr>\n  </thead>\n  <tbody>\n    <tr>\n      <th>2017-12-18</th>\n      <td>-0.042616</td>\n      <td>0.039247</td>\n      <td>0.000927</td>\n      <td>0.057444</td>\n      <td>0.038626</td>\n      <td>0.003872</td>\n      <td>-0.044039</td>\n      <td>-0.019550</td>\n      <td>-0.022763</td>\n      <td>-0.024717</td>\n      <td>...</td>\n      <td>0.017932</td>\n      <td>-0.010384</td>\n      <td>0.020825</td>\n      <td>-0.025600</td>\n      <td>-0.016642</td>\n      <td>0.016113</td>\n      <td>0.015832</td>\n      <td>0.017678</td>\n      <td>-0.011418</td>\n      <td>1</td>\n    </tr>\n    <tr>\n      <th>2017-12-19</th>\n      <td>0.003345</td>\n      <td>-0.015382</td>\n      <td>-0.007817</td>\n      <td>0.039844</td>\n      <td>-0.017505</td>\n      <td>-0.009697</td>\n      <td>0.017725</td>\n      <td>-0.002649</td>\n      <td>-0.022732</td>\n      <td>0.011081</td>\n      <td>...</td>\n      <td>-0.135925</td>\n      <td>-0.013700</td>\n      <td>-0.032298</td>\n      <td>0.010856</td>\n      <td>0.038712</td>\n      <td>-0.006341</td>\n      <td>-0.041600</td>\n      <td>-0.024458</td>\n      <td>0.008376</td>\n      <td>1</td>\n    </tr>\n    <tr>\n      <th>2017-12-20</th>\n      <td>0.034052</td>\n      <td>-0.029271</td>\n      <td>0.009508</td>\n      <td>0.039807</td>\n      <td>-0.053920</td>\n      <td>0.002028</td>\n      <td>-0.010247</td>\n      <td>-0.030243</td>\n      <td>-0.030489</td>\n      <td>-0.015037</td>\n      <td>...</td>\n      <td>-0.073228</td>\n      <td>-0.008709</td>\n      <td>0.002290</td>\n      <td>-0.015411</td>\n      <td>-0.008412</td>\n      <td>-0.000169</td>\n      <td>0.033114</td>\n      <td>0.016172</td>\n      <td>0.042105</td>\n      <td>1</td>\n    </tr>\n    <tr>\n      <th>2017-12-21</th>\n      <td>0.040579</td>\n      <td>-0.030344</td>\n      <td>0.003742</td>\n      <td>0.025454</td>\n      <td>0.002907</td>\n      <td>-0.032239</td>\n      <td>-0.017493</td>\n      <td>-0.012224</td>\n      <td>-0.029776</td>\n      <td>-0.031744</td>\n      <td>...</td>\n      <td>0.012685</td>\n      <td>0.000037</td>\n      <td>0.010112</td>\n      <td>0.013041</td>\n      <td>0.018640</td>\n      <td>-0.004352</td>\n      <td>0.013837</td>\n      <td>-0.013634</td>\n      <td>-0.006032</td>\n      <td>1</td>\n    </tr>\n    <tr>\n      <th>2017-12-22</th>\n      <td>-0.033642</td>\n      <td>0.040956</td>\n      <td>-0.001150</td>\n      <td>-0.081866</td>\n      <td>0.041326</td>\n      <td>-0.047466</td>\n      <td>0.010796</td>\n      <td>0.044294</td>\n      <td>-0.039081</td>\n      <td>0.014116</td>\n      <td>...</td>\n      <td>0.027384</td>\n      <td>-0.014127</td>\n      <td>-0.023909</td>\n      <td>-0.002422</td>\n      <td>-0.003156</td>\n      <td>0.004888</td>\n      <td>-0.011166</td>\n      <td>0.015521</td>\n      <td>-0.022689</td>\n      <td>1</td>\n    </tr>\n    <tr>\n      <th>...</th>\n      <td>...</td>\n      <td>...</td>\n      <td>...</td>\n      <td>...</td>\n      <td>...</td>\n      <td>...</td>\n      <td>...</td>\n      <td>...</td>\n      <td>...</td>\n      <td>...</td>\n      <td>...</td>\n      <td>...</td>\n      <td>...</td>\n      <td>...</td>\n      <td>...</td>\n      <td>...</td>\n      <td>...</td>\n      <td>...</td>\n      <td>...</td>\n      <td>...</td>\n      <td>...</td>\n    </tr>\n    <tr>\n      <th>2022-02-25</th>\n      <td>0.011676</td>\n      <td>0.011045</td>\n      <td>-0.005365</td>\n      <td>0.024761</td>\n      <td>0.005874</td>\n      <td>-0.013143</td>\n      <td>-0.006131</td>\n      <td>-0.006902</td>\n      <td>0.016261</td>\n      <td>-0.039205</td>\n      <td>...</td>\n      <td>0.015302</td>\n      <td>-0.000658</td>\n      <td>-0.016013</td>\n      <td>0.004541</td>\n      <td>0.015935</td>\n      <td>0.014679</td>\n      <td>-0.004212</td>\n      <td>-0.009898</td>\n      <td>-0.000173</td>\n      <td>1</td>\n    </tr>\n    <tr>\n      <th>2022-02-26</th>\n      <td>-0.006784</td>\n      <td>0.000798</td>\n      <td>0.011780</td>\n      <td>-0.002737</td>\n      <td>0.038649</td>\n      <td>0.003472</td>\n      <td>-0.025104</td>\n      <td>-0.009904</td>\n      <td>0.039648</td>\n      <td>-0.012306</td>\n      <td>...</td>\n      <td>-0.000547</td>\n      <td>-0.021027</td>\n      <td>0.007130</td>\n      <td>-0.009105</td>\n      <td>-0.016298</td>\n      <td>0.026471</td>\n      <td>0.000066</td>\n      <td>-0.011779</td>\n      <td>0.001766</td>\n      <td>1</td>\n    </tr>\n    <tr>\n      <th>2022-02-27</th>\n      <td>-0.032433</td>\n      <td>0.034381</td>\n      <td>0.000075</td>\n      <td>0.017336</td>\n      <td>-0.015024</td>\n      <td>-0.007813</td>\n      <td>-0.001063</td>\n      <td>-0.005371</td>\n      <td>-0.008499</td>\n      <td>0.001081</td>\n      <td>...</td>\n      <td>0.008368</td>\n      <td>-0.008847</td>\n      <td>-0.003866</td>\n      <td>-0.001136</td>\n      <td>0.011865</td>\n      <td>-0.005137</td>\n      <td>-0.001270</td>\n      <td>0.005717</td>\n      <td>0.006771</td>\n      <td>1</td>\n    </tr>\n    <tr>\n      <th>2022-02-28</th>\n      <td>0.035708</td>\n      <td>-0.020013</td>\n      <td>0.003763</td>\n      <td>0.126148</td>\n      <td>-0.083683</td>\n      <td>0.024501</td>\n      <td>-0.009854</td>\n      <td>-0.004492</td>\n      <td>0.022092</td>\n      <td>-0.000317</td>\n      <td>...</td>\n      <td>0.004702</td>\n      <td>-0.009023</td>\n      <td>-0.004177</td>\n      <td>0.031369</td>\n      <td>-0.001224</td>\n      <td>-0.028652</td>\n      <td>0.024336</td>\n      <td>0.002636</td>\n      <td>-0.029309</td>\n      <td>1</td>\n    </tr>\n    <tr>\n      <th>2022-03-01</th>\n      <td>-0.000270</td>\n      <td>-0.002747</td>\n      <td>0.001629</td>\n      <td>0.026273</td>\n      <td>0.029847</td>\n      <td>-0.020523</td>\n      <td>-0.022761</td>\n      <td>0.008162</td>\n      <td>-0.033600</td>\n      <td>-0.012532</td>\n      <td>...</td>\n      <td>-0.008606</td>\n      <td>-0.008436</td>\n      <td>0.003968</td>\n      <td>0.016913</td>\n      <td>-0.000075</td>\n      <td>-0.006712</td>\n      <td>0.003148</td>\n      <td>0.005569</td>\n      <td>-0.002096</td>\n      <td>1</td>\n    </tr>\n  </tbody>\n</table>\n<p>1535 rows × 28 columns</p>\n</div>"
     },
     "execution_count": 103,
     "metadata": {},
     "output_type": "execute_result"
    }
   ],
   "source": [
    "portfolios"
   ],
   "metadata": {
    "collapsed": false,
    "pycharm": {
     "name": "#%%\n"
    }
   }
  },
  {
   "cell_type": "code",
   "execution_count": 12,
   "outputs": [],
   "source": [
    "# Extract estimated factors\n",
    "factors = {}\n",
    "\n",
    "factors_dir = full_coins_model.model_directory + \"/Betas and Factors Predictions/Factors/\"\n"
   ],
   "metadata": {
    "collapsed": false,
    "pycharm": {
     "name": "#%%\n"
    }
   }
  },
  {
   "cell_type": "code",
   "execution_count": 14,
   "outputs": [],
   "source": [
    "for i in np.arange(52):\n",
    "    factors_i = {}\n",
    "    for j in np.arange(2):\n",
    "        with open(factors_dir + f\"Step {i}/{j}.pkl\", \"rb\") as file:\n",
    "            factors_i[j] = pickle.load(file)\n",
    "    factors[i] = factors_i"
   ],
   "metadata": {
    "collapsed": false,
    "pycharm": {
     "name": "#%%\n"
    }
   }
  },
  {
   "cell_type": "code",
   "execution_count": 15,
   "outputs": [
    {
     "data": {
      "text/plain": "200"
     },
     "execution_count": 15,
     "metadata": {},
     "output_type": "execute_result"
    }
   ],
   "source": [
    "# these factors were calculated on the union of X_train, X_valid and X_test for each step. X_train and X_valid had a length of 170 in total, so we only take the information after 170\n",
    "len(factors[0][0])"
   ],
   "metadata": {
    "collapsed": false,
    "pycharm": {
     "name": "#%%\n"
    }
   }
  },
  {
   "cell_type": "code",
   "execution_count": 16,
   "outputs": [],
   "source": [
    "for key in factors.keys():\n",
    "    for key2 in factors[key].keys():\n",
    "        factors[key][key2] = factors[key][key2][170:]"
   ],
   "metadata": {
    "collapsed": false,
    "pycharm": {
     "name": "#%%\n"
    }
   }
  },
  {
   "cell_type": "code",
   "execution_count": 17,
   "outputs": [],
   "source": [
    "# Quick check if everything is fine"
   ],
   "metadata": {
    "collapsed": false,
    "pycharm": {
     "name": "#%%\n"
    }
   }
  },
  {
   "cell_type": "code",
   "execution_count": 18,
   "outputs": [
    {
     "data": {
      "text/plain": "1535"
     },
     "execution_count": 18,
     "metadata": {},
     "output_type": "execute_result"
    }
   ],
   "source": [
    "np.sum([len(factors[i][0]) for i in factors.keys()])"
   ],
   "metadata": {
    "collapsed": false,
    "pycharm": {
     "name": "#%%\n"
    }
   }
  },
  {
   "cell_type": "code",
   "execution_count": 19,
   "outputs": [
    {
     "data": {
      "text/plain": "1535"
     },
     "execution_count": 19,
     "metadata": {},
     "output_type": "execute_result"
    }
   ],
   "source": [
    "np.sum([len(factors[i][1]) for i in factors.keys()])"
   ],
   "metadata": {
    "collapsed": false,
    "pycharm": {
     "name": "#%%\n"
    }
   }
  },
  {
   "cell_type": "code",
   "execution_count": 20,
   "outputs": [
    {
     "data": {
      "text/plain": "1535"
     },
     "execution_count": 20,
     "metadata": {},
     "output_type": "execute_result"
    }
   ],
   "source": [
    "len(full_coins_model.Y_test)"
   ],
   "metadata": {
    "collapsed": false,
    "pycharm": {
     "name": "#%%\n"
    }
   }
  },
  {
   "cell_type": "code",
   "execution_count": 21,
   "outputs": [],
   "source": [
    "# We now put the factors for each parallel run into a separate dataframe"
   ],
   "metadata": {
    "collapsed": false,
    "pycharm": {
     "name": "#%%\n"
    }
   }
  },
  {
   "cell_type": "code",
   "execution_count": 22,
   "outputs": [],
   "source": [
    "factor_df_1 = pd.concat([pd.DataFrame(factors[i][0]) for i in factors.keys()])"
   ],
   "metadata": {
    "collapsed": false,
    "pycharm": {
     "name": "#%%\n"
    }
   }
  },
  {
   "cell_type": "code",
   "execution_count": 23,
   "outputs": [],
   "source": [
    "factor_df_2 = pd.concat([pd.DataFrame(factors[i][1]) for i in factors.keys()])"
   ],
   "metadata": {
    "collapsed": false,
    "pycharm": {
     "name": "#%%\n"
    }
   }
  },
  {
   "cell_type": "code",
   "execution_count": 58,
   "outputs": [],
   "source": [
    "factor_mean = (factor_df_1 + factor_df_2) / 2"
   ],
   "metadata": {
    "collapsed": false,
    "pycharm": {
     "name": "#%%\n"
    }
   }
  },
  {
   "cell_type": "code",
   "execution_count": 59,
   "outputs": [],
   "source": [
    "factor_mean.index = portfolios.index"
   ],
   "metadata": {
    "collapsed": false,
    "pycharm": {
     "name": "#%%\n"
    }
   }
  },
  {
   "cell_type": "code",
   "execution_count": 60,
   "outputs": [],
   "source": [
    "factor_mean.columns = [\"1. Factor\", \"2. Factor\", \"3. Factor\"]"
   ],
   "metadata": {
    "collapsed": false,
    "pycharm": {
     "name": "#%%\n"
    }
   }
  },
  {
   "cell_type": "code",
   "execution_count": 63,
   "outputs": [
    {
     "data": {
      "text/plain": "            1. Factor  2. Factor  3. Factor\n2017-12-18  -0.242458   0.219951   0.132771\n2017-12-19   0.112179  -0.113032  -0.024115\n2017-12-20  -0.002073  -0.087385   0.095432\n2017-12-21   0.030679   0.017356   0.030763\n2017-12-22   0.353768  -0.595491  -0.092141",
      "text/html": "<div>\n<style scoped>\n    .dataframe tbody tr th:only-of-type {\n        vertical-align: middle;\n    }\n\n    .dataframe tbody tr th {\n        vertical-align: top;\n    }\n\n    .dataframe thead th {\n        text-align: right;\n    }\n</style>\n<table border=\"1\" class=\"dataframe\">\n  <thead>\n    <tr style=\"text-align: right;\">\n      <th></th>\n      <th>1. Factor</th>\n      <th>2. Factor</th>\n      <th>3. Factor</th>\n    </tr>\n  </thead>\n  <tbody>\n    <tr>\n      <th>2017-12-18</th>\n      <td>-0.242458</td>\n      <td>0.219951</td>\n      <td>0.132771</td>\n    </tr>\n    <tr>\n      <th>2017-12-19</th>\n      <td>0.112179</td>\n      <td>-0.113032</td>\n      <td>-0.024115</td>\n    </tr>\n    <tr>\n      <th>2017-12-20</th>\n      <td>-0.002073</td>\n      <td>-0.087385</td>\n      <td>0.095432</td>\n    </tr>\n    <tr>\n      <th>2017-12-21</th>\n      <td>0.030679</td>\n      <td>0.017356</td>\n      <td>0.030763</td>\n    </tr>\n    <tr>\n      <th>2017-12-22</th>\n      <td>0.353768</td>\n      <td>-0.595491</td>\n      <td>-0.092141</td>\n    </tr>\n  </tbody>\n</table>\n</div>"
     },
     "execution_count": 63,
     "metadata": {},
     "output_type": "execute_result"
    }
   ],
   "source": [
    "factor_mean.head()"
   ],
   "metadata": {
    "collapsed": false,
    "pycharm": {
     "name": "#%%\n"
    }
   }
  },
  {
   "cell_type": "code",
   "execution_count": 95,
   "outputs": [
    {
     "data": {
      "text/plain": "            new_addresses  active_addresses        bm    volume  \\\n2017-12-18      -0.042616          0.039247  0.000927  0.057444   \n2017-12-19       0.003345         -0.015382 -0.007817  0.039844   \n2017-12-20       0.034052         -0.029271  0.009508  0.039807   \n2017-12-21       0.040579         -0.030344  0.003742  0.025454   \n2017-12-22      -0.033642          0.040956 -0.001150 -0.081866   \n...                   ...               ...       ...       ...   \n2022-02-25       0.011676          0.011045 -0.005365  0.024761   \n2022-02-26      -0.006784          0.000798  0.011780 -0.002737   \n2022-02-27      -0.032433          0.034381  0.000075  0.017336   \n2022-02-28       0.035708         -0.020013  0.003763  0.126148   \n2022-03-01      -0.000270         -0.002747  0.001629  0.026273   \n\n            standard deviation volume      size     illiq  capm beta  \\\n2017-12-18                   0.038626  0.003872 -0.044039  -0.019550   \n2017-12-19                  -0.017505 -0.009697  0.017725  -0.002649   \n2017-12-20                  -0.053920  0.002028 -0.010247  -0.030243   \n2017-12-21                   0.002907 -0.032239 -0.017493  -0.012224   \n2017-12-22                   0.041326 -0.047466  0.010796   0.044294   \n...                               ...       ...       ...        ...   \n2022-02-25                   0.005874 -0.013143 -0.006131  -0.006902   \n2022-02-26                   0.038649  0.003472 -0.025104  -0.009904   \n2022-02-27                  -0.015024 -0.007813 -0.001063  -0.005371   \n2022-02-28                  -0.083683  0.024501 -0.009854  -0.004492   \n2022-03-01                   0.029847 -0.020523 -0.022761   0.008162   \n\n                 max  capm alpha  ...  volume shock 30  volume shock 60  \\\n2017-12-18 -0.022763   -0.024717  ...        -0.003558         0.017932   \n2017-12-19 -0.022732    0.011081  ...         0.147183        -0.135925   \n2017-12-20 -0.030489   -0.015037  ...         0.054008        -0.073228   \n2017-12-21 -0.029776   -0.031744  ...        -0.011725         0.012685   \n2017-12-22 -0.039081    0.014116  ...        -0.021861         0.027384   \n...              ...         ...  ...              ...              ...   \n2022-02-25  0.016261   -0.039205  ...        -0.009637         0.015302   \n2022-02-26  0.039648   -0.012306  ...         0.015757        -0.000547   \n2022-02-27 -0.008499    0.001081  ...        -0.010965         0.008368   \n2022-02-28  0.022092   -0.000317  ...        -0.012400         0.004702   \n2022-03-01 -0.033600   -0.012532  ...         0.000404        -0.008606   \n\n                r2_1      r7_2     r13_2     r22_2     r31_2    r30_14  \\\n2017-12-18 -0.010384  0.020825 -0.025600 -0.016642  0.016113  0.015832   \n2017-12-19 -0.013700 -0.032298  0.010856  0.038712 -0.006341 -0.041600   \n2017-12-20 -0.008709  0.002290 -0.015411 -0.008412 -0.000169  0.033114   \n2017-12-21  0.000037  0.010112  0.013041  0.018640 -0.004352  0.013837   \n2017-12-22 -0.014127 -0.023909 -0.002422 -0.003156  0.004888 -0.011166   \n...              ...       ...       ...       ...       ...       ...   \n2022-02-25 -0.000658 -0.016013  0.004541  0.015935  0.014679 -0.004212   \n2022-02-26 -0.021027  0.007130 -0.009105 -0.016298  0.026471  0.000066   \n2022-02-27 -0.008847 -0.003866 -0.001136  0.011865 -0.005137 -0.001270   \n2022-02-28 -0.009023 -0.004177  0.031369 -0.001224 -0.028652  0.024336   \n2022-03-01 -0.008436  0.003968  0.016913 -0.000075 -0.006712  0.003148   \n\n             r180_60     var_5  \n2017-12-18  0.017678 -0.011418  \n2017-12-19 -0.024458  0.008376  \n2017-12-20  0.016172  0.042105  \n2017-12-21 -0.013634 -0.006032  \n2017-12-22  0.015521 -0.022689  \n...              ...       ...  \n2022-02-25 -0.009898 -0.000173  \n2022-02-26 -0.011779  0.001766  \n2022-02-27  0.005717  0.006771  \n2022-02-28  0.002636 -0.029309  \n2022-03-01  0.005569 -0.002096  \n\n[1535 rows x 27 columns]",
      "text/html": "<div>\n<style scoped>\n    .dataframe tbody tr th:only-of-type {\n        vertical-align: middle;\n    }\n\n    .dataframe tbody tr th {\n        vertical-align: top;\n    }\n\n    .dataframe thead th {\n        text-align: right;\n    }\n</style>\n<table border=\"1\" class=\"dataframe\">\n  <thead>\n    <tr style=\"text-align: right;\">\n      <th></th>\n      <th>new_addresses</th>\n      <th>active_addresses</th>\n      <th>bm</th>\n      <th>volume</th>\n      <th>standard deviation volume</th>\n      <th>size</th>\n      <th>illiq</th>\n      <th>capm beta</th>\n      <th>max</th>\n      <th>capm alpha</th>\n      <th>...</th>\n      <th>volume shock 30</th>\n      <th>volume shock 60</th>\n      <th>r2_1</th>\n      <th>r7_2</th>\n      <th>r13_2</th>\n      <th>r22_2</th>\n      <th>r31_2</th>\n      <th>r30_14</th>\n      <th>r180_60</th>\n      <th>var_5</th>\n    </tr>\n  </thead>\n  <tbody>\n    <tr>\n      <th>2017-12-18</th>\n      <td>-0.042616</td>\n      <td>0.039247</td>\n      <td>0.000927</td>\n      <td>0.057444</td>\n      <td>0.038626</td>\n      <td>0.003872</td>\n      <td>-0.044039</td>\n      <td>-0.019550</td>\n      <td>-0.022763</td>\n      <td>-0.024717</td>\n      <td>...</td>\n      <td>-0.003558</td>\n      <td>0.017932</td>\n      <td>-0.010384</td>\n      <td>0.020825</td>\n      <td>-0.025600</td>\n      <td>-0.016642</td>\n      <td>0.016113</td>\n      <td>0.015832</td>\n      <td>0.017678</td>\n      <td>-0.011418</td>\n    </tr>\n    <tr>\n      <th>2017-12-19</th>\n      <td>0.003345</td>\n      <td>-0.015382</td>\n      <td>-0.007817</td>\n      <td>0.039844</td>\n      <td>-0.017505</td>\n      <td>-0.009697</td>\n      <td>0.017725</td>\n      <td>-0.002649</td>\n      <td>-0.022732</td>\n      <td>0.011081</td>\n      <td>...</td>\n      <td>0.147183</td>\n      <td>-0.135925</td>\n      <td>-0.013700</td>\n      <td>-0.032298</td>\n      <td>0.010856</td>\n      <td>0.038712</td>\n      <td>-0.006341</td>\n      <td>-0.041600</td>\n      <td>-0.024458</td>\n      <td>0.008376</td>\n    </tr>\n    <tr>\n      <th>2017-12-20</th>\n      <td>0.034052</td>\n      <td>-0.029271</td>\n      <td>0.009508</td>\n      <td>0.039807</td>\n      <td>-0.053920</td>\n      <td>0.002028</td>\n      <td>-0.010247</td>\n      <td>-0.030243</td>\n      <td>-0.030489</td>\n      <td>-0.015037</td>\n      <td>...</td>\n      <td>0.054008</td>\n      <td>-0.073228</td>\n      <td>-0.008709</td>\n      <td>0.002290</td>\n      <td>-0.015411</td>\n      <td>-0.008412</td>\n      <td>-0.000169</td>\n      <td>0.033114</td>\n      <td>0.016172</td>\n      <td>0.042105</td>\n    </tr>\n    <tr>\n      <th>2017-12-21</th>\n      <td>0.040579</td>\n      <td>-0.030344</td>\n      <td>0.003742</td>\n      <td>0.025454</td>\n      <td>0.002907</td>\n      <td>-0.032239</td>\n      <td>-0.017493</td>\n      <td>-0.012224</td>\n      <td>-0.029776</td>\n      <td>-0.031744</td>\n      <td>...</td>\n      <td>-0.011725</td>\n      <td>0.012685</td>\n      <td>0.000037</td>\n      <td>0.010112</td>\n      <td>0.013041</td>\n      <td>0.018640</td>\n      <td>-0.004352</td>\n      <td>0.013837</td>\n      <td>-0.013634</td>\n      <td>-0.006032</td>\n    </tr>\n    <tr>\n      <th>2017-12-22</th>\n      <td>-0.033642</td>\n      <td>0.040956</td>\n      <td>-0.001150</td>\n      <td>-0.081866</td>\n      <td>0.041326</td>\n      <td>-0.047466</td>\n      <td>0.010796</td>\n      <td>0.044294</td>\n      <td>-0.039081</td>\n      <td>0.014116</td>\n      <td>...</td>\n      <td>-0.021861</td>\n      <td>0.027384</td>\n      <td>-0.014127</td>\n      <td>-0.023909</td>\n      <td>-0.002422</td>\n      <td>-0.003156</td>\n      <td>0.004888</td>\n      <td>-0.011166</td>\n      <td>0.015521</td>\n      <td>-0.022689</td>\n    </tr>\n    <tr>\n      <th>...</th>\n      <td>...</td>\n      <td>...</td>\n      <td>...</td>\n      <td>...</td>\n      <td>...</td>\n      <td>...</td>\n      <td>...</td>\n      <td>...</td>\n      <td>...</td>\n      <td>...</td>\n      <td>...</td>\n      <td>...</td>\n      <td>...</td>\n      <td>...</td>\n      <td>...</td>\n      <td>...</td>\n      <td>...</td>\n      <td>...</td>\n      <td>...</td>\n      <td>...</td>\n      <td>...</td>\n    </tr>\n    <tr>\n      <th>2022-02-25</th>\n      <td>0.011676</td>\n      <td>0.011045</td>\n      <td>-0.005365</td>\n      <td>0.024761</td>\n      <td>0.005874</td>\n      <td>-0.013143</td>\n      <td>-0.006131</td>\n      <td>-0.006902</td>\n      <td>0.016261</td>\n      <td>-0.039205</td>\n      <td>...</td>\n      <td>-0.009637</td>\n      <td>0.015302</td>\n      <td>-0.000658</td>\n      <td>-0.016013</td>\n      <td>0.004541</td>\n      <td>0.015935</td>\n      <td>0.014679</td>\n      <td>-0.004212</td>\n      <td>-0.009898</td>\n      <td>-0.000173</td>\n    </tr>\n    <tr>\n      <th>2022-02-26</th>\n      <td>-0.006784</td>\n      <td>0.000798</td>\n      <td>0.011780</td>\n      <td>-0.002737</td>\n      <td>0.038649</td>\n      <td>0.003472</td>\n      <td>-0.025104</td>\n      <td>-0.009904</td>\n      <td>0.039648</td>\n      <td>-0.012306</td>\n      <td>...</td>\n      <td>0.015757</td>\n      <td>-0.000547</td>\n      <td>-0.021027</td>\n      <td>0.007130</td>\n      <td>-0.009105</td>\n      <td>-0.016298</td>\n      <td>0.026471</td>\n      <td>0.000066</td>\n      <td>-0.011779</td>\n      <td>0.001766</td>\n    </tr>\n    <tr>\n      <th>2022-02-27</th>\n      <td>-0.032433</td>\n      <td>0.034381</td>\n      <td>0.000075</td>\n      <td>0.017336</td>\n      <td>-0.015024</td>\n      <td>-0.007813</td>\n      <td>-0.001063</td>\n      <td>-0.005371</td>\n      <td>-0.008499</td>\n      <td>0.001081</td>\n      <td>...</td>\n      <td>-0.010965</td>\n      <td>0.008368</td>\n      <td>-0.008847</td>\n      <td>-0.003866</td>\n      <td>-0.001136</td>\n      <td>0.011865</td>\n      <td>-0.005137</td>\n      <td>-0.001270</td>\n      <td>0.005717</td>\n      <td>0.006771</td>\n    </tr>\n    <tr>\n      <th>2022-02-28</th>\n      <td>0.035708</td>\n      <td>-0.020013</td>\n      <td>0.003763</td>\n      <td>0.126148</td>\n      <td>-0.083683</td>\n      <td>0.024501</td>\n      <td>-0.009854</td>\n      <td>-0.004492</td>\n      <td>0.022092</td>\n      <td>-0.000317</td>\n      <td>...</td>\n      <td>-0.012400</td>\n      <td>0.004702</td>\n      <td>-0.009023</td>\n      <td>-0.004177</td>\n      <td>0.031369</td>\n      <td>-0.001224</td>\n      <td>-0.028652</td>\n      <td>0.024336</td>\n      <td>0.002636</td>\n      <td>-0.029309</td>\n    </tr>\n    <tr>\n      <th>2022-03-01</th>\n      <td>-0.000270</td>\n      <td>-0.002747</td>\n      <td>0.001629</td>\n      <td>0.026273</td>\n      <td>0.029847</td>\n      <td>-0.020523</td>\n      <td>-0.022761</td>\n      <td>0.008162</td>\n      <td>-0.033600</td>\n      <td>-0.012532</td>\n      <td>...</td>\n      <td>0.000404</td>\n      <td>-0.008606</td>\n      <td>-0.008436</td>\n      <td>0.003968</td>\n      <td>0.016913</td>\n      <td>-0.000075</td>\n      <td>-0.006712</td>\n      <td>0.003148</td>\n      <td>0.005569</td>\n      <td>-0.002096</td>\n    </tr>\n  </tbody>\n</table>\n<p>1535 rows × 27 columns</p>\n</div>"
     },
     "execution_count": 95,
     "metadata": {},
     "output_type": "execute_result"
    }
   ],
   "source": [
    "portfolios"
   ],
   "metadata": {
    "collapsed": false,
    "pycharm": {
     "name": "#%%\n"
    }
   }
  },
  {
   "cell_type": "markdown",
   "source": [
    "Regression of latent factors on characteristics sorted portfolio returns"
   ],
   "metadata": {
    "collapsed": false,
    "pycharm": {
     "name": "#%% md\n"
    }
   }
  },
  {
   "cell_type": "code",
   "execution_count": 123,
   "outputs": [],
   "source": [
    "lin_model = sm.OLS(factor_mean[\"1. Factor\"], portfolios, hasconst = True)"
   ],
   "metadata": {
    "collapsed": false,
    "pycharm": {
     "name": "#%%\n"
    }
   }
  },
  {
   "cell_type": "code",
   "execution_count": 124,
   "outputs": [],
   "source": [
    "res = lin_model.fit()"
   ],
   "metadata": {
    "collapsed": false,
    "pycharm": {
     "name": "#%%\n"
    }
   }
  },
  {
   "cell_type": "code",
   "execution_count": 125,
   "outputs": [
    {
     "name": "stdout",
     "output_type": "stream",
     "text": [
      "                            OLS Regression Results                            \n",
      "==============================================================================\n",
      "Dep. Variable:              1. Factor   R-squared:                       0.661\n",
      "Model:                            OLS   Adj. R-squared:                  0.655\n",
      "No. Observations:                1535   F-statistic:                     109.0\n",
      "Covariance Type:            nonrobust   Prob (F-statistic):               0.00\n",
      "===============================================================================================\n",
      "                                  coef    std err          t      P>|t|      [0.025      0.975]\n",
      "-----------------------------------------------------------------------------------------------\n",
      "new_addresses                  -2.3597      0.417     -5.663      0.000      -3.177      -1.542\n",
      "active_addresses               -2.3181      0.435     -5.333      0.000      -3.171      -1.465\n",
      "bm                              1.2853      0.439      2.928      0.003       0.424       2.146\n",
      "volume                         -4.9082      0.255    -19.213      0.000      -5.409      -4.407\n",
      "standard deviation volume      -4.8256      0.264    -18.279      0.000      -5.343      -4.308\n",
      "size                           -3.7496      0.343    -10.944      0.000      -4.422      -3.078\n",
      "illiq                          -1.5040      0.322     -4.673      0.000      -2.135      -0.873\n",
      "capm beta                      -2.0576      0.210     -9.801      0.000      -2.469      -1.646\n",
      "max                            -2.4574      0.322     -7.635      0.000      -3.089      -1.826\n",
      "capm alpha                      0.2051      0.264      0.777      0.437      -0.313       0.723\n",
      "ivol                           -2.0958      0.314     -6.671      0.000      -2.712      -1.480\n",
      "turnover                       -4.8167      0.301    -15.977      0.000      -5.408      -4.225\n",
      "rvol                           -2.3972      0.363     -6.607      0.000      -3.109      -1.686\n",
      "bid-ask                        -3.7244      0.217    -17.135      0.000      -4.151      -3.298\n",
      "detrended turnover             -0.7674      0.472     -1.626      0.104      -1.693       0.158\n",
      "standard deviation turnover    -4.8723      0.312    -15.609      0.000      -5.485      -4.260\n",
      "rel to high                     0.8847      0.358      2.472      0.014       0.183       1.587\n",
      "volume shock 30                 1.2903      0.398      3.244      0.001       0.510       2.071\n",
      "volume shock 60                 1.3018      0.401      3.244      0.001       0.515       2.089\n",
      "r2_1                            0.6037      0.375      1.608      0.108      -0.133       1.340\n",
      "r7_2                            0.9832      0.361      2.722      0.007       0.275       1.692\n",
      "r13_2                           0.4924      0.347      1.418      0.156      -0.189       1.173\n",
      "r22_2                          -0.2291      0.335     -0.684      0.494      -0.886       0.428\n",
      "r31_2                          -0.0034      0.320     -0.011      0.992      -0.632       0.625\n",
      "r30_14                         -0.2525      0.358     -0.706      0.480      -0.954       0.449\n",
      "r180_60                        -1.1580      0.407     -2.846      0.004      -1.956      -0.360\n",
      "var_5                           1.9788      0.361      5.478      0.000       1.270       2.687\n",
      "constant                        0.0341      0.006      6.156      0.000       0.023       0.045\n",
      "===============================================================================================\n",
      "\n",
      "Notes:\n",
      "[1] Standard Errors assume that the covariance matrix of the errors is correctly specified.\n"
     ]
    }
   ],
   "source": [
    "print(res.summary(slim=True))"
   ],
   "metadata": {
    "collapsed": false,
    "pycharm": {
     "name": "#%%\n"
    }
   }
  },
  {
   "cell_type": "code",
   "execution_count": 107,
   "outputs": [],
   "source": [
    "lin_model = sm.OLS(factor_mean[\"2. Factor\"], portfolios, hasconst = True)"
   ],
   "metadata": {
    "collapsed": false,
    "pycharm": {
     "name": "#%%\n"
    }
   }
  },
  {
   "cell_type": "code",
   "execution_count": 108,
   "outputs": [],
   "source": [
    "res = lin_model.fit()"
   ],
   "metadata": {
    "collapsed": false,
    "pycharm": {
     "name": "#%%\n"
    }
   }
  },
  {
   "cell_type": "code",
   "execution_count": 109,
   "outputs": [
    {
     "name": "stdout",
     "output_type": "stream",
     "text": [
      "                            OLS Regression Results                            \n",
      "==============================================================================\n",
      "Dep. Variable:              2. Factor   R-squared:                       0.465\n",
      "Model:                            OLS   Adj. R-squared:                  0.455\n",
      "No. Observations:                1535   F-statistic:                     48.50\n",
      "Covariance Type:            nonrobust   Prob (F-statistic):          9.32e-183\n",
      "===============================================================================================\n",
      "                                  coef    std err          t      P>|t|      [0.025      0.975]\n",
      "-----------------------------------------------------------------------------------------------\n",
      "new_addresses                   3.2234      0.501      6.434      0.000       2.241       4.206\n",
      "active_addresses                3.4767      0.523      6.652      0.000       2.451       4.502\n",
      "bm                             -2.1932      0.528     -4.155      0.000      -3.229      -1.158\n",
      "volume                          4.2384      0.307     13.799      0.000       3.636       4.841\n",
      "standard deviation volume       4.5815      0.317     14.433      0.000       3.959       5.204\n",
      "size                            4.1006      0.412      9.954      0.000       3.293       4.909\n",
      "illiq                           1.6203      0.387      4.187      0.000       0.861       2.379\n",
      "capm beta                       1.9957      0.252      7.906      0.000       1.501       2.491\n",
      "max                             2.3084      0.387      5.965      0.000       1.549       3.068\n",
      "capm alpha                     -0.0656      0.317     -0.207      0.836      -0.688       0.557\n",
      "ivol                            2.0978      0.378      5.553      0.000       1.357       2.839\n",
      "turnover                        3.8613      0.362     10.652      0.000       3.150       4.572\n",
      "rvol                            1.5312      0.436      3.510      0.000       0.676       2.387\n",
      "bid-ask                         2.5978      0.261      9.940      0.000       2.085       3.110\n",
      "detrended turnover             -0.2323      0.567     -0.409      0.682      -1.345       0.881\n",
      "standard deviation turnover     3.8427      0.375     10.238      0.000       3.106       4.579\n",
      "rel to high                    -1.0502      0.430     -2.440      0.015      -1.894      -0.206\n",
      "volume shock 30                -2.6341      0.478     -5.507      0.000      -3.572      -1.696\n",
      "volume shock 60                -2.2021      0.482     -4.565      0.000      -3.148      -1.256\n",
      "r2_1                            0.2328      0.451      0.516      0.606      -0.653       1.118\n",
      "r7_2                            0.2549      0.434      0.587      0.557      -0.597       1.107\n",
      "r13_2                          -0.0059      0.417     -0.014      0.989      -0.825       0.813\n",
      "r22_2                           0.1050      0.403      0.261      0.794      -0.685       0.895\n",
      "r31_2                          -0.1269      0.385     -0.329      0.742      -0.882       0.629\n",
      "r30_14                         -0.0944      0.430     -0.219      0.826      -0.938       0.749\n",
      "r180_60                         0.8432      0.489      1.724      0.085      -0.116       1.803\n",
      "var_5                          -1.2741      0.434     -2.934      0.003      -2.126      -0.422\n",
      "constant                       -0.0266      0.007     -3.992      0.000      -0.040      -0.014\n",
      "===============================================================================================\n",
      "\n",
      "Notes:\n",
      "[1] Standard Errors assume that the covariance matrix of the errors is correctly specified.\n"
     ]
    }
   ],
   "source": [
    "print(res.summary(slim = True))"
   ],
   "metadata": {
    "collapsed": false,
    "pycharm": {
     "name": "#%%\n"
    }
   }
  },
  {
   "cell_type": "code",
   "execution_count": 109,
   "outputs": [],
   "source": [],
   "metadata": {
    "collapsed": false,
    "pycharm": {
     "name": "#%%\n"
    }
   }
  },
  {
   "cell_type": "code",
   "execution_count": 110,
   "outputs": [],
   "source": [
    "lin_model = sm.OLS(factor_mean[\"3. Factor\"], portfolios, hasconst = True)"
   ],
   "metadata": {
    "collapsed": false,
    "pycharm": {
     "name": "#%%\n"
    }
   }
  },
  {
   "cell_type": "code",
   "execution_count": 111,
   "outputs": [],
   "source": [
    "res = lin_model.fit()"
   ],
   "metadata": {
    "collapsed": false,
    "pycharm": {
     "name": "#%%\n"
    }
   }
  },
  {
   "cell_type": "code",
   "execution_count": 112,
   "outputs": [
    {
     "name": "stdout",
     "output_type": "stream",
     "text": [
      "                            OLS Regression Results                            \n",
      "==============================================================================\n",
      "Dep. Variable:              3. Factor   R-squared:                       0.114\n",
      "Model:                            OLS   Adj. R-squared:                  0.098\n",
      "No. Observations:                1535   F-statistic:                     7.158\n",
      "Covariance Type:            nonrobust   Prob (F-statistic):           3.52e-25\n",
      "===============================================================================================\n",
      "                                  coef    std err          t      P>|t|      [0.025      0.975]\n",
      "-----------------------------------------------------------------------------------------------\n",
      "new_addresses                  -1.1444      0.399     -2.870      0.004      -1.926      -0.362\n",
      "active_addresses               -1.3598      0.416     -3.269      0.001      -2.176      -0.544\n",
      "bm                             -0.0750      0.420     -0.178      0.858      -0.899       0.749\n",
      "volume                         -1.1109      0.244     -4.544      0.000      -1.590      -0.631\n",
      "standard deviation volume      -0.6763      0.253     -2.677      0.008      -1.172      -0.181\n",
      "size                            0.0890      0.328      0.271      0.786      -0.554       0.732\n",
      "illiq                          -1.0200      0.308     -3.312      0.001      -1.624      -0.416\n",
      "capm beta                      -1.2073      0.201     -6.010      0.000      -1.601      -0.813\n",
      "max                            -0.6471      0.308     -2.101      0.036      -1.251      -0.043\n",
      "capm alpha                     -1.1968      0.253     -4.738      0.000      -1.692      -0.701\n",
      "ivol                           -0.6029      0.301     -2.005      0.045      -1.193      -0.013\n",
      "turnover                       -1.0576      0.288     -3.666      0.000      -1.623      -0.492\n",
      "rvol                            0.3593      0.347      1.035      0.301      -0.322       1.040\n",
      "bid-ask                        -1.1203      0.208     -5.386      0.000      -1.528      -0.712\n",
      "detrended turnover              0.3234      0.452      0.716      0.474      -0.562       1.209\n",
      "standard deviation turnover    -1.0002      0.299     -3.349      0.001      -1.586      -0.414\n",
      "rel to high                     0.0653      0.343      0.191      0.849      -0.607       0.737\n",
      "volume shock 30                -0.6855      0.381     -1.801      0.072      -1.432       0.061\n",
      "volume shock 60                -0.5743      0.384     -1.496      0.135      -1.327       0.179\n",
      "r2_1                            0.1639      0.359      0.456      0.648      -0.541       0.869\n",
      "r7_2                            0.2022      0.346      0.585      0.559      -0.476       0.880\n",
      "r13_2                          -0.6567      0.332     -1.977      0.048      -1.308      -0.005\n",
      "r22_2                          -0.5085      0.320     -1.587      0.113      -1.137       0.120\n",
      "r31_2                          -0.8034      0.307     -2.621      0.009      -1.405      -0.202\n",
      "r30_14                         -0.5531      0.342     -1.616      0.106      -1.225       0.118\n",
      "r180_60                         0.3936      0.389      1.011      0.312      -0.370       1.157\n",
      "var_5                           1.0081      0.346      2.916      0.004       0.330       1.686\n",
      "constant                       -0.0169      0.005     -3.193      0.001      -0.027      -0.007\n",
      "===============================================================================================\n",
      "\n",
      "Notes:\n",
      "[1] Standard Errors assume that the covariance matrix of the errors is correctly specified.\n"
     ]
    }
   ],
   "source": [
    "print(res.summary(slim = True))"
   ],
   "metadata": {
    "collapsed": false,
    "pycharm": {
     "name": "#%%\n"
    }
   }
  },
  {
   "cell_type": "code",
   "execution_count": 50,
   "outputs": [],
   "source": [],
   "metadata": {
    "collapsed": false,
    "pycharm": {
     "name": "#%%\n"
    }
   }
  },
  {
   "cell_type": "code",
   "execution_count": null,
   "outputs": [],
   "source": [],
   "metadata": {
    "collapsed": false,
    "pycharm": {
     "name": "#%%\n"
    }
   }
  }
 ],
 "metadata": {
  "kernelspec": {
   "display_name": "Python 3",
   "language": "python",
   "name": "python3"
  },
  "language_info": {
   "codemirror_mode": {
    "name": "ipython",
    "version": 2
   },
   "file_extension": ".py",
   "mimetype": "text/x-python",
   "name": "python",
   "nbconvert_exporter": "python",
   "pygments_lexer": "ipython2",
   "version": "2.7.6"
  }
 },
 "nbformat": 4,
 "nbformat_minor": 0
}