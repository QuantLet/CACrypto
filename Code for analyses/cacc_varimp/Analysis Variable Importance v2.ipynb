{
 "cells": [
  {
   "cell_type": "code",
   "execution_count": 1,
   "outputs": [
    {
     "data": {
      "text/plain": "<module 'my_functions_v13' from '/Users/lucasumann/PycharmProjects/Masterarbeit/Notebooks/my_functions_v13.py'>"
     },
     "execution_count": 1,
     "metadata": {},
     "output_type": "execute_result"
    }
   ],
   "source": [
    "import numpy as np\n",
    "import matplotlib.pyplot as plt\n",
    "\n",
    "import pandas as pd\n",
    "\n",
    "import my_functions_v13 as my\n",
    "import importlib\n",
    "\n",
    "from tqdm import tqdm\n",
    "importlib.reload(my)"
   ],
   "metadata": {
    "collapsed": false,
    "pycharm": {
     "name": "#%%\n"
    }
   }
  },
  {
   "cell_type": "markdown",
   "source": [],
   "metadata": {
    "collapsed": false,
    "pycharm": {
     "name": "#%% md\n"
    }
   }
  },
  {
   "cell_type": "markdown",
   "source": [],
   "metadata": {
    "collapsed": false,
    "pycharm": {
     "name": "#%% md\n"
    }
   }
  },
  {
   "cell_type": "code",
   "execution_count": 2,
   "outputs": [],
   "source": [
    "window_size_training = 0.1"
   ],
   "metadata": {
    "collapsed": false,
    "pycharm": {
     "name": "#%%\n"
    }
   }
  },
  {
   "cell_type": "code",
   "execution_count": 3,
   "outputs": [],
   "source": [
    "number_factors = 3"
   ],
   "metadata": {
    "collapsed": false,
    "pycharm": {
     "name": "#%%\n"
    }
   }
  },
  {
   "cell_type": "code",
   "execution_count": 4,
   "outputs": [],
   "source": [
    "full_coins_model = my.cond_auto_model(full_input = True, parallel_runs = 2, factor_dim=number_factors, model_name = \"322 coins with intercept v13 training window \"+str(window_size_training))\n",
    "full_coins_model.test_percent = 1 - window_size_training"
   ],
   "metadata": {
    "collapsed": false,
    "pycharm": {
     "name": "#%%\n"
    }
   }
  },
  {
   "cell_type": "code",
   "execution_count": 5,
   "outputs": [],
   "source": [
    "full_coins_model.initialize_X_Y()"
   ],
   "metadata": {
    "collapsed": false,
    "pycharm": {
     "name": "#%%\n"
    }
   }
  },
  {
   "cell_type": "code",
   "execution_count": 6,
   "outputs": [],
   "source": [
    "variables = full_coins_model.X[0].columns[:-1]"
   ],
   "metadata": {
    "collapsed": false,
    "pycharm": {
     "name": "#%%\n"
    }
   }
  },
  {
   "cell_type": "code",
   "execution_count": 7,
   "outputs": [
    {
     "data": {
      "text/plain": "Index(['new_addresses', 'active_addresses', 'bm', 'volume',\n       'standard deviation volume', 'size', 'illiq', 'capm beta', 'max',\n       'capm alpha', 'ivol', 'turnover', 'rvol', 'bid-ask',\n       'detrended turnover', 'standard deviation turnover', 'rel to high',\n       'volume shock 30', 'volume shock 60', 'r2_1', 'r7_2', 'r13_2', 'r22_2',\n       'r31_2', 'r30_14', 'r180_60', 'var_5', 'Intercept'],\n      dtype='object')"
     },
     "execution_count": 7,
     "metadata": {},
     "output_type": "execute_result"
    }
   ],
   "source": [
    "variables"
   ],
   "metadata": {
    "collapsed": false,
    "pycharm": {
     "name": "#%%\n"
    }
   }
  },
  {
   "cell_type": "code",
   "execution_count": null,
   "outputs": [],
   "source": [
    "for variable in tqdm(variables):\n",
    "    full_coins_model.make_contemporaneous_predictions(set_var_to_zero = variable)\n",
    "\n"
   ],
   "metadata": {
    "collapsed": false,
    "pycharm": {
     "name": "#%%\n"
    }
   }
  },
  {
   "cell_type": "code",
   "execution_count": 9,
   "outputs": [],
   "source": [
    "results = {}"
   ],
   "metadata": {
    "collapsed": false,
    "pycharm": {
     "name": "#%%\n"
    }
   }
  },
  {
   "cell_type": "code",
   "execution_count": 16,
   "outputs": [
    {
     "name": "stderr",
     "output_type": "stream",
     "text": [
      "100%|██████████| 27/27 [00:17<00:00,  1.57it/s]\n"
     ]
    }
   ],
   "source": [
    "for variable in tqdm(variables[:-1]):\n",
    "    full_coins_model.update_contemporaneous_Y_predictions(set_var_to_zero= variable)\n",
    "    full_coins_model.reset_X_Y()\n",
    "    full_coins_model.calculate_contemporaneous_r2()\n",
    "    relevant_Rsquared_total = 1 - ((full_coins_model.masked_Y_pred_cont_average[-1194:] - full_coins_model.masked_Y_test[-1194:])**2).sum().sum() / (full_coins_model.masked_Y_test[-1194:]**2).sum().sum()\n",
    "    results[variable] = {\"masked Rsquared total\" : relevant_Rsquared_total}\n"
   ],
   "metadata": {
    "collapsed": false,
    "pycharm": {
     "name": "#%%\n"
    }
   }
  },
  {
   "cell_type": "code",
   "execution_count": 17,
   "outputs": [
    {
     "name": "stdout",
     "output_type": "stream",
     "text": [
      "{'new_addresses': {'masked Rsquared total': 0.24097227478140282}, 'active_addresses': {'masked Rsquared total': 0.24096502477984982}, 'bm': {'masked Rsquared total': 0.24071768300253304}, 'volume': {'masked Rsquared total': 0.24052343527390274}, 'standard deviation volume': {'masked Rsquared total': 0.24046301129985448}, 'size': {'masked Rsquared total': 0.24018469837812917}, 'illiq': {'masked Rsquared total': 0.23949609243474212}, 'capm beta': {'masked Rsquared total': 0.23951051912859123}, 'max': {'masked Rsquared total': 0.23987371498789334}, 'capm alpha': {'masked Rsquared total': 0.24120357183523955}, 'ivol': {'masked Rsquared total': 0.2413096278686887}, 'turnover': {'masked Rsquared total': 0.2412621982843547}, 'rvol': {'masked Rsquared total': 0.24123224222107165}, 'bid-ask': {'masked Rsquared total': 0.23902319022205865}, 'detrended turnover': {'masked Rsquared total': 0.2390554893038438}, 'standard deviation turnover': {'masked Rsquared total': 0.23904922699013564}, 'rel to high': {'masked Rsquared total': 0.23916165323455696}, 'volume shock 30': {'masked Rsquared total': 0.23919960368488113}, 'volume shock 60': {'masked Rsquared total': 0.24123139237571167}, 'r2_1': {'masked Rsquared total': 0.24132849588865535}, 'r7_2': {'masked Rsquared total': 0.2414854494113563}, 'r13_2': {'masked Rsquared total': 0.24180133206515508}, 'r22_2': {'masked Rsquared total': 0.24206350178046365}, 'r31_2': {'masked Rsquared total': 0.24228727214016565}, 'r30_14': {'masked Rsquared total': 0.242389830919032}, 'r180_60': {'masked Rsquared total': 0.24241329611878282}, 'var_5': {'masked Rsquared total': 0.2424824358405525}}\n"
     ]
    }
   ],
   "source": [
    "print(results)"
   ],
   "metadata": {
    "collapsed": false,
    "pycharm": {
     "name": "#%%\n"
    }
   }
  },
  {
   "cell_type": "code",
   "execution_count": 22,
   "outputs": [
    {
     "data": {
      "text/plain": "<AxesSubplot:xlabel='Variable', ylabel='Relevant Rsquared total'>"
     },
     "execution_count": 22,
     "metadata": {},
     "output_type": "execute_result"
    },
    {
     "data": {
      "text/plain": "<Figure size 432x288 with 1 Axes>",
      "image/png": "[encoded data removed]"
     },
     "metadata": {
      "needs_background": "light"
     },
     "output_type": "display_data"
    }
   ],
   "source": [
    "results_df = pd.DataFrame({\"Variable\": results.keys(), \"Relevant Rsquared total\": [value[\"masked Rsquared total\"] for value in results.values()]})\n",
    "sns.lineplot(data=results_df, x=\"Variable\", y=\"Relevant Rsquared total\")"
   ],
   "metadata": {
    "collapsed": false,
    "pycharm": {
     "name": "#%%\n"
    }
   }
  },
  {
   "cell_type": "code",
   "execution_count": 19,
   "outputs": [],
   "source": [
    "import seaborn as sns"
   ],
   "metadata": {
    "collapsed": false,
    "pycharm": {
     "name": "#%%\n"
    }
   }
  },
  {
   "cell_type": "code",
   "execution_count": null,
   "outputs": [],
   "source": [],
   "metadata": {
    "collapsed": false,
    "pycharm": {
     "name": "#%%\n"
    }
   }
  }
 ],
 "metadata": {
  "kernelspec": {
   "display_name": "Python 3",
   "language": "python",
   "name": "python3"
  },
  "language_info": {
   "codemirror_mode": {
    "name": "ipython",
    "version": 2
   },
   "file_extension": ".py",
   "mimetype": "text/x-python",
   "name": "python",
   "nbconvert_exporter": "python",
   "pygments_lexer": "ipython2",
   "version": "2.7.6"
  }
 },
 "nbformat": 4,
 "nbformat_minor": 0
}