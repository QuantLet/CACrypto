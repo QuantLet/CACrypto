{
 "cells": [
  {
   "cell_type": "code",
   "execution_count": 1,
   "outputs": [
    {
     "data": {
      "text/plain": "<module 'my_functions_v6' from '/Users/lucasumann/PycharmProjects/Masterarbeit/Notebooks/my_functions_v6.py'>"
     },
     "execution_count": 1,
     "metadata": {},
     "output_type": "execute_result"
    }
   ],
   "source": [
    "import scipy as sp\n",
    "import numpy as np\n",
    "import matplotlib.pyplot as plt\n",
    "import os\n",
    "import pandas as pd\n",
    "import seaborn as sb\n",
    "import missingno as mn\n",
    "from datetime import datetime, timedelta\n",
    "from functools import reduce\n",
    "import importlib\n",
    "from time import time\n",
    "from tqdm import tqdm\n",
    "plt.style.use(\"classic\")\n",
    "import my_functions_v6 as my\n",
    "from sklearn import linear_model as lm\n",
    "import statsmodels.api as sm\n",
    "\n",
    "importlib.reload(my)\n"
   ],
   "metadata": {
    "collapsed": false,
    "pycharm": {
     "name": "#%%\n"
    }
   }
  },
  {
   "cell_type": "markdown",
   "source": [
    "V3: fake volumes are not completely excluded, only single observations\n",
    "illiquidity fix also"
   ],
   "metadata": {
    "collapsed": false,
    "pycharm": {
     "name": "#%% md\n"
    }
   }
  },
  {
   "cell_type": "markdown",
   "source": [
    "# This version implements the data fixes for the returns before the features are engineered"
   ],
   "metadata": {
    "collapsed": false,
    "pycharm": {
     "name": "#%% md\n"
    }
   }
  },
  {
   "cell_type": "markdown",
   "source": [
    "# Read Price Data"
   ],
   "metadata": {
    "collapsed": false,
    "pycharm": {
     "name": "#%% md\n"
    }
   }
  },
  {
   "cell_type": "code",
   "execution_count": 2,
   "outputs": [],
   "source": [
    "price_files = os.listdir(\"../Cryptocompare data/Prices\")"
   ],
   "metadata": {
    "collapsed": false,
    "pycharm": {
     "name": "#%%\n"
    }
   }
  },
  {
   "cell_type": "code",
   "execution_count": 3,
   "outputs": [],
   "source": [
    "prices = dict(\n",
    "    zip(\n",
    "        [file[:-4] for file in price_files if file[-4:] == \".csv\"],\n",
    "        [pd.read_csv(\"../Cryptocompare data/Prices/\" + file, index_col= \"Unnamed: 0\") for file in price_files if file[-4:] == \".csv\"]\n",
    "    )\n",
    ")"
   ],
   "metadata": {
    "collapsed": false,
    "pycharm": {
     "name": "#%%\n"
    }
   }
  },
  {
   "cell_type": "code",
   "execution_count": 4,
   "outputs": [],
   "source": [
    "# Calculate daily returns\n",
    "for coin in prices.keys():\n",
    "    prices[coin][\"daily return\"] = prices[coin][\"close\"].pct_change()"
   ],
   "metadata": {
    "collapsed": false,
    "pycharm": {
     "name": "#%%\n"
    }
   }
  },
  {
   "cell_type": "code",
   "execution_count": 5,
   "outputs": [
    {
     "data": {
      "text/plain": "            time         high          low         open  volumefrom  \\\n0     1279324800      0.04951      0.04951      0.04951       20.00   \n1     1279411200      0.08585      0.05941      0.04951       75.01   \n2     1279497600      0.09307      0.07723      0.08584      574.00   \n3     1279584000      0.08181      0.07426      0.08080      262.00   \n4     1279670400      0.07921      0.06634      0.07474      575.00   \n...          ...          ...          ...          ...         ...   \n4437  1662681600  21559.78000  19299.24000  19321.77000    79722.17   \n4438  1662768000  21807.62000  21138.54000  21369.73000    35129.91   \n4439  1662854400  21850.77000  21366.74000  21655.13000    27756.78   \n4440  1662940800  22482.54000  21567.71000  21836.45000    57121.32   \n4441  1663027200  22712.74000  22072.99000  22400.52000    24415.92   \n\n          volumeto        close conversionType  conversionSymbol  \\\n0     9.902000e-01      0.04951         direct               NaN   \n1     5.092000e+00      0.08584         direct               NaN   \n2     4.966000e+01      0.08080         direct               NaN   \n3     2.059000e+01      0.07474         direct               NaN   \n4     4.226000e+01      0.07921         direct               NaN   \n...            ...          ...            ...               ...   \n4437  1.657848e+09  21369.73000         direct               NaN   \n4438  7.529051e+08  21655.13000         direct               NaN   \n4439  6.000082e+08  21836.45000         direct               NaN   \n4440  1.264511e+09  22400.52000         direct               NaN   \n4441  5.460073e+08  22634.72000         direct               NaN   \n\n                timestamp  daily return  \n0     2010-07-17 02:00:00           NaN  \n1     2010-07-18 02:00:00      0.733791  \n2     2010-07-19 02:00:00     -0.058714  \n3     2010-07-20 02:00:00     -0.075000  \n4     2010-07-21 02:00:00      0.059807  \n...                   ...           ...  \n4437  2022-09-09 02:00:00      0.105992  \n4438  2022-09-10 02:00:00      0.013355  \n4439  2022-09-11 02:00:00      0.008373  \n4440  2022-09-12 02:00:00      0.025832  \n4441  2022-09-13 02:00:00      0.010455  \n\n[4442 rows x 11 columns]",
      "text/html": "<div>\n<style scoped>\n    .dataframe tbody tr th:only-of-type {\n        vertical-align: middle;\n    }\n\n    .dataframe tbody tr th {\n        vertical-align: top;\n    }\n\n    .dataframe thead th {\n        text-align: right;\n    }\n</style>\n<table border=\"1\" class=\"dataframe\">\n  <thead>\n    <tr style=\"text-align: right;\">\n      <th></th>\n      <th>time</th>\n      <th>high</th>\n      <th>low</th>\n      <th>open</th>\n      <th>volumefrom</th>\n      <th>volumeto</th>\n      <th>close</th>\n      <th>conversionType</th>\n      <th>conversionSymbol</th>\n      <th>timestamp</th>\n      <th>daily return</th>\n    </tr>\n  </thead>\n  <tbody>\n    <tr>\n      <th>0</th>\n      <td>1279324800</td>\n      <td>0.04951</td>\n      <td>0.04951</td>\n      <td>0.04951</td>\n      <td>20.00</td>\n      <td>9.902000e-01</td>\n      <td>0.04951</td>\n      <td>direct</td>\n      <td>NaN</td>\n      <td>2010-07-17 02:00:00</td>\n      <td>NaN</td>\n    </tr>\n    <tr>\n      <th>1</th>\n      <td>1279411200</td>\n      <td>0.08585</td>\n      <td>0.05941</td>\n      <td>0.04951</td>\n      <td>75.01</td>\n      <td>5.092000e+00</td>\n      <td>0.08584</td>\n      <td>direct</td>\n      <td>NaN</td>\n      <td>2010-07-18 02:00:00</td>\n      <td>0.733791</td>\n    </tr>\n    <tr>\n      <th>2</th>\n      <td>1279497600</td>\n      <td>0.09307</td>\n      <td>0.07723</td>\n      <td>0.08584</td>\n      <td>574.00</td>\n      <td>4.966000e+01</td>\n      <td>0.08080</td>\n      <td>direct</td>\n      <td>NaN</td>\n      <td>2010-07-19 02:00:00</td>\n      <td>-0.058714</td>\n    </tr>\n    <tr>\n      <th>3</th>\n      <td>1279584000</td>\n      <td>0.08181</td>\n      <td>0.07426</td>\n      <td>0.08080</td>\n      <td>262.00</td>\n      <td>2.059000e+01</td>\n      <td>0.07474</td>\n      <td>direct</td>\n      <td>NaN</td>\n      <td>2010-07-20 02:00:00</td>\n      <td>-0.075000</td>\n    </tr>\n    <tr>\n      <th>4</th>\n      <td>1279670400</td>\n      <td>0.07921</td>\n      <td>0.06634</td>\n      <td>0.07474</td>\n      <td>575.00</td>\n      <td>4.226000e+01</td>\n      <td>0.07921</td>\n      <td>direct</td>\n      <td>NaN</td>\n      <td>2010-07-21 02:00:00</td>\n      <td>0.059807</td>\n    </tr>\n    <tr>\n      <th>...</th>\n      <td>...</td>\n      <td>...</td>\n      <td>...</td>\n      <td>...</td>\n      <td>...</td>\n      <td>...</td>\n      <td>...</td>\n      <td>...</td>\n      <td>...</td>\n      <td>...</td>\n      <td>...</td>\n    </tr>\n    <tr>\n      <th>4437</th>\n      <td>1662681600</td>\n      <td>21559.78000</td>\n      <td>19299.24000</td>\n      <td>19321.77000</td>\n      <td>79722.17</td>\n      <td>1.657848e+09</td>\n      <td>21369.73000</td>\n      <td>direct</td>\n      <td>NaN</td>\n      <td>2022-09-09 02:00:00</td>\n      <td>0.105992</td>\n    </tr>\n    <tr>\n      <th>4438</th>\n      <td>1662768000</td>\n      <td>21807.62000</td>\n      <td>21138.54000</td>\n      <td>21369.73000</td>\n      <td>35129.91</td>\n      <td>7.529051e+08</td>\n      <td>21655.13000</td>\n      <td>direct</td>\n      <td>NaN</td>\n      <td>2022-09-10 02:00:00</td>\n      <td>0.013355</td>\n    </tr>\n    <tr>\n      <th>4439</th>\n      <td>1662854400</td>\n      <td>21850.77000</td>\n      <td>21366.74000</td>\n      <td>21655.13000</td>\n      <td>27756.78</td>\n      <td>6.000082e+08</td>\n      <td>21836.45000</td>\n      <td>direct</td>\n      <td>NaN</td>\n      <td>2022-09-11 02:00:00</td>\n      <td>0.008373</td>\n    </tr>\n    <tr>\n      <th>4440</th>\n      <td>1662940800</td>\n      <td>22482.54000</td>\n      <td>21567.71000</td>\n      <td>21836.45000</td>\n      <td>57121.32</td>\n      <td>1.264511e+09</td>\n      <td>22400.52000</td>\n      <td>direct</td>\n      <td>NaN</td>\n      <td>2022-09-12 02:00:00</td>\n      <td>0.025832</td>\n    </tr>\n    <tr>\n      <th>4441</th>\n      <td>1663027200</td>\n      <td>22712.74000</td>\n      <td>22072.99000</td>\n      <td>22400.52000</td>\n      <td>24415.92</td>\n      <td>5.460073e+08</td>\n      <td>22634.72000</td>\n      <td>direct</td>\n      <td>NaN</td>\n      <td>2022-09-13 02:00:00</td>\n      <td>0.010455</td>\n    </tr>\n  </tbody>\n</table>\n<p>4442 rows × 11 columns</p>\n</div>"
     },
     "execution_count": 5,
     "metadata": {},
     "output_type": "execute_result"
    }
   ],
   "source": [
    "prices[\"BTC\"]"
   ],
   "metadata": {
    "collapsed": false,
    "pycharm": {
     "name": "#%%\n"
    }
   }
  },
  {
   "cell_type": "markdown",
   "source": [
    "# Read Covariates"
   ],
   "metadata": {
    "collapsed": false,
    "pycharm": {
     "name": "#%% md\n"
    }
   }
  },
  {
   "cell_type": "code",
   "execution_count": 6,
   "outputs": [],
   "source": [
    "blockchain_data_files = os.listdir(\"../Cryptocompare data/Blockchain Data\")"
   ],
   "metadata": {
    "collapsed": false,
    "pycharm": {
     "name": "#%%\n"
    }
   }
  },
  {
   "cell_type": "code",
   "execution_count": 7,
   "outputs": [],
   "source": [
    "blockchain_data = dict(\n",
    "    zip(\n",
    "        [file[:-4] for file in price_files if file[-4:] == \".csv\"],\n",
    "        [pd.read_csv(\"../Cryptocompare data/Blockchain Data/\" + file, index_col= \"Unnamed: 0\") for file in blockchain_data_files if file[-4:] == \".csv\"]\n",
    "    )\n",
    ")"
   ],
   "metadata": {
    "collapsed": false,
    "pycharm": {
     "name": "#%%\n"
    }
   }
  },
  {
   "cell_type": "code",
   "execution_count": 8,
   "outputs": [],
   "source": [
    "for key in blockchain_data.keys():\n",
    "    df = blockchain_data[key]\n",
    "    df.index = [datetime.fromtimestamp(time) for time in df.time]\n",
    "    del df[\"id\"]\n",
    "    del df[\"symbol\"]\n",
    "    del df[\"time\"]\n",
    "    blockchain_data[key] = df"
   ],
   "metadata": {
    "collapsed": false,
    "pycharm": {
     "name": "#%%\n"
    }
   }
  },
  {
   "cell_type": "markdown",
   "source": [
    "# Combine price and blockchain data\n",
    "\n",
    "We only keep days for which we have both the price and blockchain information.\n",
    "We join information by day."
   ],
   "metadata": {
    "collapsed": false,
    "pycharm": {
     "name": "#%% md\n"
    }
   }
  },
  {
   "cell_type": "code",
   "execution_count": 9,
   "outputs": [],
   "source": [
    "aggregate_data = {}\n",
    "\n",
    "for key in prices.keys():\n",
    "    price = prices[key]\n",
    "    covariates = blockchain_data[key]\n",
    "\n",
    "    price[\"day\"] = [str(time)[:10] for time in price.timestamp]\n",
    "    covariates[\"day\"] = [str(id)[:10] for id in covariates.index]\n",
    "\n",
    "    aggregate = pd.merge(left = price, right = covariates, left_on=\"day\", right_on=\"day\", how = \"inner\")\n",
    "    aggregate.index = pd.to_datetime(aggregate[\"day\"])\n",
    "\n",
    "    del aggregate[\"day\"]\n",
    "    aggregate_data[key] = aggregate"
   ],
   "metadata": {
    "collapsed": false,
    "pycharm": {
     "name": "#%%\n"
    }
   }
  },
  {
   "cell_type": "code",
   "execution_count": 10,
   "outputs": [],
   "source": [
    "# Keep only after 2017\n",
    "for coin in aggregate_data.keys():\n",
    "    aggregate_data[coin] = aggregate_data[coin][pd.to_datetime(\"2017-01-01\"):pd.to_datetime(\"2022-03-01\")]"
   ],
   "metadata": {
    "collapsed": false,
    "pycharm": {
     "name": "#%%\n"
    }
   }
  },
  {
   "cell_type": "code",
   "execution_count": 11,
   "outputs": [
    {
     "data": {
      "text/plain": "678"
     },
     "execution_count": 11,
     "metadata": {},
     "output_type": "execute_result"
    }
   ],
   "source": [
    "len(aggregate_data)"
   ],
   "metadata": {
    "collapsed": false,
    "pycharm": {
     "name": "#%%\n"
    }
   }
  },
  {
   "cell_type": "markdown",
   "source": [],
   "metadata": {
    "collapsed": false,
    "pycharm": {
     "name": "#%% md\n"
    }
   }
  },
  {
   "cell_type": "markdown",
   "source": [
    "# Load T-rate yields"
   ],
   "metadata": {
    "collapsed": false,
    "pycharm": {
     "name": "#%% md\n"
    }
   }
  },
  {
   "cell_type": "code",
   "execution_count": 12,
   "outputs": [],
   "source": [
    "yield_files = os.listdir(\"../Daily Treasury Par Yield Curve Rates\")\n",
    "treasury_yield_rates = pd.concat(\n",
    "        [pd.read_csv(\"../Daily Treasury Par Yield Curve Rates/\" + file, index_col= \"Date\") for file in yield_files if file[-4:] == \".csv\"]\n",
    "    )\n"
   ],
   "metadata": {
    "collapsed": false,
    "pycharm": {
     "name": "#%%\n"
    }
   }
  },
  {
   "cell_type": "code",
   "execution_count": 13,
   "outputs": [
    {
     "data": {
      "text/plain": "            1 Mo  2 Mo  3 Mo  6 Mo  1 Yr  2 Yr  3 Yr  5 Yr  7 Yr  10 Yr  \\\nDate                                                                      \n12/31/2020  0.08  0.08  0.09  0.09  0.10  0.13  0.17  0.36  0.65   0.93   \n12/30/2020  0.06  0.06  0.08  0.09  0.12  0.12  0.17  0.37  0.66   0.93   \n12/29/2020  0.08  0.09  0.10  0.12  0.11  0.12  0.17  0.37  0.66   0.94   \n12/28/2020  0.09  0.10  0.11  0.11  0.11  0.13  0.17  0.38  0.65   0.94   \n12/24/2020  0.09  0.09  0.09  0.09  0.10  0.13  0.17  0.37  0.66   0.94   \n\n            20 Yr  30 Yr  \nDate                      \n12/31/2020   1.45   1.65  \n12/30/2020   1.46   1.66  \n12/29/2020   1.47   1.67  \n12/28/2020   1.46   1.67  \n12/24/2020   1.46   1.66  ",
      "text/html": "<div>\n<style scoped>\n    .dataframe tbody tr th:only-of-type {\n        vertical-align: middle;\n    }\n\n    .dataframe tbody tr th {\n        vertical-align: top;\n    }\n\n    .dataframe thead th {\n        text-align: right;\n    }\n</style>\n<table border=\"1\" class=\"dataframe\">\n  <thead>\n    <tr style=\"text-align: right;\">\n      <th></th>\n      <th>1 Mo</th>\n      <th>2 Mo</th>\n      <th>3 Mo</th>\n      <th>6 Mo</th>\n      <th>1 Yr</th>\n      <th>2 Yr</th>\n      <th>3 Yr</th>\n      <th>5 Yr</th>\n      <th>7 Yr</th>\n      <th>10 Yr</th>\n      <th>20 Yr</th>\n      <th>30 Yr</th>\n    </tr>\n    <tr>\n      <th>Date</th>\n      <th></th>\n      <th></th>\n      <th></th>\n      <th></th>\n      <th></th>\n      <th></th>\n      <th></th>\n      <th></th>\n      <th></th>\n      <th></th>\n      <th></th>\n      <th></th>\n    </tr>\n  </thead>\n  <tbody>\n    <tr>\n      <th>12/31/2020</th>\n      <td>0.08</td>\n      <td>0.08</td>\n      <td>0.09</td>\n      <td>0.09</td>\n      <td>0.10</td>\n      <td>0.13</td>\n      <td>0.17</td>\n      <td>0.36</td>\n      <td>0.65</td>\n      <td>0.93</td>\n      <td>1.45</td>\n      <td>1.65</td>\n    </tr>\n    <tr>\n      <th>12/30/2020</th>\n      <td>0.06</td>\n      <td>0.06</td>\n      <td>0.08</td>\n      <td>0.09</td>\n      <td>0.12</td>\n      <td>0.12</td>\n      <td>0.17</td>\n      <td>0.37</td>\n      <td>0.66</td>\n      <td>0.93</td>\n      <td>1.46</td>\n      <td>1.66</td>\n    </tr>\n    <tr>\n      <th>12/29/2020</th>\n      <td>0.08</td>\n      <td>0.09</td>\n      <td>0.10</td>\n      <td>0.12</td>\n      <td>0.11</td>\n      <td>0.12</td>\n      <td>0.17</td>\n      <td>0.37</td>\n      <td>0.66</td>\n      <td>0.94</td>\n      <td>1.47</td>\n      <td>1.67</td>\n    </tr>\n    <tr>\n      <th>12/28/2020</th>\n      <td>0.09</td>\n      <td>0.10</td>\n      <td>0.11</td>\n      <td>0.11</td>\n      <td>0.11</td>\n      <td>0.13</td>\n      <td>0.17</td>\n      <td>0.38</td>\n      <td>0.65</td>\n      <td>0.94</td>\n      <td>1.46</td>\n      <td>1.67</td>\n    </tr>\n    <tr>\n      <th>12/24/2020</th>\n      <td>0.09</td>\n      <td>0.09</td>\n      <td>0.09</td>\n      <td>0.09</td>\n      <td>0.10</td>\n      <td>0.13</td>\n      <td>0.17</td>\n      <td>0.37</td>\n      <td>0.66</td>\n      <td>0.94</td>\n      <td>1.46</td>\n      <td>1.66</td>\n    </tr>\n  </tbody>\n</table>\n</div>"
     },
     "execution_count": 13,
     "metadata": {},
     "output_type": "execute_result"
    }
   ],
   "source": [
    "treasury_yield_rates.head()\n",
    "\n"
   ],
   "metadata": {
    "collapsed": false,
    "pycharm": {
     "name": "#%%\n"
    }
   }
  },
  {
   "cell_type": "code",
   "execution_count": 14,
   "outputs": [],
   "source": [
    "# As we can see, the format of the dates is different from the one we use in our other datasets, so we will equalize it\n",
    "\n",
    "treasury_yield_rates.index = [date[-4:] + \"-\" + date[:2] + \"-\" + date[3:5] for date in list(treasury_yield_rates.index)]\n",
    "\n"
   ],
   "metadata": {
    "collapsed": false,
    "pycharm": {
     "name": "#%%\n"
    }
   }
  },
  {
   "cell_type": "code",
   "execution_count": 15,
   "outputs": [],
   "source": [
    "treasury_yield_rates = treasury_yield_rates.sort_index()"
   ],
   "metadata": {
    "collapsed": false,
    "pycharm": {
     "name": "#%%\n"
    }
   }
  },
  {
   "cell_type": "code",
   "execution_count": 16,
   "outputs": [
    {
     "data": {
      "text/plain": "            1 Mo  2 Mo  3 Mo  6 Mo  1 Yr  2 Yr  3 Yr  5 Yr  7 Yr  10 Yr  \\\n2010-01-04  0.05   NaN  0.08  0.18  0.45  1.09  1.66  2.65  3.36   3.85   \n2010-01-05  0.03   NaN  0.07  0.17  0.41  1.01  1.57  2.56  3.28   3.77   \n2010-01-06  0.03   NaN  0.06  0.15  0.40  1.01  1.60  2.60  3.33   3.85   \n2010-01-07  0.02   NaN  0.05  0.16  0.40  1.03  1.62  2.62  3.33   3.85   \n2010-01-08  0.02   NaN  0.05  0.15  0.37  0.96  1.56  2.57  3.31   3.83   \n...          ...   ...   ...   ...   ...   ...   ...   ...   ...    ...   \n2022-09-06  2.44  2.82  3.04  3.40  3.61  3.50  3.55  3.43  3.41   3.33   \n2022-09-07  2.30  2.80  3.07  3.42  3.60  3.45  3.50  3.37  3.35   3.27   \n2022-09-08  2.57  2.86  3.06  3.44  3.60  3.48  3.54  3.39  3.37   3.29   \n2022-09-09  2.57  2.88  3.08  3.52  3.67  3.56  3.61  3.45  3.42   3.33   \n2022-09-12  2.62  2.93  3.17  3.56  3.70  3.58  3.60  3.47  3.45   3.37   \n\n            20 Yr  30 Yr  \n2010-01-04   4.60   4.65  \n2010-01-05   4.54   4.59  \n2010-01-06   4.63   4.70  \n2010-01-07   4.62   4.69  \n2010-01-08   4.61   4.70  \n...           ...    ...  \n2022-09-06   3.74   3.49  \n2022-09-07   3.67   3.42  \n2022-09-08   3.69   3.45  \n2022-09-09   3.71   3.47  \n2022-09-12   3.76   3.53  \n\n[3178 rows x 12 columns]",
      "text/html": "<div>\n<style scoped>\n    .dataframe tbody tr th:only-of-type {\n        vertical-align: middle;\n    }\n\n    .dataframe tbody tr th {\n        vertical-align: top;\n    }\n\n    .dataframe thead th {\n        text-align: right;\n    }\n</style>\n<table border=\"1\" class=\"dataframe\">\n  <thead>\n    <tr style=\"text-align: right;\">\n      <th></th>\n      <th>1 Mo</th>\n      <th>2 Mo</th>\n      <th>3 Mo</th>\n      <th>6 Mo</th>\n      <th>1 Yr</th>\n      <th>2 Yr</th>\n      <th>3 Yr</th>\n      <th>5 Yr</th>\n      <th>7 Yr</th>\n      <th>10 Yr</th>\n      <th>20 Yr</th>\n      <th>30 Yr</th>\n    </tr>\n  </thead>\n  <tbody>\n    <tr>\n      <th>2010-01-04</th>\n      <td>0.05</td>\n      <td>NaN</td>\n      <td>0.08</td>\n      <td>0.18</td>\n      <td>0.45</td>\n      <td>1.09</td>\n      <td>1.66</td>\n      <td>2.65</td>\n      <td>3.36</td>\n      <td>3.85</td>\n      <td>4.60</td>\n      <td>4.65</td>\n    </tr>\n    <tr>\n      <th>2010-01-05</th>\n      <td>0.03</td>\n      <td>NaN</td>\n      <td>0.07</td>\n      <td>0.17</td>\n      <td>0.41</td>\n      <td>1.01</td>\n      <td>1.57</td>\n      <td>2.56</td>\n      <td>3.28</td>\n      <td>3.77</td>\n      <td>4.54</td>\n      <td>4.59</td>\n    </tr>\n    <tr>\n      <th>2010-01-06</th>\n      <td>0.03</td>\n      <td>NaN</td>\n      <td>0.06</td>\n      <td>0.15</td>\n      <td>0.40</td>\n      <td>1.01</td>\n      <td>1.60</td>\n      <td>2.60</td>\n      <td>3.33</td>\n      <td>3.85</td>\n      <td>4.63</td>\n      <td>4.70</td>\n    </tr>\n    <tr>\n      <th>2010-01-07</th>\n      <td>0.02</td>\n      <td>NaN</td>\n      <td>0.05</td>\n      <td>0.16</td>\n      <td>0.40</td>\n      <td>1.03</td>\n      <td>1.62</td>\n      <td>2.62</td>\n      <td>3.33</td>\n      <td>3.85</td>\n      <td>4.62</td>\n      <td>4.69</td>\n    </tr>\n    <tr>\n      <th>2010-01-08</th>\n      <td>0.02</td>\n      <td>NaN</td>\n      <td>0.05</td>\n      <td>0.15</td>\n      <td>0.37</td>\n      <td>0.96</td>\n      <td>1.56</td>\n      <td>2.57</td>\n      <td>3.31</td>\n      <td>3.83</td>\n      <td>4.61</td>\n      <td>4.70</td>\n    </tr>\n    <tr>\n      <th>...</th>\n      <td>...</td>\n      <td>...</td>\n      <td>...</td>\n      <td>...</td>\n      <td>...</td>\n      <td>...</td>\n      <td>...</td>\n      <td>...</td>\n      <td>...</td>\n      <td>...</td>\n      <td>...</td>\n      <td>...</td>\n    </tr>\n    <tr>\n      <th>2022-09-06</th>\n      <td>2.44</td>\n      <td>2.82</td>\n      <td>3.04</td>\n      <td>3.40</td>\n      <td>3.61</td>\n      <td>3.50</td>\n      <td>3.55</td>\n      <td>3.43</td>\n      <td>3.41</td>\n      <td>3.33</td>\n      <td>3.74</td>\n      <td>3.49</td>\n    </tr>\n    <tr>\n      <th>2022-09-07</th>\n      <td>2.30</td>\n      <td>2.80</td>\n      <td>3.07</td>\n      <td>3.42</td>\n      <td>3.60</td>\n      <td>3.45</td>\n      <td>3.50</td>\n      <td>3.37</td>\n      <td>3.35</td>\n      <td>3.27</td>\n      <td>3.67</td>\n      <td>3.42</td>\n    </tr>\n    <tr>\n      <th>2022-09-08</th>\n      <td>2.57</td>\n      <td>2.86</td>\n      <td>3.06</td>\n      <td>3.44</td>\n      <td>3.60</td>\n      <td>3.48</td>\n      <td>3.54</td>\n      <td>3.39</td>\n      <td>3.37</td>\n      <td>3.29</td>\n      <td>3.69</td>\n      <td>3.45</td>\n    </tr>\n    <tr>\n      <th>2022-09-09</th>\n      <td>2.57</td>\n      <td>2.88</td>\n      <td>3.08</td>\n      <td>3.52</td>\n      <td>3.67</td>\n      <td>3.56</td>\n      <td>3.61</td>\n      <td>3.45</td>\n      <td>3.42</td>\n      <td>3.33</td>\n      <td>3.71</td>\n      <td>3.47</td>\n    </tr>\n    <tr>\n      <th>2022-09-12</th>\n      <td>2.62</td>\n      <td>2.93</td>\n      <td>3.17</td>\n      <td>3.56</td>\n      <td>3.70</td>\n      <td>3.58</td>\n      <td>3.60</td>\n      <td>3.47</td>\n      <td>3.45</td>\n      <td>3.37</td>\n      <td>3.76</td>\n      <td>3.53</td>\n    </tr>\n  </tbody>\n</table>\n<p>3178 rows × 12 columns</p>\n</div>"
     },
     "execution_count": 16,
     "metadata": {},
     "output_type": "execute_result"
    }
   ],
   "source": [
    "treasury_yield_rates"
   ],
   "metadata": {
    "collapsed": false,
    "pycharm": {
     "name": "#%%\n"
    }
   }
  },
  {
   "cell_type": "code",
   "execution_count": 17,
   "outputs": [],
   "source": [
    "# On the weekends and some other days there is no data. We just copy the last known value\n",
    "days = treasury_yield_rates.index.to_numpy()\n",
    "days = pd.to_datetime(days)\n",
    "\n",
    "# All days between first and last day\n",
    "idx = pd.date_range(days[0], days[-1])\n",
    "\n",
    "# Reindex\n",
    "treasury_yield_rates.index = pd.to_datetime(treasury_yield_rates.index)\n",
    "treasury_yield_rates = treasury_yield_rates.reindex(idx, method = \"ffill\")"
   ],
   "metadata": {
    "collapsed": false,
    "pycharm": {
     "name": "#%%\n"
    }
   }
  },
  {
   "cell_type": "code",
   "execution_count": 18,
   "outputs": [
    {
     "data": {
      "text/plain": "            1 Mo  2 Mo  3 Mo  6 Mo  1 Yr  2 Yr  3 Yr  5 Yr  7 Yr  10 Yr  \\\n2022-09-08  2.57  2.86  3.06  3.44  3.60  3.48  3.54  3.39  3.37   3.29   \n2022-09-09  2.57  2.88  3.08  3.52  3.67  3.56  3.61  3.45  3.42   3.33   \n2022-09-10  2.57  2.88  3.08  3.52  3.67  3.56  3.61  3.45  3.42   3.33   \n2022-09-11  2.57  2.88  3.08  3.52  3.67  3.56  3.61  3.45  3.42   3.33   \n2022-09-12  2.62  2.93  3.17  3.56  3.70  3.58  3.60  3.47  3.45   3.37   \n\n            20 Yr  30 Yr  \n2022-09-08   3.69   3.45  \n2022-09-09   3.71   3.47  \n2022-09-10   3.71   3.47  \n2022-09-11   3.71   3.47  \n2022-09-12   3.76   3.53  ",
      "text/html": "<div>\n<style scoped>\n    .dataframe tbody tr th:only-of-type {\n        vertical-align: middle;\n    }\n\n    .dataframe tbody tr th {\n        vertical-align: top;\n    }\n\n    .dataframe thead th {\n        text-align: right;\n    }\n</style>\n<table border=\"1\" class=\"dataframe\">\n  <thead>\n    <tr style=\"text-align: right;\">\n      <th></th>\n      <th>1 Mo</th>\n      <th>2 Mo</th>\n      <th>3 Mo</th>\n      <th>6 Mo</th>\n      <th>1 Yr</th>\n      <th>2 Yr</th>\n      <th>3 Yr</th>\n      <th>5 Yr</th>\n      <th>7 Yr</th>\n      <th>10 Yr</th>\n      <th>20 Yr</th>\n      <th>30 Yr</th>\n    </tr>\n  </thead>\n  <tbody>\n    <tr>\n      <th>2022-09-08</th>\n      <td>2.57</td>\n      <td>2.86</td>\n      <td>3.06</td>\n      <td>3.44</td>\n      <td>3.60</td>\n      <td>3.48</td>\n      <td>3.54</td>\n      <td>3.39</td>\n      <td>3.37</td>\n      <td>3.29</td>\n      <td>3.69</td>\n      <td>3.45</td>\n    </tr>\n    <tr>\n      <th>2022-09-09</th>\n      <td>2.57</td>\n      <td>2.88</td>\n      <td>3.08</td>\n      <td>3.52</td>\n      <td>3.67</td>\n      <td>3.56</td>\n      <td>3.61</td>\n      <td>3.45</td>\n      <td>3.42</td>\n      <td>3.33</td>\n      <td>3.71</td>\n      <td>3.47</td>\n    </tr>\n    <tr>\n      <th>2022-09-10</th>\n      <td>2.57</td>\n      <td>2.88</td>\n      <td>3.08</td>\n      <td>3.52</td>\n      <td>3.67</td>\n      <td>3.56</td>\n      <td>3.61</td>\n      <td>3.45</td>\n      <td>3.42</td>\n      <td>3.33</td>\n      <td>3.71</td>\n      <td>3.47</td>\n    </tr>\n    <tr>\n      <th>2022-09-11</th>\n      <td>2.57</td>\n      <td>2.88</td>\n      <td>3.08</td>\n      <td>3.52</td>\n      <td>3.67</td>\n      <td>3.56</td>\n      <td>3.61</td>\n      <td>3.45</td>\n      <td>3.42</td>\n      <td>3.33</td>\n      <td>3.71</td>\n      <td>3.47</td>\n    </tr>\n    <tr>\n      <th>2022-09-12</th>\n      <td>2.62</td>\n      <td>2.93</td>\n      <td>3.17</td>\n      <td>3.56</td>\n      <td>3.70</td>\n      <td>3.58</td>\n      <td>3.60</td>\n      <td>3.47</td>\n      <td>3.45</td>\n      <td>3.37</td>\n      <td>3.76</td>\n      <td>3.53</td>\n    </tr>\n  </tbody>\n</table>\n</div>"
     },
     "execution_count": 18,
     "metadata": {},
     "output_type": "execute_result"
    }
   ],
   "source": [
    "treasury_yield_rates.tail()"
   ],
   "metadata": {
    "collapsed": false,
    "pycharm": {
     "name": "#%%\n"
    }
   }
  },
  {
   "cell_type": "markdown",
   "source": [
    "# Calculate excess returns for every coin"
   ],
   "metadata": {
    "collapsed": false,
    "pycharm": {
     "name": "#%% md\n"
    }
   }
  },
  {
   "cell_type": "code",
   "execution_count": 19,
   "outputs": [
    {
     "name": "stderr",
     "output_type": "stream",
     "text": [
      "/var/folders/13/d37n485s17n292n_3yvvjbw00000gn/T/ipykernel_27360/2036596769.py:2: SettingWithCopyWarning: \n",
      "A value is trying to be set on a copy of a slice from a DataFrame.\n",
      "Try using .loc[row_indexer,col_indexer] = value instead\n",
      "\n",
      "See the caveats in the documentation: https://pandas.pydata.org/pandas-docs/stable/user_guide/indexing.html#returning-a-view-versus-a-copy\n",
      "  aggregate_data[coin][\"daily excess return\"] = aggregate_data[coin][\"daily return\"].sub(treasury_yield_rates[\"1 Mo\"]/100, axis = \"index\")\n"
     ]
    }
   ],
   "source": [
    "for coin in aggregate_data.keys():\n",
    "    aggregate_data[coin][\"daily excess return\"] = aggregate_data[coin][\"daily return\"].sub(treasury_yield_rates[\"1 Mo\"]/100, axis = \"index\")"
   ],
   "metadata": {
    "collapsed": false,
    "pycharm": {
     "name": "#%%\n"
    }
   }
  },
  {
   "cell_type": "code",
   "execution_count": 20,
   "outputs": [
    {
     "data": {
      "text/plain": "                  time      high       low      open  volumefrom  \\\nday                                                                \n2017-01-01  1483228800   1001.61    956.10    963.38    41148.52   \n2017-01-02  1483315200   1031.68    990.20    995.44    64951.63   \n2017-01-03  1483401600   1035.47   1006.53   1017.05    54788.01   \n2017-01-04  1483488000   1148.54   1022.32   1033.30   156272.17   \n2017-01-05  1483574400   1150.63    874.53   1135.41   240007.84   \n...                ...       ...       ...       ...         ...   \n2022-02-25  1645747200  39710.26  38043.51  38353.62    39454.29   \n2022-02-26  1645833600  40228.13  38605.65  39239.77    18649.99   \n2022-02-27  1645920000  39861.91  37039.71  39134.83    30834.07   \n2022-02-28  1646006400  43953.92  37473.30  37714.96    55323.43   \n2022-03-01  1646092800  44883.10  42893.50  43189.46    48462.11   \n\n                volumeto     close conversionType  conversionSymbol  \\\nday                                                                   \n2017-01-01  4.057092e+07    995.44         direct               NaN   \n2017-01-02  6.603807e+07   1017.05         direct               NaN   \n2017-01-03  5.608587e+07   1033.30         direct               NaN   \n2017-01-04  1.705846e+08   1135.41         direct               NaN   \n2017-01-05  2.448393e+08    989.35         direct               NaN   \n...                  ...       ...            ...               ...   \n2022-02-25  1.536576e+09  39239.77         direct               NaN   \n2022-02-26  7.329960e+08  39134.83         direct               NaN   \n2022-02-27  1.184510e+09  37714.96         direct               NaN   \n2022-02-28  2.231772e+09  43189.46         direct               NaN   \n2022-03-01  2.121207e+09  44428.47         direct               NaN   \n\n                      timestamp  ...  transaction_count_all_time  \\\nday                              ...                               \n2017-01-01  2017-01-01 01:00:00  ...                   183960936   \n2017-01-02  2017-01-02 01:00:00  ...                   184251887   \n2017-01-03  2017-01-03 01:00:00  ...                   184553551   \n2017-01-04  2017-01-04 01:00:00  ...                   184882193   \n2017-01-05  2017-01-05 01:00:00  ...                   185170694   \n...                         ...  ...                         ...   \n2022-02-25  2022-02-25 01:00:00  ...                   713408839   \n2022-02-26  2022-02-26 01:00:00  ...                   713629262   \n2022-02-27  2022-02-27 01:00:00  ...                   713840426   \n2022-02-28  2022-02-28 01:00:00  ...                   714111344   \n2022-03-01  2022-03-01 01:00:00  ...                   714391978   \n\n            large_transaction_count  average_transaction_value  block_height  \\\nday                                                                            \n2017-01-01                     1809                   6.007362        446188   \n2017-01-02                     3077                   5.409782        446347   \n2017-01-03                     3830                   6.465887        446511   \n2017-01-04                     5739                   7.552406        446664   \n2017-01-05                     5645                  10.392391        446804   \n...                             ...                        ...           ...   \n2022-02-25                    20994                  16.606553        724939   \n2022-02-26                    15948                  14.187627        725064   \n2022-02-27                    16246                  13.942912        725200   \n2022-02-28                    22854                  15.953246        725354   \n2022-03-01                    23689                  17.772570        725516   \n\n                hashrate    difficulty  block_time  block_size  \\\nday                                                              \n2017-01-01  2.463730e+06  3.176884e+11  553.819355      698539   \n2017-01-02  2.514432e+06  3.176884e+11  542.651899      944877   \n2017-01-03  2.590800e+06  3.176884e+11  526.656442      906573   \n2017-01-04  2.490282e+06  3.176884e+11  547.914474      986063   \n2017-01-05  2.204094e+06  3.176884e+11  619.057554      984196   \n...                  ...           ...         ...         ...   \n2022-02-25  1.855934e+08  2.796715e+13  647.210526     1293635   \n2022-02-26  1.788608e+08  2.796715e+13  671.572581     1165299   \n2022-02-27  1.885508e+08  2.796715e+13  637.059259     1020711   \n2022-02-28  2.148174e+08  2.796715e+13  559.163399     1168960   \n2022-03-01  2.265634e+08  2.796715e+13  530.173913     1282074   \n\n            current_supply  daily excess return  \nday                                              \n2017-01-01    1.607735e+07             0.028879  \n2017-01-02    1.607934e+07             0.017309  \n2017-01-03    1.608139e+07             0.010778  \n2017-01-04    1.608330e+07             0.093919  \n2017-01-05    1.608505e+07            -0.133741  \n...                    ...                  ...  \n2022-02-25    1.896846e+07             0.022805  \n2022-02-26    1.896916e+07            -0.002974  \n2022-02-27    1.897001e+07            -0.036581  \n2022-02-28    1.897102e+07             0.144555  \n2022-03-01    1.897204e+07             0.027588  \n\n[1886 rows x 26 columns]",
      "text/html": "<div>\n<style scoped>\n    .dataframe tbody tr th:only-of-type {\n        vertical-align: middle;\n    }\n\n    .dataframe tbody tr th {\n        vertical-align: top;\n    }\n\n    .dataframe thead th {\n        text-align: right;\n    }\n</style>\n<table border=\"1\" class=\"dataframe\">\n  <thead>\n    <tr style=\"text-align: right;\">\n      <th></th>\n      <th>time</th>\n      <th>high</th>\n      <th>low</th>\n      <th>open</th>\n      <th>volumefrom</th>\n      <th>volumeto</th>\n      <th>close</th>\n      <th>conversionType</th>\n      <th>conversionSymbol</th>\n      <th>timestamp</th>\n      <th>...</th>\n      <th>transaction_count_all_time</th>\n      <th>large_transaction_count</th>\n      <th>average_transaction_value</th>\n      <th>block_height</th>\n      <th>hashrate</th>\n      <th>difficulty</th>\n      <th>block_time</th>\n      <th>block_size</th>\n      <th>current_supply</th>\n      <th>daily excess return</th>\n    </tr>\n    <tr>\n      <th>day</th>\n      <th></th>\n      <th></th>\n      <th></th>\n      <th></th>\n      <th></th>\n      <th></th>\n      <th></th>\n      <th></th>\n      <th></th>\n      <th></th>\n      <th></th>\n      <th></th>\n      <th></th>\n      <th></th>\n      <th></th>\n      <th></th>\n      <th></th>\n      <th></th>\n      <th></th>\n      <th></th>\n      <th></th>\n    </tr>\n  </thead>\n  <tbody>\n    <tr>\n      <th>2017-01-01</th>\n      <td>1483228800</td>\n      <td>1001.61</td>\n      <td>956.10</td>\n      <td>963.38</td>\n      <td>41148.52</td>\n      <td>4.057092e+07</td>\n      <td>995.44</td>\n      <td>direct</td>\n      <td>NaN</td>\n      <td>2017-01-01 01:00:00</td>\n      <td>...</td>\n      <td>183960936</td>\n      <td>1809</td>\n      <td>6.007362</td>\n      <td>446188</td>\n      <td>2.463730e+06</td>\n      <td>3.176884e+11</td>\n      <td>553.819355</td>\n      <td>698539</td>\n      <td>1.607735e+07</td>\n      <td>0.028879</td>\n    </tr>\n    <tr>\n      <th>2017-01-02</th>\n      <td>1483315200</td>\n      <td>1031.68</td>\n      <td>990.20</td>\n      <td>995.44</td>\n      <td>64951.63</td>\n      <td>6.603807e+07</td>\n      <td>1017.05</td>\n      <td>direct</td>\n      <td>NaN</td>\n      <td>2017-01-02 01:00:00</td>\n      <td>...</td>\n      <td>184251887</td>\n      <td>3077</td>\n      <td>5.409782</td>\n      <td>446347</td>\n      <td>2.514432e+06</td>\n      <td>3.176884e+11</td>\n      <td>542.651899</td>\n      <td>944877</td>\n      <td>1.607934e+07</td>\n      <td>0.017309</td>\n    </tr>\n    <tr>\n      <th>2017-01-03</th>\n      <td>1483401600</td>\n      <td>1035.47</td>\n      <td>1006.53</td>\n      <td>1017.05</td>\n      <td>54788.01</td>\n      <td>5.608587e+07</td>\n      <td>1033.30</td>\n      <td>direct</td>\n      <td>NaN</td>\n      <td>2017-01-03 01:00:00</td>\n      <td>...</td>\n      <td>184553551</td>\n      <td>3830</td>\n      <td>6.465887</td>\n      <td>446511</td>\n      <td>2.590800e+06</td>\n      <td>3.176884e+11</td>\n      <td>526.656442</td>\n      <td>906573</td>\n      <td>1.608139e+07</td>\n      <td>0.010778</td>\n    </tr>\n    <tr>\n      <th>2017-01-04</th>\n      <td>1483488000</td>\n      <td>1148.54</td>\n      <td>1022.32</td>\n      <td>1033.30</td>\n      <td>156272.17</td>\n      <td>1.705846e+08</td>\n      <td>1135.41</td>\n      <td>direct</td>\n      <td>NaN</td>\n      <td>2017-01-04 01:00:00</td>\n      <td>...</td>\n      <td>184882193</td>\n      <td>5739</td>\n      <td>7.552406</td>\n      <td>446664</td>\n      <td>2.490282e+06</td>\n      <td>3.176884e+11</td>\n      <td>547.914474</td>\n      <td>986063</td>\n      <td>1.608330e+07</td>\n      <td>0.093919</td>\n    </tr>\n    <tr>\n      <th>2017-01-05</th>\n      <td>1483574400</td>\n      <td>1150.63</td>\n      <td>874.53</td>\n      <td>1135.41</td>\n      <td>240007.84</td>\n      <td>2.448393e+08</td>\n      <td>989.35</td>\n      <td>direct</td>\n      <td>NaN</td>\n      <td>2017-01-05 01:00:00</td>\n      <td>...</td>\n      <td>185170694</td>\n      <td>5645</td>\n      <td>10.392391</td>\n      <td>446804</td>\n      <td>2.204094e+06</td>\n      <td>3.176884e+11</td>\n      <td>619.057554</td>\n      <td>984196</td>\n      <td>1.608505e+07</td>\n      <td>-0.133741</td>\n    </tr>\n    <tr>\n      <th>...</th>\n      <td>...</td>\n      <td>...</td>\n      <td>...</td>\n      <td>...</td>\n      <td>...</td>\n      <td>...</td>\n      <td>...</td>\n      <td>...</td>\n      <td>...</td>\n      <td>...</td>\n      <td>...</td>\n      <td>...</td>\n      <td>...</td>\n      <td>...</td>\n      <td>...</td>\n      <td>...</td>\n      <td>...</td>\n      <td>...</td>\n      <td>...</td>\n      <td>...</td>\n      <td>...</td>\n    </tr>\n    <tr>\n      <th>2022-02-25</th>\n      <td>1645747200</td>\n      <td>39710.26</td>\n      <td>38043.51</td>\n      <td>38353.62</td>\n      <td>39454.29</td>\n      <td>1.536576e+09</td>\n      <td>39239.77</td>\n      <td>direct</td>\n      <td>NaN</td>\n      <td>2022-02-25 01:00:00</td>\n      <td>...</td>\n      <td>713408839</td>\n      <td>20994</td>\n      <td>16.606553</td>\n      <td>724939</td>\n      <td>1.855934e+08</td>\n      <td>2.796715e+13</td>\n      <td>647.210526</td>\n      <td>1293635</td>\n      <td>1.896846e+07</td>\n      <td>0.022805</td>\n    </tr>\n    <tr>\n      <th>2022-02-26</th>\n      <td>1645833600</td>\n      <td>40228.13</td>\n      <td>38605.65</td>\n      <td>39239.77</td>\n      <td>18649.99</td>\n      <td>7.329960e+08</td>\n      <td>39134.83</td>\n      <td>direct</td>\n      <td>NaN</td>\n      <td>2022-02-26 01:00:00</td>\n      <td>...</td>\n      <td>713629262</td>\n      <td>15948</td>\n      <td>14.187627</td>\n      <td>725064</td>\n      <td>1.788608e+08</td>\n      <td>2.796715e+13</td>\n      <td>671.572581</td>\n      <td>1165299</td>\n      <td>1.896916e+07</td>\n      <td>-0.002974</td>\n    </tr>\n    <tr>\n      <th>2022-02-27</th>\n      <td>1645920000</td>\n      <td>39861.91</td>\n      <td>37039.71</td>\n      <td>39134.83</td>\n      <td>30834.07</td>\n      <td>1.184510e+09</td>\n      <td>37714.96</td>\n      <td>direct</td>\n      <td>NaN</td>\n      <td>2022-02-27 01:00:00</td>\n      <td>...</td>\n      <td>713840426</td>\n      <td>16246</td>\n      <td>13.942912</td>\n      <td>725200</td>\n      <td>1.885508e+08</td>\n      <td>2.796715e+13</td>\n      <td>637.059259</td>\n      <td>1020711</td>\n      <td>1.897001e+07</td>\n      <td>-0.036581</td>\n    </tr>\n    <tr>\n      <th>2022-02-28</th>\n      <td>1646006400</td>\n      <td>43953.92</td>\n      <td>37473.30</td>\n      <td>37714.96</td>\n      <td>55323.43</td>\n      <td>2.231772e+09</td>\n      <td>43189.46</td>\n      <td>direct</td>\n      <td>NaN</td>\n      <td>2022-02-28 01:00:00</td>\n      <td>...</td>\n      <td>714111344</td>\n      <td>22854</td>\n      <td>15.953246</td>\n      <td>725354</td>\n      <td>2.148174e+08</td>\n      <td>2.796715e+13</td>\n      <td>559.163399</td>\n      <td>1168960</td>\n      <td>1.897102e+07</td>\n      <td>0.144555</td>\n    </tr>\n    <tr>\n      <th>2022-03-01</th>\n      <td>1646092800</td>\n      <td>44883.10</td>\n      <td>42893.50</td>\n      <td>43189.46</td>\n      <td>48462.11</td>\n      <td>2.121207e+09</td>\n      <td>44428.47</td>\n      <td>direct</td>\n      <td>NaN</td>\n      <td>2022-03-01 01:00:00</td>\n      <td>...</td>\n      <td>714391978</td>\n      <td>23689</td>\n      <td>17.772570</td>\n      <td>725516</td>\n      <td>2.265634e+08</td>\n      <td>2.796715e+13</td>\n      <td>530.173913</td>\n      <td>1282074</td>\n      <td>1.897204e+07</td>\n      <td>0.027588</td>\n    </tr>\n  </tbody>\n</table>\n<p>1886 rows × 26 columns</p>\n</div>"
     },
     "execution_count": 20,
     "metadata": {},
     "output_type": "execute_result"
    }
   ],
   "source": [
    "aggregate_data[\"BTC\"]"
   ],
   "metadata": {
    "collapsed": false,
    "pycharm": {
     "name": "#%%\n"
    }
   }
  },
  {
   "cell_type": "code",
   "execution_count": 21,
   "outputs": [
    {
     "data": {
      "text/plain": "678"
     },
     "execution_count": 21,
     "metadata": {},
     "output_type": "execute_result"
    }
   ],
   "source": [
    "len(aggregate_data)"
   ],
   "metadata": {
    "collapsed": false,
    "pycharm": {
     "name": "#%%\n"
    }
   }
  },
  {
   "cell_type": "markdown",
   "source": [
    "# Remove invalid coins\n",
    "\n",
    "- SMT has buggy supply variable (in the order of 10^56)\n",
    "- BOX has zero price almost everywhere"
   ],
   "metadata": {
    "collapsed": false,
    "pycharm": {
     "name": "#%% md\n"
    }
   }
  },
  {
   "cell_type": "code",
   "execution_count": 22,
   "outputs": [],
   "source": [
    "invalid_coins = [\"SMT\", \"BOX\", \"SHPING\", \"RLX\"]"
   ],
   "metadata": {
    "collapsed": false,
    "pycharm": {
     "name": "#%%\n"
    }
   }
  },
  {
   "cell_type": "markdown",
   "source": [
    "Categories based on https://coinmarketcap.com/cryptocurrency-category/"
   ],
   "metadata": {
    "collapsed": false,
    "pycharm": {
     "name": "#%% md\n"
    }
   }
  },
  {
   "cell_type": "markdown",
   "source": [
    "## Stablecoins"
   ],
   "metadata": {
    "collapsed": false,
    "pycharm": {
     "name": "#%% md\n"
    }
   }
  },
  {
   "cell_type": "code",
   "execution_count": 23,
   "outputs": [],
   "source": [
    "# https://coinmarketcap.com/view/usd-stablecoin/\n",
    "USDStablecoins = [\"USDT\", \"USDC\", \"BUSD\", \"DAI\", \"TUSD\", \"USDP\", \"USDD\", \"USDN\", \"USTC\", \"GUSD\", \"FRAX\", \"LUSD\", \"HUSD\", \"USDX\", \"SUSD\", \"VAI\", \"CUSD\", \"OUSD\", \"MUSD\", \"USDK\", \"EOSDT\", \"USDS\", \"USDP\", \"USDH\",  \"DOLA\", \"DUSD\", \"TOR\", \"ALUSD\", \"USDS\", \"XUSD\", \"ZUSD\"]\n",
    "invalid_coins.extend(USDStablecoins)\n",
    "\n",
    "# https://coinmarketcap.com/view/stablecoin/\n",
    "Stablecoins = [\"USDT\", \"USDC\", \"BUSD\", \"DAI\", \"TUSD\", \"USDP\", \"USDD\", \"USDN\", \"FEI\", \"USTC\", \"GUSD\"]\n",
    "invalid_coins.extend(Stablecoins)\n",
    "\n",
    "# https://coinmarketcap.com/view/eur-stablecoin/\n",
    "EURStablecoins = [\"EURS\", \"CEUR\", \"EURT\", \"SEUR\", \"PAR\", \"EEUR\", \"EUROS\"]\n",
    "invalid_coins.extend(EURStablecoins)\n",
    "\n",
    "# https://coinmarketcap.com/view/algorithmic-stablecoin/\n",
    "AlgoStablecoins = [\"USDD\", \"USDN\", \"FEI\", \"USTC\", \"TRIBE\", \"FRAX\", \"USDX\", \"SUSD\", \"CUSD\", \"AMPL\", \"CEUR\", \"PAR\", \"MIMATIC\", \"DUSD\", \"TOR\", \"USDS\", \"EUROS\", \"IUSDS\", \"USN\", \"USNBT\", \"SAI\", \"U8D\", \"YFLUSD\", \"zUSD\"]\n",
    "invalid_coins.extend(AlgoStablecoins)\n",
    "\n",
    "# https://coinmarketcap.com/view/tokenized-gold/\n",
    "TokenizedGold = [\"PAXG\", \"XAUT\", \"PMGT\", \"DGX\", \"AWG\"]\n",
    "invalid_coins.extend(TokenizedGold)\n",
    "\n",
    "# https://coinmarketcap.com/view/centralized-exchange/\n",
    "CentralizedExchange = [\"BNB\", \"LEO\", \"FTT\", \"CRO\", \"KCS\", \"OKB\", \"HT\", \"GT\", \"WOO\", \"LN\", \"MX\", \"WRX\", \"ASD\", \"WXT\", \"TKO\", \"LA\", \"BTSE\", \"BF\", \"BIR\", \"PROB\", \"BTR\", \"ONE\", \"OOE\", \"SCC\", \"EXM\", \"BIX\", \"WELL\", \"MAX\", \"TCH\", \"PTF\", \"COB\", \"DGTX\", \"BIT\", \"BKK\", \"BITCI\", \"NGC\", \"GDT\", \"TDX\", \"DFT\", \"BNS\", \"ZMT\", \"BEST\", \"TKX\", \"HTB\", \"BITO\", \"PLA\", \"BST\", \"THR\", \"RES\", \"BWB\", \"BAY\", \"OBITS\", \"LKK\", \"BLN\", \"CREDO\", \"XIN\", \"CNX\", \"BCO\", \"DEW\", \"SXDT\", \"LGO\", \"BNK\", \"ZB\", \"TIOX\", \"TOK\", \"NET\", \"BQQQ\", \"BHC\", \"SXC\", \"HBC\", \"ACXT\", \"MDXT\", \"EQO\", \"OVI\"]\n",
    "invalid_coins.extend(CentralizedExchange)\n",
    "\n",
    "# https://coinmarketcap.com/view/derivatives/\n",
    "Derivatives = [\"FTT\", \"SNX\", \"SRM\", \"UMA\", \"INJ\", \"DYDX\", \"XPRT\", \"PERP\", \"MNGO\", \"RBN\", \"VEGA\", \"CHESS\", \"MIR\", \"DDX\", \"SWTH\", \"MCB\", \"HEGIC\", \"MATTER\", \"FLX\", \"DERI\", \"OOE\", \"GOVI\", \"BNC\", \"HZN\", \"ODDZ\", \"WHITE\", \"HGET\", \"OPIUM\", \"JRT\", \"SAKE\", \"PTF\", \"DOWS\", \"AUC\", \"DGTX\", \"FNX\", \"GMX\", \"DPX\", \"PREMIA\", \"ETH2X-FLI\", \"GDT\", \"LIEN\", \"STF\", \"GFARM2\", \"SI\", \"DFT\", \"OIL\", \"RISQ\", \"LEV\", \"DEUS\", \"SYN\", \"DEA\", \"FFLY\", \"BTCDOM\", \"YOLO\", \"TBA\"]\n",
    "invalid_coins.extend(Derivatives)\n",
    "\n",
    "# https://coinmarketcap.com/view/wrapped-tokens/\n",
    "WrappedCoins = [\"WBTC\", \"WBNB\", \"RENBTC\", \"WNXM\", \"XTM\", \"WOA\", \"RENDOGE\", \"WCK\", \"RUNE\", \"WMATIC\", \"WHT\", \"WWAN\", \"RENZEC\", \"WXMR\", \"WBIND\", \"WLEO\", \"WVGO\", \"WCCX\", \"WZEC\", \"wCRES\", \"WCELO\", \"WSHIFT\", \"MAUSDC\", \"MAYFI\"]\n",
    "invalid_coins.extend(WrappedCoins)\n",
    "\n",
    "# https://coinmarketcap.com/view/options/\n",
    "OptionsTokens = [\"HEGIC\", \"MATTER\", \"DERI\", \"ODDZ\", \"HGET\", \"PTF\", \"AUC\", \"FNX\", \"PREMIA\", \"DPX\", \"LYRA\", \"SI\", \"RISQ\"]\n",
    "invalid_coins.extend(OptionsTokens)\n",
    "\n",
    "\n"
   ],
   "metadata": {
    "collapsed": false,
    "pycharm": {
     "name": "#%%\n"
    }
   }
  },
  {
   "cell_type": "code",
   "execution_count": 24,
   "outputs": [],
   "source": [
    "# Remove Coins that have a price of 0 for at least 10% of the observations after having had a nonzero price\n",
    "zero_price_coins = []\n",
    "for coin in aggregate_data.keys():\n",
    "    closeprice = aggregate_data[coin][\"close\"]\n",
    "    first_nonzero = (closeprice > 0).idxmax()\n",
    "    last_nonzero = (closeprice > 0)[::-1].idxmax()\n",
    "    if (closeprice.loc[first_nonzero:last_nonzero] == 0).sum() / len(closeprice.loc[first_nonzero:last_nonzero] == 0) > 0.1:\n",
    "        zero_price_coins.append(coin)\n",
    "\n",
    "invalid_coins.extend(zero_price_coins)"
   ],
   "metadata": {
    "collapsed": false,
    "pycharm": {
     "name": "#%%\n"
    }
   }
  },
  {
   "cell_type": "code",
   "execution_count": 25,
   "outputs": [
    {
     "data": {
      "text/plain": "49"
     },
     "execution_count": 25,
     "metadata": {},
     "output_type": "execute_result"
    }
   ],
   "source": [
    "len(zero_price_coins)"
   ],
   "metadata": {
    "collapsed": false,
    "pycharm": {
     "name": "#%%\n"
    }
   }
  },
  {
   "cell_type": "code",
   "execution_count": 26,
   "outputs": [],
   "source": [
    "# Remove coins where traded volume is 0 in more than 10% of days after having had a nonzero traded volume\n",
    "zero_volume_coins = []\n",
    "for coin in aggregate_data.keys():\n",
    "    volume = aggregate_data[coin][\"volumefrom\"]\n",
    "    first_nonzero = (volume > 0).idxmax()\n",
    "    last_nonzero = (volume > 0)[::-1].idxmax()\n",
    "    if (volume.loc[first_nonzero:last_nonzero] == 0).sum() / len(volume.loc[first_nonzero:last_nonzero]) > 0.1:\n",
    "        zero_volume_coins.append(coin)\n",
    "\n",
    "invalid_coins.extend(zero_volume_coins)"
   ],
   "metadata": {
    "collapsed": false,
    "pycharm": {
     "name": "#%%\n"
    }
   }
  },
  {
   "cell_type": "code",
   "execution_count": 27,
   "outputs": [
    {
     "data": {
      "text/plain": "325"
     },
     "execution_count": 27,
     "metadata": {},
     "output_type": "execute_result"
    }
   ],
   "source": [
    "len(zero_volume_coins)"
   ],
   "metadata": {
    "collapsed": false,
    "pycharm": {
     "name": "#%%\n"
    }
   }
  },
  {
   "cell_type": "code",
   "execution_count": 28,
   "outputs": [
    {
     "data": {
      "text/plain": "['SMT',\n 'BOX',\n 'SHPING',\n 'RLX',\n 'USDT',\n 'USDC',\n 'BUSD',\n 'DAI',\n 'TUSD',\n 'USDP',\n 'USDD',\n 'USDN',\n 'USTC',\n 'GUSD',\n 'FRAX',\n 'LUSD',\n 'HUSD',\n 'USDX',\n 'SUSD',\n 'VAI',\n 'CUSD',\n 'OUSD',\n 'MUSD',\n 'USDK',\n 'EOSDT',\n 'USDS',\n 'USDP',\n 'USDH',\n 'DOLA',\n 'DUSD',\n 'TOR',\n 'ALUSD',\n 'USDS',\n 'XUSD',\n 'ZUSD',\n 'USDT',\n 'USDC',\n 'BUSD',\n 'DAI',\n 'TUSD',\n 'USDP',\n 'USDD',\n 'USDN',\n 'FEI',\n 'USTC',\n 'GUSD',\n 'EURS',\n 'CEUR',\n 'EURT',\n 'SEUR',\n 'PAR',\n 'EEUR',\n 'EUROS',\n 'USDD',\n 'USDN',\n 'FEI',\n 'USTC',\n 'TRIBE',\n 'FRAX',\n 'USDX',\n 'SUSD',\n 'CUSD',\n 'AMPL',\n 'CEUR',\n 'PAR',\n 'MIMATIC',\n 'DUSD',\n 'TOR',\n 'USDS',\n 'EUROS',\n 'IUSDS',\n 'USN',\n 'USNBT',\n 'SAI',\n 'U8D',\n 'YFLUSD',\n 'zUSD',\n 'PAXG',\n 'XAUT',\n 'PMGT',\n 'DGX',\n 'AWG',\n 'BNB',\n 'LEO',\n 'FTT',\n 'CRO',\n 'KCS',\n 'OKB',\n 'HT',\n 'GT',\n 'WOO',\n 'LN',\n 'MX',\n 'WRX',\n 'ASD',\n 'WXT',\n 'TKO',\n 'LA',\n 'BTSE',\n 'BF',\n 'BIR',\n 'PROB',\n 'BTR',\n 'ONE',\n 'OOE',\n 'SCC',\n 'EXM',\n 'BIX',\n 'WELL',\n 'MAX',\n 'TCH',\n 'PTF',\n 'COB',\n 'DGTX',\n 'BIT',\n 'BKK',\n 'BITCI',\n 'NGC',\n 'GDT',\n 'TDX',\n 'DFT',\n 'BNS',\n 'ZMT',\n 'BEST',\n 'TKX',\n 'HTB',\n 'BITO',\n 'PLA',\n 'BST',\n 'THR',\n 'RES',\n 'BWB',\n 'BAY',\n 'OBITS',\n 'LKK',\n 'BLN',\n 'CREDO',\n 'XIN',\n 'CNX',\n 'BCO',\n 'DEW',\n 'SXDT',\n 'LGO',\n 'BNK',\n 'ZB',\n 'TIOX',\n 'TOK',\n 'NET',\n 'BQQQ',\n 'BHC',\n 'SXC',\n 'HBC',\n 'ACXT',\n 'MDXT',\n 'EQO',\n 'OVI',\n 'FTT',\n 'SNX',\n 'SRM',\n 'UMA',\n 'INJ',\n 'DYDX',\n 'XPRT',\n 'PERP',\n 'MNGO',\n 'RBN',\n 'VEGA',\n 'CHESS',\n 'MIR',\n 'DDX',\n 'SWTH',\n 'MCB',\n 'HEGIC',\n 'MATTER',\n 'FLX',\n 'DERI',\n 'OOE',\n 'GOVI',\n 'BNC',\n 'HZN',\n 'ODDZ',\n 'WHITE',\n 'HGET',\n 'OPIUM',\n 'JRT',\n 'SAKE',\n 'PTF',\n 'DOWS',\n 'AUC',\n 'DGTX',\n 'FNX',\n 'GMX',\n 'DPX',\n 'PREMIA',\n 'ETH2X-FLI',\n 'GDT',\n 'LIEN',\n 'STF',\n 'GFARM2',\n 'SI',\n 'DFT',\n 'OIL',\n 'RISQ',\n 'LEV',\n 'DEUS',\n 'SYN',\n 'DEA',\n 'FFLY',\n 'BTCDOM',\n 'YOLO',\n 'TBA',\n 'WBTC',\n 'WBNB',\n 'RENBTC',\n 'WNXM',\n 'XTM',\n 'WOA',\n 'RENDOGE',\n 'WCK',\n 'RUNE',\n 'WMATIC',\n 'WHT',\n 'WWAN',\n 'RENZEC',\n 'WXMR',\n 'WBIND',\n 'WLEO',\n 'WVGO',\n 'WCCX',\n 'WZEC',\n 'wCRES',\n 'WCELO',\n 'WSHIFT',\n 'MAUSDC',\n 'MAYFI',\n 'HEGIC',\n 'MATTER',\n 'DERI',\n 'ODDZ',\n 'HGET',\n 'PTF',\n 'AUC',\n 'FNX',\n 'PREMIA',\n 'DPX',\n 'LYRA',\n 'SI',\n 'RISQ',\n 'TRAK',\n 'TIG',\n 'WTL',\n 'RHOC',\n 'FREE',\n 'PPP',\n 'FAT',\n 'THR',\n 'STAC',\n 'RDC',\n 'PLAY',\n 'HBT',\n 'DAGT',\n 'BQTX',\n 'QNTU',\n 'ZXC',\n 'WETH',\n 'ARAW',\n 'WHEN',\n 'HPT',\n 'WEB',\n 'CEDEX',\n 'X8X',\n 'VZT',\n 'ETGP',\n 'HER',\n 'AGVC',\n 'NRP',\n 'XOV',\n 'MVL',\n '0XBTC',\n 'KUE',\n 'BEE',\n 'EARTH',\n 'TTV',\n 'HAND',\n 'FOXT',\n 'KWH',\n 'ACCN',\n 'EVED',\n 'SEELE',\n 'TMTG',\n 'SNIP',\n 'WBTC',\n 'TIOX',\n 'QCX',\n '1WO',\n 'XES',\n 'HERO',\n 'TRAK',\n 'BNN',\n 'TRCT',\n 'PSM',\n 'BUD',\n 'BTCRED',\n 'GEM',\n 'PARETO',\n 'TIG',\n 'GETX',\n 'SCC',\n 'CHX',\n 'ART',\n 'TKN',\n 'BITX',\n 'BEAT',\n 'EST',\n 'NOBS',\n 'NOAH',\n 'WTL',\n 'GSC',\n 'SENC',\n 'NANJ',\n 'TGAME',\n 'ENGT',\n 'YUP',\n 'FUNDZ',\n 'NBC',\n 'IHF',\n 'WT',\n 'CDX',\n 'IETH',\n 'TIE',\n 'BAAS',\n 'JOINT',\n 'MNTP',\n 'CRB',\n 'XCLR',\n 'BBO',\n 'EGCC',\n 'RHOC',\n 'FREE',\n 'PPP',\n 'ESS',\n 'MTRC',\n 'NAVI',\n 'CPY',\n 'VIT',\n 'FAT',\n 'THR',\n 'OPT',\n 'DAV',\n 'SAL',\n 'MIC',\n 'TDP',\n 'VSL',\n 'STAC',\n 'BQ',\n 'VIU',\n 'AIX',\n 'FLUZ',\n 'CSNO',\n 'BETHER',\n 'RDC',\n 'LND',\n 'ROBET',\n 'PLAY',\n 'SPANK',\n 'HBT',\n 'DRPU',\n 'CJT',\n 'LALA',\n 'ORI',\n 'GRMD',\n 'MRK',\n 'SWC',\n 'DAGT',\n 'REF',\n 'ECASH',\n 'BON',\n 'LIF',\n 'SKRB',\n 'ENTER',\n 'BQTX',\n 'METM',\n 'DICE',\n 'ETHOS',\n 'DIO',\n 'EMPH',\n 'DROP',\n 'AMLT',\n 'AVH',\n 'QNTU',\n 'ETHM',\n 'EXRN',\n 'XBX',\n 'ZXC',\n 'ING',\n 'WETH',\n 'WPR',\n 'ARAW',\n 'SNTR',\n 'PYN',\n 'RVT',\n 'WELL',\n 'RMESH',\n 'DPY',\n 'NPER',\n 'WHEN',\n 'HPT',\n 'CNX',\n 'ECHT',\n 'INXT',\n 'MXM',\n 'IG',\n 'IND',\n 'ETG',\n 'LGO',\n 'CSEN',\n 'LDC',\n 'SKIN',\n 'SPF',\n 'DRT',\n 'VEST',\n 'AUC',\n 'ZCN',\n 'CAR',\n 'SGN',\n 'WAND',\n 'HQT',\n 'SWARM',\n 'ONG',\n 'FDZ',\n 'WEB',\n 'BEZ',\n 'TRDT',\n 'ZIPT',\n 'CEDEX',\n 'FDX',\n 'X8X',\n 'SXDT',\n 'CMS',\n 'BTRN',\n 'MOT',\n 'CCO',\n 'VZT',\n 'ELTCOIN',\n 'ETGP',\n 'REBL',\n 'HER',\n 'MOAC',\n 'NEC',\n 'BPX',\n 'ITL',\n 'AGVC',\n 'GUP',\n 'KBC',\n 'LEV',\n 'NRG',\n 'NPX',\n 'NRP',\n 'MYB',\n '1ST',\n 'EQUAL',\n 'XOV',\n 'MVL',\n 'WCOIN',\n 'VERI',\n 'BZKY',\n 'CPAY',\n 'ALX',\n 'BCDT',\n 'BOUTS',\n 'CCCX',\n 'IXT',\n 'ARCT',\n 'ALIS',\n 'GVE',\n 'LEDU',\n '0XBTC',\n 'ERIS',\n 'EOSDAC',\n 'HGT',\n 'XNG',\n 'AVT',\n 'COT',\n 'STACS',\n 'HQX',\n 'COB',\n 'CLN',\n 'JSE',\n 'VME',\n 'LST',\n 'KUE',\n 'WIZ',\n 'MOLK',\n 'EBC',\n 'WRC',\n 'BEE',\n 'ICN',\n 'EARTH',\n 'SPX',\n 'TTV',\n 'HAND',\n 'GRID',\n 'FOXT',\n 'HSC',\n 'DEB',\n 'AWC',\n 'VOISE',\n 'XMX',\n 'ICHX',\n 'KWH',\n 'UTNP',\n 'GUESS',\n 'ETK',\n 'IVY',\n 'UFR',\n 'PXG',\n 'FLIK',\n 'PCO',\n 'XBB',\n 'AMO',\n 'ATM',\n 'ACCN',\n 'TBX',\n 'CBT',\n 'ATMI',\n 'EVED',\n 'DBET',\n 'OLE',\n 'IPSX',\n 'CREDO',\n 'AMN',\n 'TTC',\n 'SNOV',\n 'RTE',\n 'PLA',\n 'BOLTT',\n 'SEELE',\n 'ELY',\n 'IQN',\n 'ERO',\n 'ELITE',\n 'TMTG',\n 'STU',\n 'CSM',\n 'DTX',\n 'CEEK',\n 'CHP',\n 'THRT',\n 'DNA',\n 'DAN',\n 'ORS',\n 'DAX',\n 'OSA',\n 'DML',\n 'OIO',\n 'STASH',\n 'ETBS',\n 'ICON',\n 'RRC',\n 'SNIP',\n 'KIND',\n 'PRA',\n 'ISR',\n 'DAPS',\n 'DTRC',\n 'UDOO',\n 'BZNT',\n 'SUR',\n 'XPAT',\n 'LQDN',\n 'M2O',\n 'HUR',\n 'FTX',\n 'CRED',\n 'EXMR',\n 'ECOM',\n 'VIN',\n 'AIT',\n 'NPXS',\n 'PRIX',\n 'ERC20',\n 'HORSE',\n 'WISH',\n 'GAMB',\n 'CARD',\n 'WBTC',\n 'ESZ',\n 'TIOX',\n 'BTO',\n 'BWT',\n 'APIS',\n 'RNTB',\n 'ZPR',\n 'QCX',\n 'SXUT',\n 'UP',\n 'TGT',\n 'SCL',\n '1WO',\n 'SLT',\n 'DTH',\n 'FND',\n 'SNPC',\n 'FNTB',\n 'PRG',\n 'WYS',\n 'BRAT',\n 'PIX',\n 'WAB',\n 'BTCM',\n 'BZ',\n 'ARY',\n 'PYLNT',\n 'LOCI',\n 'CHT',\n 'MFG',\n 'BTCL',\n 'XES',\n 'HERO',\n 'METAL',\n 'IFT',\n 'REX']"
     },
     "execution_count": 28,
     "metadata": {},
     "output_type": "execute_result"
    }
   ],
   "source": [
    "invalid_coins"
   ],
   "metadata": {
    "collapsed": false,
    "pycharm": {
     "name": "#%%\n"
    }
   }
  },
  {
   "cell_type": "code",
   "execution_count": 29,
   "outputs": [
    {
     "name": "stdout",
     "output_type": "stream",
     "text": [
      "Coins that were removed: \n",
      "['SMT', 'BOX', 'SHPING', 'RLX', 'USDT', 'USDC', 'DAI', 'TUSD', 'GUSD', 'SUSD', 'USDS', 'EURS', 'DGX', 'FTT', 'CRO', 'KCS', 'OKB', 'HT', 'LA', 'SCC', 'BIX', 'WELL', 'COB', 'DGTX', 'NGC', 'PLA', 'THR', 'CREDO', 'CNX', 'SXDT', 'LGO', 'BNK', 'TIOX', 'SNX', 'AUC', 'LEV', 'WBTC', 'TRAK', 'TIG', 'WTL', 'RHOC', 'FREE', 'PPP', 'FAT', 'STAC', 'RDC', 'PLAY', 'HBT', 'DAGT', 'BQTX', 'QNTU', 'ZXC', 'WETH', 'ARAW', 'WHEN', 'HPT', 'WEB', 'CEDEX', 'X8X', 'VZT', 'ETGP', 'HER', 'AGVC', 'NRP', 'XOV', 'MVL', '0XBTC', 'KUE', 'BEE', 'EARTH', 'TTV', 'HAND', 'FOXT', 'KWH', 'ACCN', 'EVED', 'SEELE', 'TMTG', 'SNIP', 'QCX', '1WO', 'XES', 'HERO', 'BNN', 'TRCT', 'PSM', 'BUD', 'BTCRED', 'GEM', 'PARETO', 'GETX', 'CHX', 'ART', 'TKN', 'BITX', 'BEAT', 'EST', 'NOBS', 'NOAH', 'GSC', 'SENC', 'NANJ', 'TGAME', 'ENGT', 'YUP', 'FUNDZ', 'NBC', 'IHF', 'WT', 'CDX', 'IETH', 'TIE', 'BAAS', 'JOINT', 'MNTP', 'CRB', 'XCLR', 'BBO', 'EGCC', 'ESS', 'MTRC', 'NAVI', 'CPY', 'VIT', 'OPT', 'DAV', 'SAL', 'MIC', 'TDP', 'VSL', 'BQ', 'VIU', 'AIX', 'FLUZ', 'CSNO', 'BETHER', 'LND', 'ROBET', 'SPANK', 'DRPU', 'CJT', 'LALA', 'ORI', 'GRMD', 'MRK', 'SWC', 'REF', 'ECASH', 'BON', 'LIF', 'SKRB', 'ENTER', 'METM', 'DICE', 'ETHOS', 'DIO', 'EMPH', 'DROP', 'AMLT', 'AVH', 'ETHM', 'EXRN', 'XBX', 'ING', 'WPR', 'SNTR', 'PYN', 'RVT', 'RMESH', 'DPY', 'NPER', 'ECHT', 'INXT', 'MXM', 'IG', 'IND', 'ETG', 'CSEN', 'LDC', 'SKIN', 'SPF', 'DRT', 'VEST', 'ZCN', 'CAR', 'SGN', 'WAND', 'HQT', 'SWARM', 'ONG', 'FDZ', 'BEZ', 'TRDT', 'ZIPT', 'FDX', 'CMS', 'BTRN', 'MOT', 'CCO', 'ELTCOIN', 'REBL', 'MOAC', 'NEC', 'BPX', 'ITL', 'GUP', 'KBC', 'NRG', 'NPX', 'MYB', '1ST', 'EQUAL', 'WCOIN', 'VERI', 'BZKY', 'CPAY', 'ALX', 'BCDT', 'BOUTS', 'CCCX', 'IXT', 'ARCT', 'ALIS', 'GVE', 'LEDU', 'ERIS', 'EOSDAC', 'HGT', 'XNG', 'AVT', 'COT', 'STACS', 'HQX', 'CLN', 'JSE', 'VME', 'LST', 'WIZ', 'MOLK', 'EBC', 'WRC', 'ICN', 'SPX', 'GRID', 'HSC', 'DEB', 'AWC', 'VOISE', 'XMX', 'ICHX', 'UTNP', 'GUESS', 'ETK', 'IVY', 'UFR', 'PXG', 'FLIK', 'PCO', 'XBB', 'AMO', 'ATM', 'TBX', 'CBT', 'ATMI', 'DBET', 'OLE', 'IPSX', 'AMN', 'TTC', 'SNOV', 'RTE', 'BOLTT', 'ELY', 'IQN', 'ERO', 'ELITE', 'STU', 'CSM', 'DTX', 'CEEK', 'CHP', 'THRT', 'DNA', 'DAN', 'ORS', 'DAX', 'OSA', 'DML', 'OIO', 'STASH', 'ETBS', 'ICON', 'RRC', 'KIND', 'PRA', 'ISR', 'DAPS', 'DTRC', 'UDOO', 'BZNT', 'SUR', 'XPAT', 'LQDN', 'M2O', 'HUR', 'FTX', 'CRED', 'EXMR', 'ECOM', 'VIN', 'AIT', 'NPXS', 'PRIX', 'ERC20', 'HORSE', 'WISH', 'GAMB', 'CARD', 'ESZ', 'BTO', 'BWT', 'APIS', 'RNTB', 'ZPR', 'SXUT', 'UP', 'TGT', 'SCL', 'SLT', 'DTH', 'FND', 'SNPC', 'FNTB', 'PRG', 'WYS', 'BRAT', 'PIX', 'WAB', 'BTCM', 'BZ', 'ARY', 'PYLNT', 'LOCI', 'CHT', 'MFG', 'BTCL', 'METAL', 'IFT', 'REX']\n",
      "Coins that were not part of the data: \n",
      "['BUSD', 'USDP', 'USDD', 'USDN', 'USTC', 'FRAX', 'LUSD', 'HUSD', 'USDX', 'VAI', 'CUSD', 'OUSD', 'MUSD', 'USDK', 'EOSDT', 'USDP', 'USDH', 'DOLA', 'DUSD', 'TOR', 'ALUSD', 'USDS', 'XUSD', 'ZUSD', 'USDT', 'USDC', 'BUSD', 'DAI', 'TUSD', 'USDP', 'USDD', 'USDN', 'FEI', 'USTC', 'GUSD', 'CEUR', 'EURT', 'SEUR', 'PAR', 'EEUR', 'EUROS', 'USDD', 'USDN', 'FEI', 'USTC', 'TRIBE', 'FRAX', 'USDX', 'SUSD', 'CUSD', 'AMPL', 'CEUR', 'PAR', 'MIMATIC', 'DUSD', 'TOR', 'USDS', 'EUROS', 'IUSDS', 'USN', 'USNBT', 'SAI', 'U8D', 'YFLUSD', 'zUSD', 'PAXG', 'XAUT', 'PMGT', 'AWG', 'BNB', 'LEO', 'GT', 'WOO', 'LN', 'MX', 'WRX', 'ASD', 'WXT', 'TKO', 'BTSE', 'BF', 'BIR', 'PROB', 'BTR', 'ONE', 'OOE', 'EXM', 'MAX', 'TCH', 'PTF', 'BIT', 'BKK', 'BITCI', 'GDT', 'TDX', 'DFT', 'BNS', 'ZMT', 'BEST', 'TKX', 'HTB', 'BITO', 'BST', 'RES', 'BWB', 'BAY', 'OBITS', 'LKK', 'BLN', 'XIN', 'BCO', 'DEW', 'ZB', 'TOK', 'NET', 'BQQQ', 'BHC', 'SXC', 'HBC', 'ACXT', 'MDXT', 'EQO', 'OVI', 'FTT', 'SRM', 'UMA', 'INJ', 'DYDX', 'XPRT', 'PERP', 'MNGO', 'RBN', 'VEGA', 'CHESS', 'MIR', 'DDX', 'SWTH', 'MCB', 'HEGIC', 'MATTER', 'FLX', 'DERI', 'OOE', 'GOVI', 'BNC', 'HZN', 'ODDZ', 'WHITE', 'HGET', 'OPIUM', 'JRT', 'SAKE', 'PTF', 'DOWS', 'DGTX', 'FNX', 'GMX', 'DPX', 'PREMIA', 'ETH2X-FLI', 'GDT', 'LIEN', 'STF', 'GFARM2', 'SI', 'DFT', 'OIL', 'RISQ', 'DEUS', 'SYN', 'DEA', 'FFLY', 'BTCDOM', 'YOLO', 'TBA', 'WBNB', 'RENBTC', 'WNXM', 'XTM', 'WOA', 'RENDOGE', 'WCK', 'RUNE', 'WMATIC', 'WHT', 'WWAN', 'RENZEC', 'WXMR', 'WBIND', 'WLEO', 'WVGO', 'WCCX', 'WZEC', 'wCRES', 'WCELO', 'WSHIFT', 'MAUSDC', 'MAYFI', 'HEGIC', 'MATTER', 'DERI', 'ODDZ', 'HGET', 'PTF', 'AUC', 'FNX', 'PREMIA', 'DPX', 'LYRA', 'SI', 'RISQ', 'THR', 'WBTC', 'TIOX', 'TRAK', 'TIG', 'SCC', 'WTL', 'RHOC', 'FREE', 'PPP', 'FAT', 'THR', 'STAC', 'RDC', 'PLAY', 'HBT', 'DAGT', 'BQTX', 'QNTU', 'ZXC', 'WETH', 'ARAW', 'WELL', 'WHEN', 'HPT', 'CNX', 'LGO', 'AUC', 'WEB', 'CEDEX', 'X8X', 'SXDT', 'VZT', 'ETGP', 'HER', 'AGVC', 'LEV', 'NRP', 'XOV', 'MVL', '0XBTC', 'COB', 'KUE', 'BEE', 'EARTH', 'TTV', 'HAND', 'FOXT', 'KWH', 'ACCN', 'EVED', 'CREDO', 'PLA', 'SEELE', 'TMTG', 'SNIP', 'WBTC', 'TIOX', 'QCX', '1WO', 'XES', 'HERO']\n"
     ]
    }
   ],
   "source": [
    "removed = []\n",
    "notindata = []\n",
    "for coin in invalid_coins:\n",
    "    try:\n",
    "        aggregate_data.pop(coin)\n",
    "    except:\n",
    "        notindata.append(coin)\n",
    "    else:\n",
    "        removed.append(coin)\n",
    "\n",
    "print(\"Coins that were removed: \")\n",
    "print(removed)\n",
    "print(\"Coins that were not part of the data: \")\n",
    "print(notindata)\n"
   ],
   "metadata": {
    "collapsed": false,
    "pycharm": {
     "name": "#%%\n"
    }
   }
  },
  {
   "cell_type": "code",
   "execution_count": 30,
   "outputs": [
    {
     "data": {
      "text/plain": "329"
     },
     "execution_count": 30,
     "metadata": {},
     "output_type": "execute_result"
    }
   ],
   "source": [
    "len(aggregate_data)"
   ],
   "metadata": {
    "collapsed": false,
    "pycharm": {
     "name": "#%%\n"
    }
   }
  },
  {
   "cell_type": "markdown",
   "source": [
    "# Volume\n",
    "\n",
    "The total dollar amount of native tokens transferred across wallets within and across centralised exchanges."
   ],
   "metadata": {
    "collapsed": false,
    "pycharm": {
     "name": "#%% md\n"
    }
   }
  },
  {
   "cell_type": "code",
   "execution_count": 31,
   "outputs": [],
   "source": [
    "for key in aggregate_data.keys():\n",
    "    df = aggregate_data[key].copy()\n",
    "    df[\"volume\"] = df[\"volumefrom\"] * df[\"close\"]\n",
    "    aggregate_data[key] = df"
   ],
   "metadata": {
    "collapsed": false,
    "pycharm": {
     "name": "#%%\n"
    }
   }
  },
  {
   "cell_type": "markdown",
   "source": [
    "# Data fixes"
   ],
   "metadata": {
    "collapsed": false,
    "pycharm": {
     "name": "#%% md\n"
    }
   }
  },
  {
   "cell_type": "code",
   "execution_count": 32,
   "outputs": [],
   "source": [
    "# First data fix: remove returns at days when traded volume is 0 or when price is 0\n",
    "\n",
    "\n",
    "for df in aggregate_data.values():\n",
    "    df[\"exclude_testing\"] = False\n",
    "    df[\"exclude_training_and_testing\"] = np.isnan(df[\"daily excess return\"])\n",
    "\n",
    "    zero_volume = df[\"volume\"] < 0.1\n",
    "    zero_volume_next_day = zero_volume.shift(1).replace(np.NaN, False)\n",
    "    df.loc[zero_volume, \"daily excess return\"] = 0\n",
    "    df.loc[zero_volume, \"exclude_training_and_testing\"] = True\n",
    "\n",
    "\n",
    "    # Also remove next day because prices on days with zero volume get REALLY weird so we want to exclude returns\n",
    "    # that are calculated using these prices\n",
    "    df.loc[zero_volume_next_day, \"daily excess return\"] = 0\n",
    "    df.loc[zero_volume_next_day, \"exclude_training_and_testing\"] = True\n",
    "\n",
    "\n",
    "    # Same for prices\n",
    "    zero_price = df[\"close\"] == 0\n",
    "    zero_price_next_day = zero_price.shift(1).replace(np.NaN, False)\n",
    "    df.loc[zero_price, \"daily excess return\"] = 0\n",
    "    df.loc[zero_price, \"exclude_training_and_testing\"] = True\n",
    "    df.loc[zero_price_next_day, \"daily excess return\"] = 0\n",
    "    df.loc[zero_price_next_day, \"exclude_training_and_testing\"] = True\n",
    "\n",
    "# Second data fix: remove extreme returns due to change of conversion type / symbol\n",
    "# Apply same logic for close prices for the sake of feature engineering\n",
    "\n",
    "for df in aggregate_data.values():\n",
    "\n",
    "    extreme_days = df[(df[\"daily excess return\"] > 2) | (df[\"daily excess return\"] < 1/3 - 1)].index\n",
    "    days_before = df[((df[\"daily excess return\"] > 2) | (df[\"daily excess return\"] < 1/3 - 1)).shift(-1).replace(np.NaN, False)].index\n",
    "    days_after = df[((df[\"daily excess return\"] > 2) | (df[\"daily excess return\"] < 1/3 - 1)).shift(1).replace(np.NaN, False)].index\n",
    "\n",
    "    if len(extreme_days) > 0:\n",
    "        for (extreme_day, day_before, day_after) in zip(extreme_days, days_before, days_after):\n",
    "            if (df.loc[extreme_day, \"conversionType\"] != df.loc[day_before, \"conversionType\"]) \\\n",
    "                    and (df.loc[extreme_day, \"conversionType\"] == df.loc[day_after, \"conversionType\"]):\n",
    "                # Fix return\n",
    "                df.loc[extreme_day, \"daily excess return\"] = (df.loc[day_before, \"daily excess return\"] +\n",
    "                                                                df.loc[day_after, \"daily excess return\"]) / 2\n",
    "                # Fix price\n",
    "                df.loc[extreme_day, \"open\"] = df.loc[day_before, \"open\"] * (1 + df.loc[extreme_day, \"daily excess return\"])\n",
    "                df.loc[extreme_day, \"close\"] = df.loc[day_before, \"close\"] * (1 + df.loc[extreme_day, \"daily excess return\"])\n",
    "                df.loc[extreme_day, \"high\"] = df.loc[day_before, \"high\"] * (1 + df.loc[extreme_day, \"daily excess return\"])\n",
    "                df.loc[extreme_day, \"low\"] = df.loc[day_before, \"low\"] * (1 + df.loc[extreme_day, \"daily excess return\"])\n",
    "                # Note that a data fix occurred\n",
    "                df.loc[extreme_day, \"exclude_testing\"] = True\n",
    "\n",
    "            elif (df.loc[extreme_day, \"conversionType\"] != df.loc[day_before, \"conversionType\"]) \\\n",
    "                    and (df.loc[extreme_day, \"conversionType\"] != df.loc[day_after, \"conversionType\"]):\n",
    "                df.loc[extreme_day, \"daily excess return\"] = np.sqrt(\n",
    "                    df.loc[day_after, \"close\"] / df.loc[day_before, \"close\"])\n",
    "                df.loc[extreme_day, \"open\"] = df.loc[day_before, \"open\"] * (1 + df.loc[extreme_day, \"daily excess return\"])\n",
    "                df.loc[extreme_day, \"close\"] = df.loc[day_before, \"close\"] * (1 + df.loc[extreme_day, \"daily excess return\"])\n",
    "                df.loc[extreme_day, \"high\"] = df.loc[day_before, \"high\"] * (1 + df.loc[extreme_day, \"daily excess return\"])\n",
    "                df.loc[extreme_day, \"low\"] = df.loc[day_before, \"low\"] * (1 + df.loc[extreme_day, \"daily excess return\"])\n",
    "                df.loc[extreme_day, \"exclude_testing\"] = True\n",
    "\n",
    "\n",
    "\n"
   ],
   "metadata": {
    "collapsed": false,
    "pycharm": {
     "name": "#%%\n"
    }
   }
  },
  {
   "cell_type": "code",
   "execution_count": 33,
   "outputs": [
    {
     "data": {
      "text/plain": "329"
     },
     "execution_count": 33,
     "metadata": {},
     "output_type": "execute_result"
    }
   ],
   "source": [
    "len(aggregate_data)"
   ],
   "metadata": {
    "collapsed": false,
    "pycharm": {
     "name": "#%%\n"
    }
   }
  },
  {
   "cell_type": "markdown",
   "source": [
    "# new add.\n",
    "\n",
    "\"The number of unique addresses that appeared for the first time in a transaction of the native coin in the network. Liu et al. (2021) provide some preliminary evidence on the predictive content of new addresses for cryptocurrency returns.\"\n",
    "\n",
    "Given in the \"new_addresses\" column of  `blockchain_data`"
   ],
   "metadata": {
    "collapsed": false,
    "pycharm": {
     "name": "#%% md\n"
    }
   }
  },
  {
   "cell_type": "markdown",
   "source": [
    "# active add.\n",
    "\n",
    "\"The number of unique addresses that were active in the network either as a sender or receiver. Only addresses that were active in successful transactions are counted. As highlighted by Pagnotta and Buraschi (2018) such statistics approximate the network growth and the adoption base for a given cryptocurrency.\n",
    "\n",
    "Given in the \"active_addresses\" column of  `blockchain_data`"
   ],
   "metadata": {
    "collapsed": false,
    "pycharm": {
     "name": "#%% md\n"
    }
   }
  },
  {
   "cell_type": "markdown",
   "source": [
    "# bm.\n",
    "\n",
    "The \"network-to-market value\". This is calculated as the cumulative number of unique addresses over the current available supply times the current USD price. The current available supply is calculated as the current supply minus the coins that have been burned. As suggested in Pagnotta and Buraschi (2018), the number of unique addresses represents a proxy for the fundamental value of a cryptocurrency. By dividing such value over the actual market value one can obtain a crude approximation of a valuation ratio."
   ],
   "metadata": {
    "collapsed": false,
    "pycharm": {
     "name": "#%% md\n"
    }
   }
  },
  {
   "cell_type": "code",
   "execution_count": 34,
   "outputs": [],
   "source": [
    "for key in aggregate_data.keys():\n",
    "    df = aggregate_data[key].copy()\n",
    "    df[\"bm\"] = df[\"unique_addresses_all_time\"] / (df[\"current_supply\"] * df[\"close\"])\n",
    "    aggregate_data[key] = df"
   ],
   "metadata": {
    "collapsed": false,
    "pycharm": {
     "name": "#%%\n"
    }
   }
  },
  {
   "cell_type": "markdown",
   "source": [
    "# size.\n",
    "\n",
    "The market capitalization is defined as the product of the current available supply times the current USD price (see, e.g., Liu et al., 2022). The current available supply is calculated as the current supply minus the coins that have been burned. This definition follows the blueprint in Fama and French (1993)."
   ],
   "metadata": {
    "collapsed": false,
    "pycharm": {
     "name": "#%% md\n"
    }
   }
  },
  {
   "cell_type": "code",
   "execution_count": 35,
   "outputs": [],
   "source": [
    "for key in aggregate_data.keys():\n",
    "    df = aggregate_data[key].copy()\n",
    "    df[\"size\"] = df[\"current_supply\"] * df[\"close\"]\n",
    "    aggregate_data[key] = df"
   ],
   "metadata": {
    "collapsed": false,
    "pycharm": {
     "name": "#%%\n"
    }
   }
  },
  {
   "cell_type": "code",
   "execution_count": 36,
   "outputs": [],
   "source": [
    "# Check coins that have volumefrom > size\n",
    "# Conservative check for \"fake\" volumes\n",
    "for key in aggregate_data.keys():\n",
    "    df = aggregate_data[key].copy()\n",
    "    df[\"exclude_training_and_testing\"] = (df[\"volume\"]) > df[\"size\"]\n",
    "    aggregate_data[key] = df\n",
    "\n"
   ],
   "metadata": {
    "collapsed": false,
    "pycharm": {
     "name": "#%%\n"
    }
   }
  },
  {
   "cell_type": "code",
   "execution_count": 36,
   "outputs": [],
   "source": [],
   "metadata": {
    "collapsed": false,
    "pycharm": {
     "name": "#%%\n"
    }
   }
  },
  {
   "cell_type": "code",
   "execution_count": 37,
   "outputs": [],
   "source": [
    "ratios = pd.DataFrame([aggregate_data[key][\"volume\"]  / aggregate_data[key][\"size\"] for key in aggregate_data.keys()])"
   ],
   "metadata": {
    "collapsed": false,
    "pycharm": {
     "name": "#%%\n"
    }
   }
  },
  {
   "cell_type": "code",
   "execution_count": 38,
   "outputs": [
    {
     "data": {
      "text/plain": "0.001759229618"
     },
     "execution_count": 38,
     "metadata": {},
     "output_type": "execute_result"
    }
   ],
   "source": [
    "np.nanmedian(ratios)"
   ],
   "metadata": {
    "collapsed": false,
    "pycharm": {
     "name": "#%%\n"
    }
   }
  },
  {
   "cell_type": "code",
   "execution_count": 39,
   "outputs": [
    {
     "data": {
      "text/plain": "329"
     },
     "execution_count": 39,
     "metadata": {},
     "output_type": "execute_result"
    }
   ],
   "source": [
    "len(aggregate_data)"
   ],
   "metadata": {
    "collapsed": false,
    "pycharm": {
     "name": "#%%\n"
    }
   }
  },
  {
   "cell_type": "markdown",
   "source": [
    "# illiq.\n",
    "\n",
    "We follow Amihud (2002) and calculate a price impact (illiquidity) measure as the ratio between the absolute value of the cumulative intraday returns and the aggregate daily trading volume expressed in \\$.\n",
    "\n"
   ],
   "metadata": {
    "collapsed": false,
    "pycharm": {
     "name": "#%% md\n"
    }
   }
  },
  {
   "cell_type": "code",
   "execution_count": 40,
   "outputs": [
    {
     "name": "stderr",
     "output_type": "stream",
     "text": [
      "  0%|          | 0/329 [00:00<?, ?it/s]/var/folders/13/d37n485s17n292n_3yvvjbw00000gn/T/ipykernel_27360/2617900055.py:7: RuntimeWarning: divide by zero encountered in log\n",
      "  df.loc[id, \"illiq\"] =  np.log(abs(1 - x/y)) / z\n",
      "/var/folders/13/d37n485s17n292n_3yvvjbw00000gn/T/ipykernel_27360/2617900055.py:7: RuntimeWarning: divide by zero encountered in log\n",
      "  df.loc[id, \"illiq\"] =  np.log(abs(1 - x/y)) / z\n",
      "  1%|          | 2/329 [00:00<00:33,  9.81it/s]/var/folders/13/d37n485s17n292n_3yvvjbw00000gn/T/ipykernel_27360/2617900055.py:7: RuntimeWarning: divide by zero encountered in log\n",
      "  df.loc[id, \"illiq\"] =  np.log(abs(1 - x/y)) / z\n",
      "  1%|          | 3/329 [00:00<00:33,  9.66it/s]/var/folders/13/d37n485s17n292n_3yvvjbw00000gn/T/ipykernel_27360/2617900055.py:7: RuntimeWarning: divide by zero encountered in log\n",
      "  df.loc[id, \"illiq\"] =  np.log(abs(1 - x/y)) / z\n",
      "  1%|          | 4/329 [00:00<00:33,  9.63it/s]/var/folders/13/d37n485s17n292n_3yvvjbw00000gn/T/ipykernel_27360/2617900055.py:7: RuntimeWarning: divide by zero encountered in log\n",
      "  df.loc[id, \"illiq\"] =  np.log(abs(1 - x/y)) / z\n",
      "/var/folders/13/d37n485s17n292n_3yvvjbw00000gn/T/ipykernel_27360/2617900055.py:7: RuntimeWarning: divide by zero encountered in log\n",
      "  df.loc[id, \"illiq\"] =  np.log(abs(1 - x/y)) / z\n",
      "  2%|▏         | 6/329 [00:00<00:32, 10.08it/s]/var/folders/13/d37n485s17n292n_3yvvjbw00000gn/T/ipykernel_27360/2617900055.py:7: RuntimeWarning: divide by zero encountered in log\n",
      "  df.loc[id, \"illiq\"] =  np.log(abs(1 - x/y)) / z\n",
      "  2%|▏         | 7/329 [00:00<00:34,  9.23it/s]/var/folders/13/d37n485s17n292n_3yvvjbw00000gn/T/ipykernel_27360/2617900055.py:7: RuntimeWarning: divide by zero encountered in log\n",
      "  df.loc[id, \"illiq\"] =  np.log(abs(1 - x/y)) / z\n",
      "/var/folders/13/d37n485s17n292n_3yvvjbw00000gn/T/ipykernel_27360/2617900055.py:7: RuntimeWarning: divide by zero encountered in log\n",
      "  df.loc[id, \"illiq\"] =  np.log(abs(1 - x/y)) / z\n",
      "  3%|▎         | 9/329 [00:00<00:34,  9.29it/s]/var/folders/13/d37n485s17n292n_3yvvjbw00000gn/T/ipykernel_27360/2617900055.py:7: RuntimeWarning: divide by zero encountered in log\n",
      "  df.loc[id, \"illiq\"] =  np.log(abs(1 - x/y)) / z\n",
      "  3%|▎         | 10/329 [00:01<00:34,  9.28it/s]/var/folders/13/d37n485s17n292n_3yvvjbw00000gn/T/ipykernel_27360/2617900055.py:7: RuntimeWarning: divide by zero encountered in log\n",
      "  df.loc[id, \"illiq\"] =  np.log(abs(1 - x/y)) / z\n",
      "  3%|▎         | 11/329 [00:01<00:36,  8.67it/s]/var/folders/13/d37n485s17n292n_3yvvjbw00000gn/T/ipykernel_27360/2617900055.py:7: RuntimeWarning: divide by zero encountered in log\n",
      "  df.loc[id, \"illiq\"] =  np.log(abs(1 - x/y)) / z\n",
      "  4%|▍         | 13/329 [00:01<00:35,  8.85it/s]/var/folders/13/d37n485s17n292n_3yvvjbw00000gn/T/ipykernel_27360/2617900055.py:7: RuntimeWarning: divide by zero encountered in log\n",
      "  df.loc[id, \"illiq\"] =  np.log(abs(1 - x/y)) / z\n",
      "  4%|▍         | 14/329 [00:01<00:35,  8.93it/s]/var/folders/13/d37n485s17n292n_3yvvjbw00000gn/T/ipykernel_27360/2617900055.py:7: RuntimeWarning: divide by zero encountered in log\n",
      "  df.loc[id, \"illiq\"] =  np.log(abs(1 - x/y)) / z\n",
      "/var/folders/13/d37n485s17n292n_3yvvjbw00000gn/T/ipykernel_27360/2617900055.py:7: RuntimeWarning: divide by zero encountered in log\n",
      "  df.loc[id, \"illiq\"] =  np.log(abs(1 - x/y)) / z\n",
      "  5%|▍         | 16/329 [00:01<00:33,  9.39it/s]/var/folders/13/d37n485s17n292n_3yvvjbw00000gn/T/ipykernel_27360/2617900055.py:7: RuntimeWarning: divide by zero encountered in log\n",
      "  df.loc[id, \"illiq\"] =  np.log(abs(1 - x/y)) / z\n",
      "  5%|▌         | 18/329 [00:01<00:35,  8.88it/s]/var/folders/13/d37n485s17n292n_3yvvjbw00000gn/T/ipykernel_27360/2617900055.py:7: RuntimeWarning: divide by zero encountered in log\n",
      "  df.loc[id, \"illiq\"] =  np.log(abs(1 - x/y)) / z\n",
      "  6%|▌         | 20/329 [00:02<00:30, 10.03it/s]/var/folders/13/d37n485s17n292n_3yvvjbw00000gn/T/ipykernel_27360/2617900055.py:7: RuntimeWarning: divide by zero encountered in log\n",
      "  df.loc[id, \"illiq\"] =  np.log(abs(1 - x/y)) / z\n",
      "/var/folders/13/d37n485s17n292n_3yvvjbw00000gn/T/ipykernel_27360/2617900055.py:7: RuntimeWarning: divide by zero encountered in log\n",
      "  df.loc[id, \"illiq\"] =  np.log(abs(1 - x/y)) / z\n",
      "  7%|▋         | 22/329 [00:02<00:29, 10.32it/s]/var/folders/13/d37n485s17n292n_3yvvjbw00000gn/T/ipykernel_27360/2617900055.py:7: RuntimeWarning: divide by zero encountered in log\n",
      "  df.loc[id, \"illiq\"] =  np.log(abs(1 - x/y)) / z\n",
      "/var/folders/13/d37n485s17n292n_3yvvjbw00000gn/T/ipykernel_27360/2617900055.py:7: RuntimeWarning: divide by zero encountered in log\n",
      "  df.loc[id, \"illiq\"] =  np.log(abs(1 - x/y)) / z\n",
      "  7%|▋         | 24/329 [00:02<00:31,  9.57it/s]/var/folders/13/d37n485s17n292n_3yvvjbw00000gn/T/ipykernel_27360/2617900055.py:7: RuntimeWarning: divide by zero encountered in log\n",
      "  df.loc[id, \"illiq\"] =  np.log(abs(1 - x/y)) / z\n",
      "/var/folders/13/d37n485s17n292n_3yvvjbw00000gn/T/ipykernel_27360/2617900055.py:7: RuntimeWarning: divide by zero encountered in log\n",
      "  df.loc[id, \"illiq\"] =  np.log(abs(1 - x/y)) / z\n",
      "  8%|▊         | 26/329 [00:02<00:27, 11.03it/s]/var/folders/13/d37n485s17n292n_3yvvjbw00000gn/T/ipykernel_27360/2617900055.py:7: RuntimeWarning: divide by zero encountered in log\n",
      "  df.loc[id, \"illiq\"] =  np.log(abs(1 - x/y)) / z\n",
      "/var/folders/13/d37n485s17n292n_3yvvjbw00000gn/T/ipykernel_27360/2617900055.py:7: RuntimeWarning: divide by zero encountered in log\n",
      "  df.loc[id, \"illiq\"] =  np.log(abs(1 - x/y)) / z\n",
      "  9%|▊         | 28/329 [00:02<00:27, 11.12it/s]/var/folders/13/d37n485s17n292n_3yvvjbw00000gn/T/ipykernel_27360/2617900055.py:7: RuntimeWarning: divide by zero encountered in log\n",
      "  df.loc[id, \"illiq\"] =  np.log(abs(1 - x/y)) / z\n",
      "  9%|▉         | 30/329 [00:02<00:24, 11.96it/s]/var/folders/13/d37n485s17n292n_3yvvjbw00000gn/T/ipykernel_27360/2617900055.py:7: RuntimeWarning: divide by zero encountered in log\n",
      "  df.loc[id, \"illiq\"] =  np.log(abs(1 - x/y)) / z\n",
      "/var/folders/13/d37n485s17n292n_3yvvjbw00000gn/T/ipykernel_27360/2617900055.py:7: RuntimeWarning: divide by zero encountered in log\n",
      "  df.loc[id, \"illiq\"] =  np.log(abs(1 - x/y)) / z\n",
      " 10%|▉         | 32/329 [00:03<00:27, 10.94it/s]/var/folders/13/d37n485s17n292n_3yvvjbw00000gn/T/ipykernel_27360/2617900055.py:7: RuntimeWarning: divide by zero encountered in log\n",
      "  df.loc[id, \"illiq\"] =  np.log(abs(1 - x/y)) / z\n",
      "/var/folders/13/d37n485s17n292n_3yvvjbw00000gn/T/ipykernel_27360/2617900055.py:7: RuntimeWarning: divide by zero encountered in log\n",
      "  df.loc[id, \"illiq\"] =  np.log(abs(1 - x/y)) / z\n",
      " 10%|█         | 34/329 [00:03<00:28, 10.30it/s]/var/folders/13/d37n485s17n292n_3yvvjbw00000gn/T/ipykernel_27360/2617900055.py:7: RuntimeWarning: divide by zero encountered in log\n",
      "  df.loc[id, \"illiq\"] =  np.log(abs(1 - x/y)) / z\n",
      "/var/folders/13/d37n485s17n292n_3yvvjbw00000gn/T/ipykernel_27360/2617900055.py:7: RuntimeWarning: divide by zero encountered in log\n",
      "  df.loc[id, \"illiq\"] =  np.log(abs(1 - x/y)) / z\n",
      " 11%|█         | 36/329 [00:03<00:31,  9.25it/s]/var/folders/13/d37n485s17n292n_3yvvjbw00000gn/T/ipykernel_27360/2617900055.py:7: RuntimeWarning: divide by zero encountered in log\n",
      "  df.loc[id, \"illiq\"] =  np.log(abs(1 - x/y)) / z\n",
      " 11%|█         | 37/329 [00:03<00:31,  9.18it/s]/var/folders/13/d37n485s17n292n_3yvvjbw00000gn/T/ipykernel_27360/2617900055.py:7: RuntimeWarning: divide by zero encountered in log\n",
      "  df.loc[id, \"illiq\"] =  np.log(abs(1 - x/y)) / z\n",
      "/var/folders/13/d37n485s17n292n_3yvvjbw00000gn/T/ipykernel_27360/2617900055.py:7: RuntimeWarning: divide by zero encountered in log\n",
      "  df.loc[id, \"illiq\"] =  np.log(abs(1 - x/y)) / z\n",
      " 12%|█▏        | 40/329 [00:04<00:35,  8.24it/s]/var/folders/13/d37n485s17n292n_3yvvjbw00000gn/T/ipykernel_27360/2617900055.py:7: RuntimeWarning: divide by zero encountered in log\n",
      "  df.loc[id, \"illiq\"] =  np.log(abs(1 - x/y)) / z\n",
      " 12%|█▏        | 41/329 [00:04<00:34,  8.33it/s]/var/folders/13/d37n485s17n292n_3yvvjbw00000gn/T/ipykernel_27360/2617900055.py:7: RuntimeWarning: divide by zero encountered in log\n",
      "  df.loc[id, \"illiq\"] =  np.log(abs(1 - x/y)) / z\n",
      "/var/folders/13/d37n485s17n292n_3yvvjbw00000gn/T/ipykernel_27360/2617900055.py:7: RuntimeWarning: divide by zero encountered in log\n",
      "  df.loc[id, \"illiq\"] =  np.log(abs(1 - x/y)) / z\n",
      " 13%|█▎        | 43/329 [00:04<00:32,  8.75it/s]/var/folders/13/d37n485s17n292n_3yvvjbw00000gn/T/ipykernel_27360/2617900055.py:7: RuntimeWarning: divide by zero encountered in log\n",
      "  df.loc[id, \"illiq\"] =  np.log(abs(1 - x/y)) / z\n",
      " 13%|█▎        | 44/329 [00:04<00:38,  7.40it/s]/var/folders/13/d37n485s17n292n_3yvvjbw00000gn/T/ipykernel_27360/2617900055.py:7: RuntimeWarning: divide by zero encountered in log\n",
      "  df.loc[id, \"illiq\"] =  np.log(abs(1 - x/y)) / z\n",
      " 14%|█▎        | 45/329 [00:05<00:48,  5.90it/s]/var/folders/13/d37n485s17n292n_3yvvjbw00000gn/T/ipykernel_27360/2617900055.py:7: RuntimeWarning: divide by zero encountered in log\n",
      "  df.loc[id, \"illiq\"] =  np.log(abs(1 - x/y)) / z\n",
      " 14%|█▍        | 46/329 [00:05<00:47,  5.96it/s]/var/folders/13/d37n485s17n292n_3yvvjbw00000gn/T/ipykernel_27360/2617900055.py:7: RuntimeWarning: divide by zero encountered in log\n",
      "  df.loc[id, \"illiq\"] =  np.log(abs(1 - x/y)) / z\n",
      " 14%|█▍        | 47/329 [00:05<00:45,  6.20it/s]/var/folders/13/d37n485s17n292n_3yvvjbw00000gn/T/ipykernel_27360/2617900055.py:7: RuntimeWarning: divide by zero encountered in log\n",
      "  df.loc[id, \"illiq\"] =  np.log(abs(1 - x/y)) / z\n",
      " 15%|█▍        | 48/329 [00:05<00:41,  6.83it/s]/var/folders/13/d37n485s17n292n_3yvvjbw00000gn/T/ipykernel_27360/2617900055.py:7: RuntimeWarning: divide by zero encountered in log\n",
      "  df.loc[id, \"illiq\"] =  np.log(abs(1 - x/y)) / z\n",
      "/var/folders/13/d37n485s17n292n_3yvvjbw00000gn/T/ipykernel_27360/2617900055.py:7: RuntimeWarning: divide by zero encountered in log\n",
      "  df.loc[id, \"illiq\"] =  np.log(abs(1 - x/y)) / z\n",
      " 15%|█▌        | 50/329 [00:05<00:35,  7.92it/s]/var/folders/13/d37n485s17n292n_3yvvjbw00000gn/T/ipykernel_27360/2617900055.py:7: RuntimeWarning: divide by zero encountered in log\n",
      "  df.loc[id, \"illiq\"] =  np.log(abs(1 - x/y)) / z\n",
      "/var/folders/13/d37n485s17n292n_3yvvjbw00000gn/T/ipykernel_27360/2617900055.py:7: RuntimeWarning: divide by zero encountered in log\n",
      "  df.loc[id, \"illiq\"] =  np.log(abs(1 - x/y)) / z\n",
      " 16%|█▌        | 52/329 [00:05<00:33,  8.21it/s]/var/folders/13/d37n485s17n292n_3yvvjbw00000gn/T/ipykernel_27360/2617900055.py:7: RuntimeWarning: divide by zero encountered in log\n",
      "  df.loc[id, \"illiq\"] =  np.log(abs(1 - x/y)) / z\n",
      " 16%|█▌        | 53/329 [00:06<00:36,  7.61it/s]/var/folders/13/d37n485s17n292n_3yvvjbw00000gn/T/ipykernel_27360/2617900055.py:7: RuntimeWarning: divide by zero encountered in log\n",
      "  df.loc[id, \"illiq\"] =  np.log(abs(1 - x/y)) / z\n",
      " 16%|█▋        | 54/329 [00:06<00:36,  7.49it/s]/var/folders/13/d37n485s17n292n_3yvvjbw00000gn/T/ipykernel_27360/2617900055.py:7: RuntimeWarning: divide by zero encountered in log\n",
      "  df.loc[id, \"illiq\"] =  np.log(abs(1 - x/y)) / z\n",
      " 17%|█▋        | 55/329 [00:06<00:35,  7.71it/s]/var/folders/13/d37n485s17n292n_3yvvjbw00000gn/T/ipykernel_27360/2617900055.py:7: RuntimeWarning: divide by zero encountered in log\n",
      "  df.loc[id, \"illiq\"] =  np.log(abs(1 - x/y)) / z\n",
      " 17%|█▋        | 56/329 [00:06<00:35,  7.65it/s]/var/folders/13/d37n485s17n292n_3yvvjbw00000gn/T/ipykernel_27360/2617900055.py:7: RuntimeWarning: divide by zero encountered in log\n",
      "  df.loc[id, \"illiq\"] =  np.log(abs(1 - x/y)) / z\n",
      " 17%|█▋        | 57/329 [00:06<00:39,  6.97it/s]/var/folders/13/d37n485s17n292n_3yvvjbw00000gn/T/ipykernel_27360/2617900055.py:7: RuntimeWarning: divide by zero encountered in log\n",
      "  df.loc[id, \"illiq\"] =  np.log(abs(1 - x/y)) / z\n",
      " 18%|█▊        | 58/329 [00:06<00:36,  7.43it/s]/var/folders/13/d37n485s17n292n_3yvvjbw00000gn/T/ipykernel_27360/2617900055.py:7: RuntimeWarning: divide by zero encountered in log\n",
      "  df.loc[id, \"illiq\"] =  np.log(abs(1 - x/y)) / z\n",
      " 18%|█▊        | 59/329 [00:06<00:35,  7.52it/s]/var/folders/13/d37n485s17n292n_3yvvjbw00000gn/T/ipykernel_27360/2617900055.py:7: RuntimeWarning: divide by zero encountered in log\n",
      "  df.loc[id, \"illiq\"] =  np.log(abs(1 - x/y)) / z\n",
      " 18%|█▊        | 60/329 [00:06<00:34,  7.73it/s]/var/folders/13/d37n485s17n292n_3yvvjbw00000gn/T/ipykernel_27360/2617900055.py:7: RuntimeWarning: divide by zero encountered in log\n",
      "  df.loc[id, \"illiq\"] =  np.log(abs(1 - x/y)) / z\n",
      " 19%|█▊        | 61/329 [00:07<00:32,  8.26it/s]/var/folders/13/d37n485s17n292n_3yvvjbw00000gn/T/ipykernel_27360/2617900055.py:7: RuntimeWarning: divide by zero encountered in log\n",
      "  df.loc[id, \"illiq\"] =  np.log(abs(1 - x/y)) / z\n",
      "/var/folders/13/d37n485s17n292n_3yvvjbw00000gn/T/ipykernel_27360/2617900055.py:7: RuntimeWarning: divide by zero encountered in log\n",
      "  df.loc[id, \"illiq\"] =  np.log(abs(1 - x/y)) / z\n",
      " 19%|█▉        | 63/329 [00:07<00:28,  9.27it/s]/var/folders/13/d37n485s17n292n_3yvvjbw00000gn/T/ipykernel_27360/2617900055.py:7: RuntimeWarning: divide by zero encountered in log\n",
      "  df.loc[id, \"illiq\"] =  np.log(abs(1 - x/y)) / z\n",
      "/var/folders/13/d37n485s17n292n_3yvvjbw00000gn/T/ipykernel_27360/2617900055.py:7: RuntimeWarning: divide by zero encountered in log\n",
      "  df.loc[id, \"illiq\"] =  np.log(abs(1 - x/y)) / z\n",
      " 20%|█▉        | 65/329 [00:07<00:27,  9.50it/s]/var/folders/13/d37n485s17n292n_3yvvjbw00000gn/T/ipykernel_27360/2617900055.py:7: RuntimeWarning: divide by zero encountered in log\n",
      "  df.loc[id, \"illiq\"] =  np.log(abs(1 - x/y)) / z\n",
      "/var/folders/13/d37n485s17n292n_3yvvjbw00000gn/T/ipykernel_27360/2617900055.py:7: RuntimeWarning: divide by zero encountered in log\n",
      "  df.loc[id, \"illiq\"] =  np.log(abs(1 - x/y)) / z\n",
      " 20%|██        | 67/329 [00:07<00:25, 10.31it/s]/var/folders/13/d37n485s17n292n_3yvvjbw00000gn/T/ipykernel_27360/2617900055.py:7: RuntimeWarning: divide by zero encountered in log\n",
      "  df.loc[id, \"illiq\"] =  np.log(abs(1 - x/y)) / z\n",
      "/var/folders/13/d37n485s17n292n_3yvvjbw00000gn/T/ipykernel_27360/2617900055.py:7: RuntimeWarning: divide by zero encountered in log\n",
      "  df.loc[id, \"illiq\"] =  np.log(abs(1 - x/y)) / z\n",
      " 21%|██        | 69/329 [00:07<00:26,  9.77it/s]/var/folders/13/d37n485s17n292n_3yvvjbw00000gn/T/ipykernel_27360/2617900055.py:7: RuntimeWarning: divide by zero encountered in log\n",
      "  df.loc[id, \"illiq\"] =  np.log(abs(1 - x/y)) / z\n",
      " 21%|██▏       | 70/329 [00:07<00:26,  9.73it/s]/var/folders/13/d37n485s17n292n_3yvvjbw00000gn/T/ipykernel_27360/2617900055.py:7: RuntimeWarning: divide by zero encountered in log\n",
      "  df.loc[id, \"illiq\"] =  np.log(abs(1 - x/y)) / z\n",
      " 22%|██▏       | 71/329 [00:08<00:27,  9.39it/s]/var/folders/13/d37n485s17n292n_3yvvjbw00000gn/T/ipykernel_27360/2617900055.py:7: RuntimeWarning: divide by zero encountered in log\n",
      "  df.loc[id, \"illiq\"] =  np.log(abs(1 - x/y)) / z\n",
      " 22%|██▏       | 72/329 [00:08<00:27,  9.48it/s]/var/folders/13/d37n485s17n292n_3yvvjbw00000gn/T/ipykernel_27360/2617900055.py:7: RuntimeWarning: divide by zero encountered in log\n",
      "  df.loc[id, \"illiq\"] =  np.log(abs(1 - x/y)) / z\n",
      " 22%|██▏       | 73/329 [00:08<00:29,  8.81it/s]/var/folders/13/d37n485s17n292n_3yvvjbw00000gn/T/ipykernel_27360/2617900055.py:7: RuntimeWarning: divide by zero encountered in log\n",
      "  df.loc[id, \"illiq\"] =  np.log(abs(1 - x/y)) / z\n",
      " 22%|██▏       | 74/329 [00:08<00:29,  8.57it/s]/var/folders/13/d37n485s17n292n_3yvvjbw00000gn/T/ipykernel_27360/2617900055.py:7: RuntimeWarning: divide by zero encountered in log\n",
      "  df.loc[id, \"illiq\"] =  np.log(abs(1 - x/y)) / z\n",
      " 23%|██▎       | 75/329 [00:08<00:29,  8.75it/s]/var/folders/13/d37n485s17n292n_3yvvjbw00000gn/T/ipykernel_27360/2617900055.py:7: RuntimeWarning: divide by zero encountered in log\n",
      "  df.loc[id, \"illiq\"] =  np.log(abs(1 - x/y)) / z\n",
      "/var/folders/13/d37n485s17n292n_3yvvjbw00000gn/T/ipykernel_27360/2617900055.py:7: RuntimeWarning: divide by zero encountered in log\n",
      "  df.loc[id, \"illiq\"] =  np.log(abs(1 - x/y)) / z\n",
      " 23%|██▎       | 77/329 [00:08<00:24, 10.23it/s]/var/folders/13/d37n485s17n292n_3yvvjbw00000gn/T/ipykernel_27360/2617900055.py:7: RuntimeWarning: divide by zero encountered in log\n",
      "  df.loc[id, \"illiq\"] =  np.log(abs(1 - x/y)) / z\n",
      "/var/folders/13/d37n485s17n292n_3yvvjbw00000gn/T/ipykernel_27360/2617900055.py:7: RuntimeWarning: divide by zero encountered in log\n",
      "  df.loc[id, \"illiq\"] =  np.log(abs(1 - x/y)) / z\n",
      " 24%|██▍       | 79/329 [00:08<00:27,  9.24it/s]/var/folders/13/d37n485s17n292n_3yvvjbw00000gn/T/ipykernel_27360/2617900055.py:7: RuntimeWarning: divide by zero encountered in log\n",
      "  df.loc[id, \"illiq\"] =  np.log(abs(1 - x/y)) / z\n",
      " 24%|██▍       | 80/329 [00:09<00:27,  9.11it/s]/var/folders/13/d37n485s17n292n_3yvvjbw00000gn/T/ipykernel_27360/2617900055.py:7: RuntimeWarning: divide by zero encountered in log\n",
      "  df.loc[id, \"illiq\"] =  np.log(abs(1 - x/y)) / z\n",
      " 25%|██▍       | 82/329 [00:09<00:24,  9.92it/s]/var/folders/13/d37n485s17n292n_3yvvjbw00000gn/T/ipykernel_27360/2617900055.py:7: RuntimeWarning: divide by zero encountered in log\n",
      "  df.loc[id, \"illiq\"] =  np.log(abs(1 - x/y)) / z\n",
      " 25%|██▌       | 83/329 [00:09<00:25,  9.61it/s]/var/folders/13/d37n485s17n292n_3yvvjbw00000gn/T/ipykernel_27360/2617900055.py:7: RuntimeWarning: divide by zero encountered in log\n",
      "  df.loc[id, \"illiq\"] =  np.log(abs(1 - x/y)) / z\n",
      "/var/folders/13/d37n485s17n292n_3yvvjbw00000gn/T/ipykernel_27360/2617900055.py:7: RuntimeWarning: divide by zero encountered in log\n",
      "  df.loc[id, \"illiq\"] =  np.log(abs(1 - x/y)) / z\n",
      " 26%|██▌       | 85/329 [00:09<00:25,  9.50it/s]/var/folders/13/d37n485s17n292n_3yvvjbw00000gn/T/ipykernel_27360/2617900055.py:7: RuntimeWarning: divide by zero encountered in log\n",
      "  df.loc[id, \"illiq\"] =  np.log(abs(1 - x/y)) / z\n",
      " 26%|██▌       | 86/329 [00:09<00:26,  9.33it/s]/var/folders/13/d37n485s17n292n_3yvvjbw00000gn/T/ipykernel_27360/2617900055.py:7: RuntimeWarning: divide by zero encountered in log\n",
      "  df.loc[id, \"illiq\"] =  np.log(abs(1 - x/y)) / z\n",
      "/var/folders/13/d37n485s17n292n_3yvvjbw00000gn/T/ipykernel_27360/2617900055.py:7: RuntimeWarning: divide by zero encountered in log\n",
      "  df.loc[id, \"illiq\"] =  np.log(abs(1 - x/y)) / z\n",
      " 27%|██▋       | 88/329 [00:09<00:24,  9.72it/s]/var/folders/13/d37n485s17n292n_3yvvjbw00000gn/T/ipykernel_27360/2617900055.py:7: RuntimeWarning: divide by zero encountered in log\n",
      "  df.loc[id, \"illiq\"] =  np.log(abs(1 - x/y)) / z\n",
      " 27%|██▋       | 89/329 [00:09<00:26,  8.96it/s]/var/folders/13/d37n485s17n292n_3yvvjbw00000gn/T/ipykernel_27360/2617900055.py:7: RuntimeWarning: divide by zero encountered in log\n",
      "  df.loc[id, \"illiq\"] =  np.log(abs(1 - x/y)) / z\n",
      " 27%|██▋       | 90/329 [00:10<00:27,  8.84it/s]/var/folders/13/d37n485s17n292n_3yvvjbw00000gn/T/ipykernel_27360/2617900055.py:7: RuntimeWarning: divide by zero encountered in log\n",
      "  df.loc[id, \"illiq\"] =  np.log(abs(1 - x/y)) / z\n",
      " 28%|██▊       | 91/329 [00:10<00:27,  8.61it/s]/var/folders/13/d37n485s17n292n_3yvvjbw00000gn/T/ipykernel_27360/2617900055.py:7: RuntimeWarning: divide by zero encountered in log\n",
      "  df.loc[id, \"illiq\"] =  np.log(abs(1 - x/y)) / z\n",
      "/var/folders/13/d37n485s17n292n_3yvvjbw00000gn/T/ipykernel_27360/2617900055.py:7: RuntimeWarning: divide by zero encountered in log\n",
      "  df.loc[id, \"illiq\"] =  np.log(abs(1 - x/y)) / z\n",
      " 28%|██▊       | 93/329 [00:10<00:26,  8.90it/s]/var/folders/13/d37n485s17n292n_3yvvjbw00000gn/T/ipykernel_27360/2617900055.py:7: RuntimeWarning: divide by zero encountered in log\n",
      "  df.loc[id, \"illiq\"] =  np.log(abs(1 - x/y)) / z\n",
      " 29%|██▊       | 94/329 [00:10<00:25,  9.13it/s]/var/folders/13/d37n485s17n292n_3yvvjbw00000gn/T/ipykernel_27360/2617900055.py:7: RuntimeWarning: divide by zero encountered in log\n",
      "  df.loc[id, \"illiq\"] =  np.log(abs(1 - x/y)) / z\n",
      " 29%|██▉       | 95/329 [00:10<00:26,  8.92it/s]/var/folders/13/d37n485s17n292n_3yvvjbw00000gn/T/ipykernel_27360/2617900055.py:7: RuntimeWarning: divide by zero encountered in log\n",
      "  df.loc[id, \"illiq\"] =  np.log(abs(1 - x/y)) / z\n",
      " 29%|██▉       | 96/329 [00:10<00:25,  8.99it/s]/var/folders/13/d37n485s17n292n_3yvvjbw00000gn/T/ipykernel_27360/2617900055.py:7: RuntimeWarning: divide by zero encountered in log\n",
      "  df.loc[id, \"illiq\"] =  np.log(abs(1 - x/y)) / z\n",
      " 29%|██▉       | 97/329 [00:10<00:26,  8.89it/s]/var/folders/13/d37n485s17n292n_3yvvjbw00000gn/T/ipykernel_27360/2617900055.py:7: RuntimeWarning: divide by zero encountered in log\n",
      "  df.loc[id, \"illiq\"] =  np.log(abs(1 - x/y)) / z\n",
      " 30%|██▉       | 98/329 [00:11<00:26,  8.67it/s]/var/folders/13/d37n485s17n292n_3yvvjbw00000gn/T/ipykernel_27360/2617900055.py:7: RuntimeWarning: divide by zero encountered in log\n",
      "  df.loc[id, \"illiq\"] =  np.log(abs(1 - x/y)) / z\n",
      " 30%|███       | 99/329 [00:11<00:25,  8.91it/s]/var/folders/13/d37n485s17n292n_3yvvjbw00000gn/T/ipykernel_27360/2617900055.py:7: RuntimeWarning: divide by zero encountered in log\n",
      "  df.loc[id, \"illiq\"] =  np.log(abs(1 - x/y)) / z\n",
      "/var/folders/13/d37n485s17n292n_3yvvjbw00000gn/T/ipykernel_27360/2617900055.py:7: RuntimeWarning: divide by zero encountered in log\n",
      "  df.loc[id, \"illiq\"] =  np.log(abs(1 - x/y)) / z\n",
      " 31%|███       | 101/329 [00:11<00:21, 10.37it/s]/var/folders/13/d37n485s17n292n_3yvvjbw00000gn/T/ipykernel_27360/2617900055.py:7: RuntimeWarning: divide by zero encountered in log\n",
      "  df.loc[id, \"illiq\"] =  np.log(abs(1 - x/y)) / z\n",
      " 31%|███▏      | 103/329 [00:11<00:23,  9.77it/s]/var/folders/13/d37n485s17n292n_3yvvjbw00000gn/T/ipykernel_27360/2617900055.py:7: RuntimeWarning: divide by zero encountered in log\n",
      "  df.loc[id, \"illiq\"] =  np.log(abs(1 - x/y)) / z\n",
      " 32%|███▏      | 104/329 [00:11<00:23,  9.75it/s]/var/folders/13/d37n485s17n292n_3yvvjbw00000gn/T/ipykernel_27360/2617900055.py:7: RuntimeWarning: divide by zero encountered in log\n",
      "  df.loc[id, \"illiq\"] =  np.log(abs(1 - x/y)) / z\n",
      " 32%|███▏      | 105/329 [00:11<00:23,  9.42it/s]/var/folders/13/d37n485s17n292n_3yvvjbw00000gn/T/ipykernel_27360/2617900055.py:7: RuntimeWarning: divide by zero encountered in log\n",
      "  df.loc[id, \"illiq\"] =  np.log(abs(1 - x/y)) / z\n",
      " 32%|███▏      | 106/329 [00:11<00:24,  9.25it/s]/var/folders/13/d37n485s17n292n_3yvvjbw00000gn/T/ipykernel_27360/2617900055.py:7: RuntimeWarning: divide by zero encountered in log\n",
      "  df.loc[id, \"illiq\"] =  np.log(abs(1 - x/y)) / z\n",
      " 33%|███▎      | 107/329 [00:11<00:23,  9.31it/s]/var/folders/13/d37n485s17n292n_3yvvjbw00000gn/T/ipykernel_27360/2617900055.py:7: RuntimeWarning: divide by zero encountered in log\n",
      "  df.loc[id, \"illiq\"] =  np.log(abs(1 - x/y)) / z\n",
      " 33%|███▎      | 109/329 [00:12<00:21, 10.19it/s]/var/folders/13/d37n485s17n292n_3yvvjbw00000gn/T/ipykernel_27360/2617900055.py:7: RuntimeWarning: divide by zero encountered in log\n",
      "  df.loc[id, \"illiq\"] =  np.log(abs(1 - x/y)) / z\n",
      " 33%|███▎      | 110/329 [00:12<00:22,  9.95it/s]/var/folders/13/d37n485s17n292n_3yvvjbw00000gn/T/ipykernel_27360/2617900055.py:7: RuntimeWarning: divide by zero encountered in log\n",
      "  df.loc[id, \"illiq\"] =  np.log(abs(1 - x/y)) / z\n",
      " 34%|███▎      | 111/329 [00:12<00:23,  9.25it/s]/var/folders/13/d37n485s17n292n_3yvvjbw00000gn/T/ipykernel_27360/2617900055.py:7: RuntimeWarning: divide by zero encountered in log\n",
      "  df.loc[id, \"illiq\"] =  np.log(abs(1 - x/y)) / z\n",
      " 34%|███▍      | 113/329 [00:12<00:22,  9.47it/s]/var/folders/13/d37n485s17n292n_3yvvjbw00000gn/T/ipykernel_27360/2617900055.py:7: RuntimeWarning: divide by zero encountered in log\n",
      "  df.loc[id, \"illiq\"] =  np.log(abs(1 - x/y)) / z\n",
      " 35%|███▍      | 114/329 [00:12<00:23,  9.09it/s]/var/folders/13/d37n485s17n292n_3yvvjbw00000gn/T/ipykernel_27360/2617900055.py:7: RuntimeWarning: divide by zero encountered in log\n",
      "  df.loc[id, \"illiq\"] =  np.log(abs(1 - x/y)) / z\n",
      "/var/folders/13/d37n485s17n292n_3yvvjbw00000gn/T/ipykernel_27360/2617900055.py:7: RuntimeWarning: divide by zero encountered in log\n",
      "  df.loc[id, \"illiq\"] =  np.log(abs(1 - x/y)) / z\n",
      " 35%|███▌      | 116/329 [00:12<00:21, 10.04it/s]/var/folders/13/d37n485s17n292n_3yvvjbw00000gn/T/ipykernel_27360/2617900055.py:7: RuntimeWarning: divide by zero encountered in log\n",
      "  df.loc[id, \"illiq\"] =  np.log(abs(1 - x/y)) / z\n",
      "/var/folders/13/d37n485s17n292n_3yvvjbw00000gn/T/ipykernel_27360/2617900055.py:7: RuntimeWarning: divide by zero encountered in log\n",
      "  df.loc[id, \"illiq\"] =  np.log(abs(1 - x/y)) / z\n",
      " 36%|███▌      | 118/329 [00:13<00:20, 10.53it/s]/var/folders/13/d37n485s17n292n_3yvvjbw00000gn/T/ipykernel_27360/2617900055.py:7: RuntimeWarning: divide by zero encountered in log\n",
      "  df.loc[id, \"illiq\"] =  np.log(abs(1 - x/y)) / z\n",
      "/var/folders/13/d37n485s17n292n_3yvvjbw00000gn/T/ipykernel_27360/2617900055.py:7: RuntimeWarning: divide by zero encountered in log\n",
      "  df.loc[id, \"illiq\"] =  np.log(abs(1 - x/y)) / z\n",
      " 36%|███▋      | 120/329 [00:13<00:20, 10.42it/s]/var/folders/13/d37n485s17n292n_3yvvjbw00000gn/T/ipykernel_27360/2617900055.py:7: RuntimeWarning: divide by zero encountered in log\n",
      "  df.loc[id, \"illiq\"] =  np.log(abs(1 - x/y)) / z\n",
      " 37%|███▋      | 122/329 [00:13<00:21,  9.70it/s]/var/folders/13/d37n485s17n292n_3yvvjbw00000gn/T/ipykernel_27360/2617900055.py:7: RuntimeWarning: divide by zero encountered in log\n",
      "  df.loc[id, \"illiq\"] =  np.log(abs(1 - x/y)) / z\n",
      " 37%|███▋      | 123/329 [00:13<00:21,  9.53it/s]/var/folders/13/d37n485s17n292n_3yvvjbw00000gn/T/ipykernel_27360/2617900055.py:7: RuntimeWarning: divide by zero encountered in log\n",
      "  df.loc[id, \"illiq\"] =  np.log(abs(1 - x/y)) / z\n",
      " 38%|███▊      | 124/329 [00:13<00:21,  9.55it/s]/var/folders/13/d37n485s17n292n_3yvvjbw00000gn/T/ipykernel_27360/2617900055.py:7: RuntimeWarning: divide by zero encountered in log\n",
      "  df.loc[id, \"illiq\"] =  np.log(abs(1 - x/y)) / z\n",
      "/var/folders/13/d37n485s17n292n_3yvvjbw00000gn/T/ipykernel_27360/2617900055.py:7: RuntimeWarning: divide by zero encountered in log\n",
      "  df.loc[id, \"illiq\"] =  np.log(abs(1 - x/y)) / z\n",
      " 38%|███▊      | 126/329 [00:13<00:19, 10.42it/s]/var/folders/13/d37n485s17n292n_3yvvjbw00000gn/T/ipykernel_27360/2617900055.py:7: RuntimeWarning: divide by zero encountered in log\n",
      "  df.loc[id, \"illiq\"] =  np.log(abs(1 - x/y)) / z\n",
      " 39%|███▉      | 128/329 [00:14<00:19, 10.13it/s]/var/folders/13/d37n485s17n292n_3yvvjbw00000gn/T/ipykernel_27360/2617900055.py:7: RuntimeWarning: divide by zero encountered in log\n",
      "  df.loc[id, \"illiq\"] =  np.log(abs(1 - x/y)) / z\n",
      "/var/folders/13/d37n485s17n292n_3yvvjbw00000gn/T/ipykernel_27360/2617900055.py:7: RuntimeWarning: divide by zero encountered in log\n",
      "  df.loc[id, \"illiq\"] =  np.log(abs(1 - x/y)) / z\n",
      " 40%|███▉      | 130/329 [00:14<00:21,  9.25it/s]/var/folders/13/d37n485s17n292n_3yvvjbw00000gn/T/ipykernel_27360/2617900055.py:7: RuntimeWarning: divide by zero encountered in log\n",
      "  df.loc[id, \"illiq\"] =  np.log(abs(1 - x/y)) / z\n",
      " 40%|████      | 132/329 [00:14<00:19,  9.94it/s]/var/folders/13/d37n485s17n292n_3yvvjbw00000gn/T/ipykernel_27360/2617900055.py:7: RuntimeWarning: divide by zero encountered in log\n",
      "  df.loc[id, \"illiq\"] =  np.log(abs(1 - x/y)) / z\n",
      " 41%|████      | 134/329 [00:14<00:18, 10.46it/s]/var/folders/13/d37n485s17n292n_3yvvjbw00000gn/T/ipykernel_27360/2617900055.py:7: RuntimeWarning: divide by zero encountered in log\n",
      "  df.loc[id, \"illiq\"] =  np.log(abs(1 - x/y)) / z\n",
      "/var/folders/13/d37n485s17n292n_3yvvjbw00000gn/T/ipykernel_27360/2617900055.py:7: RuntimeWarning: divide by zero encountered in log\n",
      "  df.loc[id, \"illiq\"] =  np.log(abs(1 - x/y)) / z\n",
      " 41%|████▏     | 136/329 [00:14<00:17, 11.26it/s]/var/folders/13/d37n485s17n292n_3yvvjbw00000gn/T/ipykernel_27360/2617900055.py:7: RuntimeWarning: divide by zero encountered in log\n",
      "  df.loc[id, \"illiq\"] =  np.log(abs(1 - x/y)) / z\n",
      "/var/folders/13/d37n485s17n292n_3yvvjbw00000gn/T/ipykernel_27360/2617900055.py:7: RuntimeWarning: divide by zero encountered in log\n",
      "  df.loc[id, \"illiq\"] =  np.log(abs(1 - x/y)) / z\n",
      " 42%|████▏     | 138/329 [00:15<00:19,  9.74it/s]/var/folders/13/d37n485s17n292n_3yvvjbw00000gn/T/ipykernel_27360/2617900055.py:7: RuntimeWarning: divide by zero encountered in log\n",
      "  df.loc[id, \"illiq\"] =  np.log(abs(1 - x/y)) / z\n",
      " 43%|████▎     | 140/329 [00:15<00:19,  9.84it/s]/var/folders/13/d37n485s17n292n_3yvvjbw00000gn/T/ipykernel_27360/2617900055.py:7: RuntimeWarning: divide by zero encountered in log\n",
      "  df.loc[id, \"illiq\"] =  np.log(abs(1 - x/y)) / z\n",
      "/var/folders/13/d37n485s17n292n_3yvvjbw00000gn/T/ipykernel_27360/2617900055.py:7: RuntimeWarning: divide by zero encountered in log\n",
      "  df.loc[id, \"illiq\"] =  np.log(abs(1 - x/y)) / z\n",
      " 43%|████▎     | 142/329 [00:15<00:19,  9.72it/s]/var/folders/13/d37n485s17n292n_3yvvjbw00000gn/T/ipykernel_27360/2617900055.py:7: RuntimeWarning: divide by zero encountered in log\n",
      "  df.loc[id, \"illiq\"] =  np.log(abs(1 - x/y)) / z\n",
      "/var/folders/13/d37n485s17n292n_3yvvjbw00000gn/T/ipykernel_27360/2617900055.py:7: RuntimeWarning: divide by zero encountered in log\n",
      "  df.loc[id, \"illiq\"] =  np.log(abs(1 - x/y)) / z\n",
      " 44%|████▍     | 144/329 [00:15<00:20,  9.21it/s]/var/folders/13/d37n485s17n292n_3yvvjbw00000gn/T/ipykernel_27360/2617900055.py:7: RuntimeWarning: divide by zero encountered in log\n",
      "  df.loc[id, \"illiq\"] =  np.log(abs(1 - x/y)) / z\n",
      " 44%|████▍     | 145/329 [00:15<00:20,  8.85it/s]/var/folders/13/d37n485s17n292n_3yvvjbw00000gn/T/ipykernel_27360/2617900055.py:7: RuntimeWarning: divide by zero encountered in log\n",
      "  df.loc[id, \"illiq\"] =  np.log(abs(1 - x/y)) / z\n",
      " 44%|████▍     | 146/329 [00:15<00:22,  8.17it/s]/var/folders/13/d37n485s17n292n_3yvvjbw00000gn/T/ipykernel_27360/2617900055.py:7: RuntimeWarning: divide by zero encountered in log\n",
      "  df.loc[id, \"illiq\"] =  np.log(abs(1 - x/y)) / z\n",
      " 45%|████▍     | 147/329 [00:16<00:27,  6.73it/s]/var/folders/13/d37n485s17n292n_3yvvjbw00000gn/T/ipykernel_27360/2617900055.py:7: RuntimeWarning: divide by zero encountered in log\n",
      "  df.loc[id, \"illiq\"] =  np.log(abs(1 - x/y)) / z\n",
      " 45%|████▍     | 148/329 [00:16<00:25,  7.08it/s]/var/folders/13/d37n485s17n292n_3yvvjbw00000gn/T/ipykernel_27360/2617900055.py:7: RuntimeWarning: divide by zero encountered in log\n",
      "  df.loc[id, \"illiq\"] =  np.log(abs(1 - x/y)) / z\n",
      "/var/folders/13/d37n485s17n292n_3yvvjbw00000gn/T/ipykernel_27360/2617900055.py:7: RuntimeWarning: divide by zero encountered in log\n",
      "  df.loc[id, \"illiq\"] =  np.log(abs(1 - x/y)) / z\n",
      " 46%|████▌     | 150/329 [00:16<00:22,  7.81it/s]/var/folders/13/d37n485s17n292n_3yvvjbw00000gn/T/ipykernel_27360/2617900055.py:7: RuntimeWarning: divide by zero encountered in log\n",
      "  df.loc[id, \"illiq\"] =  np.log(abs(1 - x/y)) / z\n",
      " 46%|████▌     | 151/329 [00:16<00:23,  7.43it/s]/var/folders/13/d37n485s17n292n_3yvvjbw00000gn/T/ipykernel_27360/2617900055.py:7: RuntimeWarning: divide by zero encountered in log\n",
      "  df.loc[id, \"illiq\"] =  np.log(abs(1 - x/y)) / z\n",
      " 46%|████▌     | 152/329 [00:16<00:24,  7.24it/s]/var/folders/13/d37n485s17n292n_3yvvjbw00000gn/T/ipykernel_27360/2617900055.py:7: RuntimeWarning: divide by zero encountered in log\n",
      "  df.loc[id, \"illiq\"] =  np.log(abs(1 - x/y)) / z\n",
      " 47%|████▋     | 153/329 [00:16<00:23,  7.46it/s]/var/folders/13/d37n485s17n292n_3yvvjbw00000gn/T/ipykernel_27360/2617900055.py:7: RuntimeWarning: divide by zero encountered in log\n",
      "  df.loc[id, \"illiq\"] =  np.log(abs(1 - x/y)) / z\n",
      "/var/folders/13/d37n485s17n292n_3yvvjbw00000gn/T/ipykernel_27360/2617900055.py:7: RuntimeWarning: divide by zero encountered in log\n",
      "  df.loc[id, \"illiq\"] =  np.log(abs(1 - x/y)) / z\n",
      " 47%|████▋     | 155/329 [00:17<00:20,  8.56it/s]/var/folders/13/d37n485s17n292n_3yvvjbw00000gn/T/ipykernel_27360/2617900055.py:7: RuntimeWarning: divide by zero encountered in log\n",
      "  df.loc[id, \"illiq\"] =  np.log(abs(1 - x/y)) / z\n",
      " 47%|████▋     | 156/329 [00:17<00:20,  8.32it/s]/var/folders/13/d37n485s17n292n_3yvvjbw00000gn/T/ipykernel_27360/2617900055.py:7: RuntimeWarning: divide by zero encountered in log\n",
      "  df.loc[id, \"illiq\"] =  np.log(abs(1 - x/y)) / z\n",
      " 48%|████▊     | 157/329 [00:17<00:20,  8.44it/s]/var/folders/13/d37n485s17n292n_3yvvjbw00000gn/T/ipykernel_27360/2617900055.py:7: RuntimeWarning: divide by zero encountered in log\n",
      "  df.loc[id, \"illiq\"] =  np.log(abs(1 - x/y)) / z\n",
      "/var/folders/13/d37n485s17n292n_3yvvjbw00000gn/T/ipykernel_27360/2617900055.py:7: RuntimeWarning: divide by zero encountered in log\n",
      "  df.loc[id, \"illiq\"] =  np.log(abs(1 - x/y)) / z\n",
      " 48%|████▊     | 159/329 [00:17<00:18,  9.04it/s]/var/folders/13/d37n485s17n292n_3yvvjbw00000gn/T/ipykernel_27360/2617900055.py:7: RuntimeWarning: divide by zero encountered in log\n",
      "  df.loc[id, \"illiq\"] =  np.log(abs(1 - x/y)) / z\n",
      "/var/folders/13/d37n485s17n292n_3yvvjbw00000gn/T/ipykernel_27360/2617900055.py:7: RuntimeWarning: divide by zero encountered in log\n",
      "  df.loc[id, \"illiq\"] =  np.log(abs(1 - x/y)) / z\n",
      " 49%|████▉     | 161/329 [00:17<00:18,  9.04it/s]/var/folders/13/d37n485s17n292n_3yvvjbw00000gn/T/ipykernel_27360/2617900055.py:7: RuntimeWarning: divide by zero encountered in log\n",
      "  df.loc[id, \"illiq\"] =  np.log(abs(1 - x/y)) / z\n",
      "/var/folders/13/d37n485s17n292n_3yvvjbw00000gn/T/ipykernel_27360/2617900055.py:7: RuntimeWarning: divide by zero encountered in log\n",
      "  df.loc[id, \"illiq\"] =  np.log(abs(1 - x/y)) / z\n",
      " 50%|████▉     | 163/329 [00:18<00:16, 10.11it/s]/var/folders/13/d37n485s17n292n_3yvvjbw00000gn/T/ipykernel_27360/2617900055.py:7: RuntimeWarning: divide by zero encountered in log\n",
      "  df.loc[id, \"illiq\"] =  np.log(abs(1 - x/y)) / z\n",
      "/var/folders/13/d37n485s17n292n_3yvvjbw00000gn/T/ipykernel_27360/2617900055.py:7: RuntimeWarning: divide by zero encountered in log\n",
      "  df.loc[id, \"illiq\"] =  np.log(abs(1 - x/y)) / z\n",
      " 50%|█████     | 165/329 [00:18<00:18,  9.03it/s]/var/folders/13/d37n485s17n292n_3yvvjbw00000gn/T/ipykernel_27360/2617900055.py:7: RuntimeWarning: divide by zero encountered in log\n",
      "  df.loc[id, \"illiq\"] =  np.log(abs(1 - x/y)) / z\n",
      " 51%|█████     | 167/329 [00:18<00:17,  9.46it/s]/var/folders/13/d37n485s17n292n_3yvvjbw00000gn/T/ipykernel_27360/2617900055.py:7: RuntimeWarning: divide by zero encountered in log\n",
      "  df.loc[id, \"illiq\"] =  np.log(abs(1 - x/y)) / z\n",
      " 51%|█████     | 168/329 [00:18<00:18,  8.68it/s]/var/folders/13/d37n485s17n292n_3yvvjbw00000gn/T/ipykernel_27360/2617900055.py:7: RuntimeWarning: divide by zero encountered in log\n",
      "  df.loc[id, \"illiq\"] =  np.log(abs(1 - x/y)) / z\n",
      " 51%|█████▏    | 169/329 [00:18<00:19,  8.23it/s]/var/folders/13/d37n485s17n292n_3yvvjbw00000gn/T/ipykernel_27360/2617900055.py:7: RuntimeWarning: divide by zero encountered in log\n",
      "  df.loc[id, \"illiq\"] =  np.log(abs(1 - x/y)) / z\n",
      " 52%|█████▏    | 171/329 [00:18<00:16,  9.58it/s]/var/folders/13/d37n485s17n292n_3yvvjbw00000gn/T/ipykernel_27360/2617900055.py:7: RuntimeWarning: divide by zero encountered in log\n",
      "  df.loc[id, \"illiq\"] =  np.log(abs(1 - x/y)) / z\n",
      " 52%|█████▏    | 172/329 [00:19<00:17,  9.09it/s]/var/folders/13/d37n485s17n292n_3yvvjbw00000gn/T/ipykernel_27360/2617900055.py:7: RuntimeWarning: divide by zero encountered in log\n",
      "  df.loc[id, \"illiq\"] =  np.log(abs(1 - x/y)) / z\n",
      " 53%|█████▎    | 173/329 [00:19<00:18,  8.44it/s]/var/folders/13/d37n485s17n292n_3yvvjbw00000gn/T/ipykernel_27360/2617900055.py:7: RuntimeWarning: divide by zero encountered in log\n",
      "  df.loc[id, \"illiq\"] =  np.log(abs(1 - x/y)) / z\n",
      " 53%|█████▎    | 174/329 [00:19<00:19,  7.93it/s]/var/folders/13/d37n485s17n292n_3yvvjbw00000gn/T/ipykernel_27360/2617900055.py:7: RuntimeWarning: divide by zero encountered in log\n",
      "  df.loc[id, \"illiq\"] =  np.log(abs(1 - x/y)) / z\n",
      " 53%|█████▎    | 175/329 [00:19<00:19,  7.71it/s]/var/folders/13/d37n485s17n292n_3yvvjbw00000gn/T/ipykernel_27360/2617900055.py:7: RuntimeWarning: divide by zero encountered in log\n",
      "  df.loc[id, \"illiq\"] =  np.log(abs(1 - x/y)) / z\n",
      " 53%|█████▎    | 176/329 [00:19<00:20,  7.32it/s]/var/folders/13/d37n485s17n292n_3yvvjbw00000gn/T/ipykernel_27360/2617900055.py:7: RuntimeWarning: divide by zero encountered in log\n",
      "  df.loc[id, \"illiq\"] =  np.log(abs(1 - x/y)) / z\n",
      " 54%|█████▍    | 177/329 [00:19<00:20,  7.36it/s]/var/folders/13/d37n485s17n292n_3yvvjbw00000gn/T/ipykernel_27360/2617900055.py:7: RuntimeWarning: divide by zero encountered in log\n",
      "  df.loc[id, \"illiq\"] =  np.log(abs(1 - x/y)) / z\n",
      " 54%|█████▍    | 178/329 [00:19<00:19,  7.67it/s]/var/folders/13/d37n485s17n292n_3yvvjbw00000gn/T/ipykernel_27360/2617900055.py:7: RuntimeWarning: divide by zero encountered in log\n",
      "  df.loc[id, \"illiq\"] =  np.log(abs(1 - x/y)) / z\n",
      " 54%|█████▍    | 179/329 [00:20<00:20,  7.29it/s]/var/folders/13/d37n485s17n292n_3yvvjbw00000gn/T/ipykernel_27360/2617900055.py:7: RuntimeWarning: divide by zero encountered in log\n",
      "  df.loc[id, \"illiq\"] =  np.log(abs(1 - x/y)) / z\n",
      " 55%|█████▌    | 181/329 [00:20<00:18,  8.12it/s]/var/folders/13/d37n485s17n292n_3yvvjbw00000gn/T/ipykernel_27360/2617900055.py:7: RuntimeWarning: divide by zero encountered in log\n",
      "  df.loc[id, \"illiq\"] =  np.log(abs(1 - x/y)) / z\n",
      " 55%|█████▌    | 182/329 [00:20<00:18,  7.97it/s]/var/folders/13/d37n485s17n292n_3yvvjbw00000gn/T/ipykernel_27360/2617900055.py:7: RuntimeWarning: divide by zero encountered in log\n",
      "  df.loc[id, \"illiq\"] =  np.log(abs(1 - x/y)) / z\n",
      "/var/folders/13/d37n485s17n292n_3yvvjbw00000gn/T/ipykernel_27360/2617900055.py:7: RuntimeWarning: divide by zero encountered in log\n",
      "  df.loc[id, \"illiq\"] =  np.log(abs(1 - x/y)) / z\n",
      " 56%|█████▌    | 184/329 [00:20<00:16,  9.01it/s]/var/folders/13/d37n485s17n292n_3yvvjbw00000gn/T/ipykernel_27360/2617900055.py:7: RuntimeWarning: divide by zero encountered in log\n",
      "  df.loc[id, \"illiq\"] =  np.log(abs(1 - x/y)) / z\n",
      " 56%|█████▌    | 185/329 [00:20<00:17,  8.40it/s]/var/folders/13/d37n485s17n292n_3yvvjbw00000gn/T/ipykernel_27360/2617900055.py:7: RuntimeWarning: divide by zero encountered in log\n",
      "  df.loc[id, \"illiq\"] =  np.log(abs(1 - x/y)) / z\n",
      " 57%|█████▋    | 186/329 [00:20<00:17,  7.99it/s]/var/folders/13/d37n485s17n292n_3yvvjbw00000gn/T/ipykernel_27360/2617900055.py:7: RuntimeWarning: divide by zero encountered in log\n",
      "  df.loc[id, \"illiq\"] =  np.log(abs(1 - x/y)) / z\n",
      " 57%|█████▋    | 187/329 [00:20<00:17,  8.18it/s]/var/folders/13/d37n485s17n292n_3yvvjbw00000gn/T/ipykernel_27360/2617900055.py:7: RuntimeWarning: divide by zero encountered in log\n",
      "  df.loc[id, \"illiq\"] =  np.log(abs(1 - x/y)) / z\n",
      " 57%|█████▋    | 188/329 [00:21<00:19,  7.40it/s]/var/folders/13/d37n485s17n292n_3yvvjbw00000gn/T/ipykernel_27360/2617900055.py:7: RuntimeWarning: divide by zero encountered in log\n",
      "  df.loc[id, \"illiq\"] =  np.log(abs(1 - x/y)) / z\n",
      " 57%|█████▋    | 189/329 [00:21<00:19,  7.19it/s]/var/folders/13/d37n485s17n292n_3yvvjbw00000gn/T/ipykernel_27360/2617900055.py:7: RuntimeWarning: divide by zero encountered in log\n",
      "  df.loc[id, \"illiq\"] =  np.log(abs(1 - x/y)) / z\n",
      "/var/folders/13/d37n485s17n292n_3yvvjbw00000gn/T/ipykernel_27360/2617900055.py:7: RuntimeWarning: divide by zero encountered in log\n",
      "  df.loc[id, \"illiq\"] =  np.log(abs(1 - x/y)) / z\n",
      " 58%|█████▊    | 191/329 [00:21<00:16,  8.56it/s]/var/folders/13/d37n485s17n292n_3yvvjbw00000gn/T/ipykernel_27360/2617900055.py:7: RuntimeWarning: divide by zero encountered in log\n",
      "  df.loc[id, \"illiq\"] =  np.log(abs(1 - x/y)) / z\n",
      " 58%|█████▊    | 192/329 [00:21<00:15,  8.64it/s]/var/folders/13/d37n485s17n292n_3yvvjbw00000gn/T/ipykernel_27360/2617900055.py:7: RuntimeWarning: divide by zero encountered in log\n",
      "  df.loc[id, \"illiq\"] =  np.log(abs(1 - x/y)) / z\n",
      " 59%|█████▊    | 193/329 [00:21<00:16,  8.22it/s]/var/folders/13/d37n485s17n292n_3yvvjbw00000gn/T/ipykernel_27360/2617900055.py:7: RuntimeWarning: divide by zero encountered in log\n",
      "  df.loc[id, \"illiq\"] =  np.log(abs(1 - x/y)) / z\n",
      "/var/folders/13/d37n485s17n292n_3yvvjbw00000gn/T/ipykernel_27360/2617900055.py:7: RuntimeWarning: divide by zero encountered in log\n",
      "  df.loc[id, \"illiq\"] =  np.log(abs(1 - x/y)) / z\n",
      " 59%|█████▉    | 195/329 [00:21<00:15,  8.73it/s]/var/folders/13/d37n485s17n292n_3yvvjbw00000gn/T/ipykernel_27360/2617900055.py:7: RuntimeWarning: divide by zero encountered in log\n",
      "  df.loc[id, \"illiq\"] =  np.log(abs(1 - x/y)) / z\n",
      " 60%|█████▉    | 196/329 [00:22<00:16,  8.19it/s]/var/folders/13/d37n485s17n292n_3yvvjbw00000gn/T/ipykernel_27360/2617900055.py:7: RuntimeWarning: divide by zero encountered in log\n",
      "  df.loc[id, \"illiq\"] =  np.log(abs(1 - x/y)) / z\n",
      " 60%|█████▉    | 197/329 [00:22<00:15,  8.41it/s]/var/folders/13/d37n485s17n292n_3yvvjbw00000gn/T/ipykernel_27360/2617900055.py:7: RuntimeWarning: divide by zero encountered in log\n",
      "  df.loc[id, \"illiq\"] =  np.log(abs(1 - x/y)) / z\n",
      "/var/folders/13/d37n485s17n292n_3yvvjbw00000gn/T/ipykernel_27360/2617900055.py:7: RuntimeWarning: divide by zero encountered in log\n",
      "  df.loc[id, \"illiq\"] =  np.log(abs(1 - x/y)) / z\n",
      " 60%|██████    | 199/329 [00:22<00:14,  8.96it/s]/var/folders/13/d37n485s17n292n_3yvvjbw00000gn/T/ipykernel_27360/2617900055.py:7: RuntimeWarning: divide by zero encountered in log\n",
      "  df.loc[id, \"illiq\"] =  np.log(abs(1 - x/y)) / z\n",
      " 61%|██████    | 200/329 [00:22<00:14,  8.80it/s]/var/folders/13/d37n485s17n292n_3yvvjbw00000gn/T/ipykernel_27360/2617900055.py:7: RuntimeWarning: divide by zero encountered in log\n",
      "  df.loc[id, \"illiq\"] =  np.log(abs(1 - x/y)) / z\n",
      " 61%|██████    | 201/329 [00:22<00:14,  8.60it/s]/var/folders/13/d37n485s17n292n_3yvvjbw00000gn/T/ipykernel_27360/2617900055.py:7: RuntimeWarning: divide by zero encountered in log\n",
      "  df.loc[id, \"illiq\"] =  np.log(abs(1 - x/y)) / z\n",
      "/var/folders/13/d37n485s17n292n_3yvvjbw00000gn/T/ipykernel_27360/2617900055.py:7: RuntimeWarning: divide by zero encountered in log\n",
      "  df.loc[id, \"illiq\"] =  np.log(abs(1 - x/y)) / z\n",
      " 62%|██████▏   | 203/329 [00:22<00:13,  9.28it/s]/var/folders/13/d37n485s17n292n_3yvvjbw00000gn/T/ipykernel_27360/2617900055.py:7: RuntimeWarning: divide by zero encountered in log\n",
      "  df.loc[id, \"illiq\"] =  np.log(abs(1 - x/y)) / z\n",
      " 62%|██████▏   | 204/329 [00:22<00:14,  8.86it/s]/var/folders/13/d37n485s17n292n_3yvvjbw00000gn/T/ipykernel_27360/2617900055.py:7: RuntimeWarning: divide by zero encountered in log\n",
      "  df.loc[id, \"illiq\"] =  np.log(abs(1 - x/y)) / z\n",
      " 62%|██████▏   | 205/329 [00:23<00:13,  8.94it/s]/var/folders/13/d37n485s17n292n_3yvvjbw00000gn/T/ipykernel_27360/2617900055.py:7: RuntimeWarning: divide by zero encountered in log\n",
      "  df.loc[id, \"illiq\"] =  np.log(abs(1 - x/y)) / z\n",
      "/var/folders/13/d37n485s17n292n_3yvvjbw00000gn/T/ipykernel_27360/2617900055.py:7: RuntimeWarning: divide by zero encountered in log\n",
      "  df.loc[id, \"illiq\"] =  np.log(abs(1 - x/y)) / z\n",
      " 63%|██████▎   | 207/329 [00:23<00:13,  8.96it/s]/var/folders/13/d37n485s17n292n_3yvvjbw00000gn/T/ipykernel_27360/2617900055.py:7: RuntimeWarning: divide by zero encountered in log\n",
      "  df.loc[id, \"illiq\"] =  np.log(abs(1 - x/y)) / z\n",
      "/var/folders/13/d37n485s17n292n_3yvvjbw00000gn/T/ipykernel_27360/2617900055.py:7: RuntimeWarning: divide by zero encountered in log\n",
      "  df.loc[id, \"illiq\"] =  np.log(abs(1 - x/y)) / z\n",
      " 64%|██████▎   | 209/329 [00:23<00:12,  9.24it/s]/var/folders/13/d37n485s17n292n_3yvvjbw00000gn/T/ipykernel_27360/2617900055.py:7: RuntimeWarning: divide by zero encountered in log\n",
      "  df.loc[id, \"illiq\"] =  np.log(abs(1 - x/y)) / z\n",
      "/var/folders/13/d37n485s17n292n_3yvvjbw00000gn/T/ipykernel_27360/2617900055.py:7: RuntimeWarning: divide by zero encountered in log\n",
      "  df.loc[id, \"illiq\"] =  np.log(abs(1 - x/y)) / z\n",
      " 64%|██████▍   | 211/329 [00:23<00:12,  9.20it/s]/var/folders/13/d37n485s17n292n_3yvvjbw00000gn/T/ipykernel_27360/2617900055.py:7: RuntimeWarning: divide by zero encountered in log\n",
      "  df.loc[id, \"illiq\"] =  np.log(abs(1 - x/y)) / z\n",
      " 64%|██████▍   | 212/329 [00:23<00:13,  8.94it/s]/var/folders/13/d37n485s17n292n_3yvvjbw00000gn/T/ipykernel_27360/2617900055.py:7: RuntimeWarning: divide by zero encountered in log\n",
      "  df.loc[id, \"illiq\"] =  np.log(abs(1 - x/y)) / z\n",
      " 65%|██████▍   | 213/329 [00:23<00:12,  8.93it/s]/var/folders/13/d37n485s17n292n_3yvvjbw00000gn/T/ipykernel_27360/2617900055.py:7: RuntimeWarning: divide by zero encountered in log\n",
      "  df.loc[id, \"illiq\"] =  np.log(abs(1 - x/y)) / z\n",
      " 65%|██████▌   | 214/329 [00:24<00:13,  8.44it/s]/var/folders/13/d37n485s17n292n_3yvvjbw00000gn/T/ipykernel_27360/2617900055.py:7: RuntimeWarning: divide by zero encountered in log\n",
      "  df.loc[id, \"illiq\"] =  np.log(abs(1 - x/y)) / z\n",
      " 65%|██████▌   | 215/329 [00:24<00:14,  7.96it/s]/var/folders/13/d37n485s17n292n_3yvvjbw00000gn/T/ipykernel_27360/2617900055.py:7: RuntimeWarning: divide by zero encountered in log\n",
      "  df.loc[id, \"illiq\"] =  np.log(abs(1 - x/y)) / z\n",
      " 66%|██████▌   | 216/329 [00:24<00:13,  8.17it/s]/var/folders/13/d37n485s17n292n_3yvvjbw00000gn/T/ipykernel_27360/2617900055.py:7: RuntimeWarning: divide by zero encountered in log\n",
      "  df.loc[id, \"illiq\"] =  np.log(abs(1 - x/y)) / z\n",
      " 66%|██████▌   | 217/329 [00:24<00:13,  8.32it/s]/var/folders/13/d37n485s17n292n_3yvvjbw00000gn/T/ipykernel_27360/2617900055.py:7: RuntimeWarning: divide by zero encountered in log\n",
      "  df.loc[id, \"illiq\"] =  np.log(abs(1 - x/y)) / z\n",
      " 66%|██████▋   | 218/329 [00:24<00:13,  8.47it/s]/var/folders/13/d37n485s17n292n_3yvvjbw00000gn/T/ipykernel_27360/2617900055.py:7: RuntimeWarning: divide by zero encountered in log\n",
      "  df.loc[id, \"illiq\"] =  np.log(abs(1 - x/y)) / z\n",
      " 67%|██████▋   | 219/329 [00:24<00:12,  8.57it/s]/var/folders/13/d37n485s17n292n_3yvvjbw00000gn/T/ipykernel_27360/2617900055.py:7: RuntimeWarning: divide by zero encountered in log\n",
      "  df.loc[id, \"illiq\"] =  np.log(abs(1 - x/y)) / z\n",
      " 67%|██████▋   | 220/329 [00:24<00:13,  8.10it/s]/var/folders/13/d37n485s17n292n_3yvvjbw00000gn/T/ipykernel_27360/2617900055.py:7: RuntimeWarning: divide by zero encountered in log\n",
      "  df.loc[id, \"illiq\"] =  np.log(abs(1 - x/y)) / z\n",
      " 67%|██████▋   | 221/329 [00:24<00:13,  7.72it/s]/var/folders/13/d37n485s17n292n_3yvvjbw00000gn/T/ipykernel_27360/2617900055.py:7: RuntimeWarning: divide by zero encountered in log\n",
      "  df.loc[id, \"illiq\"] =  np.log(abs(1 - x/y)) / z\n",
      " 67%|██████▋   | 222/329 [00:25<00:13,  8.17it/s]/var/folders/13/d37n485s17n292n_3yvvjbw00000gn/T/ipykernel_27360/2617900055.py:7: RuntimeWarning: divide by zero encountered in log\n",
      "  df.loc[id, \"illiq\"] =  np.log(abs(1 - x/y)) / z\n",
      " 68%|██████▊   | 223/329 [00:25<00:12,  8.42it/s]/var/folders/13/d37n485s17n292n_3yvvjbw00000gn/T/ipykernel_27360/2617900055.py:7: RuntimeWarning: divide by zero encountered in log\n",
      "  df.loc[id, \"illiq\"] =  np.log(abs(1 - x/y)) / z\n",
      " 68%|██████▊   | 224/329 [00:25<00:12,  8.47it/s]/var/folders/13/d37n485s17n292n_3yvvjbw00000gn/T/ipykernel_27360/2617900055.py:7: RuntimeWarning: divide by zero encountered in log\n",
      "  df.loc[id, \"illiq\"] =  np.log(abs(1 - x/y)) / z\n",
      "/var/folders/13/d37n485s17n292n_3yvvjbw00000gn/T/ipykernel_27360/2617900055.py:7: RuntimeWarning: divide by zero encountered in log\n",
      "  df.loc[id, \"illiq\"] =  np.log(abs(1 - x/y)) / z\n",
      " 69%|██████▊   | 226/329 [00:25<00:10,  9.63it/s]/var/folders/13/d37n485s17n292n_3yvvjbw00000gn/T/ipykernel_27360/2617900055.py:7: RuntimeWarning: divide by zero encountered in log\n",
      "  df.loc[id, \"illiq\"] =  np.log(abs(1 - x/y)) / z\n",
      " 69%|██████▉   | 227/329 [00:25<00:10,  9.38it/s]/var/folders/13/d37n485s17n292n_3yvvjbw00000gn/T/ipykernel_27360/2617900055.py:7: RuntimeWarning: divide by zero encountered in log\n",
      "  df.loc[id, \"illiq\"] =  np.log(abs(1 - x/y)) / z\n",
      "/var/folders/13/d37n485s17n292n_3yvvjbw00000gn/T/ipykernel_27360/2617900055.py:7: RuntimeWarning: divide by zero encountered in log\n",
      "  df.loc[id, \"illiq\"] =  np.log(abs(1 - x/y)) / z\n",
      " 70%|██████▉   | 229/329 [00:25<00:10,  9.43it/s]/var/folders/13/d37n485s17n292n_3yvvjbw00000gn/T/ipykernel_27360/2617900055.py:7: RuntimeWarning: divide by zero encountered in log\n",
      "  df.loc[id, \"illiq\"] =  np.log(abs(1 - x/y)) / z\n",
      " 70%|███████   | 231/329 [00:25<00:09,  9.90it/s]/var/folders/13/d37n485s17n292n_3yvvjbw00000gn/T/ipykernel_27360/2617900055.py:7: RuntimeWarning: divide by zero encountered in log\n",
      "  df.loc[id, \"illiq\"] =  np.log(abs(1 - x/y)) / z\n",
      " 71%|███████   | 232/329 [00:26<00:10,  9.61it/s]/var/folders/13/d37n485s17n292n_3yvvjbw00000gn/T/ipykernel_27360/2617900055.py:7: RuntimeWarning: divide by zero encountered in log\n",
      "  df.loc[id, \"illiq\"] =  np.log(abs(1 - x/y)) / z\n",
      " 71%|███████   | 233/329 [00:26<00:10,  9.25it/s]/var/folders/13/d37n485s17n292n_3yvvjbw00000gn/T/ipykernel_27360/2617900055.py:7: RuntimeWarning: divide by zero encountered in log\n",
      "  df.loc[id, \"illiq\"] =  np.log(abs(1 - x/y)) / z\n",
      "/var/folders/13/d37n485s17n292n_3yvvjbw00000gn/T/ipykernel_27360/2617900055.py:7: RuntimeWarning: divide by zero encountered in log\n",
      "  df.loc[id, \"illiq\"] =  np.log(abs(1 - x/y)) / z\n",
      " 71%|███████▏  | 235/329 [00:26<00:09,  9.47it/s]/var/folders/13/d37n485s17n292n_3yvvjbw00000gn/T/ipykernel_27360/2617900055.py:7: RuntimeWarning: divide by zero encountered in log\n",
      "  df.loc[id, \"illiq\"] =  np.log(abs(1 - x/y)) / z\n",
      " 72%|███████▏  | 236/329 [00:26<00:10,  8.82it/s]/var/folders/13/d37n485s17n292n_3yvvjbw00000gn/T/ipykernel_27360/2617900055.py:7: RuntimeWarning: divide by zero encountered in log\n",
      "  df.loc[id, \"illiq\"] =  np.log(abs(1 - x/y)) / z\n",
      " 72%|███████▏  | 237/329 [00:26<00:10,  8.71it/s]/var/folders/13/d37n485s17n292n_3yvvjbw00000gn/T/ipykernel_27360/2617900055.py:7: RuntimeWarning: divide by zero encountered in log\n",
      "  df.loc[id, \"illiq\"] =  np.log(abs(1 - x/y)) / z\n",
      "/var/folders/13/d37n485s17n292n_3yvvjbw00000gn/T/ipykernel_27360/2617900055.py:7: RuntimeWarning: divide by zero encountered in log\n",
      "  df.loc[id, \"illiq\"] =  np.log(abs(1 - x/y)) / z\n",
      " 73%|███████▎  | 239/329 [00:26<00:08, 10.04it/s]/var/folders/13/d37n485s17n292n_3yvvjbw00000gn/T/ipykernel_27360/2617900055.py:7: RuntimeWarning: divide by zero encountered in log\n",
      "  df.loc[id, \"illiq\"] =  np.log(abs(1 - x/y)) / z\n",
      " 73%|███████▎  | 240/329 [00:26<00:09,  9.50it/s]/var/folders/13/d37n485s17n292n_3yvvjbw00000gn/T/ipykernel_27360/2617900055.py:7: RuntimeWarning: divide by zero encountered in log\n",
      "  df.loc[id, \"illiq\"] =  np.log(abs(1 - x/y)) / z\n",
      " 73%|███████▎  | 241/329 [00:27<00:09,  9.13it/s]/var/folders/13/d37n485s17n292n_3yvvjbw00000gn/T/ipykernel_27360/2617900055.py:7: RuntimeWarning: divide by zero encountered in log\n",
      "  df.loc[id, \"illiq\"] =  np.log(abs(1 - x/y)) / z\n",
      " 74%|███████▎  | 242/329 [00:27<00:09,  9.31it/s]/var/folders/13/d37n485s17n292n_3yvvjbw00000gn/T/ipykernel_27360/2617900055.py:7: RuntimeWarning: divide by zero encountered in log\n",
      "  df.loc[id, \"illiq\"] =  np.log(abs(1 - x/y)) / z\n",
      "/var/folders/13/d37n485s17n292n_3yvvjbw00000gn/T/ipykernel_27360/2617900055.py:7: RuntimeWarning: divide by zero encountered in log\n",
      "  df.loc[id, \"illiq\"] =  np.log(abs(1 - x/y)) / z\n",
      " 74%|███████▍  | 244/329 [00:27<00:08,  9.95it/s]/var/folders/13/d37n485s17n292n_3yvvjbw00000gn/T/ipykernel_27360/2617900055.py:7: RuntimeWarning: divide by zero encountered in log\n",
      "  df.loc[id, \"illiq\"] =  np.log(abs(1 - x/y)) / z\n",
      "/var/folders/13/d37n485s17n292n_3yvvjbw00000gn/T/ipykernel_27360/2617900055.py:7: RuntimeWarning: divide by zero encountered in log\n",
      "  df.loc[id, \"illiq\"] =  np.log(abs(1 - x/y)) / z\n",
      " 75%|███████▍  | 246/329 [00:27<00:08, 10.24it/s]/var/folders/13/d37n485s17n292n_3yvvjbw00000gn/T/ipykernel_27360/2617900055.py:7: RuntimeWarning: divide by zero encountered in log\n",
      "  df.loc[id, \"illiq\"] =  np.log(abs(1 - x/y)) / z\n",
      "/var/folders/13/d37n485s17n292n_3yvvjbw00000gn/T/ipykernel_27360/2617900055.py:7: RuntimeWarning: divide by zero encountered in log\n",
      "  df.loc[id, \"illiq\"] =  np.log(abs(1 - x/y)) / z\n",
      " 75%|███████▌  | 248/329 [00:27<00:09,  8.84it/s]/var/folders/13/d37n485s17n292n_3yvvjbw00000gn/T/ipykernel_27360/2617900055.py:7: RuntimeWarning: divide by zero encountered in log\n",
      "  df.loc[id, \"illiq\"] =  np.log(abs(1 - x/y)) / z\n",
      " 76%|███████▌  | 249/329 [00:27<00:08,  9.00it/s]/var/folders/13/d37n485s17n292n_3yvvjbw00000gn/T/ipykernel_27360/2617900055.py:7: RuntimeWarning: divide by zero encountered in log\n",
      "  df.loc[id, \"illiq\"] =  np.log(abs(1 - x/y)) / z\n",
      " 76%|███████▌  | 250/329 [00:28<00:08,  9.09it/s]/var/folders/13/d37n485s17n292n_3yvvjbw00000gn/T/ipykernel_27360/2617900055.py:7: RuntimeWarning: divide by zero encountered in log\n",
      "  df.loc[id, \"illiq\"] =  np.log(abs(1 - x/y)) / z\n",
      " 77%|███████▋  | 252/329 [00:28<00:09,  7.98it/s]/var/folders/13/d37n485s17n292n_3yvvjbw00000gn/T/ipykernel_27360/2617900055.py:7: RuntimeWarning: divide by zero encountered in log\n",
      "  df.loc[id, \"illiq\"] =  np.log(abs(1 - x/y)) / z\n",
      " 77%|███████▋  | 253/329 [00:28<00:09,  7.76it/s]/var/folders/13/d37n485s17n292n_3yvvjbw00000gn/T/ipykernel_27360/2617900055.py:7: RuntimeWarning: divide by zero encountered in log\n",
      "  df.loc[id, \"illiq\"] =  np.log(abs(1 - x/y)) / z\n",
      " 77%|███████▋  | 254/329 [00:28<00:09,  8.10it/s]/var/folders/13/d37n485s17n292n_3yvvjbw00000gn/T/ipykernel_27360/2617900055.py:7: RuntimeWarning: divide by zero encountered in log\n",
      "  df.loc[id, \"illiq\"] =  np.log(abs(1 - x/y)) / z\n",
      " 78%|███████▊  | 256/329 [00:28<00:07,  9.48it/s]/var/folders/13/d37n485s17n292n_3yvvjbw00000gn/T/ipykernel_27360/2617900055.py:7: RuntimeWarning: divide by zero encountered in log\n",
      "  df.loc[id, \"illiq\"] =  np.log(abs(1 - x/y)) / z\n",
      " 78%|███████▊  | 257/329 [00:28<00:07,  9.29it/s]/var/folders/13/d37n485s17n292n_3yvvjbw00000gn/T/ipykernel_27360/2617900055.py:7: RuntimeWarning: divide by zero encountered in log\n",
      "  df.loc[id, \"illiq\"] =  np.log(abs(1 - x/y)) / z\n",
      "/var/folders/13/d37n485s17n292n_3yvvjbw00000gn/T/ipykernel_27360/2617900055.py:7: RuntimeWarning: divide by zero encountered in log\n",
      "  df.loc[id, \"illiq\"] =  np.log(abs(1 - x/y)) / z\n",
      " 79%|███████▊  | 259/329 [00:29<00:08,  8.45it/s]/var/folders/13/d37n485s17n292n_3yvvjbw00000gn/T/ipykernel_27360/2617900055.py:7: RuntimeWarning: divide by zero encountered in log\n",
      "  df.loc[id, \"illiq\"] =  np.log(abs(1 - x/y)) / z\n",
      " 79%|███████▉  | 260/329 [00:29<00:08,  7.96it/s]/var/folders/13/d37n485s17n292n_3yvvjbw00000gn/T/ipykernel_27360/2617900055.py:7: RuntimeWarning: divide by zero encountered in log\n",
      "  df.loc[id, \"illiq\"] =  np.log(abs(1 - x/y)) / z\n",
      "/var/folders/13/d37n485s17n292n_3yvvjbw00000gn/T/ipykernel_27360/2617900055.py:7: RuntimeWarning: divide by zero encountered in log\n",
      "  df.loc[id, \"illiq\"] =  np.log(abs(1 - x/y)) / z\n",
      " 80%|███████▉  | 262/329 [00:29<00:07,  9.42it/s]/var/folders/13/d37n485s17n292n_3yvvjbw00000gn/T/ipykernel_27360/2617900055.py:7: RuntimeWarning: divide by zero encountered in log\n",
      "  df.loc[id, \"illiq\"] =  np.log(abs(1 - x/y)) / z\n",
      "/var/folders/13/d37n485s17n292n_3yvvjbw00000gn/T/ipykernel_27360/2617900055.py:7: RuntimeWarning: divide by zero encountered in log\n",
      "  df.loc[id, \"illiq\"] =  np.log(abs(1 - x/y)) / z\n",
      " 80%|████████  | 264/329 [00:29<00:06,  9.62it/s]/var/folders/13/d37n485s17n292n_3yvvjbw00000gn/T/ipykernel_27360/2617900055.py:7: RuntimeWarning: divide by zero encountered in log\n",
      "  df.loc[id, \"illiq\"] =  np.log(abs(1 - x/y)) / z\n",
      " 81%|████████  | 265/329 [00:29<00:06,  9.29it/s]/var/folders/13/d37n485s17n292n_3yvvjbw00000gn/T/ipykernel_27360/2617900055.py:7: RuntimeWarning: divide by zero encountered in log\n",
      "  df.loc[id, \"illiq\"] =  np.log(abs(1 - x/y)) / z\n",
      "/var/folders/13/d37n485s17n292n_3yvvjbw00000gn/T/ipykernel_27360/2617900055.py:7: RuntimeWarning: divide by zero encountered in log\n",
      "  df.loc[id, \"illiq\"] =  np.log(abs(1 - x/y)) / z\n",
      " 81%|████████  | 267/329 [00:30<00:07,  8.73it/s]/var/folders/13/d37n485s17n292n_3yvvjbw00000gn/T/ipykernel_27360/2617900055.py:7: RuntimeWarning: divide by zero encountered in log\n",
      "  df.loc[id, \"illiq\"] =  np.log(abs(1 - x/y)) / z\n",
      " 81%|████████▏ | 268/329 [00:30<00:07,  8.56it/s]/var/folders/13/d37n485s17n292n_3yvvjbw00000gn/T/ipykernel_27360/2617900055.py:7: RuntimeWarning: divide by zero encountered in log\n",
      "  df.loc[id, \"illiq\"] =  np.log(abs(1 - x/y)) / z\n",
      " 82%|████████▏ | 269/329 [00:30<00:07,  8.11it/s]/var/folders/13/d37n485s17n292n_3yvvjbw00000gn/T/ipykernel_27360/2617900055.py:7: RuntimeWarning: divide by zero encountered in log\n",
      "  df.loc[id, \"illiq\"] =  np.log(abs(1 - x/y)) / z\n",
      " 82%|████████▏ | 270/329 [00:30<00:07,  7.61it/s]/var/folders/13/d37n485s17n292n_3yvvjbw00000gn/T/ipykernel_27360/2617900055.py:7: RuntimeWarning: divide by zero encountered in log\n",
      "  df.loc[id, \"illiq\"] =  np.log(abs(1 - x/y)) / z\n",
      " 82%|████████▏ | 271/329 [00:30<00:07,  7.63it/s]/var/folders/13/d37n485s17n292n_3yvvjbw00000gn/T/ipykernel_27360/2617900055.py:7: RuntimeWarning: divide by zero encountered in log\n",
      "  df.loc[id, \"illiq\"] =  np.log(abs(1 - x/y)) / z\n",
      " 83%|████████▎ | 272/329 [00:30<00:07,  7.75it/s]/var/folders/13/d37n485s17n292n_3yvvjbw00000gn/T/ipykernel_27360/2617900055.py:7: RuntimeWarning: divide by zero encountered in log\n",
      "  df.loc[id, \"illiq\"] =  np.log(abs(1 - x/y)) / z\n",
      "/var/folders/13/d37n485s17n292n_3yvvjbw00000gn/T/ipykernel_27360/2617900055.py:7: RuntimeWarning: divide by zero encountered in log\n",
      "  df.loc[id, \"illiq\"] =  np.log(abs(1 - x/y)) / z\n",
      " 83%|████████▎ | 274/329 [00:30<00:06,  8.21it/s]/var/folders/13/d37n485s17n292n_3yvvjbw00000gn/T/ipykernel_27360/2617900055.py:7: RuntimeWarning: divide by zero encountered in log\n",
      "  df.loc[id, \"illiq\"] =  np.log(abs(1 - x/y)) / z\n",
      " 84%|████████▎ | 275/329 [00:31<00:06,  8.24it/s]/var/folders/13/d37n485s17n292n_3yvvjbw00000gn/T/ipykernel_27360/2617900055.py:7: RuntimeWarning: divide by zero encountered in log\n",
      "  df.loc[id, \"illiq\"] =  np.log(abs(1 - x/y)) / z\n",
      " 84%|████████▍ | 276/329 [00:31<00:06,  7.67it/s]/var/folders/13/d37n485s17n292n_3yvvjbw00000gn/T/ipykernel_27360/2617900055.py:7: RuntimeWarning: divide by zero encountered in log\n",
      "  df.loc[id, \"illiq\"] =  np.log(abs(1 - x/y)) / z\n",
      " 84%|████████▍ | 277/329 [00:31<00:06,  8.14it/s]/var/folders/13/d37n485s17n292n_3yvvjbw00000gn/T/ipykernel_27360/2617900055.py:7: RuntimeWarning: divide by zero encountered in log\n",
      "  df.loc[id, \"illiq\"] =  np.log(abs(1 - x/y)) / z\n",
      " 84%|████████▍ | 278/329 [00:31<00:05,  8.54it/s]/var/folders/13/d37n485s17n292n_3yvvjbw00000gn/T/ipykernel_27360/2617900055.py:7: RuntimeWarning: divide by zero encountered in log\n",
      "  df.loc[id, \"illiq\"] =  np.log(abs(1 - x/y)) / z\n",
      " 85%|████████▍ | 279/329 [00:31<00:05,  8.91it/s]/var/folders/13/d37n485s17n292n_3yvvjbw00000gn/T/ipykernel_27360/2617900055.py:7: RuntimeWarning: divide by zero encountered in log\n",
      "  df.loc[id, \"illiq\"] =  np.log(abs(1 - x/y)) / z\n",
      " 85%|████████▌ | 280/329 [00:31<00:05,  9.18it/s]/var/folders/13/d37n485s17n292n_3yvvjbw00000gn/T/ipykernel_27360/2617900055.py:7: RuntimeWarning: divide by zero encountered in log\n",
      "  df.loc[id, \"illiq\"] =  np.log(abs(1 - x/y)) / z\n",
      " 85%|████████▌ | 281/329 [00:31<00:05,  8.53it/s]/var/folders/13/d37n485s17n292n_3yvvjbw00000gn/T/ipykernel_27360/2617900055.py:7: RuntimeWarning: divide by zero encountered in log\n",
      "  df.loc[id, \"illiq\"] =  np.log(abs(1 - x/y)) / z\n",
      " 86%|████████▌ | 282/329 [00:31<00:05,  8.50it/s]/var/folders/13/d37n485s17n292n_3yvvjbw00000gn/T/ipykernel_27360/2617900055.py:7: RuntimeWarning: divide by zero encountered in log\n",
      "  df.loc[id, \"illiq\"] =  np.log(abs(1 - x/y)) / z\n",
      " 86%|████████▌ | 283/329 [00:31<00:05,  8.55it/s]/var/folders/13/d37n485s17n292n_3yvvjbw00000gn/T/ipykernel_27360/2617900055.py:7: RuntimeWarning: divide by zero encountered in log\n",
      "  df.loc[id, \"illiq\"] =  np.log(abs(1 - x/y)) / z\n",
      " 86%|████████▋ | 284/329 [00:32<00:05,  8.89it/s]/var/folders/13/d37n485s17n292n_3yvvjbw00000gn/T/ipykernel_27360/2617900055.py:7: RuntimeWarning: divide by zero encountered in log\n",
      "  df.loc[id, \"illiq\"] =  np.log(abs(1 - x/y)) / z\n",
      " 87%|████████▋ | 285/329 [00:32<00:05,  8.69it/s]/var/folders/13/d37n485s17n292n_3yvvjbw00000gn/T/ipykernel_27360/2617900055.py:7: RuntimeWarning: divide by zero encountered in log\n",
      "  df.loc[id, \"illiq\"] =  np.log(abs(1 - x/y)) / z\n",
      " 87%|████████▋ | 286/329 [00:32<00:05,  7.26it/s]/var/folders/13/d37n485s17n292n_3yvvjbw00000gn/T/ipykernel_27360/2617900055.py:7: RuntimeWarning: divide by zero encountered in log\n",
      "  df.loc[id, \"illiq\"] =  np.log(abs(1 - x/y)) / z\n",
      " 87%|████████▋ | 287/329 [00:32<00:05,  7.11it/s]/var/folders/13/d37n485s17n292n_3yvvjbw00000gn/T/ipykernel_27360/2617900055.py:7: RuntimeWarning: divide by zero encountered in log\n",
      "  df.loc[id, \"illiq\"] =  np.log(abs(1 - x/y)) / z\n",
      " 88%|████████▊ | 288/329 [00:32<00:05,  7.38it/s]/var/folders/13/d37n485s17n292n_3yvvjbw00000gn/T/ipykernel_27360/2617900055.py:7: RuntimeWarning: divide by zero encountered in log\n",
      "  df.loc[id, \"illiq\"] =  np.log(abs(1 - x/y)) / z\n",
      "/var/folders/13/d37n485s17n292n_3yvvjbw00000gn/T/ipykernel_27360/2617900055.py:7: RuntimeWarning: divide by zero encountered in log\n",
      "  df.loc[id, \"illiq\"] =  np.log(abs(1 - x/y)) / z\n",
      " 88%|████████▊ | 290/329 [00:32<00:04,  8.88it/s]/var/folders/13/d37n485s17n292n_3yvvjbw00000gn/T/ipykernel_27360/2617900055.py:7: RuntimeWarning: divide by zero encountered in log\n",
      "  df.loc[id, \"illiq\"] =  np.log(abs(1 - x/y)) / z\n",
      " 88%|████████▊ | 291/329 [00:32<00:04,  8.79it/s]/var/folders/13/d37n485s17n292n_3yvvjbw00000gn/T/ipykernel_27360/2617900055.py:7: RuntimeWarning: divide by zero encountered in log\n",
      "  df.loc[id, \"illiq\"] =  np.log(abs(1 - x/y)) / z\n",
      " 89%|████████▉ | 292/329 [00:33<00:04,  8.11it/s]/var/folders/13/d37n485s17n292n_3yvvjbw00000gn/T/ipykernel_27360/2617900055.py:7: RuntimeWarning: divide by zero encountered in log\n",
      "  df.loc[id, \"illiq\"] =  np.log(abs(1 - x/y)) / z\n",
      " 89%|████████▉ | 293/329 [00:33<00:04,  8.29it/s]/var/folders/13/d37n485s17n292n_3yvvjbw00000gn/T/ipykernel_27360/2617900055.py:7: RuntimeWarning: divide by zero encountered in log\n",
      "  df.loc[id, \"illiq\"] =  np.log(abs(1 - x/y)) / z\n",
      "/var/folders/13/d37n485s17n292n_3yvvjbw00000gn/T/ipykernel_27360/2617900055.py:7: RuntimeWarning: divide by zero encountered in log\n",
      "  df.loc[id, \"illiq\"] =  np.log(abs(1 - x/y)) / z\n",
      " 90%|████████▉ | 295/329 [00:33<00:04,  7.81it/s]/var/folders/13/d37n485s17n292n_3yvvjbw00000gn/T/ipykernel_27360/2617900055.py:7: RuntimeWarning: divide by zero encountered in log\n",
      "  df.loc[id, \"illiq\"] =  np.log(abs(1 - x/y)) / z\n",
      " 90%|████████▉ | 296/329 [00:33<00:04,  7.82it/s]/var/folders/13/d37n485s17n292n_3yvvjbw00000gn/T/ipykernel_27360/2617900055.py:7: RuntimeWarning: divide by zero encountered in log\n",
      "  df.loc[id, \"illiq\"] =  np.log(abs(1 - x/y)) / z\n",
      " 90%|█████████ | 297/329 [00:33<00:04,  7.38it/s]/var/folders/13/d37n485s17n292n_3yvvjbw00000gn/T/ipykernel_27360/2617900055.py:7: RuntimeWarning: divide by zero encountered in log\n",
      "  df.loc[id, \"illiq\"] =  np.log(abs(1 - x/y)) / z\n",
      " 91%|█████████ | 298/329 [00:33<00:03,  7.82it/s]/var/folders/13/d37n485s17n292n_3yvvjbw00000gn/T/ipykernel_27360/2617900055.py:7: RuntimeWarning: divide by zero encountered in log\n",
      "  df.loc[id, \"illiq\"] =  np.log(abs(1 - x/y)) / z\n",
      " 91%|█████████ | 299/329 [00:34<00:03,  8.23it/s]/var/folders/13/d37n485s17n292n_3yvvjbw00000gn/T/ipykernel_27360/2617900055.py:7: RuntimeWarning: divide by zero encountered in log\n",
      "  df.loc[id, \"illiq\"] =  np.log(abs(1 - x/y)) / z\n",
      " 91%|█████████ | 300/329 [00:34<00:03,  8.55it/s]/var/folders/13/d37n485s17n292n_3yvvjbw00000gn/T/ipykernel_27360/2617900055.py:7: RuntimeWarning: divide by zero encountered in log\n",
      "  df.loc[id, \"illiq\"] =  np.log(abs(1 - x/y)) / z\n",
      " 91%|█████████▏| 301/329 [00:34<00:03,  8.71it/s]/var/folders/13/d37n485s17n292n_3yvvjbw00000gn/T/ipykernel_27360/2617900055.py:7: RuntimeWarning: divide by zero encountered in log\n",
      "  df.loc[id, \"illiq\"] =  np.log(abs(1 - x/y)) / z\n",
      "/var/folders/13/d37n485s17n292n_3yvvjbw00000gn/T/ipykernel_27360/2617900055.py:7: RuntimeWarning: divide by zero encountered in log\n",
      "  df.loc[id, \"illiq\"] =  np.log(abs(1 - x/y)) / z\n",
      " 92%|█████████▏| 303/329 [00:34<00:02,  9.13it/s]/var/folders/13/d37n485s17n292n_3yvvjbw00000gn/T/ipykernel_27360/2617900055.py:7: RuntimeWarning: divide by zero encountered in log\n",
      "  df.loc[id, \"illiq\"] =  np.log(abs(1 - x/y)) / z\n",
      " 92%|█████████▏| 304/329 [00:34<00:02,  9.29it/s]/var/folders/13/d37n485s17n292n_3yvvjbw00000gn/T/ipykernel_27360/2617900055.py:7: RuntimeWarning: divide by zero encountered in log\n",
      "  df.loc[id, \"illiq\"] =  np.log(abs(1 - x/y)) / z\n",
      " 93%|█████████▎| 305/329 [00:34<00:02,  8.83it/s]/var/folders/13/d37n485s17n292n_3yvvjbw00000gn/T/ipykernel_27360/2617900055.py:7: RuntimeWarning: divide by zero encountered in log\n",
      "  df.loc[id, \"illiq\"] =  np.log(abs(1 - x/y)) / z\n",
      " 93%|█████████▎| 306/329 [00:34<00:02,  8.32it/s]/var/folders/13/d37n485s17n292n_3yvvjbw00000gn/T/ipykernel_27360/2617900055.py:7: RuntimeWarning: divide by zero encountered in log\n",
      "  df.loc[id, \"illiq\"] =  np.log(abs(1 - x/y)) / z\n",
      " 93%|█████████▎| 307/329 [00:34<00:02,  8.16it/s]/var/folders/13/d37n485s17n292n_3yvvjbw00000gn/T/ipykernel_27360/2617900055.py:7: RuntimeWarning: divide by zero encountered in log\n",
      "  df.loc[id, \"illiq\"] =  np.log(abs(1 - x/y)) / z\n",
      "/var/folders/13/d37n485s17n292n_3yvvjbw00000gn/T/ipykernel_27360/2617900055.py:7: RuntimeWarning: divide by zero encountered in log\n",
      "  df.loc[id, \"illiq\"] =  np.log(abs(1 - x/y)) / z\n",
      " 94%|█████████▍| 309/329 [00:35<00:02,  8.90it/s]/var/folders/13/d37n485s17n292n_3yvvjbw00000gn/T/ipykernel_27360/2617900055.py:7: RuntimeWarning: divide by zero encountered in log\n",
      "  df.loc[id, \"illiq\"] =  np.log(abs(1 - x/y)) / z\n",
      " 94%|█████████▍| 310/329 [00:35<00:02,  8.75it/s]/var/folders/13/d37n485s17n292n_3yvvjbw00000gn/T/ipykernel_27360/2617900055.py:7: RuntimeWarning: divide by zero encountered in log\n",
      "  df.loc[id, \"illiq\"] =  np.log(abs(1 - x/y)) / z\n",
      " 95%|█████████▍| 311/329 [00:35<00:02,  7.25it/s]/var/folders/13/d37n485s17n292n_3yvvjbw00000gn/T/ipykernel_27360/2617900055.py:7: RuntimeWarning: divide by zero encountered in log\n",
      "  df.loc[id, \"illiq\"] =  np.log(abs(1 - x/y)) / z\n",
      "/var/folders/13/d37n485s17n292n_3yvvjbw00000gn/T/ipykernel_27360/2617900055.py:7: RuntimeWarning: divide by zero encountered in log\n",
      "  df.loc[id, \"illiq\"] =  np.log(abs(1 - x/y)) / z\n",
      " 95%|█████████▌| 313/329 [00:35<00:01,  8.44it/s]/var/folders/13/d37n485s17n292n_3yvvjbw00000gn/T/ipykernel_27360/2617900055.py:7: RuntimeWarning: divide by zero encountered in log\n",
      "  df.loc[id, \"illiq\"] =  np.log(abs(1 - x/y)) / z\n",
      " 95%|█████████▌| 314/329 [00:35<00:01,  8.42it/s]/var/folders/13/d37n485s17n292n_3yvvjbw00000gn/T/ipykernel_27360/2617900055.py:7: RuntimeWarning: divide by zero encountered in log\n",
      "  df.loc[id, \"illiq\"] =  np.log(abs(1 - x/y)) / z\n",
      " 96%|█████████▌| 315/329 [00:35<00:01,  8.33it/s]/var/folders/13/d37n485s17n292n_3yvvjbw00000gn/T/ipykernel_27360/2617900055.py:7: RuntimeWarning: divide by zero encountered in log\n",
      "  df.loc[id, \"illiq\"] =  np.log(abs(1 - x/y)) / z\n",
      " 96%|█████████▌| 316/329 [00:36<00:01,  7.98it/s]/var/folders/13/d37n485s17n292n_3yvvjbw00000gn/T/ipykernel_27360/2617900055.py:7: RuntimeWarning: divide by zero encountered in log\n",
      "  df.loc[id, \"illiq\"] =  np.log(abs(1 - x/y)) / z\n",
      "/var/folders/13/d37n485s17n292n_3yvvjbw00000gn/T/ipykernel_27360/2617900055.py:7: RuntimeWarning: divide by zero encountered in log\n",
      "  df.loc[id, \"illiq\"] =  np.log(abs(1 - x/y)) / z\n",
      " 97%|█████████▋| 318/329 [00:36<00:01,  8.31it/s]/var/folders/13/d37n485s17n292n_3yvvjbw00000gn/T/ipykernel_27360/2617900055.py:7: RuntimeWarning: divide by zero encountered in log\n",
      "  df.loc[id, \"illiq\"] =  np.log(abs(1 - x/y)) / z\n",
      " 97%|█████████▋| 319/329 [00:36<00:01,  7.95it/s]/var/folders/13/d37n485s17n292n_3yvvjbw00000gn/T/ipykernel_27360/2617900055.py:7: RuntimeWarning: divide by zero encountered in log\n",
      "  df.loc[id, \"illiq\"] =  np.log(abs(1 - x/y)) / z\n",
      " 97%|█████████▋| 320/329 [00:36<00:01,  8.12it/s]/var/folders/13/d37n485s17n292n_3yvvjbw00000gn/T/ipykernel_27360/2617900055.py:7: RuntimeWarning: divide by zero encountered in log\n",
      "  df.loc[id, \"illiq\"] =  np.log(abs(1 - x/y)) / z\n",
      " 98%|█████████▊| 321/329 [00:36<00:00,  8.45it/s]/var/folders/13/d37n485s17n292n_3yvvjbw00000gn/T/ipykernel_27360/2617900055.py:7: RuntimeWarning: divide by zero encountered in log\n",
      "  df.loc[id, \"illiq\"] =  np.log(abs(1 - x/y)) / z\n",
      " 98%|█████████▊| 322/329 [00:36<00:00,  8.05it/s]/var/folders/13/d37n485s17n292n_3yvvjbw00000gn/T/ipykernel_27360/2617900055.py:7: RuntimeWarning: divide by zero encountered in log\n",
      "  df.loc[id, \"illiq\"] =  np.log(abs(1 - x/y)) / z\n",
      "/var/folders/13/d37n485s17n292n_3yvvjbw00000gn/T/ipykernel_27360/2617900055.py:7: RuntimeWarning: divide by zero encountered in log\n",
      "  df.loc[id, \"illiq\"] =  np.log(abs(1 - x/y)) / z\n",
      " 98%|█████████▊| 324/329 [00:36<00:00,  8.05it/s]/var/folders/13/d37n485s17n292n_3yvvjbw00000gn/T/ipykernel_27360/2617900055.py:7: RuntimeWarning: divide by zero encountered in log\n",
      "  df.loc[id, \"illiq\"] =  np.log(abs(1 - x/y)) / z\n",
      " 99%|█████████▉| 325/329 [00:37<00:00,  8.23it/s]/var/folders/13/d37n485s17n292n_3yvvjbw00000gn/T/ipykernel_27360/2617900055.py:7: RuntimeWarning: divide by zero encountered in log\n",
      "  df.loc[id, \"illiq\"] =  np.log(abs(1 - x/y)) / z\n",
      " 99%|█████████▉| 326/329 [00:37<00:00,  8.48it/s]/var/folders/13/d37n485s17n292n_3yvvjbw00000gn/T/ipykernel_27360/2617900055.py:7: RuntimeWarning: divide by zero encountered in log\n",
      "  df.loc[id, \"illiq\"] =  np.log(abs(1 - x/y)) / z\n",
      " 99%|█████████▉| 327/329 [00:37<00:00,  8.61it/s]/var/folders/13/d37n485s17n292n_3yvvjbw00000gn/T/ipykernel_27360/2617900055.py:7: RuntimeWarning: divide by zero encountered in log\n",
      "  df.loc[id, \"illiq\"] =  np.log(abs(1 - x/y)) / z\n",
      "/var/folders/13/d37n485s17n292n_3yvvjbw00000gn/T/ipykernel_27360/2617900055.py:7: RuntimeWarning: divide by zero encountered in log\n",
      "  df.loc[id, \"illiq\"] =  np.log(abs(1 - x/y)) / z\n",
      "100%|██████████| 329/329 [00:37<00:00,  8.78it/s]\n"
     ]
    }
   ],
   "source": [
    "for key in tqdm(aggregate_data.keys()):\n",
    "    df = aggregate_data[key].copy()\n",
    "    df[\"illiq\"] = np.nan\n",
    "    for id in df.index:\n",
    "        x, y, z = df[\"close\"].loc[id], df[\"open\"].loc[id], df[\"volume\"].loc[id]\n",
    "        if x > 0 and y > 0 and z > 0:\n",
    "            df.loc[id, \"illiq\"] =  np.log(abs(1 - x/y)) / z\n",
    "    aggregate_data[key] = df"
   ],
   "metadata": {
    "collapsed": false,
    "pycharm": {
     "name": "#%%\n"
    }
   }
  },
  {
   "cell_type": "markdown",
   "source": [
    "# capm\n",
    "\n",
    "To calculate the CAPM parameters we first need to calculate the value-weighted market portfolio from the individual prices."
   ],
   "metadata": {
    "collapsed": false,
    "pycharm": {
     "name": "#%% md\n"
    }
   }
  },
  {
   "cell_type": "code",
   "execution_count": 41,
   "outputs": [],
   "source": [
    "# Union of all values in the days column\n",
    "all_days_sorted = my.sort_all_times([aggregate_data[key] for key in aggregate_data.keys()])"
   ],
   "metadata": {
    "collapsed": false,
    "pycharm": {
     "name": "#%%\n"
    }
   }
  },
  {
   "cell_type": "code",
   "execution_count": 42,
   "outputs": [
    {
     "name": "stderr",
     "output_type": "stream",
     "text": [
      "100%|██████████| 329/329 [00:16<00:00, 19.97it/s]\n"
     ]
    }
   ],
   "source": [
    "# Create empty dataframe for close prices\n",
    "close_prices = pd.DataFrame(index = all_days_sorted, columns = aggregate_data.keys())\n",
    "\n",
    "# Fill it with data\n",
    "for coin in tqdm(close_prices.columns):\n",
    "    index_where_coin_has_data = aggregate_data[coin].index\n",
    "    for index in index_where_coin_has_data:\n",
    "        close_prices.loc[index, coin] = aggregate_data[coin].loc[index, \"close\"]"
   ],
   "metadata": {
    "collapsed": false,
    "pycharm": {
     "name": "#%%\n"
    }
   }
  },
  {
   "cell_type": "code",
   "execution_count": 43,
   "outputs": [
    {
     "data": {
      "text/plain": "               FREC      CAPP    KICK     WAN  LTO     ADX     DRGN     DAG  \\\n2017-01-01      NaN       NaN     NaN     NaN  NaN     NaN      NaN     NaN   \n2017-01-02      NaN       NaN     NaN     NaN  NaN     NaN      NaN     NaN   \n2017-01-03      NaN       NaN     NaN     NaN  NaN     NaN      NaN     NaN   \n2017-01-04      NaN       NaN     NaN     NaN  NaN     NaN      NaN     NaN   \n2017-01-05      NaN       NaN     NaN     NaN  NaN     NaN      NaN     NaN   \n...             ...       ...     ...     ...  ...     ...      ...     ...   \n2022-02-25  0.00015  0.004707  0.0007  0.3611  NaN  0.4325  0.06189  0.1423   \n2022-02-26  0.00015  0.004449  0.0007  0.3584  NaN  0.4218  0.05828   0.141   \n2022-02-27  0.00015  0.004449  0.0007  0.3416  NaN  0.3931  0.05721  0.1369   \n2022-02-28  0.00015  0.004672  0.0007  0.3758  NaN  0.4298  0.06485  0.1489   \n2022-03-01  0.00015   0.00506  0.0007  0.3822  NaN  0.4364   0.0679  0.1414   \n\n                 DCN      MGO  ...    CRPT       ADB       STQ       SUB  \\\n2017-01-01       NaN      NaN  ...     NaN       NaN       NaN       NaN   \n2017-01-02       NaN      NaN  ...     NaN       NaN       NaN       NaN   \n2017-01-03       NaN      NaN  ...     NaN       NaN       NaN       NaN   \n2017-01-04       NaN      NaN  ...     NaN       NaN       NaN       NaN   \n2017-01-05       NaN      NaN  ...     NaN       NaN       NaN       NaN   \n...              ...      ...  ...     ...       ...       ...       ...   \n2022-02-25  0.000014  0.02388  ...  0.1451  0.000831  0.000021  0.002049   \n2022-02-26  0.000011  0.02388  ...  0.1326  0.000834  0.000021  0.002348   \n2022-02-27  0.000013  0.02388  ...  0.1288  0.000759  0.000021  0.001886   \n2022-02-28  0.000015  0.02388  ...  0.1463  0.000876  0.000021  0.002159   \n2022-03-01  0.000015  0.02388  ...  0.1545  0.000923  0.000021  0.002221   \n\n                DOGE      BTM  KIN    BNT     BMX  MATIC  \n2017-01-01  0.000227      NaN  NaN    NaN     NaN    NaN  \n2017-01-02  0.000221      NaN  NaN    NaN     NaN    NaN  \n2017-01-03  0.000222      NaN  NaN    NaN     NaN    NaN  \n2017-01-04  0.000221      NaN  NaN    NaN     NaN    NaN  \n2017-01-05   0.00023      NaN  NaN    NaN     NaN    NaN  \n...              ...      ...  ...    ...     ...    ...  \n2022-02-25    0.1278  0.02412  NaN  2.284  0.3076  1.552  \n2022-02-26    0.1277  0.02369  NaN  2.305  0.3014  1.518  \n2022-02-27    0.1229  0.02246  NaN  2.172  0.3026  1.454  \n2022-02-28    0.1334  0.02511  NaN  2.438  0.3078  1.617  \n2022-03-01     0.134  0.02533  NaN  2.464  0.3057  1.621  \n\n[1886 rows x 329 columns]",
      "text/html": "<div>\n<style scoped>\n    .dataframe tbody tr th:only-of-type {\n        vertical-align: middle;\n    }\n\n    .dataframe tbody tr th {\n        vertical-align: top;\n    }\n\n    .dataframe thead th {\n        text-align: right;\n    }\n</style>\n<table border=\"1\" class=\"dataframe\">\n  <thead>\n    <tr style=\"text-align: right;\">\n      <th></th>\n      <th>FREC</th>\n      <th>CAPP</th>\n      <th>KICK</th>\n      <th>WAN</th>\n      <th>LTO</th>\n      <th>ADX</th>\n      <th>DRGN</th>\n      <th>DAG</th>\n      <th>DCN</th>\n      <th>MGO</th>\n      <th>...</th>\n      <th>CRPT</th>\n      <th>ADB</th>\n      <th>STQ</th>\n      <th>SUB</th>\n      <th>DOGE</th>\n      <th>BTM</th>\n      <th>KIN</th>\n      <th>BNT</th>\n      <th>BMX</th>\n      <th>MATIC</th>\n    </tr>\n  </thead>\n  <tbody>\n    <tr>\n      <th>2017-01-01</th>\n      <td>NaN</td>\n      <td>NaN</td>\n      <td>NaN</td>\n      <td>NaN</td>\n      <td>NaN</td>\n      <td>NaN</td>\n      <td>NaN</td>\n      <td>NaN</td>\n      <td>NaN</td>\n      <td>NaN</td>\n      <td>...</td>\n      <td>NaN</td>\n      <td>NaN</td>\n      <td>NaN</td>\n      <td>NaN</td>\n      <td>0.000227</td>\n      <td>NaN</td>\n      <td>NaN</td>\n      <td>NaN</td>\n      <td>NaN</td>\n      <td>NaN</td>\n    </tr>\n    <tr>\n      <th>2017-01-02</th>\n      <td>NaN</td>\n      <td>NaN</td>\n      <td>NaN</td>\n      <td>NaN</td>\n      <td>NaN</td>\n      <td>NaN</td>\n      <td>NaN</td>\n      <td>NaN</td>\n      <td>NaN</td>\n      <td>NaN</td>\n      <td>...</td>\n      <td>NaN</td>\n      <td>NaN</td>\n      <td>NaN</td>\n      <td>NaN</td>\n      <td>0.000221</td>\n      <td>NaN</td>\n      <td>NaN</td>\n      <td>NaN</td>\n      <td>NaN</td>\n      <td>NaN</td>\n    </tr>\n    <tr>\n      <th>2017-01-03</th>\n      <td>NaN</td>\n      <td>NaN</td>\n      <td>NaN</td>\n      <td>NaN</td>\n      <td>NaN</td>\n      <td>NaN</td>\n      <td>NaN</td>\n      <td>NaN</td>\n      <td>NaN</td>\n      <td>NaN</td>\n      <td>...</td>\n      <td>NaN</td>\n      <td>NaN</td>\n      <td>NaN</td>\n      <td>NaN</td>\n      <td>0.000222</td>\n      <td>NaN</td>\n      <td>NaN</td>\n      <td>NaN</td>\n      <td>NaN</td>\n      <td>NaN</td>\n    </tr>\n    <tr>\n      <th>2017-01-04</th>\n      <td>NaN</td>\n      <td>NaN</td>\n      <td>NaN</td>\n      <td>NaN</td>\n      <td>NaN</td>\n      <td>NaN</td>\n      <td>NaN</td>\n      <td>NaN</td>\n      <td>NaN</td>\n      <td>NaN</td>\n      <td>...</td>\n      <td>NaN</td>\n      <td>NaN</td>\n      <td>NaN</td>\n      <td>NaN</td>\n      <td>0.000221</td>\n      <td>NaN</td>\n      <td>NaN</td>\n      <td>NaN</td>\n      <td>NaN</td>\n      <td>NaN</td>\n    </tr>\n    <tr>\n      <th>2017-01-05</th>\n      <td>NaN</td>\n      <td>NaN</td>\n      <td>NaN</td>\n      <td>NaN</td>\n      <td>NaN</td>\n      <td>NaN</td>\n      <td>NaN</td>\n      <td>NaN</td>\n      <td>NaN</td>\n      <td>NaN</td>\n      <td>...</td>\n      <td>NaN</td>\n      <td>NaN</td>\n      <td>NaN</td>\n      <td>NaN</td>\n      <td>0.00023</td>\n      <td>NaN</td>\n      <td>NaN</td>\n      <td>NaN</td>\n      <td>NaN</td>\n      <td>NaN</td>\n    </tr>\n    <tr>\n      <th>...</th>\n      <td>...</td>\n      <td>...</td>\n      <td>...</td>\n      <td>...</td>\n      <td>...</td>\n      <td>...</td>\n      <td>...</td>\n      <td>...</td>\n      <td>...</td>\n      <td>...</td>\n      <td>...</td>\n      <td>...</td>\n      <td>...</td>\n      <td>...</td>\n      <td>...</td>\n      <td>...</td>\n      <td>...</td>\n      <td>...</td>\n      <td>...</td>\n      <td>...</td>\n      <td>...</td>\n    </tr>\n    <tr>\n      <th>2022-02-25</th>\n      <td>0.00015</td>\n      <td>0.004707</td>\n      <td>0.0007</td>\n      <td>0.3611</td>\n      <td>NaN</td>\n      <td>0.4325</td>\n      <td>0.06189</td>\n      <td>0.1423</td>\n      <td>0.000014</td>\n      <td>0.02388</td>\n      <td>...</td>\n      <td>0.1451</td>\n      <td>0.000831</td>\n      <td>0.000021</td>\n      <td>0.002049</td>\n      <td>0.1278</td>\n      <td>0.02412</td>\n      <td>NaN</td>\n      <td>2.284</td>\n      <td>0.3076</td>\n      <td>1.552</td>\n    </tr>\n    <tr>\n      <th>2022-02-26</th>\n      <td>0.00015</td>\n      <td>0.004449</td>\n      <td>0.0007</td>\n      <td>0.3584</td>\n      <td>NaN</td>\n      <td>0.4218</td>\n      <td>0.05828</td>\n      <td>0.141</td>\n      <td>0.000011</td>\n      <td>0.02388</td>\n      <td>...</td>\n      <td>0.1326</td>\n      <td>0.000834</td>\n      <td>0.000021</td>\n      <td>0.002348</td>\n      <td>0.1277</td>\n      <td>0.02369</td>\n      <td>NaN</td>\n      <td>2.305</td>\n      <td>0.3014</td>\n      <td>1.518</td>\n    </tr>\n    <tr>\n      <th>2022-02-27</th>\n      <td>0.00015</td>\n      <td>0.004449</td>\n      <td>0.0007</td>\n      <td>0.3416</td>\n      <td>NaN</td>\n      <td>0.3931</td>\n      <td>0.05721</td>\n      <td>0.1369</td>\n      <td>0.000013</td>\n      <td>0.02388</td>\n      <td>...</td>\n      <td>0.1288</td>\n      <td>0.000759</td>\n      <td>0.000021</td>\n      <td>0.001886</td>\n      <td>0.1229</td>\n      <td>0.02246</td>\n      <td>NaN</td>\n      <td>2.172</td>\n      <td>0.3026</td>\n      <td>1.454</td>\n    </tr>\n    <tr>\n      <th>2022-02-28</th>\n      <td>0.00015</td>\n      <td>0.004672</td>\n      <td>0.0007</td>\n      <td>0.3758</td>\n      <td>NaN</td>\n      <td>0.4298</td>\n      <td>0.06485</td>\n      <td>0.1489</td>\n      <td>0.000015</td>\n      <td>0.02388</td>\n      <td>...</td>\n      <td>0.1463</td>\n      <td>0.000876</td>\n      <td>0.000021</td>\n      <td>0.002159</td>\n      <td>0.1334</td>\n      <td>0.02511</td>\n      <td>NaN</td>\n      <td>2.438</td>\n      <td>0.3078</td>\n      <td>1.617</td>\n    </tr>\n    <tr>\n      <th>2022-03-01</th>\n      <td>0.00015</td>\n      <td>0.00506</td>\n      <td>0.0007</td>\n      <td>0.3822</td>\n      <td>NaN</td>\n      <td>0.4364</td>\n      <td>0.0679</td>\n      <td>0.1414</td>\n      <td>0.000015</td>\n      <td>0.02388</td>\n      <td>...</td>\n      <td>0.1545</td>\n      <td>0.000923</td>\n      <td>0.000021</td>\n      <td>0.002221</td>\n      <td>0.134</td>\n      <td>0.02533</td>\n      <td>NaN</td>\n      <td>2.464</td>\n      <td>0.3057</td>\n      <td>1.621</td>\n    </tr>\n  </tbody>\n</table>\n<p>1886 rows × 329 columns</p>\n</div>"
     },
     "execution_count": 43,
     "metadata": {},
     "output_type": "execute_result"
    }
   ],
   "source": [
    "close_prices"
   ],
   "metadata": {
    "collapsed": false,
    "pycharm": {
     "name": "#%%\n"
    }
   }
  },
  {
   "cell_type": "code",
   "execution_count": 44,
   "outputs": [
    {
     "name": "stderr",
     "output_type": "stream",
     "text": [
      "100%|██████████| 329/329 [00:15<00:00, 21.54it/s]\n"
     ]
    }
   ],
   "source": [
    "# Create empty dataframe for market capitalization\n",
    "market_capitalization = pd.DataFrame(index = all_days_sorted, columns = aggregate_data.keys())\n",
    "\n",
    "# Fill it with data\n",
    "for coin in tqdm(close_prices.columns):\n",
    "    index_where_coin_has_data = aggregate_data[coin].index\n",
    "    for index in index_where_coin_has_data:\n",
    "        market_capitalization.loc[index, coin] = aggregate_data[coin].loc[index, \"size\"]\n"
   ],
   "metadata": {
    "collapsed": false,
    "pycharm": {
     "name": "#%%\n"
    }
   }
  },
  {
   "cell_type": "code",
   "execution_count": 45,
   "outputs": [],
   "source": [
    "# Some coins have buggy data. BTC has the highest market capitalization so we can remove coins that supposedly have higher market capitalization\n",
    "extreme_market_cap = []\n",
    "for coin in market_capitalization.columns:\n",
    "    if any(market_capitalization[coin] >  market_capitalization[\"BTC\"]): extreme_market_cap.append(coin)"
   ],
   "metadata": {
    "collapsed": false,
    "pycharm": {
     "name": "#%%\n"
    }
   }
  },
  {
   "cell_type": "code",
   "execution_count": 46,
   "outputs": [
    {
     "data": {
      "text/plain": "7"
     },
     "execution_count": 46,
     "metadata": {},
     "output_type": "execute_result"
    }
   ],
   "source": [
    "len(extreme_market_cap)"
   ],
   "metadata": {
    "collapsed": false,
    "pycharm": {
     "name": "#%%\n"
    }
   }
  },
  {
   "cell_type": "code",
   "execution_count": 47,
   "outputs": [],
   "source": [
    "for coin in extreme_market_cap:\n",
    "    del market_capitalization[coin]\n",
    "    aggregate_data.pop(coin)"
   ],
   "metadata": {
    "collapsed": false,
    "pycharm": {
     "name": "#%%\n"
    }
   }
  },
  {
   "cell_type": "code",
   "execution_count": 48,
   "outputs": [],
   "source": [
    "# Calculate sum of market capitalization\n",
    "total_market_capitalization = market_capitalization.sum(axis = 1)\n",
    "\n",
    "# Percentage of importance based on values\n",
    "value_weights = market_capitalization.divide(total_market_capitalization.replace(0, np.nan), axis = 0)\n",
    "\n",
    "# Price of value-weighted market portfolio\n",
    "market_price = value_weights.multiply(close_prices, axis = 1).sum(axis = 1)\n",
    "\n",
    "# Returns of market portfolio\n",
    "market_returns = market_price.pct_change()\n",
    "market_returns.index = pd.to_datetime(market_returns.index)\n",
    "\n",
    "excess_market_returns = market_returns.sub(treasury_yield_rates[\"1 Mo\"] / 100, level = \"index\")"
   ],
   "metadata": {
    "collapsed": false,
    "pycharm": {
     "name": "#%%\n"
    }
   }
  },
  {
   "cell_type": "code",
   "execution_count": 49,
   "outputs": [
    {
     "data": {
      "text/plain": "<AxesSubplot:>"
     },
     "execution_count": 49,
     "metadata": {},
     "output_type": "execute_result"
    },
    {
     "data": {
      "text/plain": "<Figure size 432x288 with 1 Axes>",
      "image/png": "[encoded data removed]"
     },
     "metadata": {
      "needs_background": "light"
     },
     "output_type": "display_data"
    }
   ],
   "source": [
    "market_returns.plot()"
   ],
   "metadata": {
    "collapsed": false,
    "pycharm": {
     "name": "#%%\n"
    }
   }
  },
  {
   "cell_type": "code",
   "execution_count": 50,
   "outputs": [
    {
     "data": {
      "text/plain": "<AxesSubplot:>"
     },
     "execution_count": 50,
     "metadata": {},
     "output_type": "execute_result"
    },
    {
     "data": {
      "text/plain": "<Figure size 432x288 with 1 Axes>",
      "image/png": "[encoded data removed]"
     },
     "metadata": {
      "needs_background": "light"
     },
     "output_type": "display_data"
    }
   ],
   "source": [
    "treasury_yield_rates[\"1 Mo\"].plot()"
   ],
   "metadata": {
    "collapsed": false,
    "pycharm": {
     "name": "#%%\n"
    }
   }
  },
  {
   "cell_type": "code",
   "execution_count": 51,
   "outputs": [
    {
     "data": {
      "text/plain": "<AxesSubplot:>"
     },
     "execution_count": 51,
     "metadata": {},
     "output_type": "execute_result"
    },
    {
     "data": {
      "text/plain": "<Figure size 432x288 with 1 Axes>",
      "image/png": "[encoded data removed]"
     },
     "metadata": {
      "needs_background": "light"
     },
     "output_type": "display_data"
    }
   ],
   "source": [
    "excess_market_returns.plot()"
   ],
   "metadata": {
    "collapsed": false,
    "pycharm": {
     "name": "#%%\n"
    }
   }
  },
  {
   "cell_type": "code",
   "execution_count": 52,
   "outputs": [
    {
     "data": {
      "text/plain": "<AxesSubplot:>"
     },
     "execution_count": 52,
     "metadata": {},
     "output_type": "execute_result"
    },
    {
     "data": {
      "text/plain": "<Figure size 432x288 with 1 Axes>",
      "image/png": "[encoded data removed]"
     },
     "metadata": {
      "needs_background": "light"
     },
     "output_type": "display_data"
    }
   ],
   "source": [
    "value_weights.BTC.plot()"
   ],
   "metadata": {
    "collapsed": false,
    "pycharm": {
     "name": "#%%\n"
    }
   }
  },
  {
   "cell_type": "code",
   "execution_count": 53,
   "outputs": [
    {
     "data": {
      "text/plain": "Series([], dtype: float64)"
     },
     "execution_count": 53,
     "metadata": {},
     "output_type": "execute_result"
    }
   ],
   "source": [
    "market_returns[market_returns > 2]"
   ],
   "metadata": {
    "collapsed": false,
    "pycharm": {
     "name": "#%%\n"
    }
   }
  },
  {
   "cell_type": "markdown",
   "source": [
    "## capm $\\beta$\n",
    "\n",
    "The market beta calculated based on a 30-day rolling window. We follow Lewellen and Nagel (2006) and calculate the beta as the sum of the coefficients of daily returns on the market excess return and one lag of the market excess returns. The market portfolio is calculated as the value-weighted average of the asset returns available at each day t."
   ],
   "metadata": {
    "collapsed": false,
    "pycharm": {
     "name": "#%% md\n"
    }
   }
  },
  {
   "cell_type": "markdown",
   "source": [
    "## First data point on the 31. day where prices are available for a coin"
   ],
   "metadata": {
    "collapsed": false,
    "pycharm": {
     "name": "#%% md\n"
    }
   }
  },
  {
   "cell_type": "markdown",
   "source": [
    "\"Second, and more important, nonsynchronous price movements can have a big impact on short-horizon betas. Lo and MacKinlay (1990) show that small stocks tend to react with a week or more delay to common news, so a daily or weekly beta will miss much of the small-stock covariance with market returns. To mitigate this problem, our tests focus on value-weighted portfolios and exclude NASDAQ stocks. Also, following Dimson (1979), we include both current and lagged market returns in the regressions, estimating beta as the sum of the slopes on all lags (alpha is still just the intercept). For daily returns, we include four lags of market returns, imposing the constraint that lags 2–4 have the same slope to reduce the number of parameters:\"\n",
    "\n",
    "$R_{i,t} = \\alpha_i + \\beta_{i0}R_{M,t} + \\beta_{i1}R_{M,t-1} + \\beta_{i2}[(R_{M,t-2} + R_{M,t-3} + R_{M,t-4})/3]$\n",
    "\n",
    "\"The daily beta is then $\\beta_i = \\beta_{i0} +\\beta_{i1} +\\beta_{i2} $. (Adding a few more lags doesn’t affect the\n",
    "results.) For weekly returns, we include two lags of market returns:\""
   ],
   "metadata": {
    "collapsed": false,
    "pycharm": {
     "name": "#%% md\n"
    }
   }
  },
  {
   "cell_type": "code",
   "execution_count": 54,
   "outputs": [
    {
     "name": "stderr",
     "output_type": "stream",
     "text": [
      "100%|██████████| 322/322 [18:46<00:00,  3.50s/it]  \n"
     ]
    }
   ],
   "source": [
    "# Suppress runtime warnings\n",
    "import warnings\n",
    "warnings.filterwarnings(\"ignore\")\n",
    "# Cycle through all the coins\n",
    "for coin in tqdm(aggregate_data.keys()):\n",
    "    # Create empty column where we will insert data\n",
    "    aggregate_data[coin][\"capm beta\"] = np.nan\n",
    "    aggregate_data[coin][\"capm alpha\"] = np.nan\n",
    "    aggregate_data[coin][\"ivol\"] = np.nan\n",
    "\n",
    "    # One regression per rolling window of size 30 days:\n",
    "    windowsize = 30\n",
    "\n",
    "    # How many windows?\n",
    "    m = len(aggregate_data[coin]) - windowsize + 1\n",
    "\n",
    "    for i in np.arange(m):\n",
    "        # Don't start on first day since there is no return, instead start on day 2\n",
    "        days_0_lag = aggregate_data[coin][\"daily excess return\"].iloc[i + 1 : i+31].index\n",
    "        days_1_lag = aggregate_data[coin][\"daily excess return\"].iloc[i + 0 : i+30].index\n",
    "        x0 = excess_market_returns.loc[days_0_lag].reset_index(drop = True)\n",
    "        x1 = excess_market_returns.loc[days_1_lag].reset_index(drop = True)\n",
    "        X = pd.concat([x0, x1], axis = 1)\n",
    "        X = sm.add_constant(X)\n",
    "\n",
    "        # Also start on day 2\n",
    "        y = aggregate_data[coin][\"daily excess return\"].iloc[i + 1:i+31].reset_index(drop = True)\n",
    "        if any(1 - np.isnan(y)) and any(1 - np.isnan(X)):\n",
    "            try:\n",
    "                model = sm.OLS(y, X, missing='drop')\n",
    "            except:\n",
    "                beta = np.nan\n",
    "                alpha = np.nan\n",
    "                ivol = np.nan\n",
    "            else:\n",
    "                try:\n",
    "                    results = model.fit()\n",
    "                except:\n",
    "                    beta = np.nan\n",
    "                    alpha = np.nan\n",
    "                    ivol = np.nan\n",
    "                else:\n",
    "                    try:\n",
    "                        beta = results.params[0] + results.params[1]\n",
    "                        alpha = results.params[\"const\"]\n",
    "                        ivol = np.nanstd(y - results.predict(X))\n",
    "                    except:\n",
    "                        beta = np.nan\n",
    "                        alpha = np.nan\n",
    "                        ivol = np.nan\n",
    "\n",
    "            aggregate_data[coin].loc[days_0_lag[-1], \"capm beta\"] = beta\n",
    "            aggregate_data[coin].loc[days_0_lag[-1], \"capm alpha\"] = alpha\n",
    "            aggregate_data[coin].loc[days_0_lag[-1], \"ivol\"] = ivol\n",
    "\n",
    "\n"
   ],
   "metadata": {
    "collapsed": false,
    "pycharm": {
     "name": "#%%\n"
    }
   }
  },
  {
   "cell_type": "code",
   "execution_count": 55,
   "outputs": [
    {
     "data": {
      "text/plain": "<AxesSubplot:xlabel='day'>"
     },
     "execution_count": 55,
     "metadata": {},
     "output_type": "execute_result"
    },
    {
     "data": {
      "text/plain": "<Figure size 432x288 with 1 Axes>",
      "image/png": "[encoded data removed]"
     },
     "metadata": {
      "needs_background": "light"
     },
     "output_type": "display_data"
    }
   ],
   "source": [
    "aggregate_data[\"BTC\"][\"capm beta\"].plot()"
   ],
   "metadata": {
    "collapsed": false,
    "pycharm": {
     "name": "#%%\n"
    }
   }
  },
  {
   "cell_type": "code",
   "execution_count": 56,
   "outputs": [
    {
     "data": {
      "text/plain": "<AxesSubplot:xlabel='day'>"
     },
     "execution_count": 56,
     "metadata": {},
     "output_type": "execute_result"
    },
    {
     "data": {
      "text/plain": "<Figure size 432x288 with 1 Axes>",
      "image/png": "[encoded data removed]"
     },
     "metadata": {
      "needs_background": "light"
     },
     "output_type": "display_data"
    }
   ],
   "source": [
    "aggregate_data[\"BTC\"][\"ivol\"].plot()\n"
   ],
   "metadata": {
    "collapsed": false,
    "pycharm": {
     "name": "#%%\n"
    }
   }
  },
  {
   "cell_type": "code",
   "execution_count": 57,
   "outputs": [
    {
     "data": {
      "text/plain": "<AxesSubplot:xlabel='day'>"
     },
     "execution_count": 57,
     "metadata": {},
     "output_type": "execute_result"
    },
    {
     "data": {
      "text/plain": "<Figure size 432x288 with 1 Axes>",
      "image/png": "[encoded data removed]"
     },
     "metadata": {
      "needs_background": "light"
     },
     "output_type": "display_data"
    }
   ],
   "source": [
    "aggregate_data[\"ETH\"][\"ivol\"].plot()\n"
   ],
   "metadata": {
    "collapsed": false,
    "pycharm": {
     "name": "#%%\n"
    }
   }
  },
  {
   "cell_type": "markdown",
   "source": [
    "## capm $\\alpha$ all clear"
   ],
   "metadata": {
    "collapsed": false,
    "pycharm": {
     "name": "#%% md\n"
    }
   }
  },
  {
   "cell_type": "markdown",
   "source": [
    "Done simultaneously with ivol and beta."
   ],
   "metadata": {
    "collapsed": false,
    "pycharm": {
     "name": "#%% md\n"
    }
   }
  },
  {
   "cell_type": "markdown",
   "source": [
    "# ivol. all clear\n",
    "\n",
    "The standard deviation from the residuals from a CAPM regression calculated based on a 30-day rolling window (see description of the capm β).\n",
    "\n",
    "Done simultaneously with alpha and beta."
   ],
   "metadata": {
    "collapsed": false,
    "pycharm": {
     "name": "#%% md\n"
    }
   }
  },
  {
   "cell_type": "markdown",
   "source": [
    "# turnover.\n",
    "\n",
    "Turnover is last day’s trading volume in $ over the current supply (see Datar et al., 1998). The current available supply is calculated as the current supply minus the coins that have been burned."
   ],
   "metadata": {
    "collapsed": false,
    "pycharm": {
     "name": "#%% md\n"
    }
   }
  },
  {
   "cell_type": "code",
   "execution_count": 58,
   "outputs": [
    {
     "name": "stderr",
     "output_type": "stream",
     "text": [
      "100%|██████████| 322/322 [00:00<00:00, 3279.55it/s]\n"
     ]
    }
   ],
   "source": [
    "for coin in tqdm(aggregate_data.keys()):\n",
    "    # Create empty column where we will insert data\n",
    "    aggregate_data[coin][\"turnover\"] = aggregate_data[coin][\"volume\"].shift(1) / aggregate_data[coin][\"current_supply\"]"
   ],
   "metadata": {
    "collapsed": false,
    "pycharm": {
     "name": "#%%\n"
    }
   }
  },
  {
   "cell_type": "code",
   "execution_count": 59,
   "outputs": [
    {
     "data": {
      "text/plain": "<AxesSubplot:xlabel='day'>"
     },
     "execution_count": 59,
     "metadata": {},
     "output_type": "execute_result"
    },
    {
     "data": {
      "text/plain": "<Figure size 432x288 with 1 Axes>",
      "image/png": "[encoded data removed]"
     },
     "metadata": {
      "needs_background": "light"
     },
     "output_type": "display_data"
    }
   ],
   "source": [
    "aggregate_data[\"BTC\"][\"turnover\"].plot()"
   ],
   "metadata": {
    "collapsed": false,
    "pycharm": {
     "name": "#%%\n"
    }
   }
  },
  {
   "cell_type": "markdown",
   "source": [
    "# rvol.\n",
    "\n",
    "We follow Yang and Zhang (2000) and calculate the daily realised volatility calculated based on daily OHLC prices.\n",
    "\n",
    "Window size of 30 according to Bianchi & Babiak."
   ],
   "metadata": {
    "collapsed": false,
    "pycharm": {
     "name": "#%% md\n"
    }
   }
  },
  {
   "cell_type": "code",
   "execution_count": 60,
   "outputs": [
    {
     "data": {
      "text/plain": "                  time      high       low      open  volumefrom  \\\nday                                                                \n2017-01-01  1483228800   1001.61    956.10    963.38    41148.52   \n2017-01-02  1483315200   1031.68    990.20    995.44    64951.63   \n2017-01-03  1483401600   1035.47   1006.53   1017.05    54788.01   \n2017-01-04  1483488000   1148.54   1022.32   1033.30   156272.17   \n2017-01-05  1483574400   1150.63    874.53   1135.41   240007.84   \n...                ...       ...       ...       ...         ...   \n2022-02-25  1645747200  39710.26  38043.51  38353.62    39454.29   \n2022-02-26  1645833600  40228.13  38605.65  39239.77    18649.99   \n2022-02-27  1645920000  39861.91  37039.71  39134.83    30834.07   \n2022-02-28  1646006400  43953.92  37473.30  37714.96    55323.43   \n2022-03-01  1646092800  44883.10  42893.50  43189.46    48462.11   \n\n                volumeto     close conversionType  conversionSymbol  \\\nday                                                                   \n2017-01-01  4.057092e+07    995.44         direct               NaN   \n2017-01-02  6.603807e+07   1017.05         direct               NaN   \n2017-01-03  5.608587e+07   1033.30         direct               NaN   \n2017-01-04  1.705846e+08   1135.41         direct               NaN   \n2017-01-05  2.448393e+08    989.35         direct               NaN   \n...                  ...       ...            ...               ...   \n2022-02-25  1.536576e+09  39239.77         direct               NaN   \n2022-02-26  7.329960e+08  39134.83         direct               NaN   \n2022-02-27  1.184510e+09  37714.96         direct               NaN   \n2022-02-28  2.231772e+09  43189.46         direct               NaN   \n2022-03-01  2.121207e+09  44428.47         direct               NaN   \n\n                      timestamp  ...        volume  exclude_testing  \\\nday                              ...                                  \n2017-01-01  2017-01-01 01:00:00  ...  4.096088e+07            False   \n2017-01-02  2017-01-02 01:00:00  ...  6.605906e+07            False   \n2017-01-03  2017-01-03 01:00:00  ...  5.661245e+07            False   \n2017-01-04  2017-01-04 01:00:00  ...  1.774330e+08            False   \n2017-01-05  2017-01-05 01:00:00  ...  2.374518e+08            False   \n...                         ...  ...           ...              ...   \n2022-02-25  2022-02-25 01:00:00  ...  1.548177e+09            False   \n2022-02-26  2022-02-26 01:00:00  ...  7.298642e+08            False   \n2022-02-27  2022-02-27 01:00:00  ...  1.162906e+09            False   \n2022-02-28  2022-02-28 01:00:00  ...  2.389389e+09            False   \n2022-03-01  2022-03-01 01:00:00  ...  2.153097e+09            False   \n\n            exclude_training_and_testing        bm          size  \\\nday                                                                \n2017-01-01                         False  0.013175  1.600404e+10   \n2017-01-02                         False  0.012915  1.635349e+10   \n2017-01-03                         False  0.012732  1.661690e+10   \n2017-01-04                         False  0.011608  1.826114e+10   \n2017-01-05                         False  0.013342  1.591375e+10   \n...                                  ...       ...           ...   \n2022-02-25                         False  0.001293  7.443181e+11   \n2022-02-26                         False  0.001297  7.423547e+11   \n2022-02-27                         False  0.001347  7.154530e+11   \n2022-02-28                         False  0.001176  8.193480e+11   \n2022-03-01                         False  0.001144  8.428986e+11   \n\n                   illiq  capm beta  capm alpha      ivol    turnover  \nday                                                                    \n2017-01-01 -8.307533e-08        NaN         NaN       NaN         NaN  \n2017-01-02 -5.797886e-08        NaN         NaN       NaN    2.547423  \n2017-01-03 -7.306818e-08        NaN         NaN       NaN    4.107795  \n2017-01-04 -1.304415e-08        NaN         NaN       NaN    3.519952  \n2017-01-05 -8.636414e-09        NaN         NaN       NaN   11.030924  \n...                  ...        ...         ...       ...         ...  \n2022-02-25 -2.433648e-09   1.041192   -0.000333  0.004976  188.748089  \n2022-02-26 -8.116657e-09   1.042503   -0.000077  0.004801   81.615506  \n2022-02-27 -2.851863e-09   1.044346   -0.000507  0.004726   38.474642  \n2022-02-28 -8.077194e-10   1.038689   -0.000645  0.004714   61.299068  \n2022-03-01 -1.649384e-09        NaN         NaN       NaN  125.942674  \n\n[1886 rows x 36 columns]",
      "text/html": "<div>\n<style scoped>\n    .dataframe tbody tr th:only-of-type {\n        vertical-align: middle;\n    }\n\n    .dataframe tbody tr th {\n        vertical-align: top;\n    }\n\n    .dataframe thead th {\n        text-align: right;\n    }\n</style>\n<table border=\"1\" class=\"dataframe\">\n  <thead>\n    <tr style=\"text-align: right;\">\n      <th></th>\n      <th>time</th>\n      <th>high</th>\n      <th>low</th>\n      <th>open</th>\n      <th>volumefrom</th>\n      <th>volumeto</th>\n      <th>close</th>\n      <th>conversionType</th>\n      <th>conversionSymbol</th>\n      <th>timestamp</th>\n      <th>...</th>\n      <th>volume</th>\n      <th>exclude_testing</th>\n      <th>exclude_training_and_testing</th>\n      <th>bm</th>\n      <th>size</th>\n      <th>illiq</th>\n      <th>capm beta</th>\n      <th>capm alpha</th>\n      <th>ivol</th>\n      <th>turnover</th>\n    </tr>\n    <tr>\n      <th>day</th>\n      <th></th>\n      <th></th>\n      <th></th>\n      <th></th>\n      <th></th>\n      <th></th>\n      <th></th>\n      <th></th>\n      <th></th>\n      <th></th>\n      <th></th>\n      <th></th>\n      <th></th>\n      <th></th>\n      <th></th>\n      <th></th>\n      <th></th>\n      <th></th>\n      <th></th>\n      <th></th>\n      <th></th>\n    </tr>\n  </thead>\n  <tbody>\n    <tr>\n      <th>2017-01-01</th>\n      <td>1483228800</td>\n      <td>1001.61</td>\n      <td>956.10</td>\n      <td>963.38</td>\n      <td>41148.52</td>\n      <td>4.057092e+07</td>\n      <td>995.44</td>\n      <td>direct</td>\n      <td>NaN</td>\n      <td>2017-01-01 01:00:00</td>\n      <td>...</td>\n      <td>4.096088e+07</td>\n      <td>False</td>\n      <td>False</td>\n      <td>0.013175</td>\n      <td>1.600404e+10</td>\n      <td>-8.307533e-08</td>\n      <td>NaN</td>\n      <td>NaN</td>\n      <td>NaN</td>\n      <td>NaN</td>\n    </tr>\n    <tr>\n      <th>2017-01-02</th>\n      <td>1483315200</td>\n      <td>1031.68</td>\n      <td>990.20</td>\n      <td>995.44</td>\n      <td>64951.63</td>\n      <td>6.603807e+07</td>\n      <td>1017.05</td>\n      <td>direct</td>\n      <td>NaN</td>\n      <td>2017-01-02 01:00:00</td>\n      <td>...</td>\n      <td>6.605906e+07</td>\n      <td>False</td>\n      <td>False</td>\n      <td>0.012915</td>\n      <td>1.635349e+10</td>\n      <td>-5.797886e-08</td>\n      <td>NaN</td>\n      <td>NaN</td>\n      <td>NaN</td>\n      <td>2.547423</td>\n    </tr>\n    <tr>\n      <th>2017-01-03</th>\n      <td>1483401600</td>\n      <td>1035.47</td>\n      <td>1006.53</td>\n      <td>1017.05</td>\n      <td>54788.01</td>\n      <td>5.608587e+07</td>\n      <td>1033.30</td>\n      <td>direct</td>\n      <td>NaN</td>\n      <td>2017-01-03 01:00:00</td>\n      <td>...</td>\n      <td>5.661245e+07</td>\n      <td>False</td>\n      <td>False</td>\n      <td>0.012732</td>\n      <td>1.661690e+10</td>\n      <td>-7.306818e-08</td>\n      <td>NaN</td>\n      <td>NaN</td>\n      <td>NaN</td>\n      <td>4.107795</td>\n    </tr>\n    <tr>\n      <th>2017-01-04</th>\n      <td>1483488000</td>\n      <td>1148.54</td>\n      <td>1022.32</td>\n      <td>1033.30</td>\n      <td>156272.17</td>\n      <td>1.705846e+08</td>\n      <td>1135.41</td>\n      <td>direct</td>\n      <td>NaN</td>\n      <td>2017-01-04 01:00:00</td>\n      <td>...</td>\n      <td>1.774330e+08</td>\n      <td>False</td>\n      <td>False</td>\n      <td>0.011608</td>\n      <td>1.826114e+10</td>\n      <td>-1.304415e-08</td>\n      <td>NaN</td>\n      <td>NaN</td>\n      <td>NaN</td>\n      <td>3.519952</td>\n    </tr>\n    <tr>\n      <th>2017-01-05</th>\n      <td>1483574400</td>\n      <td>1150.63</td>\n      <td>874.53</td>\n      <td>1135.41</td>\n      <td>240007.84</td>\n      <td>2.448393e+08</td>\n      <td>989.35</td>\n      <td>direct</td>\n      <td>NaN</td>\n      <td>2017-01-05 01:00:00</td>\n      <td>...</td>\n      <td>2.374518e+08</td>\n      <td>False</td>\n      <td>False</td>\n      <td>0.013342</td>\n      <td>1.591375e+10</td>\n      <td>-8.636414e-09</td>\n      <td>NaN</td>\n      <td>NaN</td>\n      <td>NaN</td>\n      <td>11.030924</td>\n    </tr>\n    <tr>\n      <th>...</th>\n      <td>...</td>\n      <td>...</td>\n      <td>...</td>\n      <td>...</td>\n      <td>...</td>\n      <td>...</td>\n      <td>...</td>\n      <td>...</td>\n      <td>...</td>\n      <td>...</td>\n      <td>...</td>\n      <td>...</td>\n      <td>...</td>\n      <td>...</td>\n      <td>...</td>\n      <td>...</td>\n      <td>...</td>\n      <td>...</td>\n      <td>...</td>\n      <td>...</td>\n      <td>...</td>\n    </tr>\n    <tr>\n      <th>2022-02-25</th>\n      <td>1645747200</td>\n      <td>39710.26</td>\n      <td>38043.51</td>\n      <td>38353.62</td>\n      <td>39454.29</td>\n      <td>1.536576e+09</td>\n      <td>39239.77</td>\n      <td>direct</td>\n      <td>NaN</td>\n      <td>2022-02-25 01:00:00</td>\n      <td>...</td>\n      <td>1.548177e+09</td>\n      <td>False</td>\n      <td>False</td>\n      <td>0.001293</td>\n      <td>7.443181e+11</td>\n      <td>-2.433648e-09</td>\n      <td>1.041192</td>\n      <td>-0.000333</td>\n      <td>0.004976</td>\n      <td>188.748089</td>\n    </tr>\n    <tr>\n      <th>2022-02-26</th>\n      <td>1645833600</td>\n      <td>40228.13</td>\n      <td>38605.65</td>\n      <td>39239.77</td>\n      <td>18649.99</td>\n      <td>7.329960e+08</td>\n      <td>39134.83</td>\n      <td>direct</td>\n      <td>NaN</td>\n      <td>2022-02-26 01:00:00</td>\n      <td>...</td>\n      <td>7.298642e+08</td>\n      <td>False</td>\n      <td>False</td>\n      <td>0.001297</td>\n      <td>7.423547e+11</td>\n      <td>-8.116657e-09</td>\n      <td>1.042503</td>\n      <td>-0.000077</td>\n      <td>0.004801</td>\n      <td>81.615506</td>\n    </tr>\n    <tr>\n      <th>2022-02-27</th>\n      <td>1645920000</td>\n      <td>39861.91</td>\n      <td>37039.71</td>\n      <td>39134.83</td>\n      <td>30834.07</td>\n      <td>1.184510e+09</td>\n      <td>37714.96</td>\n      <td>direct</td>\n      <td>NaN</td>\n      <td>2022-02-27 01:00:00</td>\n      <td>...</td>\n      <td>1.162906e+09</td>\n      <td>False</td>\n      <td>False</td>\n      <td>0.001347</td>\n      <td>7.154530e+11</td>\n      <td>-2.851863e-09</td>\n      <td>1.044346</td>\n      <td>-0.000507</td>\n      <td>0.004726</td>\n      <td>38.474642</td>\n    </tr>\n    <tr>\n      <th>2022-02-28</th>\n      <td>1646006400</td>\n      <td>43953.92</td>\n      <td>37473.30</td>\n      <td>37714.96</td>\n      <td>55323.43</td>\n      <td>2.231772e+09</td>\n      <td>43189.46</td>\n      <td>direct</td>\n      <td>NaN</td>\n      <td>2022-02-28 01:00:00</td>\n      <td>...</td>\n      <td>2.389389e+09</td>\n      <td>False</td>\n      <td>False</td>\n      <td>0.001176</td>\n      <td>8.193480e+11</td>\n      <td>-8.077194e-10</td>\n      <td>1.038689</td>\n      <td>-0.000645</td>\n      <td>0.004714</td>\n      <td>61.299068</td>\n    </tr>\n    <tr>\n      <th>2022-03-01</th>\n      <td>1646092800</td>\n      <td>44883.10</td>\n      <td>42893.50</td>\n      <td>43189.46</td>\n      <td>48462.11</td>\n      <td>2.121207e+09</td>\n      <td>44428.47</td>\n      <td>direct</td>\n      <td>NaN</td>\n      <td>2022-03-01 01:00:00</td>\n      <td>...</td>\n      <td>2.153097e+09</td>\n      <td>False</td>\n      <td>False</td>\n      <td>0.001144</td>\n      <td>8.428986e+11</td>\n      <td>-1.649384e-09</td>\n      <td>NaN</td>\n      <td>NaN</td>\n      <td>NaN</td>\n      <td>125.942674</td>\n    </tr>\n  </tbody>\n</table>\n<p>1886 rows × 36 columns</p>\n</div>"
     },
     "execution_count": 60,
     "metadata": {},
     "output_type": "execute_result"
    }
   ],
   "source": [
    "aggregate_data[\"BTC\"]"
   ],
   "metadata": {
    "collapsed": false,
    "pycharm": {
     "name": "#%%\n"
    }
   }
  },
  {
   "cell_type": "code",
   "execution_count": 61,
   "outputs": [
    {
     "name": "stderr",
     "output_type": "stream",
     "text": [
      "100%|██████████| 322/322 [12:39<00:00,  2.36s/it]\n"
     ]
    }
   ],
   "source": [
    "# Cycle through all the coins\n",
    "for coin in tqdm(aggregate_data.keys()):\n",
    "    # Create empty column where we will insert data\n",
    "    aggregate_data[coin][\"rvol\"] = np.nan\n",
    "\n",
    "    # One regression per rolling window of size 30 days:\n",
    "    windowsize = 30\n",
    "\n",
    "    # How many windows?\n",
    "    m = len(aggregate_data[coin]) - windowsize + 1\n",
    "\n",
    "    for i in np.arange(m):\n",
    "        # Don't start on first day since we need previous day's prices to normalize, instead start on day 2\n",
    "        days_0_lag = aggregate_data[coin][\"daily excess return\"].iloc[i + 1 : i+31].index\n",
    "        days_1_lag = aggregate_data[coin][\"daily excess return\"].iloc[i + 0 : i+30].index\n",
    "\n",
    "        # To normalize the prices we sometimes need information from the current day, sometimes from the previous\n",
    "        # We shift the indices of the 'previous' variable back after retrieving the information so that yesterday's information is matched to today\n",
    "        close_previous = aggregate_data[coin].loc[days_1_lag, \"close\"]\n",
    "        close_previous.index = close_previous.index + timedelta(days = 1)\n",
    "\n",
    "        close_current = aggregate_data[coin].loc[days_0_lag, \"close\"]\n",
    "\n",
    "        open_current = aggregate_data[coin].loc[days_0_lag, \"open\"]\n",
    "\n",
    "        high_current = aggregate_data[coin].loc[days_0_lag, \"high\"]\n",
    "\n",
    "        low_current = aggregate_data[coin].loc[days_0_lag, \"low\"]\n",
    "\n",
    "        # Normalize prices\n",
    "        open_normalized = np.log(open_current) - np.log(close_previous)\n",
    "        high_normalized = np.log(high_current) - np.log(open_current)\n",
    "        low_normalized = np.log(low_current) - np.log (open_current)\n",
    "        close_normalized = np.log(close_current) - np.log(open_current)\n",
    "\n",
    "        # First estimator\n",
    "        V_O = 1 / (windowsize - 1) * ((open_normalized - open_normalized.mean())**2).sum()\n",
    "\n",
    "        # Second estimator\n",
    "        V_C = 1 / (windowsize - 1) * ((close_normalized - close_normalized.mean())**2).sum()\n",
    "\n",
    "        # Third estimator\n",
    "        V_RS = 1 / windowsize * (high_normalized * (high_normalized - close_normalized) + low_normalized * (low_normalized - close_normalized)).sum()\n",
    "\n",
    "        # Weighing constant k\n",
    "        # Authors suggest to set alpha to 1.34 in practice\n",
    "        alpha = 1.34\n",
    "        k = (alpha - 1) / (alpha + (windowsize + 1) / (windowsize - 1))\n",
    "\n",
    "        # Final, weighted estimator\n",
    "        V = V_O + k * V_C + (1 - k) * V_RS\n",
    "        aggregate_data[coin].loc[days_0_lag[-1], \"rvol\"] = V"
   ],
   "metadata": {
    "collapsed": false,
    "pycharm": {
     "name": "#%%\n"
    }
   }
  },
  {
   "cell_type": "code",
   "execution_count": 62,
   "outputs": [
    {
     "data": {
      "text/plain": "<AxesSubplot:xlabel='day'>"
     },
     "execution_count": 62,
     "metadata": {},
     "output_type": "execute_result"
    },
    {
     "data": {
      "text/plain": "<Figure size 432x288 with 1 Axes>",
      "image/png": "[encoded data removed]"
     },
     "metadata": {
      "needs_background": "light"
     },
     "output_type": "display_data"
    }
   ],
   "source": [
    "aggregate_data[\"ETH\"].rvol.plot()"
   ],
   "metadata": {
    "collapsed": false,
    "pycharm": {
     "name": "#%%\n"
    }
   }
  },
  {
   "cell_type": "markdown",
   "source": [
    "# bid-ask.\n",
    "\n",
    "The bid-ask spread is the average of two alternative synthetic approximations based on OHLC prices by Abdi and Ranaldo (2017) and Corwin and Schultz (2012). On a given day and for a given cryptocurrency pair we calculate both proxies and take the simple average between the two."
   ],
   "metadata": {
    "collapsed": false,
    "pycharm": {
     "name": "#%% md\n"
    }
   }
  },
  {
   "cell_type": "code",
   "execution_count": 63,
   "outputs": [
    {
     "name": "stderr",
     "output_type": "stream",
     "text": [
      "100%|██████████| 322/322 [02:17<00:00,  2.33it/s]\n"
     ]
    }
   ],
   "source": [
    "for coin in tqdm(aggregate_data.keys()):\n",
    "    high_prices = aggregate_data[coin][\"high\"]\n",
    "    low_prices = aggregate_data[coin][\"low\"]\n",
    "    close_prices = aggregate_data[coin][\"close\"]\n",
    "    aggregate_data[coin][\"S Corwin Schultz interval with previous day\"] = np.nan\n",
    "    aggregate_data[coin][\"S Abdi Ranaldo interval with previous day\"] = np.nan\n",
    "\n",
    "    # Corwin and Schultz\n",
    "    for id in high_prices.index[1:]:\n",
    "        high_current = high_prices.loc[id]\n",
    "        high_previous = high_prices.shift(1).loc[id]\n",
    "\n",
    "        low_current = low_prices.loc[id]\n",
    "        low_previous = low_prices.shift(1).loc[id]\n",
    "\n",
    "        high_over_two_days = np.max([high_current, high_previous])\n",
    "        low_over_two_days = np.min([low_current, low_previous])\n",
    "\n",
    "        # Highs and lows over two consecutive days\n",
    "        gamma = np.log(high_over_two_days / low_over_two_days) ** 2\n",
    "        # Single highs and lows of two consecutive days\n",
    "        beta = np.sum([np.log(high_current / low_current) ** 2, np.log(high_previous / low_previous) ** 2])\n",
    "\n",
    "        alpha = (np.sqrt(2 * beta) - np.sqrt(beta) ) / (3 - 2 * np.sqrt(2)) - np.sqrt(gamma / (3 - 2 * np.sqrt(2)))\n",
    "\n",
    "        S = 2 * (np.exp(alpha) - 1) / (1 + np.exp(alpha))\n",
    "\n",
    "        # Save only positive estimates (Adjustment C in original paper)\n",
    "        aggregate_data[coin].loc[id, \"S Corwin Schultz interval with previous day\"] = np.max([S,0])\n",
    "\n",
    "\n",
    "\n",
    "    # Abdi and Ranaldo:\n",
    "\n",
    "    for id in close_prices.index[1:]:\n",
    "        # Log of close prices of current and future day\n",
    "        log_close_current = np.log(close_prices.loc[id])\n",
    "\n",
    "        # Mid ranges\n",
    "        log_mid_range_current = (np.log(low_prices.loc[id]) + np.log(high_prices.loc[id])) / 2\n",
    "        log_mid_range_previous = (np.log(low_prices.shift(1).loc[id]) + np.log(high_prices.shift(1).loc[id])) / 2\n",
    "\n",
    "        # Actual estimate\n",
    "        s_t = np.sqrt(np.max([4 * (log_close_current - log_mid_range_current) * (log_close_current - log_mid_range_previous), 0]))\n",
    "\n",
    "        aggregate_data[coin].loc[id, \"S Abdi Ranaldo interval with previous day\"] = s_t\n",
    "\n",
    "    # These are all estimates over two-day intervals\n",
    "    # To get daily estimates take the average of the two intervals that intersect on a given day (see internet apendix of original paper by Corwin Schultz)\n",
    "\n",
    "    aggregate_data[coin][\"S Corwin Schultz\"] = aggregate_data[coin][\"S Corwin Schultz interval with previous day\"]\n",
    "    aggregate_data[coin].loc[aggregate_data[coin].index[1:-1], \"S Corwin Schultz\"] = (aggregate_data[coin].loc[aggregate_data[coin].index[1:-1], \"S Corwin Schultz interval with previous day\"] + aggregate_data[coin].loc[aggregate_data[coin].index[1:], \"S Corwin Schultz interval with previous day\"].shift(-1)) / 2\n",
    "\n",
    "    aggregate_data[coin][\"S Abdi Ranaldo\"] = aggregate_data[coin][\"S Abdi Ranaldo interval with previous day\"]\n",
    "    aggregate_data[coin].loc[aggregate_data[coin].index[1:-1], \"S Abdi Ranaldo\"] = (aggregate_data[coin].loc[aggregate_data[coin].index[1:-1], \"S Abdi Ranaldo interval with previous day\"] + aggregate_data[coin].loc[aggregate_data[coin].index[1:], \"S Abdi Ranaldo interval with previous day\"].shift(-1)) / 2\n",
    "\n",
    "    # Average of both estimators\n",
    "    aggregate_data[coin][\"bid-ask\"] = np.nanmean([aggregate_data[coin][\"S Corwin Schultz\"],aggregate_data[coin][\"S Abdi Ranaldo\"]], axis = 0)\n",
    "\n",
    "    del aggregate_data[coin][\"S Corwin Schultz interval with previous day\"]\n",
    "    del aggregate_data[coin][\"S Abdi Ranaldo interval with previous day\"]\n",
    "\n"
   ],
   "metadata": {
    "collapsed": false,
    "pycharm": {
     "name": "#%%\n"
    }
   }
  },
  {
   "cell_type": "code",
   "execution_count": 64,
   "outputs": [
    {
     "data": {
      "text/plain": "dict_keys(['FREC', 'CAPP', 'KICK', 'WAN', 'LTO', 'ADX', 'DRGN', 'DAG', 'DCN', 'MGO', 'STORJ', 'TOMO', 'BCH', 'BMC', 'UBT', 'SENT', 'YOYOW', 'BTC', 'OPEN', 'DTR', 'CSP', 'VEE', 'DLT', 'MDA', 'NEXT', 'J8T', 'LAMB', 'SOC', 'ZINC', 'DADI', 'BTU', 'XAUR', 'RDD', 'BAT', 'PPT', 'PRO', 'NTK', 'BETR', 'UTK', 'ELIX', 'IHT', 'SOMA', 'TAAS', 'STORM', 'MDS', 'SNC', 'ADH', 'VIBE', 'PASS', 'SVD', 'NCC', 'EKT', 'REP', 'EDN', 'IDT', 'LYM', 'LUN', 'KRL', 'MWAT', 'TSL', 'ODE', 'VET', 'ZSC', 'AEN', 'AXPR', 'AST', 'CEL', 'FXT', 'TFL', 'TDS', 'SAN', 'FYP', 'DAT', 'JNT', 'ZIL', 'CV', 'SWT', 'STX', 'BELA', 'PLBT', 'CHAT', 'EGT', 'REQ', 'QASH', 'BLOC', 'OAX', 'DGD', 'HIT', 'AMB', 'ANKR', 'UQC', 'UPP', 'BANCA', 'NCASH', 'ENJ', 'CHSB', 'CTXC', 'OMX', 'FOAM', 'MTX', 'FLIXX', 'AAC', 'POLY', 'CNN', 'BSTN', 'HPB', 'TNB', 'CMT', 'VIDT', 'DRG', 'POWR', 'INS', 'EVX', 'RCT', 'ORME', 'GNX', 'ETC', 'BSV', 'GNO', 'MANA', 'SRN', 'XNK', 'CCL', 'ZLA', 'MNE', 'SKM', 'ZAP', 'SCRL', 'SNGLS', 'PAL', 'LPT', 'PNT', 'SNTVT', 'BRD', 'KNC', 'IDXM', 'KAN', 'ELF', 'TFUEL', 'RNT', 'BGG', 'BFT', 'BNTY', 'POE', 'NEU', 'IOST', 'INT', 'PAY', 'BCDN', 'CAG', 'AERGO', 'TCT', 'XUC', 'MLN', 'TOPC', 'HKN', 'INSTAR', 'PMNT', 'CONI', 'DATA', 'GTC', 'BDG', 'PLR', 'PMA', 'BUBO', 'INVC', 'OCN', 'NULS', 'QSP', 'WABI', 'CND', 'COV', 'MITH', 'CVC', 'CVT', 'EXY', 'DOCK', 'PAT', 'BPT', 'WINGS', 'GTO', 'COVA', 'DATX', 'SHOW', 'AOA', 'MCO', 'CELR', 'XYO', 'UGAS', 'OLT', 'OMG', 'QKC', 'PCH', 'ETN', 'CMCT', 'ITC', 'SOLVE', 'UKG', 'RCN', 'USE', 'DACC', 'YEE', 'PCL', 'LRC', 'THETA', 'PTOY', 'ABT', 'MTC', 'CXO', 'SWFTC', 'MITX', 'AIDOC', 'HYDRO', 'FOTA', 'TRST', 'PLU', 'BKX', 'ORBS', 'GVT', 'EBTC', 'UGC', 'TRIO', 'GARD', 'UBEX', 'SRCOIN', 'ANT', 'FACE', 'ONL', 'META', 'MYST', 'DENT', 'DDD', 'SGR', 'KCASH', 'CBC', 'BCPT', 'FSN', 'ATL', 'FET', 'VNX', 'RUFF', 'ETH', 'RLC', 'ROX', 'EDU', 'ELEC', 'FTM', 'MFT', 'DAY', 'ECTE', 'MKR', 'TEL', 'TIX', 'ZEC', 'SNM', 'AE', 'STC', 'LUC', 'NAS', 'TRAC', 'HEDG', 'CENNZ', 'BMH', 'APPC', 'DASH', 'NMR', 'AGI', 'HMC', 'VITE', 'LOOM', 'CET', 'TEN', 'ABYSS', 'OST', 'VRS', 'DNT', 'CPT', 'TRUE', 'UUU', 'RFR', 'MDCL', 'BLZ', 'EKO', 'BOE', 'REM', 'SALT', 'HMQ', 'NEXO', 'ZIP', 'FUN', 'VRA', 'ADA', 'SHIP', 'UTT', 'IDH', 'IOTX', 'BAX', 'PST', 'KEY', 'LINK', 'WTC', 'EDG', 'IDEX', 'LEND', 'COFI', 'LTC', 'CANDY', 'AID', 'ADT', 'C20', 'HVN', 'BOLT', 'DOV', 'ZRX', 'ADB', 'STQ', 'SUB', 'DOGE', 'BTM', 'BNT', 'BMX', 'MATIC'])"
     },
     "execution_count": 64,
     "metadata": {},
     "output_type": "execute_result"
    }
   ],
   "source": [
    "aggregate_data.keys()"
   ],
   "metadata": {
    "collapsed": false,
    "pycharm": {
     "name": "#%%\n"
    }
   }
  },
  {
   "cell_type": "code",
   "execution_count": 65,
   "outputs": [
    {
     "data": {
      "text/plain": "                  time      high       low      open  volumefrom  \\\nday                                                                \n2017-01-01  1483228800   1001.61    956.10    963.38    41148.52   \n2017-01-02  1483315200   1031.68    990.20    995.44    64951.63   \n2017-01-03  1483401600   1035.47   1006.53   1017.05    54788.01   \n2017-01-04  1483488000   1148.54   1022.32   1033.30   156272.17   \n2017-01-05  1483574400   1150.63    874.53   1135.41   240007.84   \n...                ...       ...       ...       ...         ...   \n2022-02-25  1645747200  39710.26  38043.51  38353.62    39454.29   \n2022-02-26  1645833600  40228.13  38605.65  39239.77    18649.99   \n2022-02-27  1645920000  39861.91  37039.71  39134.83    30834.07   \n2022-02-28  1646006400  43953.92  37473.30  37714.96    55323.43   \n2022-03-01  1646092800  44883.10  42893.50  43189.46    48462.11   \n\n                volumeto     close conversionType  conversionSymbol  \\\nday                                                                   \n2017-01-01  4.057092e+07    995.44         direct               NaN   \n2017-01-02  6.603807e+07   1017.05         direct               NaN   \n2017-01-03  5.608587e+07   1033.30         direct               NaN   \n2017-01-04  1.705846e+08   1135.41         direct               NaN   \n2017-01-05  2.448393e+08    989.35         direct               NaN   \n...                  ...       ...            ...               ...   \n2022-02-25  1.536576e+09  39239.77         direct               NaN   \n2022-02-26  7.329960e+08  39134.83         direct               NaN   \n2022-02-27  1.184510e+09  37714.96         direct               NaN   \n2022-02-28  2.231772e+09  43189.46         direct               NaN   \n2022-03-01  2.121207e+09  44428.47         direct               NaN   \n\n                      timestamp  ...          size         illiq  capm beta  \\\nday                              ...                                          \n2017-01-01  2017-01-01 01:00:00  ...  1.600404e+10 -8.307533e-08        NaN   \n2017-01-02  2017-01-02 01:00:00  ...  1.635349e+10 -5.797886e-08        NaN   \n2017-01-03  2017-01-03 01:00:00  ...  1.661690e+10 -7.306818e-08        NaN   \n2017-01-04  2017-01-04 01:00:00  ...  1.826114e+10 -1.304415e-08        NaN   \n2017-01-05  2017-01-05 01:00:00  ...  1.591375e+10 -8.636414e-09        NaN   \n...                         ...  ...           ...           ...        ...   \n2022-02-25  2022-02-25 01:00:00  ...  7.443181e+11 -2.433648e-09   1.041192   \n2022-02-26  2022-02-26 01:00:00  ...  7.423547e+11 -8.116657e-09   1.042503   \n2022-02-27  2022-02-27 01:00:00  ...  7.154530e+11 -2.851863e-09   1.044346   \n2022-02-28  2022-02-28 01:00:00  ...  8.193480e+11 -8.077194e-10   1.038689   \n2022-03-01  2022-03-01 01:00:00  ...  8.428986e+11 -1.649384e-09        NaN   \n\n            capm alpha      ivol    turnover      rvol  S Corwin Schultz  \\\nday                                                                        \n2017-01-01         NaN       NaN         NaN       NaN               NaN   \n2017-01-02         NaN       NaN    2.547423       NaN          0.006243   \n2017-01-03         NaN       NaN    4.107795       NaN          0.006243   \n2017-01-04         NaN       NaN    3.519952       NaN          0.028572   \n2017-01-05         NaN       NaN   11.030924       NaN          0.067144   \n...                ...       ...         ...       ...               ...   \n2022-02-25   -0.000333  0.004976  188.748089  0.001193          0.004353   \n2022-02-26   -0.000077  0.004801   81.615506  0.001173          0.006294   \n2022-02-27   -0.000507  0.004726   38.474642  0.001198          0.007314   \n2022-02-28   -0.000645  0.004714   61.299068  0.001370          0.005374   \n2022-03-01         NaN       NaN  125.942674  0.001328          0.000000   \n\n            S Abdi Ranaldo   bid-ask  \nday                                   \n2017-01-01             NaN       NaN  \n2017-01-02        0.031836  0.019039  \n2017-01-03        0.086801  0.046522  \n2017-01-04        0.105940  0.067256  \n2017-01-05        0.117762  0.092453  \n...                    ...       ...  \n2022-02-25        0.025309  0.014831  \n2022-02-26        0.028621  0.017458  \n2022-02-27        0.113897  0.060606  \n2022-02-28        0.118895  0.062134  \n2022-03-01        0.067239  0.033619  \n\n[1886 rows x 40 columns]",
      "text/html": "<div>\n<style scoped>\n    .dataframe tbody tr th:only-of-type {\n        vertical-align: middle;\n    }\n\n    .dataframe tbody tr th {\n        vertical-align: top;\n    }\n\n    .dataframe thead th {\n        text-align: right;\n    }\n</style>\n<table border=\"1\" class=\"dataframe\">\n  <thead>\n    <tr style=\"text-align: right;\">\n      <th></th>\n      <th>time</th>\n      <th>high</th>\n      <th>low</th>\n      <th>open</th>\n      <th>volumefrom</th>\n      <th>volumeto</th>\n      <th>close</th>\n      <th>conversionType</th>\n      <th>conversionSymbol</th>\n      <th>timestamp</th>\n      <th>...</th>\n      <th>size</th>\n      <th>illiq</th>\n      <th>capm beta</th>\n      <th>capm alpha</th>\n      <th>ivol</th>\n      <th>turnover</th>\n      <th>rvol</th>\n      <th>S Corwin Schultz</th>\n      <th>S Abdi Ranaldo</th>\n      <th>bid-ask</th>\n    </tr>\n    <tr>\n      <th>day</th>\n      <th></th>\n      <th></th>\n      <th></th>\n      <th></th>\n      <th></th>\n      <th></th>\n      <th></th>\n      <th></th>\n      <th></th>\n      <th></th>\n      <th></th>\n      <th></th>\n      <th></th>\n      <th></th>\n      <th></th>\n      <th></th>\n      <th></th>\n      <th></th>\n      <th></th>\n      <th></th>\n      <th></th>\n    </tr>\n  </thead>\n  <tbody>\n    <tr>\n      <th>2017-01-01</th>\n      <td>1483228800</td>\n      <td>1001.61</td>\n      <td>956.10</td>\n      <td>963.38</td>\n      <td>41148.52</td>\n      <td>4.057092e+07</td>\n      <td>995.44</td>\n      <td>direct</td>\n      <td>NaN</td>\n      <td>2017-01-01 01:00:00</td>\n      <td>...</td>\n      <td>1.600404e+10</td>\n      <td>-8.307533e-08</td>\n      <td>NaN</td>\n      <td>NaN</td>\n      <td>NaN</td>\n      <td>NaN</td>\n      <td>NaN</td>\n      <td>NaN</td>\n      <td>NaN</td>\n      <td>NaN</td>\n    </tr>\n    <tr>\n      <th>2017-01-02</th>\n      <td>1483315200</td>\n      <td>1031.68</td>\n      <td>990.20</td>\n      <td>995.44</td>\n      <td>64951.63</td>\n      <td>6.603807e+07</td>\n      <td>1017.05</td>\n      <td>direct</td>\n      <td>NaN</td>\n      <td>2017-01-02 01:00:00</td>\n      <td>...</td>\n      <td>1.635349e+10</td>\n      <td>-5.797886e-08</td>\n      <td>NaN</td>\n      <td>NaN</td>\n      <td>NaN</td>\n      <td>2.547423</td>\n      <td>NaN</td>\n      <td>0.006243</td>\n      <td>0.031836</td>\n      <td>0.019039</td>\n    </tr>\n    <tr>\n      <th>2017-01-03</th>\n      <td>1483401600</td>\n      <td>1035.47</td>\n      <td>1006.53</td>\n      <td>1017.05</td>\n      <td>54788.01</td>\n      <td>5.608587e+07</td>\n      <td>1033.30</td>\n      <td>direct</td>\n      <td>NaN</td>\n      <td>2017-01-03 01:00:00</td>\n      <td>...</td>\n      <td>1.661690e+10</td>\n      <td>-7.306818e-08</td>\n      <td>NaN</td>\n      <td>NaN</td>\n      <td>NaN</td>\n      <td>4.107795</td>\n      <td>NaN</td>\n      <td>0.006243</td>\n      <td>0.086801</td>\n      <td>0.046522</td>\n    </tr>\n    <tr>\n      <th>2017-01-04</th>\n      <td>1483488000</td>\n      <td>1148.54</td>\n      <td>1022.32</td>\n      <td>1033.30</td>\n      <td>156272.17</td>\n      <td>1.705846e+08</td>\n      <td>1135.41</td>\n      <td>direct</td>\n      <td>NaN</td>\n      <td>2017-01-04 01:00:00</td>\n      <td>...</td>\n      <td>1.826114e+10</td>\n      <td>-1.304415e-08</td>\n      <td>NaN</td>\n      <td>NaN</td>\n      <td>NaN</td>\n      <td>3.519952</td>\n      <td>NaN</td>\n      <td>0.028572</td>\n      <td>0.105940</td>\n      <td>0.067256</td>\n    </tr>\n    <tr>\n      <th>2017-01-05</th>\n      <td>1483574400</td>\n      <td>1150.63</td>\n      <td>874.53</td>\n      <td>1135.41</td>\n      <td>240007.84</td>\n      <td>2.448393e+08</td>\n      <td>989.35</td>\n      <td>direct</td>\n      <td>NaN</td>\n      <td>2017-01-05 01:00:00</td>\n      <td>...</td>\n      <td>1.591375e+10</td>\n      <td>-8.636414e-09</td>\n      <td>NaN</td>\n      <td>NaN</td>\n      <td>NaN</td>\n      <td>11.030924</td>\n      <td>NaN</td>\n      <td>0.067144</td>\n      <td>0.117762</td>\n      <td>0.092453</td>\n    </tr>\n    <tr>\n      <th>...</th>\n      <td>...</td>\n      <td>...</td>\n      <td>...</td>\n      <td>...</td>\n      <td>...</td>\n      <td>...</td>\n      <td>...</td>\n      <td>...</td>\n      <td>...</td>\n      <td>...</td>\n      <td>...</td>\n      <td>...</td>\n      <td>...</td>\n      <td>...</td>\n      <td>...</td>\n      <td>...</td>\n      <td>...</td>\n      <td>...</td>\n      <td>...</td>\n      <td>...</td>\n      <td>...</td>\n    </tr>\n    <tr>\n      <th>2022-02-25</th>\n      <td>1645747200</td>\n      <td>39710.26</td>\n      <td>38043.51</td>\n      <td>38353.62</td>\n      <td>39454.29</td>\n      <td>1.536576e+09</td>\n      <td>39239.77</td>\n      <td>direct</td>\n      <td>NaN</td>\n      <td>2022-02-25 01:00:00</td>\n      <td>...</td>\n      <td>7.443181e+11</td>\n      <td>-2.433648e-09</td>\n      <td>1.041192</td>\n      <td>-0.000333</td>\n      <td>0.004976</td>\n      <td>188.748089</td>\n      <td>0.001193</td>\n      <td>0.004353</td>\n      <td>0.025309</td>\n      <td>0.014831</td>\n    </tr>\n    <tr>\n      <th>2022-02-26</th>\n      <td>1645833600</td>\n      <td>40228.13</td>\n      <td>38605.65</td>\n      <td>39239.77</td>\n      <td>18649.99</td>\n      <td>7.329960e+08</td>\n      <td>39134.83</td>\n      <td>direct</td>\n      <td>NaN</td>\n      <td>2022-02-26 01:00:00</td>\n      <td>...</td>\n      <td>7.423547e+11</td>\n      <td>-8.116657e-09</td>\n      <td>1.042503</td>\n      <td>-0.000077</td>\n      <td>0.004801</td>\n      <td>81.615506</td>\n      <td>0.001173</td>\n      <td>0.006294</td>\n      <td>0.028621</td>\n      <td>0.017458</td>\n    </tr>\n    <tr>\n      <th>2022-02-27</th>\n      <td>1645920000</td>\n      <td>39861.91</td>\n      <td>37039.71</td>\n      <td>39134.83</td>\n      <td>30834.07</td>\n      <td>1.184510e+09</td>\n      <td>37714.96</td>\n      <td>direct</td>\n      <td>NaN</td>\n      <td>2022-02-27 01:00:00</td>\n      <td>...</td>\n      <td>7.154530e+11</td>\n      <td>-2.851863e-09</td>\n      <td>1.044346</td>\n      <td>-0.000507</td>\n      <td>0.004726</td>\n      <td>38.474642</td>\n      <td>0.001198</td>\n      <td>0.007314</td>\n      <td>0.113897</td>\n      <td>0.060606</td>\n    </tr>\n    <tr>\n      <th>2022-02-28</th>\n      <td>1646006400</td>\n      <td>43953.92</td>\n      <td>37473.30</td>\n      <td>37714.96</td>\n      <td>55323.43</td>\n      <td>2.231772e+09</td>\n      <td>43189.46</td>\n      <td>direct</td>\n      <td>NaN</td>\n      <td>2022-02-28 01:00:00</td>\n      <td>...</td>\n      <td>8.193480e+11</td>\n      <td>-8.077194e-10</td>\n      <td>1.038689</td>\n      <td>-0.000645</td>\n      <td>0.004714</td>\n      <td>61.299068</td>\n      <td>0.001370</td>\n      <td>0.005374</td>\n      <td>0.118895</td>\n      <td>0.062134</td>\n    </tr>\n    <tr>\n      <th>2022-03-01</th>\n      <td>1646092800</td>\n      <td>44883.10</td>\n      <td>42893.50</td>\n      <td>43189.46</td>\n      <td>48462.11</td>\n      <td>2.121207e+09</td>\n      <td>44428.47</td>\n      <td>direct</td>\n      <td>NaN</td>\n      <td>2022-03-01 01:00:00</td>\n      <td>...</td>\n      <td>8.428986e+11</td>\n      <td>-1.649384e-09</td>\n      <td>NaN</td>\n      <td>NaN</td>\n      <td>NaN</td>\n      <td>125.942674</td>\n      <td>0.001328</td>\n      <td>0.000000</td>\n      <td>0.067239</td>\n      <td>0.033619</td>\n    </tr>\n  </tbody>\n</table>\n<p>1886 rows × 40 columns</p>\n</div>"
     },
     "execution_count": 65,
     "metadata": {},
     "output_type": "execute_result"
    }
   ],
   "source": [
    "aggregate_data[\"BTC\"]"
   ],
   "metadata": {
    "collapsed": false,
    "pycharm": {
     "name": "#%%\n"
    }
   }
  },
  {
   "cell_type": "markdown",
   "source": [
    "# dto. relatively clear (\"coins that have been burned\")\n",
    "\n",
    "We follow the logic in Garfinkel (2009) and define de-trended turnover as the ratio of daily volume in $ to current available supply, minus the daily market turnover and de-trend it by its 180 trading day median. The daily market turnover is a value-weighed aggregation of the individual assets’ turnover."
   ],
   "metadata": {
    "collapsed": false,
    "pycharm": {
     "name": "#%% md\n"
    }
   }
  },
  {
   "cell_type": "code",
   "execution_count": 66,
   "outputs": [
    {
     "name": "stderr",
     "output_type": "stream",
     "text": [
      "100%|██████████| 322/322 [00:14<00:00, 22.15it/s]\n"
     ]
    }
   ],
   "source": [
    "# Create empty dataframe to save turnovers of all coins\n",
    "turnovers = pd.DataFrame(index = all_days_sorted, columns = aggregate_data.keys())\n",
    "\n",
    "# Fill it with data\n",
    "for coin in tqdm(turnovers.columns):\n",
    "    index_where_coin_has_data = aggregate_data[coin].index\n",
    "    for index in index_where_coin_has_data:\n",
    "        turnovers.loc[index, coin] = aggregate_data[coin].loc[index, \"turnover\"]\n"
   ],
   "metadata": {
    "collapsed": false,
    "pycharm": {
     "name": "#%%\n"
    }
   }
  },
  {
   "cell_type": "code",
   "execution_count": 67,
   "outputs": [],
   "source": [
    "# Turnover of value-weighted market portfolio\n",
    "market_turnover = value_weights.multiply(turnovers, axis = 1).sum(axis = 1)"
   ],
   "metadata": {
    "collapsed": false,
    "pycharm": {
     "name": "#%%\n"
    }
   }
  },
  {
   "cell_type": "code",
   "execution_count": 68,
   "outputs": [],
   "source": [
    "# Market adjusted turnover is individual turnover minus the whole market's turnover\n",
    "market_adjusted_turnovers = turnovers.subtract(market_turnover, axis = 0)"
   ],
   "metadata": {
    "collapsed": false,
    "pycharm": {
     "name": "#%%\n"
    }
   }
  },
  {
   "cell_type": "code",
   "execution_count": 69,
   "outputs": [
    {
     "name": "stderr",
     "output_type": "stream",
     "text": [
      "100%|██████████| 322/322 [00:57<00:00,  5.56it/s]\n"
     ]
    }
   ],
   "source": [
    "# The market adjusted turnover is detrended by subtracting the median of the previous 180 days (rolling window approach)\n",
    "# So first we calculate this median\n",
    "past_median_market_adjusted_turnovers = pd.DataFrame(index = market_adjusted_turnovers.index, columns = market_adjusted_turnovers.columns)\n",
    "\n",
    "# 2 cases: we either have at least 180 days before the current time point or we do not\n",
    "# Every coin can start at a different date, so we calculate this coin by coin\n",
    "\n",
    "for coin in tqdm(market_adjusted_turnovers.columns):\n",
    "    # First day where coin has turnover?\n",
    "    firstday = market_adjusted_turnovers[coin].notna().idxmax()\n",
    "\n",
    "    # Last day where coin has turnover?\n",
    "    lastday = market_adjusted_turnovers[coin][::-1].notna().idxmax()\n",
    "\n",
    "    windowrange = 180\n",
    "\n",
    "    # Case if we have less than 180 observations IN TOTAL\n",
    "    if len(market_adjusted_turnovers.loc[firstday : lastday, coin]) + 1 <= 180:\n",
    "        windowrange = len(market_adjusted_turnovers.loc[firstday : lastday, coin]) + 1\n",
    "\n",
    "    # Now succesively populate next medians\n",
    "    for i in np.arange(windowrange):\n",
    "        past_median_market_adjusted_turnovers.loc[firstday + timedelta(days = int(i)), coin] = np.median(market_adjusted_turnovers.loc[firstday : firstday + timedelta(days = int(i + 1)), coin])\n",
    "\n",
    "    # Continue if we have more than 180 observations\n",
    "    if len(market_adjusted_turnovers.loc[firstday : lastday, coin]) > 180:\n",
    "        for i in np.arange(windowrange, len(market_adjusted_turnovers.loc[firstday : lastday, coin]) + 1):\n",
    "            past_median_market_adjusted_turnovers.loc[firstday + timedelta(days = int(i)), coin] = np.median(market_adjusted_turnovers.loc[firstday + timedelta(days = int(i + 1 - 180)) : firstday + timedelta(days = int(i + 1)), coin])\n",
    "\n"
   ],
   "metadata": {
    "collapsed": false,
    "pycharm": {
     "name": "#%%\n"
    }
   }
  },
  {
   "cell_type": "code",
   "execution_count": 70,
   "outputs": [],
   "source": [
    "# Detrended turnover is market adjusted turnover minus its past 180 days' median\n",
    "\n",
    "detrended_turnover = market_adjusted_turnovers - past_median_market_adjusted_turnovers"
   ],
   "metadata": {
    "collapsed": false,
    "pycharm": {
     "name": "#%%\n"
    }
   }
  },
  {
   "cell_type": "code",
   "execution_count": 71,
   "outputs": [
    {
     "name": "stderr",
     "output_type": "stream",
     "text": [
      "100%|██████████| 322/322 [00:18<00:00, 17.77it/s]\n"
     ]
    }
   ],
   "source": [
    "# Save results back\n",
    "for coin in tqdm(detrended_turnover.columns):\n",
    "    index_where_coin_has_data = aggregate_data[coin].index\n",
    "    for index in index_where_coin_has_data:\n",
    "        aggregate_data[coin].loc[index, \"detrended turnover\"] =  detrended_turnover.loc[index, coin]"
   ],
   "metadata": {
    "collapsed": false,
    "pycharm": {
     "name": "#%%\n"
    }
   }
  },
  {
   "cell_type": "markdown",
   "source": [
    "# std to. ???\n",
    "\n",
    "The standard deviation of the residuals from a 30-day rolling window regression of daily turnover on a constant (see Chordia et al., 2001).\n",
    "\n",
    "Maybe: \"Further, for all of the regressions reported below, the transformed \"rm characteristic variables for a given month were expressed as deviations from their cross-sectional means for that month; this implies that the average security will have values of each non-risk characteristic that are equal to zero, so that under both the null and the alternative hypotheses its expected return will be determined solely by its risk characteristics.\""
   ],
   "metadata": {
    "collapsed": false,
    "pycharm": {
     "name": "#%% md\n"
    }
   }
  },
  {
   "cell_type": "code",
   "execution_count": 72,
   "outputs": [
    {
     "name": "stderr",
     "output_type": "stream",
     "text": [
      "100%|██████████| 322/322 [00:15<00:00, 21.13it/s]\n"
     ]
    }
   ],
   "source": [
    "# Union of all values in the days column\n",
    "all_days_sorted = my.sort_all_times([aggregate_data[key] for key in aggregate_data.keys()])\n",
    "\n",
    "# Create empty dataframe to save turnovers of all coins\n",
    "turnovers = pd.DataFrame(index = all_days_sorted, columns = aggregate_data.keys())\n",
    "\n",
    "# Fill it with data\n",
    "for coin in tqdm(turnovers.columns):\n",
    "    index_where_coin_has_data = aggregate_data[coin].index\n",
    "    for index in index_where_coin_has_data:\n",
    "        turnovers.loc[index, coin] = aggregate_data[coin].loc[index, \"turnover\"]\n"
   ],
   "metadata": {
    "collapsed": false,
    "pycharm": {
     "name": "#%%\n"
    }
   }
  },
  {
   "cell_type": "code",
   "execution_count": 73,
   "outputs": [],
   "source": [
    "# Create empty dataframe to save standard deviation of turnovers of all coins\n",
    "std_turnovers = pd.DataFrame(index = all_days_sorted, columns = aggregate_data.keys())"
   ],
   "metadata": {
    "collapsed": false,
    "pycharm": {
     "name": "#%%\n"
    }
   }
  },
  {
   "cell_type": "code",
   "execution_count": 74,
   "outputs": [
    {
     "name": "stderr",
     "output_type": "stream",
     "text": [
      "100%|██████████| 322/322 [00:06<00:00, 51.94it/s]\n"
     ]
    }
   ],
   "source": [
    "for coin in tqdm(std_turnovers.columns):\n",
    "    # Create 30 copies of turnovers of this coin and save as columns of a dataframe. Each column is lagged by an incremental amount of days (0 to 29)\n",
    "    # Due to rolling window approach of size 30\n",
    "    lagged_turnovers = pd.DataFrame({i: turnovers[coin].shift(i) for i in np.arange(30)})\n",
    "    # New column with rowwise standard deviation\n",
    "    lagged_turnovers[\"std\"] = np.std(lagged_turnovers, axis = 1)\n",
    "    # Save back to dataframe with all standard deviations for all coins\n",
    "    std_turnovers[coin] = lagged_turnovers[\"std\"]"
   ],
   "metadata": {
    "collapsed": false,
    "pycharm": {
     "name": "#%%\n"
    }
   }
  },
  {
   "cell_type": "code",
   "execution_count": 75,
   "outputs": [
    {
     "name": "stderr",
     "output_type": "stream",
     "text": [
      "100%|██████████| 322/322 [00:18<00:00, 17.65it/s]\n"
     ]
    }
   ],
   "source": [
    "# Save results back\n",
    "for coin in tqdm(std_turnovers.columns):\n",
    "    index_where_coin_has_data = aggregate_data[coin].index\n",
    "    for index in index_where_coin_has_data:\n",
    "        aggregate_data[coin].loc[index, \"standard deviation turnover\"] =  std_turnovers.loc[index, coin]"
   ],
   "metadata": {
    "collapsed": false,
    "pycharm": {
     "name": "#%%\n"
    }
   }
  },
  {
   "cell_type": "markdown",
   "source": [
    "# std vol. ???\n",
    "\n",
    "The standard deviation of the residuals from a regression of daily trading volume on a constant (see Chordia et al., 2001)."
   ],
   "metadata": {
    "collapsed": false,
    "pycharm": {
     "name": "#%% md\n"
    }
   }
  },
  {
   "cell_type": "code",
   "execution_count": 75,
   "outputs": [],
   "source": [],
   "metadata": {
    "collapsed": false,
    "pycharm": {
     "name": "#%%\n"
    }
   }
  },
  {
   "cell_type": "code",
   "execution_count": 76,
   "outputs": [
    {
     "name": "stderr",
     "output_type": "stream",
     "text": [
      "100%|██████████| 322/322 [00:14<00:00, 21.99it/s]\n"
     ]
    }
   ],
   "source": [
    "# Union of all values in the days column\n",
    "all_days_sorted = my.sort_all_times([aggregate_data[key] for key in aggregate_data.keys()])\n",
    "\n",
    "# Create empty dataframe to save turnovers of all coins\n",
    "daily_trading_volumes = pd.DataFrame(index = all_days_sorted, columns = aggregate_data.keys())\n",
    "\n",
    "# Fill it with data\n",
    "for coin in tqdm(daily_trading_volumes.columns):\n",
    "    index_where_coin_has_data = aggregate_data[coin].index\n",
    "    for index in index_where_coin_has_data:\n",
    "        daily_trading_volumes.loc[index, coin] = aggregate_data[coin].loc[index, \"volume\"]\n"
   ],
   "metadata": {
    "collapsed": false,
    "pycharm": {
     "name": "#%%\n"
    }
   }
  },
  {
   "cell_type": "code",
   "execution_count": 77,
   "outputs": [],
   "source": [
    "# Create empty dataframe to save standard deviation of turnovers of all coins\n",
    "std_volumes = pd.DataFrame(index = all_days_sorted, columns = aggregate_data.keys())"
   ],
   "metadata": {
    "collapsed": false,
    "pycharm": {
     "name": "#%%\n"
    }
   }
  },
  {
   "cell_type": "code",
   "execution_count": 78,
   "outputs": [
    {
     "name": "stderr",
     "output_type": "stream",
     "text": [
      "100%|██████████| 322/322 [00:06<00:00, 53.53it/s]\n"
     ]
    }
   ],
   "source": [
    "for coin in tqdm(std_volumes.columns):\n",
    "    # Create 30 copies of trading volumes of this coin and save as columns of a dataframe. Each column is lagged by an incremental amount of days (0 to 29)\n",
    "    # Due to rolling window approach of size 30\n",
    "    lagged_volumes = pd.DataFrame({i: daily_trading_volumes[coin].shift(i) for i in np.arange(30)})\n",
    "    # New column with rowwise standard deviation\n",
    "    lagged_volumes[\"std\"] = np.std(lagged_volumes, axis = 1)\n",
    "    # Save back to dataframe with all standard deviations for all coins\n",
    "    std_volumes[coin] = lagged_volumes[\"std\"]"
   ],
   "metadata": {
    "collapsed": false,
    "pycharm": {
     "name": "#%%\n"
    }
   }
  },
  {
   "cell_type": "code",
   "execution_count": 79,
   "outputs": [
    {
     "name": "stderr",
     "output_type": "stream",
     "text": [
      "100%|██████████| 322/322 [00:18<00:00, 17.89it/s]\n"
     ]
    }
   ],
   "source": [
    "# Save results back\n",
    "for coin in tqdm(std_volumes.columns):\n",
    "    index_where_coin_has_data = aggregate_data[coin].index\n",
    "    for index in index_where_coin_has_data:\n",
    "        aggregate_data[coin].loc[index, \"standard deviation volume\"] =  std_volumes.loc[index, coin]"
   ],
   "metadata": {
    "collapsed": false,
    "pycharm": {
     "name": "#%%\n"
    }
   }
  },
  {
   "cell_type": "markdown",
   "source": [
    "# rel to high. all clear\n",
    "\n",
    "Closeness to 90-day high is the ratio of the cryptocurrency price at the end of the previous day and the previous 90-day high. This adapts to a shorter time span the logic in George and Hwang (2004)."
   ],
   "metadata": {
    "collapsed": false,
    "pycharm": {
     "name": "#%% md\n"
    }
   }
  },
  {
   "cell_type": "code",
   "execution_count": 80,
   "outputs": [
    {
     "name": "stderr",
     "output_type": "stream",
     "text": [
      "100%|██████████| 322/322 [00:14<00:00, 21.86it/s]\n"
     ]
    }
   ],
   "source": [
    "# Union of all values in the days column\n",
    "all_days_sorted = my.sort_all_times([aggregate_data[key] for key in aggregate_data.keys()])\n",
    "\n",
    "# Create empty dataframe to save close prices of all coins\n",
    "close_prices = pd.DataFrame(index = all_days_sorted, columns = aggregate_data.keys())\n",
    "\n",
    "# Fill it with data\n",
    "for coin in tqdm(close_prices.columns):\n",
    "    index_where_coin_has_data = aggregate_data[coin].index\n",
    "    for index in index_where_coin_has_data:\n",
    "        close_prices.loc[index, coin] = aggregate_data[coin].loc[index, \"close\"]\n"
   ],
   "metadata": {
    "collapsed": false,
    "pycharm": {
     "name": "#%%\n"
    }
   }
  },
  {
   "cell_type": "code",
   "execution_count": 81,
   "outputs": [],
   "source": [
    "# Create empty dataframe to save rel to high of all coins\n",
    "rel_to_high = pd.DataFrame(index = all_days_sorted, columns = aggregate_data.keys())"
   ],
   "metadata": {
    "collapsed": false,
    "pycharm": {
     "name": "#%%\n"
    }
   }
  },
  {
   "cell_type": "code",
   "execution_count": 82,
   "outputs": [
    {
     "name": "stderr",
     "output_type": "stream",
     "text": [
      "100%|██████████| 322/322 [00:06<00:00, 47.77it/s]\n"
     ]
    }
   ],
   "source": [
    "for coin in tqdm(std_volumes.columns):\n",
    "    # Create 90 copies of close prices of this coin and save as columns of a dataframe. Each column is lagged by an incremental amount of days (1 to 90)\n",
    "    # Since we need maximum of last 90 days\n",
    "    lagged_close_prices = pd.DataFrame({i: close_prices[coin].shift(i) for i in np.arange(1, 91)})\n",
    "    # New column with rel to high\n",
    "    lagged_close_prices[\"rel_to_high\"] = lagged_close_prices[1] / np.max(lagged_close_prices, axis = 1).replace(0, np.nan)\n",
    "    # Save back to dataframe with all rel to high for all coins\n",
    "    rel_to_high[coin] = lagged_close_prices[\"rel_to_high\"]"
   ],
   "metadata": {
    "collapsed": false,
    "pycharm": {
     "name": "#%%\n"
    }
   }
  },
  {
   "cell_type": "code",
   "execution_count": 83,
   "outputs": [
    {
     "name": "stderr",
     "output_type": "stream",
     "text": [
      "100%|██████████| 322/322 [00:17<00:00, 17.96it/s]\n"
     ]
    }
   ],
   "source": [
    "# Save results back\n",
    "for coin in tqdm(rel_to_high.columns):\n",
    "    index_where_coin_has_data = aggregate_data[coin].index\n",
    "    for index in index_where_coin_has_data:\n",
    "        aggregate_data[coin].loc[index, \"rel to high\"] =  rel_to_high.loc[index, coin]"
   ],
   "metadata": {
    "collapsed": false,
    "pycharm": {
     "name": "#%%\n"
    }
   }
  },
  {
   "cell_type": "markdown",
   "source": [
    "# max. all clear\n",
    "\n",
    "Maximum daily return in the previous month following Bali et al. (2011)."
   ],
   "metadata": {
    "collapsed": false,
    "pycharm": {
     "name": "#%% md\n"
    }
   }
  },
  {
   "cell_type": "code",
   "execution_count": 84,
   "outputs": [
    {
     "name": "stderr",
     "output_type": "stream",
     "text": [
      "100%|██████████| 322/322 [00:14<00:00, 22.03it/s]\n"
     ]
    }
   ],
   "source": [
    "# Union of all values in the days column\n",
    "all_days_sorted = my.sort_all_times([aggregate_data[key] for key in aggregate_data.keys()])\n",
    "\n",
    "# Create empty dataframe to save returns of all coins\n",
    "daily_returns = pd.DataFrame(index = all_days_sorted, columns = aggregate_data.keys())\n",
    "\n",
    "# Fill it with data\n",
    "for coin in tqdm(daily_returns.columns):\n",
    "    index_where_coin_has_data = aggregate_data[coin].index\n",
    "    for index in index_where_coin_has_data:\n",
    "        daily_returns.loc[index, coin] = aggregate_data[coin].loc[index, \"daily excess return\"]\n"
   ],
   "metadata": {
    "collapsed": false,
    "pycharm": {
     "name": "#%%\n"
    }
   }
  },
  {
   "cell_type": "code",
   "execution_count": 85,
   "outputs": [],
   "source": [
    "# Create empty dataframe to save rel to high of all coins\n",
    "max_return_one_month = pd.DataFrame(index = all_days_sorted, columns = aggregate_data.keys())"
   ],
   "metadata": {
    "collapsed": false,
    "pycharm": {
     "name": "#%%\n"
    }
   }
  },
  {
   "cell_type": "code",
   "execution_count": 86,
   "outputs": [
    {
     "name": "stderr",
     "output_type": "stream",
     "text": [
      "100%|██████████| 322/322 [00:02<00:00, 122.37it/s]\n"
     ]
    }
   ],
   "source": [
    "for coin in tqdm(std_volumes.columns):\n",
    "    # Create 30 copies of excess returns of this coin and save as columns of a dataframe. Each column is lagged by an incremental amount of days (0 to 29)\n",
    "    # Since we need maximum of last 30 days\n",
    "    lagged_returns = pd.DataFrame({i: daily_returns[coin].shift(i) for i in np.arange(30)})\n",
    "    # New column with rel to high\n",
    "    lagged_returns[\"max\"] = np.max(lagged_returns, axis = 1)\n",
    "    # Save back to dataframe with all max returns for all coins\n",
    "    max_return_one_month[coin] = lagged_returns[\"max\"]"
   ],
   "metadata": {
    "collapsed": false,
    "pycharm": {
     "name": "#%%\n"
    }
   }
  },
  {
   "cell_type": "code",
   "execution_count": 87,
   "outputs": [
    {
     "name": "stderr",
     "output_type": "stream",
     "text": [
      "100%|██████████| 322/322 [00:17<00:00, 18.05it/s]\n"
     ]
    }
   ],
   "source": [
    "# Save results back\n",
    "for coin in tqdm(max_return_one_month.columns):\n",
    "    index_where_coin_has_data = aggregate_data[coin].index\n",
    "    for index in index_where_coin_has_data:\n",
    "        aggregate_data[coin].loc[index, \"max\"] =  max_return_one_month.loc[index, coin]"
   ],
   "metadata": {
    "collapsed": false,
    "pycharm": {
     "name": "#%%\n"
    }
   }
  },
  {
   "cell_type": "markdown",
   "source": [
    "# vol shock ld. all clear\n",
    "\n",
    "We follow Llorente et al. (2002) and construct the log deviation of trading volume from its trend estimated over a rolling period of l = 30,60 days. The log standard deviation computed over the same rolling window is used to standardise the estimates due to cross-sectional imbalances (see Babiak et al., 2022)."
   ],
   "metadata": {
    "collapsed": false,
    "pycharm": {
     "name": "#%% md\n"
    }
   }
  },
  {
   "cell_type": "code",
   "execution_count": 88,
   "outputs": [
    {
     "name": "stderr",
     "output_type": "stream",
     "text": [
      "100%|██████████| 322/322 [00:14<00:00, 22.40it/s]\n"
     ]
    }
   ],
   "source": [
    "# Union of all values in the days column\n",
    "all_days_sorted = my.sort_all_times([aggregate_data[key] for key in aggregate_data.keys()])\n",
    "\n",
    "# Create empty dataframe to save turnovers of all coins\n",
    "daily_trading_volumes = pd.DataFrame(index = all_days_sorted, columns = aggregate_data.keys())\n",
    "\n",
    "# Fill it with data\n",
    "for coin in tqdm(daily_trading_volumes.columns):\n",
    "    index_where_coin_has_data = aggregate_data[coin].index\n",
    "    for index in index_where_coin_has_data:\n",
    "        daily_trading_volumes.loc[index, coin] = aggregate_data[coin].loc[index, \"volume\"]\n"
   ],
   "metadata": {
    "collapsed": false,
    "pycharm": {
     "name": "#%%\n"
    }
   }
  },
  {
   "cell_type": "markdown",
   "source": [
    "## 30 days first"
   ],
   "metadata": {
    "collapsed": false,
    "pycharm": {
     "name": "#%% md\n"
    }
   }
  },
  {
   "cell_type": "code",
   "execution_count": 89,
   "outputs": [],
   "source": [
    "# Create empty dataframe to save standard deviation of turnovers of all coins\n",
    "vol_shock = pd.DataFrame(index = all_days_sorted, columns = aggregate_data.keys())"
   ],
   "metadata": {
    "collapsed": false,
    "pycharm": {
     "name": "#%%\n"
    }
   }
  },
  {
   "cell_type": "code",
   "execution_count": 90,
   "outputs": [],
   "source": [
    "# Suppress runtime warnings\n",
    "import warnings\n",
    "warnings.filterwarnings(\"ignore\")"
   ],
   "metadata": {
    "collapsed": false,
    "pycharm": {
     "name": "#%%\n"
    }
   }
  },
  {
   "cell_type": "code",
   "execution_count": 91,
   "outputs": [
    {
     "name": "stderr",
     "output_type": "stream",
     "text": [
      "100%|██████████| 322/322 [00:08<00:00, 39.82it/s]\n"
     ]
    }
   ],
   "source": [
    "for coin in tqdm(vol_shock.columns):\n",
    "    # Create 30 copies of trading volumes of this coin and save as columns of a dataframe. Each column is lagged by an incremental amount of days (0 to 30)\n",
    "    # Due to rolling window approach of size 30\n",
    "    lagged_volumes = pd.DataFrame({i: daily_trading_volumes[coin].shift(i) for i in np.arange(31)})\n",
    "    # New column with rowwise standard deviation\n",
    "    lagged_volumes[\"volume_shock\"] = (np.log(lagged_volumes.loc[:, 0].astype(float)) - np.log((np.mean(lagged_volumes.loc[:, 1:30], axis = 1) / 30)).astype(float)) / np.log(np.std(lagged_volumes.loc[:, 1:30], axis = 1).astype(float))\n",
    "    # Save back to dataframe with all standard deviations for all coins\n",
    "    vol_shock[coin] = lagged_volumes[\"volume_shock\"]"
   ],
   "metadata": {
    "collapsed": false,
    "pycharm": {
     "name": "#%%\n"
    }
   }
  },
  {
   "cell_type": "code",
   "execution_count": 92,
   "outputs": [
    {
     "name": "stderr",
     "output_type": "stream",
     "text": [
      "100%|██████████| 322/322 [00:17<00:00, 17.92it/s]\n"
     ]
    }
   ],
   "source": [
    "# Save results back\n",
    "for coin in tqdm(vol_shock.columns):\n",
    "    index_where_coin_has_data = aggregate_data[coin].index\n",
    "    for index in index_where_coin_has_data:\n",
    "        aggregate_data[coin].loc[index, \"volume shock 30\"] =  vol_shock.loc[index, coin]"
   ],
   "metadata": {
    "collapsed": false,
    "pycharm": {
     "name": "#%%\n"
    }
   }
  },
  {
   "cell_type": "markdown",
   "source": [
    "## Now 60 days"
   ],
   "metadata": {
    "collapsed": false,
    "pycharm": {
     "name": "#%% md\n"
    }
   }
  },
  {
   "cell_type": "code",
   "execution_count": 93,
   "outputs": [],
   "source": [
    "# Create empty dataframe to save standard deviation of turnovers of all coins\n",
    "vol_shock_60 = pd.DataFrame(index = all_days_sorted, columns = aggregate_data.keys())"
   ],
   "metadata": {
    "collapsed": false,
    "pycharm": {
     "name": "#%%\n"
    }
   }
  },
  {
   "cell_type": "code",
   "execution_count": 94,
   "outputs": [],
   "source": [
    "# Suppress runtime warnings\n",
    "import warnings\n",
    "warnings.filterwarnings(\"ignore\")"
   ],
   "metadata": {
    "collapsed": false,
    "pycharm": {
     "name": "#%%\n"
    }
   }
  },
  {
   "cell_type": "code",
   "execution_count": 95,
   "outputs": [
    {
     "name": "stderr",
     "output_type": "stream",
     "text": [
      "100%|██████████| 322/322 [00:16<00:00, 20.01it/s]\n"
     ]
    }
   ],
   "source": [
    "for coin in tqdm(vol_shock.columns):\n",
    "    # Create 30 copies of trading volumes of this coin and save as columns of a dataframe. Each column is lagged by an incremental amount of days (0 to 60)\n",
    "    # Due to rolling window approach of size 60\n",
    "    lagged_volumes = pd.DataFrame({i: daily_trading_volumes[coin].shift(i) for i in np.arange(61)})\n",
    "    # New column with rowwise standard deviation\n",
    "    lagged_volumes[\"volume_shock\"] = (np.log(lagged_volumes.loc[:, 0].astype(float)) - np.log((np.mean(lagged_volumes.loc[:, 1:60], axis = 1) / 60)).astype(float)) / np.log(np.std(lagged_volumes.loc[:, 1:60], axis = 1).astype(float))\n",
    "    # Save back to dataframe with all standard deviations for all coins\n",
    "    vol_shock_60[coin] = lagged_volumes[\"volume_shock\"]"
   ],
   "metadata": {
    "collapsed": false,
    "pycharm": {
     "name": "#%%\n"
    }
   }
  },
  {
   "cell_type": "code",
   "execution_count": 96,
   "outputs": [
    {
     "name": "stderr",
     "output_type": "stream",
     "text": [
      "100%|██████████| 322/322 [00:18<00:00, 17.67it/s]\n"
     ]
    }
   ],
   "source": [
    "# Save results back\n",
    "for coin in tqdm(vol_shock.columns):\n",
    "    index_where_coin_has_data = aggregate_data[coin].index\n",
    "    for index in index_where_coin_has_data:\n",
    "        aggregate_data[coin].loc[index, \"volume shock 60\"] =  vol_shock_60.loc[index, coin]"
   ],
   "metadata": {
    "collapsed": false,
    "pycharm": {
     "name": "#%%\n"
    }
   }
  },
  {
   "cell_type": "markdown",
   "source": [
    "# Reversals\n",
    "\n",
    "Variety of cumulative returns.\n",
    "\n"
   ],
   "metadata": {
    "collapsed": false,
    "pycharm": {
     "name": "#%% md\n"
    }
   }
  },
  {
   "cell_type": "code",
   "execution_count": 97,
   "outputs": [
    {
     "name": "stderr",
     "output_type": "stream",
     "text": [
      "100%|██████████| 322/322 [00:14<00:00, 22.12it/s]\n"
     ]
    }
   ],
   "source": [
    "# Union of all values in the days column\n",
    "all_days_sorted = my.sort_all_times([aggregate_data[key] for key in aggregate_data.keys()])\n",
    "\n",
    "# Create empty dataframe to save close prices of all coins\n",
    "close_prices = pd.DataFrame(index = all_days_sorted, columns = aggregate_data.keys())\n",
    "\n",
    "# Fill it with data\n",
    "for coin in tqdm(close_prices.columns):\n",
    "    index_where_coin_has_data = aggregate_data[coin].index\n",
    "    for index in index_where_coin_has_data:\n",
    "        close_prices.loc[index, coin] = aggregate_data[coin].loc[index, \"close\"]\n"
   ],
   "metadata": {
    "collapsed": false,
    "pycharm": {
     "name": "#%%\n"
    }
   }
  },
  {
   "cell_type": "code",
   "execution_count": 98,
   "outputs": [],
   "source": [
    "# Create empty dataframes to save various time horizon returns\n",
    "r2_1 = pd.DataFrame(index = all_days_sorted, columns = aggregate_data.keys())\n",
    "r7_2 = pd.DataFrame(index = all_days_sorted, columns = aggregate_data.keys())\n",
    "r13_2 = pd.DataFrame(index = all_days_sorted, columns = aggregate_data.keys())\n",
    "r22_2 = pd.DataFrame(index = all_days_sorted, columns = aggregate_data.keys())\n",
    "r31_2 = pd.DataFrame(index = all_days_sorted, columns = aggregate_data.keys())\n",
    "r30_14 = pd.DataFrame(index = all_days_sorted, columns = aggregate_data.keys())\n",
    "r180_60 = pd.DataFrame(index = all_days_sorted, columns = aggregate_data.keys())\n"
   ],
   "metadata": {
    "collapsed": false,
    "pycharm": {
     "name": "#%%\n"
    }
   }
  },
  {
   "cell_type": "code",
   "execution_count": 99,
   "outputs": [
    {
     "name": "stderr",
     "output_type": "stream",
     "text": [
      "100%|██████████| 322/322 [00:04<00:00, 72.58it/s] \n"
     ]
    }
   ],
   "source": [
    "for coin in tqdm(close_prices.columns):\n",
    "    # Create 181 copies of close prices of this coin and save as columns of a dataframe. Each column is lagged by a different amount of days\n",
    "    lagged_close_prices = pd.DataFrame({i: close_prices[coin].shift(i) for i in [1, 2, 7, 13, 22, 31, 14, 30,60, 180]})\n",
    "    # New columns with reversals\n",
    "    lagged_close_prices[\"r2_1\"] = 1 - lagged_close_prices[2] / lagged_close_prices[1]\n",
    "    lagged_close_prices[\"r7_2\"] = 1 - lagged_close_prices[7] / lagged_close_prices[2]\n",
    "    lagged_close_prices[\"r13_2\"] = 1 - lagged_close_prices[13] / lagged_close_prices[2]\n",
    "    lagged_close_prices[\"r22_2\"] = 1 - lagged_close_prices[22] / lagged_close_prices[2]\n",
    "    lagged_close_prices[\"r31_2\"] = 1 - lagged_close_prices[31] / lagged_close_prices[2]\n",
    "    lagged_close_prices[\"r30_14\"] = 1 - lagged_close_prices[30] / lagged_close_prices[14]\n",
    "    lagged_close_prices[\"r180_60\"] = 1 - lagged_close_prices[180] / lagged_close_prices[60]\n",
    "    # Save back to dataframes with reversals of all coins\n",
    "    r2_1[coin] = lagged_close_prices[\"r2_1\"]\n",
    "    r7_2[coin] = lagged_close_prices[\"r7_2\"]\n",
    "    r13_2[coin] = lagged_close_prices[\"r13_2\"]\n",
    "    r22_2[coin] = lagged_close_prices[\"r22_2\"]\n",
    "    r31_2[coin] = lagged_close_prices[\"r31_2\"]\n",
    "    r30_14[coin] = lagged_close_prices[\"r30_14\"]\n",
    "    r180_60[coin] = lagged_close_prices[\"r180_60\"]\n"
   ],
   "metadata": {
    "collapsed": false,
    "pycharm": {
     "name": "#%%\n"
    }
   }
  },
  {
   "cell_type": "code",
   "execution_count": 100,
   "outputs": [
    {
     "name": "stderr",
     "output_type": "stream",
     "text": [
      "100%|██████████| 322/322 [02:04<00:00,  2.59it/s]\n"
     ]
    }
   ],
   "source": [
    "# Save results back\n",
    "for coin in tqdm(r2_1.columns):\n",
    "    index_where_coin_has_data = aggregate_data[coin].index\n",
    "    for index in index_where_coin_has_data:\n",
    "        aggregate_data[coin].loc[index, \"r2_1\"] =  r2_1.loc[index, coin]\n",
    "        aggregate_data[coin].loc[index, \"r7_2\"] =  r7_2.loc[index, coin]\n",
    "        aggregate_data[coin].loc[index, \"r13_2\"] =  r13_2.loc[index, coin]\n",
    "        aggregate_data[coin].loc[index, \"r22_2\"] =  r22_2.loc[index, coin]\n",
    "        aggregate_data[coin].loc[index, \"r31_2\"] =  r31_2.loc[index, coin]\n",
    "        aggregate_data[coin].loc[index, \"r30_14\"] =  r30_14.loc[index, coin]\n",
    "        aggregate_data[coin].loc[index, \"r180_60\"] =  r180_60.loc[index, coin]"
   ],
   "metadata": {
    "collapsed": false,
    "pycharm": {
     "name": "#%%\n"
    }
   }
  },
  {
   "cell_type": "markdown",
   "source": [
    "# VaR(5%). just empirical quantile?\n",
    "\n",
    "The historical Value-at-Risk at 5% calculated based on past 90-day returns."
   ],
   "metadata": {
    "collapsed": false,
    "pycharm": {
     "name": "#%% md\n"
    }
   }
  },
  {
   "cell_type": "code",
   "execution_count": 101,
   "outputs": [
    {
     "name": "stderr",
     "output_type": "stream",
     "text": [
      "100%|██████████| 322/322 [00:14<00:00, 22.02it/s]\n"
     ]
    }
   ],
   "source": [
    "# Union of all values in the days column\n",
    "all_days_sorted = my.sort_all_times([aggregate_data[key] for key in aggregate_data.keys()])\n",
    "\n",
    "# Create empty dataframe to save returns of all coins\n",
    "daily_returns = pd.DataFrame(index = all_days_sorted, columns = aggregate_data.keys())\n",
    "\n",
    "# Fill it with data\n",
    "for coin in tqdm(daily_returns.columns):\n",
    "    index_where_coin_has_data = aggregate_data[coin].index\n",
    "    for index in index_where_coin_has_data:\n",
    "        daily_returns.loc[index, coin] = aggregate_data[coin].loc[index, \"daily excess return\"]\n"
   ],
   "metadata": {
    "collapsed": false,
    "pycharm": {
     "name": "#%%\n"
    }
   }
  },
  {
   "cell_type": "code",
   "execution_count": 102,
   "outputs": [],
   "source": [
    "# Create empty dataframe to save rel to high of all coins\n",
    "var_5 = pd.DataFrame(index = all_days_sorted, columns = aggregate_data.keys())"
   ],
   "metadata": {
    "collapsed": false,
    "pycharm": {
     "name": "#%%\n"
    }
   }
  },
  {
   "cell_type": "code",
   "execution_count": 103,
   "outputs": [
    {
     "name": "stderr",
     "output_type": "stream",
     "text": [
      "100%|██████████| 322/322 [00:09<00:00, 33.69it/s]\n"
     ]
    }
   ],
   "source": [
    "for coin in tqdm(var_5.columns):\n",
    "    # Create 30 copies of excess returns of this coin and save as columns of a dataframe. Each column is lagged by an incremental amount of days (0 to 89)\n",
    "    # Since we need maximum of last 90 days\n",
    "    lagged_returns = pd.DataFrame({i: daily_returns[coin].shift(i) for i in np.arange(90)}).fillna(np.nan)\n",
    "    # New column with rel to high\n",
    "    lagged_returns[\"var_5\"] = np.quantile(lagged_returns, q = 0.05, axis = 1)\n",
    "    # Save back to dataframe with all max returns for all coins\n",
    "    var_5[coin] = lagged_returns[\"var_5\"]"
   ],
   "metadata": {
    "collapsed": false,
    "pycharm": {
     "name": "#%%\n"
    }
   }
  },
  {
   "cell_type": "code",
   "execution_count": 104,
   "outputs": [
    {
     "name": "stderr",
     "output_type": "stream",
     "text": [
      "100%|██████████| 322/322 [00:18<00:00, 17.64it/s]\n"
     ]
    }
   ],
   "source": [
    "# Save results back\n",
    "for coin in tqdm(var_5.columns):\n",
    "    index_where_coin_has_data = aggregate_data[coin].index\n",
    "    for index in index_where_coin_has_data:\n",
    "        aggregate_data[coin].loc[index, \"var_5\"] =  var_5.loc[index, coin]"
   ],
   "metadata": {
    "collapsed": false,
    "pycharm": {
     "name": "#%%\n"
    }
   }
  },
  {
   "cell_type": "code",
   "execution_count": 105,
   "outputs": [
    {
     "data": {
      "text/plain": "            FREC      CAPP  KICK       WAN  LTO       ADX     DRGN       DAG  \\\n2022-02-25   0.0 -0.139981   0.0 -0.084533  NaN -0.064474 -0.11459 -0.080151   \n2022-02-26   0.0 -0.139981   0.0 -0.084533  NaN -0.064474 -0.11459 -0.080151   \n2022-02-27   0.0 -0.139981   0.0 -0.084533  NaN -0.067941 -0.11459 -0.080151   \n2022-02-28   0.0 -0.139981   0.0 -0.084533  NaN -0.067941 -0.11459 -0.080151   \n2022-03-01   0.0 -0.139981   0.0 -0.084533  NaN -0.067941 -0.11459 -0.073160   \n\n                 DCN  MGO  ...       DOV       ZRX       ADB  STQ      SUB  \\\n2022-02-25 -0.177328  0.0  ... -0.300117 -0.089632 -0.130479  0.0 -0.19656   \n2022-02-26 -0.181467  0.0  ... -0.300117 -0.089632 -0.130479  0.0 -0.19656   \n2022-02-27 -0.181467  0.0  ... -0.300117 -0.089632 -0.130479  0.0 -0.19656   \n2022-02-28 -0.181467  0.0  ... -0.300117 -0.089632 -0.130479  0.0 -0.19656   \n2022-03-01 -0.181467  0.0  ... -0.300117 -0.089632 -0.130479  0.0 -0.19656   \n\n                DOGE       BTM       BNT       BMX     MATIC  \n2022-02-25 -0.066826 -0.097257 -0.069159 -0.060722 -0.096733  \n2022-02-26 -0.066826 -0.097257 -0.069159 -0.060722 -0.096733  \n2022-02-27 -0.066826 -0.097257 -0.069159 -0.060722 -0.096733  \n2022-02-28 -0.066826 -0.097257 -0.069159 -0.060722 -0.096733  \n2022-03-01 -0.066826 -0.097257 -0.069159 -0.060722 -0.096733  \n\n[5 rows x 322 columns]",
      "text/html": "<div>\n<style scoped>\n    .dataframe tbody tr th:only-of-type {\n        vertical-align: middle;\n    }\n\n    .dataframe tbody tr th {\n        vertical-align: top;\n    }\n\n    .dataframe thead th {\n        text-align: right;\n    }\n</style>\n<table border=\"1\" class=\"dataframe\">\n  <thead>\n    <tr style=\"text-align: right;\">\n      <th></th>\n      <th>FREC</th>\n      <th>CAPP</th>\n      <th>KICK</th>\n      <th>WAN</th>\n      <th>LTO</th>\n      <th>ADX</th>\n      <th>DRGN</th>\n      <th>DAG</th>\n      <th>DCN</th>\n      <th>MGO</th>\n      <th>...</th>\n      <th>DOV</th>\n      <th>ZRX</th>\n      <th>ADB</th>\n      <th>STQ</th>\n      <th>SUB</th>\n      <th>DOGE</th>\n      <th>BTM</th>\n      <th>BNT</th>\n      <th>BMX</th>\n      <th>MATIC</th>\n    </tr>\n  </thead>\n  <tbody>\n    <tr>\n      <th>2022-02-25</th>\n      <td>0.0</td>\n      <td>-0.139981</td>\n      <td>0.0</td>\n      <td>-0.084533</td>\n      <td>NaN</td>\n      <td>-0.064474</td>\n      <td>-0.11459</td>\n      <td>-0.080151</td>\n      <td>-0.177328</td>\n      <td>0.0</td>\n      <td>...</td>\n      <td>-0.300117</td>\n      <td>-0.089632</td>\n      <td>-0.130479</td>\n      <td>0.0</td>\n      <td>-0.19656</td>\n      <td>-0.066826</td>\n      <td>-0.097257</td>\n      <td>-0.069159</td>\n      <td>-0.060722</td>\n      <td>-0.096733</td>\n    </tr>\n    <tr>\n      <th>2022-02-26</th>\n      <td>0.0</td>\n      <td>-0.139981</td>\n      <td>0.0</td>\n      <td>-0.084533</td>\n      <td>NaN</td>\n      <td>-0.064474</td>\n      <td>-0.11459</td>\n      <td>-0.080151</td>\n      <td>-0.181467</td>\n      <td>0.0</td>\n      <td>...</td>\n      <td>-0.300117</td>\n      <td>-0.089632</td>\n      <td>-0.130479</td>\n      <td>0.0</td>\n      <td>-0.19656</td>\n      <td>-0.066826</td>\n      <td>-0.097257</td>\n      <td>-0.069159</td>\n      <td>-0.060722</td>\n      <td>-0.096733</td>\n    </tr>\n    <tr>\n      <th>2022-02-27</th>\n      <td>0.0</td>\n      <td>-0.139981</td>\n      <td>0.0</td>\n      <td>-0.084533</td>\n      <td>NaN</td>\n      <td>-0.067941</td>\n      <td>-0.11459</td>\n      <td>-0.080151</td>\n      <td>-0.181467</td>\n      <td>0.0</td>\n      <td>...</td>\n      <td>-0.300117</td>\n      <td>-0.089632</td>\n      <td>-0.130479</td>\n      <td>0.0</td>\n      <td>-0.19656</td>\n      <td>-0.066826</td>\n      <td>-0.097257</td>\n      <td>-0.069159</td>\n      <td>-0.060722</td>\n      <td>-0.096733</td>\n    </tr>\n    <tr>\n      <th>2022-02-28</th>\n      <td>0.0</td>\n      <td>-0.139981</td>\n      <td>0.0</td>\n      <td>-0.084533</td>\n      <td>NaN</td>\n      <td>-0.067941</td>\n      <td>-0.11459</td>\n      <td>-0.080151</td>\n      <td>-0.181467</td>\n      <td>0.0</td>\n      <td>...</td>\n      <td>-0.300117</td>\n      <td>-0.089632</td>\n      <td>-0.130479</td>\n      <td>0.0</td>\n      <td>-0.19656</td>\n      <td>-0.066826</td>\n      <td>-0.097257</td>\n      <td>-0.069159</td>\n      <td>-0.060722</td>\n      <td>-0.096733</td>\n    </tr>\n    <tr>\n      <th>2022-03-01</th>\n      <td>0.0</td>\n      <td>-0.139981</td>\n      <td>0.0</td>\n      <td>-0.084533</td>\n      <td>NaN</td>\n      <td>-0.067941</td>\n      <td>-0.11459</td>\n      <td>-0.073160</td>\n      <td>-0.181467</td>\n      <td>0.0</td>\n      <td>...</td>\n      <td>-0.300117</td>\n      <td>-0.089632</td>\n      <td>-0.130479</td>\n      <td>0.0</td>\n      <td>-0.19656</td>\n      <td>-0.066826</td>\n      <td>-0.097257</td>\n      <td>-0.069159</td>\n      <td>-0.060722</td>\n      <td>-0.096733</td>\n    </tr>\n  </tbody>\n</table>\n<p>5 rows × 322 columns</p>\n</div>"
     },
     "execution_count": 105,
     "metadata": {},
     "output_type": "execute_result"
    }
   ],
   "source": [
    "var_5.tail()"
   ],
   "metadata": {
    "collapsed": false,
    "pycharm": {
     "name": "#%%\n"
    }
   }
  },
  {
   "cell_type": "markdown",
   "source": [
    "# Save results"
   ],
   "metadata": {
    "collapsed": false,
    "pycharm": {
     "name": "#%% md\n"
    }
   }
  },
  {
   "cell_type": "code",
   "execution_count": 106,
   "outputs": [],
   "source": [
    "path_aggregate_data = \"../Aggregate Data v3/\"\n",
    "\n",
    "for coin in aggregate_data.keys():\n",
    "    aggregate_data[coin].to_csv(path_aggregate_data + coin + \".csv\")"
   ],
   "metadata": {
    "collapsed": false,
    "pycharm": {
     "name": "#%%\n"
    }
   }
  },
  {
   "cell_type": "markdown",
   "metadata": {
    "collapsed": false,
    "pycharm": {
     "name": "#%% md\n"
    }
   },
   "source": [
    "# Load results"
   ]
  },
  {
   "cell_type": "code",
   "execution_count": 107,
   "metadata": {
    "collapsed": false,
    "pycharm": {
     "name": "#%%\n"
    }
   },
   "outputs": [],
   "source": [
    "path_aggregate_data = \"../Aggregate Data v3/\"\n",
    "\n",
    "aggregate_data_files = os.listdir(path_aggregate_data)\n",
    "\n",
    "aggregate_data = dict(\n",
    "    zip(\n",
    "        [file[:-4] for file in aggregate_data_files if file[-4:] == \".csv\"],\n",
    "        [pd.read_csv(path_aggregate_data + file, index_col=\"day\") for file in aggregate_data_files if file[-4:] == \".csv\"]\n",
    "    )\n",
    ")\n",
    "\n",
    "for key in aggregate_data.keys():\n",
    "    aggregate_data[key].index = pd.to_datetime(aggregate_data[key].index)"
   ]
  },
  {
   "cell_type": "code",
   "execution_count": 108,
   "metadata": {
    "collapsed": false,
    "pycharm": {
     "name": "#%%\n"
    }
   },
   "outputs": [
    {
     "data": {
      "text/plain": "322"
     },
     "execution_count": 108,
     "metadata": {},
     "output_type": "execute_result"
    }
   ],
   "source": [
    "len(aggregate_data)"
   ]
  },
  {
   "cell_type": "code",
   "execution_count": 109,
   "outputs": [
    {
     "data": {
      "text/plain": "                  time      high       low      open  volumefrom  \\\nday                                                                \n2017-01-01  1483228800   1001.61    956.10    963.38    41148.52   \n2017-01-02  1483315200   1031.68    990.20    995.44    64951.63   \n2017-01-03  1483401600   1035.47   1006.53   1017.05    54788.01   \n2017-01-04  1483488000   1148.54   1022.32   1033.30   156272.17   \n2017-01-05  1483574400   1150.63    874.53   1135.41   240007.84   \n...                ...       ...       ...       ...         ...   \n2022-02-25  1645747200  39710.26  38043.51  38353.62    39454.29   \n2022-02-26  1645833600  40228.13  38605.65  39239.77    18649.99   \n2022-02-27  1645920000  39861.91  37039.71  39134.83    30834.07   \n2022-02-28  1646006400  43953.92  37473.30  37714.96    55323.43   \n2022-03-01  1646092800  44883.10  42893.50  43189.46    48462.11   \n\n                volumeto     close conversionType  conversionSymbol  \\\nday                                                                   \n2017-01-01  4.057092e+07    995.44         direct               NaN   \n2017-01-02  6.603807e+07   1017.05         direct               NaN   \n2017-01-03  5.608587e+07   1033.30         direct               NaN   \n2017-01-04  1.705846e+08   1135.41         direct               NaN   \n2017-01-05  2.448393e+08    989.35         direct               NaN   \n...                  ...       ...            ...               ...   \n2022-02-25  1.536576e+09  39239.77         direct               NaN   \n2022-02-26  7.329960e+08  39134.83         direct               NaN   \n2022-02-27  1.184510e+09  37714.96         direct               NaN   \n2022-02-28  2.231772e+09  43189.46         direct               NaN   \n2022-03-01  2.121207e+09  44428.47         direct               NaN   \n\n                      timestamp  ...  volume shock 30  volume shock 60  \\\nday                              ...                                     \n2017-01-01  2017-01-01 01:00:00  ...              NaN              NaN   \n2017-01-02  2017-01-02 01:00:00  ...        -0.000000        -0.000000   \n2017-01-03  2017-01-03 01:00:00  ...         0.211534         0.253941   \n2017-01-04  2017-01-04 01:00:00  ...         0.283596         0.326508   \n2017-01-05  2017-01-05 01:00:00  ...         0.248564         0.287497   \n...                         ...  ...              ...              ...   \n2022-02-25  2022-02-25 01:00:00  ...         0.174196         0.205057   \n2022-02-26  2022-02-26 01:00:00  ...         0.137914         0.167813   \n2022-02-27  2022-02-27 01:00:00  ...         0.162085         0.191384   \n2022-02-28  2022-02-28 01:00:00  ...         0.198055         0.227046   \n2022-03-01  2022-03-01 01:00:00  ...         0.190701         0.221463   \n\n                r2_1      r7_2     r13_2     r22_2     r31_2    r30_14  \\\nday                                                                      \n2017-01-01       NaN       NaN       NaN       NaN       NaN       NaN   \n2017-01-02       NaN       NaN       NaN       NaN       NaN       NaN   \n2017-01-03  0.021248       NaN       NaN       NaN       NaN       NaN   \n2017-01-04  0.015726       NaN       NaN       NaN       NaN       NaN   \n2017-01-05  0.089932       NaN       NaN       NaN       NaN       NaN   \n...              ...       ...       ...       ...       ...       ...   \n2022-02-25  0.028231 -0.073082 -0.133299 -0.001551  0.007911  0.131362   \n2022-02-26  0.022583 -0.045719 -0.096894 -0.084392  0.039742  0.119538   \n2022-02-27 -0.002681  0.021471 -0.084417 -0.055516  0.052241  0.102809   \n2022-02-28 -0.037647  0.053595 -0.139045 -0.083751  0.035522  0.102637   \n2022-03-01  0.126755 -0.014657 -0.163897 -0.162962 -0.012459  0.149584   \n\n             r180_60     var_5  \nday                             \n2017-01-01       NaN       NaN  \n2017-01-02       NaN       NaN  \n2017-01-03       NaN       NaN  \n2017-01-04       NaN       NaN  \n2017-01-05       NaN       NaN  \n...              ...       ...  \n2022-02-25  0.037868 -0.060775  \n2022-02-26  0.011425 -0.060775  \n2022-02-27 -0.014795 -0.060775  \n2022-02-28 -0.036290 -0.060775  \n2022-03-01 -0.066745 -0.060775  \n\n[1886 rows x 55 columns]",
      "text/html": "<div>\n<style scoped>\n    .dataframe tbody tr th:only-of-type {\n        vertical-align: middle;\n    }\n\n    .dataframe tbody tr th {\n        vertical-align: top;\n    }\n\n    .dataframe thead th {\n        text-align: right;\n    }\n</style>\n<table border=\"1\" class=\"dataframe\">\n  <thead>\n    <tr style=\"text-align: right;\">\n      <th></th>\n      <th>time</th>\n      <th>high</th>\n      <th>low</th>\n      <th>open</th>\n      <th>volumefrom</th>\n      <th>volumeto</th>\n      <th>close</th>\n      <th>conversionType</th>\n      <th>conversionSymbol</th>\n      <th>timestamp</th>\n      <th>...</th>\n      <th>volume shock 30</th>\n      <th>volume shock 60</th>\n      <th>r2_1</th>\n      <th>r7_2</th>\n      <th>r13_2</th>\n      <th>r22_2</th>\n      <th>r31_2</th>\n      <th>r30_14</th>\n      <th>r180_60</th>\n      <th>var_5</th>\n    </tr>\n    <tr>\n      <th>day</th>\n      <th></th>\n      <th></th>\n      <th></th>\n      <th></th>\n      <th></th>\n      <th></th>\n      <th></th>\n      <th></th>\n      <th></th>\n      <th></th>\n      <th></th>\n      <th></th>\n      <th></th>\n      <th></th>\n      <th></th>\n      <th></th>\n      <th></th>\n      <th></th>\n      <th></th>\n      <th></th>\n      <th></th>\n    </tr>\n  </thead>\n  <tbody>\n    <tr>\n      <th>2017-01-01</th>\n      <td>1483228800</td>\n      <td>1001.61</td>\n      <td>956.10</td>\n      <td>963.38</td>\n      <td>41148.52</td>\n      <td>4.057092e+07</td>\n      <td>995.44</td>\n      <td>direct</td>\n      <td>NaN</td>\n      <td>2017-01-01 01:00:00</td>\n      <td>...</td>\n      <td>NaN</td>\n      <td>NaN</td>\n      <td>NaN</td>\n      <td>NaN</td>\n      <td>NaN</td>\n      <td>NaN</td>\n      <td>NaN</td>\n      <td>NaN</td>\n      <td>NaN</td>\n      <td>NaN</td>\n    </tr>\n    <tr>\n      <th>2017-01-02</th>\n      <td>1483315200</td>\n      <td>1031.68</td>\n      <td>990.20</td>\n      <td>995.44</td>\n      <td>64951.63</td>\n      <td>6.603807e+07</td>\n      <td>1017.05</td>\n      <td>direct</td>\n      <td>NaN</td>\n      <td>2017-01-02 01:00:00</td>\n      <td>...</td>\n      <td>-0.000000</td>\n      <td>-0.000000</td>\n      <td>NaN</td>\n      <td>NaN</td>\n      <td>NaN</td>\n      <td>NaN</td>\n      <td>NaN</td>\n      <td>NaN</td>\n      <td>NaN</td>\n      <td>NaN</td>\n    </tr>\n    <tr>\n      <th>2017-01-03</th>\n      <td>1483401600</td>\n      <td>1035.47</td>\n      <td>1006.53</td>\n      <td>1017.05</td>\n      <td>54788.01</td>\n      <td>5.608587e+07</td>\n      <td>1033.30</td>\n      <td>direct</td>\n      <td>NaN</td>\n      <td>2017-01-03 01:00:00</td>\n      <td>...</td>\n      <td>0.211534</td>\n      <td>0.253941</td>\n      <td>0.021248</td>\n      <td>NaN</td>\n      <td>NaN</td>\n      <td>NaN</td>\n      <td>NaN</td>\n      <td>NaN</td>\n      <td>NaN</td>\n      <td>NaN</td>\n    </tr>\n    <tr>\n      <th>2017-01-04</th>\n      <td>1483488000</td>\n      <td>1148.54</td>\n      <td>1022.32</td>\n      <td>1033.30</td>\n      <td>156272.17</td>\n      <td>1.705846e+08</td>\n      <td>1135.41</td>\n      <td>direct</td>\n      <td>NaN</td>\n      <td>2017-01-04 01:00:00</td>\n      <td>...</td>\n      <td>0.283596</td>\n      <td>0.326508</td>\n      <td>0.015726</td>\n      <td>NaN</td>\n      <td>NaN</td>\n      <td>NaN</td>\n      <td>NaN</td>\n      <td>NaN</td>\n      <td>NaN</td>\n      <td>NaN</td>\n    </tr>\n    <tr>\n      <th>2017-01-05</th>\n      <td>1483574400</td>\n      <td>1150.63</td>\n      <td>874.53</td>\n      <td>1135.41</td>\n      <td>240007.84</td>\n      <td>2.448393e+08</td>\n      <td>989.35</td>\n      <td>direct</td>\n      <td>NaN</td>\n      <td>2017-01-05 01:00:00</td>\n      <td>...</td>\n      <td>0.248564</td>\n      <td>0.287497</td>\n      <td>0.089932</td>\n      <td>NaN</td>\n      <td>NaN</td>\n      <td>NaN</td>\n      <td>NaN</td>\n      <td>NaN</td>\n      <td>NaN</td>\n      <td>NaN</td>\n    </tr>\n    <tr>\n      <th>...</th>\n      <td>...</td>\n      <td>...</td>\n      <td>...</td>\n      <td>...</td>\n      <td>...</td>\n      <td>...</td>\n      <td>...</td>\n      <td>...</td>\n      <td>...</td>\n      <td>...</td>\n      <td>...</td>\n      <td>...</td>\n      <td>...</td>\n      <td>...</td>\n      <td>...</td>\n      <td>...</td>\n      <td>...</td>\n      <td>...</td>\n      <td>...</td>\n      <td>...</td>\n      <td>...</td>\n    </tr>\n    <tr>\n      <th>2022-02-25</th>\n      <td>1645747200</td>\n      <td>39710.26</td>\n      <td>38043.51</td>\n      <td>38353.62</td>\n      <td>39454.29</td>\n      <td>1.536576e+09</td>\n      <td>39239.77</td>\n      <td>direct</td>\n      <td>NaN</td>\n      <td>2022-02-25 01:00:00</td>\n      <td>...</td>\n      <td>0.174196</td>\n      <td>0.205057</td>\n      <td>0.028231</td>\n      <td>-0.073082</td>\n      <td>-0.133299</td>\n      <td>-0.001551</td>\n      <td>0.007911</td>\n      <td>0.131362</td>\n      <td>0.037868</td>\n      <td>-0.060775</td>\n    </tr>\n    <tr>\n      <th>2022-02-26</th>\n      <td>1645833600</td>\n      <td>40228.13</td>\n      <td>38605.65</td>\n      <td>39239.77</td>\n      <td>18649.99</td>\n      <td>7.329960e+08</td>\n      <td>39134.83</td>\n      <td>direct</td>\n      <td>NaN</td>\n      <td>2022-02-26 01:00:00</td>\n      <td>...</td>\n      <td>0.137914</td>\n      <td>0.167813</td>\n      <td>0.022583</td>\n      <td>-0.045719</td>\n      <td>-0.096894</td>\n      <td>-0.084392</td>\n      <td>0.039742</td>\n      <td>0.119538</td>\n      <td>0.011425</td>\n      <td>-0.060775</td>\n    </tr>\n    <tr>\n      <th>2022-02-27</th>\n      <td>1645920000</td>\n      <td>39861.91</td>\n      <td>37039.71</td>\n      <td>39134.83</td>\n      <td>30834.07</td>\n      <td>1.184510e+09</td>\n      <td>37714.96</td>\n      <td>direct</td>\n      <td>NaN</td>\n      <td>2022-02-27 01:00:00</td>\n      <td>...</td>\n      <td>0.162085</td>\n      <td>0.191384</td>\n      <td>-0.002681</td>\n      <td>0.021471</td>\n      <td>-0.084417</td>\n      <td>-0.055516</td>\n      <td>0.052241</td>\n      <td>0.102809</td>\n      <td>-0.014795</td>\n      <td>-0.060775</td>\n    </tr>\n    <tr>\n      <th>2022-02-28</th>\n      <td>1646006400</td>\n      <td>43953.92</td>\n      <td>37473.30</td>\n      <td>37714.96</td>\n      <td>55323.43</td>\n      <td>2.231772e+09</td>\n      <td>43189.46</td>\n      <td>direct</td>\n      <td>NaN</td>\n      <td>2022-02-28 01:00:00</td>\n      <td>...</td>\n      <td>0.198055</td>\n      <td>0.227046</td>\n      <td>-0.037647</td>\n      <td>0.053595</td>\n      <td>-0.139045</td>\n      <td>-0.083751</td>\n      <td>0.035522</td>\n      <td>0.102637</td>\n      <td>-0.036290</td>\n      <td>-0.060775</td>\n    </tr>\n    <tr>\n      <th>2022-03-01</th>\n      <td>1646092800</td>\n      <td>44883.10</td>\n      <td>42893.50</td>\n      <td>43189.46</td>\n      <td>48462.11</td>\n      <td>2.121207e+09</td>\n      <td>44428.47</td>\n      <td>direct</td>\n      <td>NaN</td>\n      <td>2022-03-01 01:00:00</td>\n      <td>...</td>\n      <td>0.190701</td>\n      <td>0.221463</td>\n      <td>0.126755</td>\n      <td>-0.014657</td>\n      <td>-0.163897</td>\n      <td>-0.162962</td>\n      <td>-0.012459</td>\n      <td>0.149584</td>\n      <td>-0.066745</td>\n      <td>-0.060775</td>\n    </tr>\n  </tbody>\n</table>\n<p>1886 rows × 55 columns</p>\n</div>"
     },
     "execution_count": 109,
     "metadata": {},
     "output_type": "execute_result"
    }
   ],
   "source": [
    "aggregate_data[\"BTC\"]"
   ],
   "metadata": {
    "collapsed": false,
    "pycharm": {
     "name": "#%%\n"
    }
   }
  },
  {
   "cell_type": "code",
   "execution_count": 109,
   "outputs": [],
   "source": [],
   "metadata": {
    "collapsed": false,
    "pycharm": {
     "name": "#%%\n"
    }
   }
  }
 ],
 "metadata": {
  "kernelspec": {
   "display_name": "Python 3.8.5 ('thesis')",
   "language": "python",
   "name": "python3"
  },
  "language_info": {
   "codemirror_mode": {
    "name": "ipython",
    "version": 3
   },
   "file_extension": ".py",
   "mimetype": "text/x-python",
   "name": "python",
   "nbconvert_exporter": "python",
   "pygments_lexer": "ipython3",
   "version": "3.8.15"
  },
  "vscode": {
   "interpreter": {
    "hash": "af90b6e83da8ac8f9365f08f7c9d422376cb8ebeb4a2241ed01dfdd1c85811e5"
   }
  }
 },
 "nbformat": 4,
 "nbformat_minor": 0
}