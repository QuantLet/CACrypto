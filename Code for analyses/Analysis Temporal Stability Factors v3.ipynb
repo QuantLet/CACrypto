{
 "cells": [
  {
   "cell_type": "code",
   "execution_count": 13,
   "metadata": {
    "collapsed": false,
    "pycharm": {
     "name": "#%%\n"
    }
   },
   "outputs": [
    {
     "data": {
      "text/plain": "<module 'my_functions_v13' from '/Users/lucasumann/PycharmProjects/Masterarbeit/Notebooks/my_functions_v13.py'>"
     },
     "execution_count": 13,
     "metadata": {},
     "output_type": "execute_result"
    }
   ],
   "source": [
    "\n",
    "import numpy as np\n",
    "import matplotlib.pyplot as plt\n",
    "\n",
    "import pandas as pd\n",
    "\n",
    "import my_functions_v13 as my\n",
    "import importlib\n",
    "\n",
    "from tqdm import tqdm\n",
    "importlib.reload(my)"
   ]
  },
  {
   "cell_type": "code",
   "execution_count": 14,
   "metadata": {
    "collapsed": false,
    "pycharm": {
     "name": "#%%\n"
    }
   },
   "outputs": [],
   "source": [
    "time_windows = [7, 14, 30, 45, 60, 75, 90, 105, 120, 135, 150, 165, 180, 195, 210, 225, 240, 255, 270, 285, 300, 315, 330, 345, 360, 720, \"all\"]"
   ]
  },
  {
   "cell_type": "code",
   "execution_count": 31,
   "metadata": {
    "collapsed": false,
    "pycharm": {
     "name": "#%%\n"
    }
   },
   "outputs": [],
   "source": [
    "results = {}"
   ]
  },
  {
   "cell_type": "code",
   "execution_count": 16,
   "outputs": [],
   "source": [
    "window_size_training = 0.3"
   ],
   "metadata": {
    "collapsed": false,
    "pycharm": {
     "name": "#%%\n"
    }
   }
  },
  {
   "cell_type": "code",
   "execution_count": 17,
   "outputs": [],
   "source": [
    "number_factors = 3"
   ],
   "metadata": {
    "collapsed": false,
    "pycharm": {
     "name": "#%%\n"
    }
   }
  },
  {
   "cell_type": "code",
   "execution_count": 18,
   "outputs": [],
   "source": [
    "full_coins_model = my.cond_auto_model(full_input = True, parallel_runs = 2, factor_dim=number_factors, model_name = \"322 coins with intercept v13 training window \"+str(window_size_training))\n",
    "full_coins_model.test_percent = 1 - window_size_training\n",
    "full_coins_model.initialize_X_Y()"
   ],
   "metadata": {
    "collapsed": false,
    "pycharm": {
     "name": "#%%\n"
    }
   }
  },
  {
   "cell_type": "code",
   "execution_count": 23,
   "metadata": {
    "collapsed": false,
    "pycharm": {
     "name": "#%%\n"
    }
   },
   "outputs": [
    {
     "name": "stderr",
     "output_type": "stream",
     "text": [
      "  0%|          | 0/27 [00:00<?, ?it/s]"
     ]
    },
    {
     "name": "stdout",
     "output_type": "stream",
     "text": [
      "Make predictions of step number 0\n"
     ]
    },
    {
     "name": "stderr",
     "output_type": "stream",
     "text": [
      "  0%|          | 0/27 [01:34<?, ?it/s]\n"
     ]
    },
    {
     "ename": "TypeError",
     "evalue": "weight_decay is not a valid argument, kwargs should be empty  for `optimizer_experimental.Optimizer`.",
     "output_type": "error",
     "traceback": [
      "\u001B[0;31m---------------------------------------------------------------------------\u001B[0m",
      "\u001B[0;31mTypeError\u001B[0m                                 Traceback (most recent call last)",
      "Input \u001B[0;32mIn [23]\u001B[0m, in \u001B[0;36m<cell line: 1>\u001B[0;34m()\u001B[0m\n\u001B[1;32m      1\u001B[0m \u001B[38;5;28;01mfor\u001B[39;00m time \u001B[38;5;129;01min\u001B[39;00m tqdm(time_windows):\n\u001B[1;32m      2\u001B[0m     full_coins_model\u001B[38;5;241m.\u001B[39minitialize_X_Y()\n\u001B[0;32m----> 3\u001B[0m     \u001B[43mfull_coins_model\u001B[49m\u001B[38;5;241;43m.\u001B[39;49m\u001B[43mmake_future_predictions\u001B[49m\u001B[43m(\u001B[49m\u001B[43mfactor_averaging_days\u001B[49m\u001B[38;5;241;43m=\u001B[39;49m\u001B[43mtime\u001B[49m\u001B[43m)\u001B[49m\n\u001B[1;32m      4\u001B[0m     full_coins_model\u001B[38;5;241m.\u001B[39mupdate_future_Y_predictions(factor_averaging_days\u001B[38;5;241m=\u001B[39mtime)\n\u001B[1;32m      5\u001B[0m     full_coins_model\u001B[38;5;241m.\u001B[39mreset_X_Y()\n",
      "File \u001B[0;32m~/PycharmProjects/Masterarbeit/Notebooks/my_functions_v13.py:792\u001B[0m, in \u001B[0;36mcond_auto_model.make_future_predictions\u001B[0;34m(self, set_var_to_zero, factor_averaging_days)\u001B[0m\n\u001B[1;32m    790\u001B[0m \u001B[38;5;28;01mwhile\u001B[39;00m \u001B[38;5;28mself\u001B[39m\u001B[38;5;241m.\u001B[39mwithin_time_limit:\n\u001B[1;32m    791\u001B[0m     \u001B[38;5;28mprint\u001B[39m(\u001B[38;5;124m\"\u001B[39m\u001B[38;5;124mMake predictions of step number \u001B[39m\u001B[38;5;124m\"\u001B[39m \u001B[38;5;241m+\u001B[39m \u001B[38;5;28mstr\u001B[39m(stepnumber))\n\u001B[0;32m--> 792\u001B[0m     loaded_models \u001B[38;5;241m=\u001B[39m \u001B[38;5;28;43mself\u001B[39;49m\u001B[38;5;241;43m.\u001B[39;49m\u001B[43mload_parallel_models\u001B[49m\u001B[43m(\u001B[49m\u001B[43mstepnumber\u001B[49m\u001B[43m)\u001B[49m\n\u001B[1;32m    793\u001B[0m     \u001B[38;5;28mself\u001B[39m\u001B[38;5;241m.\u001B[39mpredict_future_returns_from_saved(models\u001B[38;5;241m=\u001B[39mloaded_models, step\u001B[38;5;241m=\u001B[39mstepnumber,\n\u001B[1;32m    794\u001B[0m                                            factor_averaging_days\u001B[38;5;241m=\u001B[39mfactor_averaging_days,\n\u001B[1;32m    795\u001B[0m                                            set_var_to_zero\u001B[38;5;241m=\u001B[39mset_var_to_zero)\n\u001B[1;32m    796\u001B[0m     \u001B[38;5;28mself\u001B[39m\u001B[38;5;241m.\u001B[39mshift_X_Y_train_valid_test_forwards()\n",
      "File \u001B[0;32m~/PycharmProjects/Masterarbeit/Notebooks/my_functions_v13.py:772\u001B[0m, in \u001B[0;36mcond_auto_model.load_parallel_models\u001B[0;34m(self, stepnumber)\u001B[0m\n\u001B[1;32m    769\u001B[0m model_directory \u001B[38;5;241m=\u001B[39m \u001B[38;5;28mself\u001B[39m\u001B[38;5;241m.\u001B[39mmodel_directory\n\u001B[1;32m    770\u001B[0m number_parallel \u001B[38;5;241m=\u001B[39m \u001B[38;5;28mself\u001B[39m\u001B[38;5;241m.\u001B[39mnumber_parallel_models\n\u001B[0;32m--> 772\u001B[0m current_model_list \u001B[38;5;241m=\u001B[39m [keras\u001B[38;5;241m.\u001B[39mmodels\u001B[38;5;241m.\u001B[39mload_model(model_directory \u001B[38;5;241m+\u001B[39m \u001B[38;5;124m\"\u001B[39m\u001B[38;5;124m/\u001B[39m\u001B[38;5;124m\"\u001B[39m \u001B[38;5;241m+\u001B[39m \u001B[38;5;28mstr\u001B[39m(stepnumber) \u001B[38;5;241m+\u001B[39m \u001B[38;5;124m\"\u001B[39m\u001B[38;5;124m/\u001B[39m\u001B[38;5;124m\"\u001B[39m \u001B[38;5;241m+\u001B[39m \u001B[38;5;28mstr\u001B[39m(i)) \u001B[38;5;28;01mfor\u001B[39;00m i \u001B[38;5;129;01min\u001B[39;00m\n\u001B[1;32m    773\u001B[0m                       np\u001B[38;5;241m.\u001B[39marange(number_parallel)]\n\u001B[1;32m    774\u001B[0m \u001B[38;5;28;01mreturn\u001B[39;00m current_model_list\n",
      "File \u001B[0;32m~/PycharmProjects/Masterarbeit/Notebooks/my_functions_v13.py:772\u001B[0m, in \u001B[0;36m<listcomp>\u001B[0;34m(.0)\u001B[0m\n\u001B[1;32m    769\u001B[0m model_directory \u001B[38;5;241m=\u001B[39m \u001B[38;5;28mself\u001B[39m\u001B[38;5;241m.\u001B[39mmodel_directory\n\u001B[1;32m    770\u001B[0m number_parallel \u001B[38;5;241m=\u001B[39m \u001B[38;5;28mself\u001B[39m\u001B[38;5;241m.\u001B[39mnumber_parallel_models\n\u001B[0;32m--> 772\u001B[0m current_model_list \u001B[38;5;241m=\u001B[39m [\u001B[43mkeras\u001B[49m\u001B[38;5;241;43m.\u001B[39;49m\u001B[43mmodels\u001B[49m\u001B[38;5;241;43m.\u001B[39;49m\u001B[43mload_model\u001B[49m\u001B[43m(\u001B[49m\u001B[43mmodel_directory\u001B[49m\u001B[43m \u001B[49m\u001B[38;5;241;43m+\u001B[39;49m\u001B[43m \u001B[49m\u001B[38;5;124;43m\"\u001B[39;49m\u001B[38;5;124;43m/\u001B[39;49m\u001B[38;5;124;43m\"\u001B[39;49m\u001B[43m \u001B[49m\u001B[38;5;241;43m+\u001B[39;49m\u001B[43m \u001B[49m\u001B[38;5;28;43mstr\u001B[39;49m\u001B[43m(\u001B[49m\u001B[43mstepnumber\u001B[49m\u001B[43m)\u001B[49m\u001B[43m \u001B[49m\u001B[38;5;241;43m+\u001B[39;49m\u001B[43m \u001B[49m\u001B[38;5;124;43m\"\u001B[39;49m\u001B[38;5;124;43m/\u001B[39;49m\u001B[38;5;124;43m\"\u001B[39;49m\u001B[43m \u001B[49m\u001B[38;5;241;43m+\u001B[39;49m\u001B[43m \u001B[49m\u001B[38;5;28;43mstr\u001B[39;49m\u001B[43m(\u001B[49m\u001B[43mi\u001B[49m\u001B[43m)\u001B[49m\u001B[43m)\u001B[49m \u001B[38;5;28;01mfor\u001B[39;00m i \u001B[38;5;129;01min\u001B[39;00m\n\u001B[1;32m    773\u001B[0m                       np\u001B[38;5;241m.\u001B[39marange(number_parallel)]\n\u001B[1;32m    774\u001B[0m \u001B[38;5;28;01mreturn\u001B[39;00m current_model_list\n",
      "File \u001B[0;32m/opt/homebrew/Caskroom/miniforge/base/envs/Masterarbeit/lib/python3.10/site-packages/keras/utils/traceback_utils.py:67\u001B[0m, in \u001B[0;36mfilter_traceback.<locals>.error_handler\u001B[0;34m(*args, **kwargs)\u001B[0m\n\u001B[1;32m     65\u001B[0m \u001B[38;5;28;01mexcept\u001B[39;00m \u001B[38;5;167;01mException\u001B[39;00m \u001B[38;5;28;01mas\u001B[39;00m e:  \u001B[38;5;66;03m# pylint: disable=broad-except\u001B[39;00m\n\u001B[1;32m     66\u001B[0m   filtered_tb \u001B[38;5;241m=\u001B[39m _process_traceback_frames(e\u001B[38;5;241m.\u001B[39m__traceback__)\n\u001B[0;32m---> 67\u001B[0m   \u001B[38;5;28;01mraise\u001B[39;00m e\u001B[38;5;241m.\u001B[39mwith_traceback(filtered_tb) \u001B[38;5;28;01mfrom\u001B[39;00m \u001B[38;5;28mNone\u001B[39m\n\u001B[1;32m     68\u001B[0m \u001B[38;5;28;01mfinally\u001B[39;00m:\n\u001B[1;32m     69\u001B[0m   \u001B[38;5;28;01mdel\u001B[39;00m filtered_tb\n",
      "File \u001B[0;32m/opt/homebrew/Caskroom/miniforge/base/envs/Masterarbeit/lib/python3.10/site-packages/keras/optimizers/optimizer_experimental/optimizer.py:94\u001B[0m, in \u001B[0;36m_BaseOptimizer._process_kwargs\u001B[0;34m(self, kwargs)\u001B[0m\n\u001B[1;32m     90\u001B[0m   logging\u001B[38;5;241m.\u001B[39mwarning(\n\u001B[1;32m     91\u001B[0m       \u001B[38;5;124m\"\u001B[39m\u001B[38;5;132;01m%s\u001B[39;00m\u001B[38;5;124m is deprecated in `optimizer_experimental.Optimizer`\u001B[39m\u001B[38;5;124m\"\u001B[39m\n\u001B[1;32m     92\u001B[0m       \u001B[38;5;124m\"\u001B[39m\u001B[38;5;124m, please check the docstring for valid arguments.\u001B[39m\u001B[38;5;124m\"\u001B[39m, k)\n\u001B[1;32m     93\u001B[0m \u001B[38;5;28;01melse\u001B[39;00m:\n\u001B[0;32m---> 94\u001B[0m   \u001B[38;5;28;01mraise\u001B[39;00m \u001B[38;5;167;01mTypeError\u001B[39;00m(\u001B[38;5;124mf\u001B[39m\u001B[38;5;124m\"\u001B[39m\u001B[38;5;132;01m{\u001B[39;00mk\u001B[38;5;132;01m}\u001B[39;00m\u001B[38;5;124m is not a valid argument, kwargs should be empty \u001B[39m\u001B[38;5;124m\"\u001B[39m\n\u001B[1;32m     95\u001B[0m                   \u001B[38;5;124m\"\u001B[39m\u001B[38;5;124m for `optimizer_experimental.Optimizer`.\u001B[39m\u001B[38;5;124m\"\u001B[39m)\n",
      "\u001B[0;31mTypeError\u001B[0m: weight_decay is not a valid argument, kwargs should be empty  for `optimizer_experimental.Optimizer`."
     ]
    }
   ],
   "source": [
    "for time in tqdm(time_windows):\n",
    "    full_coins_model.initialize_X_Y()\n",
    "    full_coins_model.make_future_predictions(factor_averaging_days=time)\n",
    "    full_coins_model.update_future_Y_predictions(factor_averaging_days=time)\n",
    "    full_coins_model.reset_X_Y()\n",
    "    full_coins_model.calculate_predictive_r2()\n",
    "    results[time] = {\"Rsquared predictive\" : full_coins_model.Rsquared_predictive_list,\n",
    "                     \"masked Rsquared predictive\" : full_coins_model.masked_Rsquared_predictive_list}\n"
   ]
  },
  {
   "cell_type": "code",
   "execution_count": 32,
   "outputs": [
    {
     "name": "stderr",
     "output_type": "stream",
     "text": [
      "100%|██████████| 26/26 [00:10<00:00,  2.37it/s]\n"
     ]
    }
   ],
   "source": [
    "# Read all results\n",
    "for time in tqdm(time_windows[:-1]):\n",
    "    full_coins_model.update_future_Y_predictions(factor_averaging_days=time)\n",
    "    full_coins_model.reset_X_Y()\n",
    "    full_coins_model.calculate_predictive_r2()\n",
    "    relevant_Rsquared_predictive_average = 1 - ((full_coins_model.masked_Y_pred_future_average[-1194:] - full_coins_model.masked_Y_test[-1194:])**2).sum().sum() / (full_coins_model.masked_Y_test[-1194:]**2).sum().sum()\n",
    "    results[time] = relevant_Rsquared_predictive_average\n"
   ],
   "metadata": {
    "collapsed": false,
    "pycharm": {
     "name": "#%%\n"
    }
   }
  },
  {
   "cell_type": "code",
   "execution_count": 33,
   "outputs": [],
   "source": [
    "results_df = pd.DataFrame({\"Days\" : results.keys(), \"Relevant Rsquared predictive\": results.values()})"
   ],
   "metadata": {
    "collapsed": false,
    "pycharm": {
     "name": "#%%\n"
    }
   }
  },
  {
   "cell_type": "code",
   "execution_count": 34,
   "outputs": [
    {
     "data": {
      "text/plain": "<AxesSubplot:xlabel='Days', ylabel='Relevant Rsquared predictive'>"
     },
     "execution_count": 34,
     "metadata": {},
     "output_type": "execute_result"
    },
    {
     "data": {
      "text/plain": "<Figure size 432x288 with 1 Axes>",
      "image/png": "[encoded data removed]"
     },
     "metadata": {
      "needs_background": "light"
     },
     "output_type": "display_data"
    }
   ],
   "source": [
    "sns.lineplot(data = results_df, x = \"Days\", y = \"Relevant Rsquared predictive\")"
   ],
   "metadata": {
    "collapsed": false,
    "pycharm": {
     "name": "#%%\n"
    }
   }
  },
  {
   "cell_type": "code",
   "execution_count": null,
   "outputs": [],
   "source": [],
   "metadata": {
    "collapsed": false,
    "pycharm": {
     "name": "#%%\n"
    }
   }
  }
 ],
 "metadata": {
  "kernelspec": {
   "display_name": "thesis",
   "language": "python",
   "name": "python3"
  },
  "language_info": {
   "codemirror_mode": {
    "name": "ipython",
    "version": 3
   },
   "file_extension": ".py",
   "mimetype": "text/x-python",
   "name": "python",
   "nbconvert_exporter": "python",
   "pygments_lexer": "ipython3",
   "version": "3.8.15"
  },
  "vscode": {
   "interpreter": {
    "hash": "af90b6e83da8ac8f9365f08f7c9d422376cb8ebeb4a2241ed01dfdd1c85811e5"
   }
  }
 },
 "nbformat": 4,
 "nbformat_minor": 0
}