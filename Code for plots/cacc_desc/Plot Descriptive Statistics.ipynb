{
 "cells": [
  {
   "cell_type": "code",
   "execution_count": 213,
   "outputs": [
    {
     "data": {
      "text/plain": "<module 'my_functions_v13' from '/Users/lucasumann/PycharmProjects/Masterarbeit/Notebooks/my_functions_v13.py'>"
     },
     "execution_count": 213,
     "metadata": {},
     "output_type": "execute_result"
    }
   ],
   "source": [
    "\n",
    "import numpy as np\n",
    "import matplotlib.pyplot as plt\n",
    "from scipy.stats.mstats import winsorize\n",
    "import pandas as pd\n",
    "import seaborn as sns\n",
    "import my_functions_v13 as my\n",
    "import importlib\n",
    "from scipy.stats import describe\n",
    "\n",
    "\n",
    "importlib.reload(my)"
   ],
   "metadata": {
    "collapsed": false,
    "pycharm": {
     "name": "#%%\n"
    }
   }
  },
  {
   "cell_type": "code",
   "execution_count": null,
   "outputs": [],
   "source": [],
   "metadata": {
    "collapsed": false,
    "pycharm": {
     "name": "#%%\n"
    }
   }
  },
  {
   "cell_type": "code",
   "execution_count": 2,
   "outputs": [],
   "source": [
    "window_size_training = 0.1"
   ],
   "metadata": {
    "collapsed": false,
    "pycharm": {
     "name": "#%%\n"
    }
   }
  },
  {
   "cell_type": "code",
   "execution_count": 3,
   "outputs": [],
   "source": [
    "number_factors = 3"
   ],
   "metadata": {
    "collapsed": false,
    "pycharm": {
     "name": "#%%\n"
    }
   }
  },
  {
   "cell_type": "code",
   "execution_count": 4,
   "outputs": [],
   "source": [
    "full_coins_model = my.cond_auto_model(full_input = True, parallel_runs = 2, factor_dim=number_factors, model_name = \"322 coins with intercept v13 training window \"+str(window_size_training))\n",
    "full_coins_model.test_percent = 1 - window_size_training"
   ],
   "metadata": {
    "collapsed": false,
    "pycharm": {
     "name": "#%%\n"
    }
   }
  },
  {
   "cell_type": "code",
   "execution_count": 5,
   "outputs": [],
   "source": [
    "full_coins_model.initialize_X_Y()"
   ],
   "metadata": {
    "collapsed": false,
    "pycharm": {
     "name": "#%%\n"
    }
   }
  },
  {
   "cell_type": "code",
   "execution_count": 78,
   "outputs": [],
   "source": [
    "characteristics = full_coins_model.variables_df_list_unstandardized"
   ],
   "metadata": {
    "collapsed": false,
    "pycharm": {
     "name": "#%%\n"
    }
   }
  },
  {
   "cell_type": "code",
   "execution_count": 227,
   "outputs": [],
   "source": [
    "covariates_all = pd.concat([characteristics[i] for i in np.arange(len(characteristics))])\n",
    "covariates_all.columns = [\"new addresses\", \"active addresses\", \"bm\", \"volume\", \"sd. volume\", \"size\", \"illiq\", \"capm beta\", \"max\", \"capm alpha\", \"ivol\", \"turnover\", \"rvol\", \"bid-ask\", \"detrend. turnover\", \"sd. turnover\", \"rel to high\", \"volume shock 30\", \"volume shock 60\", r\"r2_1\", r\"r7_2\", r\"r13_2\", r\"r22_2\", r\"r31_2\", r\"r30_14\", r\"r180_60\", r\"VaR 5%\"]"
   ],
   "metadata": {
    "collapsed": false,
    "pycharm": {
     "name": "#%%\n"
    }
   }
  },
  {
   "cell_type": "code",
   "execution_count": 84,
   "outputs": [],
   "source": [
    "for col in covariates_all.columns:\n",
    "    covariates_all.loc[:, col] = np.array(winsorize(covariates_all.loc[:, col], limits = [0.05, 0.05], nan_policy=\"omit\"))"
   ],
   "metadata": {
    "collapsed": false,
    "pycharm": {
     "name": "#%%\n"
    }
   }
  },
  {
   "cell_type": "code",
   "execution_count": 122,
   "outputs": [],
   "source": [
    "descriptive_statistics = {}\n",
    "for col in covariates_all.columns:\n",
    "    statistics = {}\n",
    "    description = describe(covariates_all[col], nan_policy = \"omit\")\n",
    "    statistics[\"Minimum\"] = float(description[1][0])\n",
    "    statistics[\"Maximum\"] = float(description[1][1])\n",
    "    statistics[\"Mean\"] = description[2]\n",
    "    statistics[\"Variance\"] = description[3]\n",
    "    statistics[\"Skewness\"] = float(description[4])\n",
    "    statistics[\"Kurtosis\"] = description[5]\n",
    "    descriptive_statistics[col] = statistics\n"
   ],
   "metadata": {
    "collapsed": false,
    "pycharm": {
     "name": "#%%\n"
    }
   }
  },
  {
   "cell_type": "code",
   "execution_count": 206,
   "outputs": [],
   "source": [
    "stats_df = pd.DataFrame(descriptive_statistics).T"
   ],
   "metadata": {
    "collapsed": false,
    "pycharm": {
     "name": "#%%\n"
    }
   }
  },
  {
   "cell_type": "code",
   "execution_count": 207,
   "outputs": [],
   "source": [
    "for i in np.arange(len(stats_df)):\n",
    "    for j in np.arange(len(stats_df.columns)):\n",
    "        if np.abs(stats_df.iloc[i, j]) == 0:\n",
    "            stats_df.iloc[i, j] = '{:.0f}'.format(stats_df.iloc[i, j])\n",
    "        elif np.abs(stats_df.iloc[i, j]) < 1000:\n",
    "            stats_df.iloc[i, j] = '{:.4f}'.format(stats_df.iloc[i, j])\n",
    "        else:\n",
    "            stats_df.iloc[i, j] = '{:.1e}'.format(stats_df.iloc[i, j])"
   ],
   "metadata": {
    "collapsed": false,
    "pycharm": {
     "name": "#%%\n"
    }
   }
  },
  {
   "cell_type": "code",
   "execution_count": 208,
   "outputs": [],
   "source": [
    "for i in np.arange(len(stats_df)):\n",
    "    for j in np.arange(len(stats_df.columns)):\n",
    "        stats_df.iloc[i, j] = r'\\num{' + stats_df.iloc[i, j] + r'}'"
   ],
   "metadata": {
    "collapsed": false,
    "pycharm": {
     "name": "#%%\n"
    }
   }
  },
  {
   "cell_type": "code",
   "execution_count": 209,
   "outputs": [],
   "source": [
    "stats_df.index = [\"new addresses\", \"active addresses\", \"bm\", \"volume\", \"standard deviation volume\", \"size\", \"illiq\", \"capm beta\", \"max\", \"capm alpha\", \"ivol\", \"turnover\", \"rvol\", \"bid-ask\", \"detrended turnover\", \"standard deviation turnover\", \"rel to high\", \"volume shock 30\", \"volume shock 60\", r\"r2\\_1\", r\"r7\\_2\", r\"r13\\_2\", r\"r22\\_2\", r\"r31\\_2\", r\"r30\\_14\", r\"r180\\_60\", r\"VaR 5\\%\"]"
   ],
   "metadata": {
    "collapsed": false,
    "pycharm": {
     "name": "#%%\n"
    }
   }
  },
  {
   "cell_type": "code",
   "execution_count": 210,
   "outputs": [
    {
     "name": "stdout",
     "output_type": "stream",
     "text": [
      "\\begin{tabular}{lllllll}\n",
      "\\toprule\n",
      "{} &         Minimum &         Maximum &           Mean &       Variance &        Skewness &        Kurtosis \\\\\n",
      "\\midrule\n",
      "new addresses               &         \\num{0} &   \\num{1.0e+06} &  \\num{2.9e+03} &  \\num{7.9e+08} &   \\num{14.4108} &  \\num{237.7902} \\\\\n",
      "active addresses            &         \\num{0} &   \\num{4.7e+06} &  \\num{6.4e+03} &  \\num{3.6e+09} &   \\num{13.8191} &  \\num{262.9238} \\\\\n",
      "bm                          &    \\num{0.0001} &   \\num{2.6e+09} &  \\num{2.2e+05} &  \\num{5.1e+14} &  \\num{109.4618} &   \\num{1.2e+04} \\\\\n",
      "volume                      &         \\num{0} &   \\num{1.9e+21} &  \\num{9.3e+15} &  \\num{1.4e+37} &  \\num{426.0003} &   \\num{1.9e+05} \\\\\n",
      "standard deviation volume   &         \\num{0} &   \\num{3.4e+20} &  \\num{5.0e+16} &  \\num{1.4e+37} &   \\num{77.7582} &   \\num{6.3e+03} \\\\\n",
      "size                        &         \\num{0} &   \\num{1.3e+12} &  \\num{1.8e+09} &  \\num{8.9e+20} &   \\num{27.0693} &  \\num{834.9976} \\\\\n",
      "illiq                       &   \\num{-0.0361} &   \\num{17.2750} &  \\num{-0.0039} &   \\num{0.0017} &  \\num{356.9986} &   \\num{1.4e+05} \\\\\n",
      "capm beta                   &   \\num{-0.4129} &   \\num{5.2e+09} &  \\num{1.9e+05} &  \\num{7.0e+14} &  \\num{156.5901} &   \\num{2.6e+04} \\\\\n",
      "max                         &         \\num{0} &   \\num{1.1e+10} &  \\num{1.9e+06} &  \\num{1.9e+16} &   \\num{73.5529} &   \\num{5.4e+03} \\\\\n",
      "capm alpha                  &   \\num{-0.0248} &   \\num{4.1e+08} &  \\num{6.6e+04} &  \\num{2.3e+13} &   \\num{72.9906} &   \\num{5.4e+03} \\\\\n",
      "ivol                        &         \\num{0} &   \\num{2.0e+09} &  \\num{3.5e+05} &  \\num{6.3e+14} &   \\num{72.8721} &   \\num{5.3e+03} \\\\\n",
      "turnover                    &         \\num{0} &   \\num{1.9e+12} &  \\num{6.9e+06} &  \\num{1.1e+19} &  \\num{520.6047} &   \\num{2.8e+05} \\\\\n",
      "rvol                        &         \\num{0} &  \\num{114.8830} &   \\num{0.1242} &   \\num{3.0113} &   \\num{31.7552} &   \\num{1.3e+03} \\\\\n",
      "bid-ask                     &         \\num{0} &   \\num{14.4644} &   \\num{0.0583} &   \\num{0.0225} &   \\num{30.0132} &   \\num{1.6e+03} \\\\\n",
      "detrended turnover          &  \\num{-61.6379} &   \\num{1.9e+12} &  \\num{6.9e+06} &  \\num{1.0e+19} &  \\num{520.5238} &   \\num{2.8e+05} \\\\\n",
      "standard deviation turnover &         \\num{0} &   \\num{3.4e+11} &  \\num{3.7e+07} &  \\num{1.0e+19} &   \\num{95.0728} &   \\num{9.4e+03} \\\\\n",
      "rel to high                 &    \\num{0.1977} &    \\num{1.0000} &   \\num{0.5901} &   \\num{0.0596} &    \\num{0.0716} &   \\num{-1.1178} \\\\\n",
      "volume shock 30             &    \\num{0.0086} &   \\num{42.4034} &   \\num{0.2898} &   \\num{0.0399} &   \\num{29.1677} &   \\num{5.1e+03} \\\\\n",
      "volume shock 60             &    \\num{0.0384} &   \\num{59.0484} &   \\num{0.3321} &   \\num{0.0458} &   \\num{57.4151} &   \\num{1.4e+04} \\\\\n",
      "r2\\_1                       &   \\num{-0.1488} &    \\num{1.0000} &   \\num{0.0032} &   \\num{0.0095} &    \\num{2.9416} &   \\num{22.1135} \\\\\n",
      "r7\\_2                       &   \\num{-0.3243} &    \\num{1.0000} &  \\num{-0.0076} &   \\num{0.0312} &    \\num{1.0553} &    \\num{4.7216} \\\\\n",
      "r13\\_2                      &   \\num{-0.5129} &    \\num{1.0000} &  \\num{-0.0249} &   \\num{0.0652} &    \\num{0.4128} &    \\num{1.5437} \\\\\n",
      "r22\\_2                      &   \\num{-0.7646} &    \\num{1.0000} &  \\num{-0.0535} &   \\num{0.1223} &   \\num{-0.0190} &    \\num{0.4096} \\\\\n",
      "r31\\_2                      &   \\num{-0.9988} &    \\num{1.0000} &  \\num{-0.0843} &   \\num{0.1883} &   \\num{-0.2771} &    \\num{0.0553} \\\\\n",
      "r30\\_14                     &   \\num{-0.6455} &    \\num{1.0000} &  \\num{-0.0392} &   \\num{0.0953} &    \\num{0.1634} &    \\num{0.7306} \\\\\n",
      "r180\\_60                    &   \\num{-2.7643} &    \\num{1.0000} &  \\num{-0.3652} &   \\num{1.0715} &   \\num{-0.9382} &    \\num{0.0504} \\\\\n",
      "VaR 5\\%                     &   \\num{-0.2535} &         \\num{0} &  \\num{-0.1271} &   \\num{0.0044} &    \\num{0.1352} &   \\num{-0.1851} \\\\\n",
      "\\bottomrule\n",
      "\\end{tabular}\n",
      "\n"
     ]
    },
    {
     "name": "stderr",
     "output_type": "stream",
     "text": [
      "/var/folders/13/d37n485s17n292n_3yvvjbw00000gn/T/ipykernel_6692/3862219074.py:1: FutureWarning: In future versions `DataFrame.to_latex` is expected to utilise the base implementation of `Styler.to_latex` for formatting and rendering. The arguments signature may therefore change. It is recommended instead to use `DataFrame.style.to_latex` which also contains additional functionality.\n",
      "  print(stats_df.to_latex(escape = False))\n"
     ]
    }
   ],
   "source": [
    "print(stats_df.to_latex(escape = False))"
   ],
   "metadata": {
    "collapsed": false,
    "pycharm": {
     "name": "#%%\n"
    }
   }
  },
  {
   "cell_type": "code",
   "execution_count": 200,
   "outputs": [
    {
     "data": {
      "text/plain": "                                      Minimum           Maximum  \\\nnew_addresses                       $\\num{0}$   $\\num{1.0e+06}$   \nactive_addresses                    $\\num{0}$   $\\num{4.7e+06}$   \nbm                             $\\num{0.0001}$   $\\num{2.6e+09}$   \nvolume                              $\\num{0}$   $\\num{1.9e+21}$   \nstandard deviation volume           $\\num{0}$   $\\num{3.4e+20}$   \nsize                                $\\num{0}$   $\\num{1.3e+12}$   \nilliq                         $\\num{-0.0361}$   $\\num{17.2750}$   \ncapm beta                     $\\num{-0.4129}$   $\\num{5.2e+09}$   \nmax                                 $\\num{0}$   $\\num{1.1e+10}$   \ncapm alpha                    $\\num{-0.0248}$   $\\num{4.1e+08}$   \nivol                                $\\num{0}$   $\\num{2.0e+09}$   \nturnover                            $\\num{0}$   $\\num{1.9e+12}$   \nrvol                                $\\num{0}$  $\\num{114.8830}$   \nbid-ask                             $\\num{0}$   $\\num{14.4644}$   \ndetrended turnover           $\\num{-61.6379}$   $\\num{1.9e+12}$   \nstandard deviation turnover         $\\num{0}$   $\\num{3.4e+11}$   \nrel to high                    $\\num{0.1977}$    $\\num{1.0000}$   \nvolume shock 30                $\\num{0.0086}$   $\\num{42.4034}$   \nvolume shock 60                $\\num{0.0384}$   $\\num{59.0484}$   \nr2_1                          $\\num{-0.1488}$    $\\num{1.0000}$   \nr7_2                          $\\num{-0.3243}$    $\\num{1.0000}$   \nr13_2                         $\\num{-0.5129}$    $\\num{1.0000}$   \nr22_2                         $\\num{-0.7646}$    $\\num{1.0000}$   \nr31_2                         $\\num{-0.9988}$    $\\num{1.0000}$   \nr30_14                        $\\num{-0.6455}$    $\\num{1.0000}$   \nr180_60                       $\\num{-2.7643}$    $\\num{1.0000}$   \nvar_5                         $\\num{-0.2535}$         $\\num{0}$   \n\n                                        Mean         Variance  \\\nnew_addresses                $\\num{2.9e+03}$  $\\num{7.9e+08}$   \nactive_addresses             $\\num{6.4e+03}$  $\\num{3.6e+09}$   \nbm                           $\\num{2.2e+05}$  $\\num{5.1e+14}$   \nvolume                       $\\num{9.3e+15}$  $\\num{1.4e+37}$   \nstandard deviation volume    $\\num{5.0e+16}$  $\\num{1.4e+37}$   \nsize                         $\\num{1.8e+09}$  $\\num{8.9e+20}$   \nilliq                        $\\num{-0.0039}$   $\\num{0.0017}$   \ncapm beta                    $\\num{1.9e+05}$  $\\num{7.0e+14}$   \nmax                          $\\num{1.9e+06}$  $\\num{1.9e+16}$   \ncapm alpha                   $\\num{6.6e+04}$  $\\num{2.3e+13}$   \nivol                         $\\num{3.5e+05}$  $\\num{6.3e+14}$   \nturnover                     $\\num{6.9e+06}$  $\\num{1.1e+19}$   \nrvol                          $\\num{0.1242}$   $\\num{3.0113}$   \nbid-ask                       $\\num{0.0583}$   $\\num{0.0225}$   \ndetrended turnover           $\\num{6.9e+06}$  $\\num{1.0e+19}$   \nstandard deviation turnover  $\\num{3.7e+07}$  $\\num{1.0e+19}$   \nrel to high                   $\\num{0.5901}$   $\\num{0.0596}$   \nvolume shock 30               $\\num{0.2898}$   $\\num{0.0399}$   \nvolume shock 60               $\\num{0.3321}$   $\\num{0.0458}$   \nr2_1                          $\\num{0.0032}$   $\\num{0.0095}$   \nr7_2                         $\\num{-0.0076}$   $\\num{0.0312}$   \nr13_2                        $\\num{-0.0249}$   $\\num{0.0652}$   \nr22_2                        $\\num{-0.0535}$   $\\num{0.1223}$   \nr31_2                        $\\num{-0.0843}$   $\\num{0.1883}$   \nr30_14                       $\\num{-0.0392}$   $\\num{0.0953}$   \nr180_60                      $\\num{-0.3652}$   $\\num{1.0715}$   \nvar_5                        $\\num{-0.1271}$   $\\num{0.0044}$   \n\n                                     Skewness          Kurtosis  \nnew_addresses                 $\\num{14.4108}$  $\\num{237.7902}$  \nactive_addresses              $\\num{13.8191}$  $\\num{262.9238}$  \nbm                           $\\num{109.4618}$   $\\num{1.2e+04}$  \nvolume                       $\\num{426.0003}$   $\\num{1.9e+05}$  \nstandard deviation volume     $\\num{77.7582}$   $\\num{6.3e+03}$  \nsize                          $\\num{27.0693}$  $\\num{834.9976}$  \nilliq                        $\\num{356.9986}$   $\\num{1.4e+05}$  \ncapm beta                    $\\num{156.5901}$   $\\num{2.6e+04}$  \nmax                           $\\num{73.5529}$   $\\num{5.4e+03}$  \ncapm alpha                    $\\num{72.9906}$   $\\num{5.4e+03}$  \nivol                          $\\num{72.8721}$   $\\num{5.3e+03}$  \nturnover                     $\\num{520.6047}$   $\\num{2.8e+05}$  \nrvol                          $\\num{31.7552}$   $\\num{1.3e+03}$  \nbid-ask                       $\\num{30.0132}$   $\\num{1.6e+03}$  \ndetrended turnover           $\\num{520.5238}$   $\\num{2.8e+05}$  \nstandard deviation turnover   $\\num{95.0728}$   $\\num{9.4e+03}$  \nrel to high                    $\\num{0.0716}$   $\\num{-1.1178}$  \nvolume shock 30               $\\num{29.1677}$   $\\num{5.1e+03}$  \nvolume shock 60               $\\num{57.4151}$   $\\num{1.4e+04}$  \nr2_1                           $\\num{2.9416}$   $\\num{22.1135}$  \nr7_2                           $\\num{1.0553}$    $\\num{4.7216}$  \nr13_2                          $\\num{0.4128}$    $\\num{1.5437}$  \nr22_2                         $\\num{-0.0190}$    $\\num{0.4096}$  \nr31_2                         $\\num{-0.2771}$    $\\num{0.0553}$  \nr30_14                         $\\num{0.1634}$    $\\num{0.7306}$  \nr180_60                       $\\num{-0.9382}$    $\\num{0.0504}$  \nvar_5                          $\\num{0.1352}$   $\\num{-0.1851}$  ",
      "text/html": "<div>\n<style scoped>\n    .dataframe tbody tr th:only-of-type {\n        vertical-align: middle;\n    }\n\n    .dataframe tbody tr th {\n        vertical-align: top;\n    }\n\n    .dataframe thead th {\n        text-align: right;\n    }\n</style>\n<table border=\"1\" class=\"dataframe\">\n  <thead>\n    <tr style=\"text-align: right;\">\n      <th></th>\n      <th>Minimum</th>\n      <th>Maximum</th>\n      <th>Mean</th>\n      <th>Variance</th>\n      <th>Skewness</th>\n      <th>Kurtosis</th>\n    </tr>\n  </thead>\n  <tbody>\n    <tr>\n      <th>new_addresses</th>\n      <td>$\\num{0}$</td>\n      <td>$\\num{1.0e+06}$</td>\n      <td>$\\num{2.9e+03}$</td>\n      <td>$\\num{7.9e+08}$</td>\n      <td>$\\num{14.4108}$</td>\n      <td>$\\num{237.7902}$</td>\n    </tr>\n    <tr>\n      <th>active_addresses</th>\n      <td>$\\num{0}$</td>\n      <td>$\\num{4.7e+06}$</td>\n      <td>$\\num{6.4e+03}$</td>\n      <td>$\\num{3.6e+09}$</td>\n      <td>$\\num{13.8191}$</td>\n      <td>$\\num{262.9238}$</td>\n    </tr>\n    <tr>\n      <th>bm</th>\n      <td>$\\num{0.0001}$</td>\n      <td>$\\num{2.6e+09}$</td>\n      <td>$\\num{2.2e+05}$</td>\n      <td>$\\num{5.1e+14}$</td>\n      <td>$\\num{109.4618}$</td>\n      <td>$\\num{1.2e+04}$</td>\n    </tr>\n    <tr>\n      <th>volume</th>\n      <td>$\\num{0}$</td>\n      <td>$\\num{1.9e+21}$</td>\n      <td>$\\num{9.3e+15}$</td>\n      <td>$\\num{1.4e+37}$</td>\n      <td>$\\num{426.0003}$</td>\n      <td>$\\num{1.9e+05}$</td>\n    </tr>\n    <tr>\n      <th>standard deviation volume</th>\n      <td>$\\num{0}$</td>\n      <td>$\\num{3.4e+20}$</td>\n      <td>$\\num{5.0e+16}$</td>\n      <td>$\\num{1.4e+37}$</td>\n      <td>$\\num{77.7582}$</td>\n      <td>$\\num{6.3e+03}$</td>\n    </tr>\n    <tr>\n      <th>size</th>\n      <td>$\\num{0}$</td>\n      <td>$\\num{1.3e+12}$</td>\n      <td>$\\num{1.8e+09}$</td>\n      <td>$\\num{8.9e+20}$</td>\n      <td>$\\num{27.0693}$</td>\n      <td>$\\num{834.9976}$</td>\n    </tr>\n    <tr>\n      <th>illiq</th>\n      <td>$\\num{-0.0361}$</td>\n      <td>$\\num{17.2750}$</td>\n      <td>$\\num{-0.0039}$</td>\n      <td>$\\num{0.0017}$</td>\n      <td>$\\num{356.9986}$</td>\n      <td>$\\num{1.4e+05}$</td>\n    </tr>\n    <tr>\n      <th>capm beta</th>\n      <td>$\\num{-0.4129}$</td>\n      <td>$\\num{5.2e+09}$</td>\n      <td>$\\num{1.9e+05}$</td>\n      <td>$\\num{7.0e+14}$</td>\n      <td>$\\num{156.5901}$</td>\n      <td>$\\num{2.6e+04}$</td>\n    </tr>\n    <tr>\n      <th>max</th>\n      <td>$\\num{0}$</td>\n      <td>$\\num{1.1e+10}$</td>\n      <td>$\\num{1.9e+06}$</td>\n      <td>$\\num{1.9e+16}$</td>\n      <td>$\\num{73.5529}$</td>\n      <td>$\\num{5.4e+03}$</td>\n    </tr>\n    <tr>\n      <th>capm alpha</th>\n      <td>$\\num{-0.0248}$</td>\n      <td>$\\num{4.1e+08}$</td>\n      <td>$\\num{6.6e+04}$</td>\n      <td>$\\num{2.3e+13}$</td>\n      <td>$\\num{72.9906}$</td>\n      <td>$\\num{5.4e+03}$</td>\n    </tr>\n    <tr>\n      <th>ivol</th>\n      <td>$\\num{0}$</td>\n      <td>$\\num{2.0e+09}$</td>\n      <td>$\\num{3.5e+05}$</td>\n      <td>$\\num{6.3e+14}$</td>\n      <td>$\\num{72.8721}$</td>\n      <td>$\\num{5.3e+03}$</td>\n    </tr>\n    <tr>\n      <th>turnover</th>\n      <td>$\\num{0}$</td>\n      <td>$\\num{1.9e+12}$</td>\n      <td>$\\num{6.9e+06}$</td>\n      <td>$\\num{1.1e+19}$</td>\n      <td>$\\num{520.6047}$</td>\n      <td>$\\num{2.8e+05}$</td>\n    </tr>\n    <tr>\n      <th>rvol</th>\n      <td>$\\num{0}$</td>\n      <td>$\\num{114.8830}$</td>\n      <td>$\\num{0.1242}$</td>\n      <td>$\\num{3.0113}$</td>\n      <td>$\\num{31.7552}$</td>\n      <td>$\\num{1.3e+03}$</td>\n    </tr>\n    <tr>\n      <th>bid-ask</th>\n      <td>$\\num{0}$</td>\n      <td>$\\num{14.4644}$</td>\n      <td>$\\num{0.0583}$</td>\n      <td>$\\num{0.0225}$</td>\n      <td>$\\num{30.0132}$</td>\n      <td>$\\num{1.6e+03}$</td>\n    </tr>\n    <tr>\n      <th>detrended turnover</th>\n      <td>$\\num{-61.6379}$</td>\n      <td>$\\num{1.9e+12}$</td>\n      <td>$\\num{6.9e+06}$</td>\n      <td>$\\num{1.0e+19}$</td>\n      <td>$\\num{520.5238}$</td>\n      <td>$\\num{2.8e+05}$</td>\n    </tr>\n    <tr>\n      <th>standard deviation turnover</th>\n      <td>$\\num{0}$</td>\n      <td>$\\num{3.4e+11}$</td>\n      <td>$\\num{3.7e+07}$</td>\n      <td>$\\num{1.0e+19}$</td>\n      <td>$\\num{95.0728}$</td>\n      <td>$\\num{9.4e+03}$</td>\n    </tr>\n    <tr>\n      <th>rel to high</th>\n      <td>$\\num{0.1977}$</td>\n      <td>$\\num{1.0000}$</td>\n      <td>$\\num{0.5901}$</td>\n      <td>$\\num{0.0596}$</td>\n      <td>$\\num{0.0716}$</td>\n      <td>$\\num{-1.1178}$</td>\n    </tr>\n    <tr>\n      <th>volume shock 30</th>\n      <td>$\\num{0.0086}$</td>\n      <td>$\\num{42.4034}$</td>\n      <td>$\\num{0.2898}$</td>\n      <td>$\\num{0.0399}$</td>\n      <td>$\\num{29.1677}$</td>\n      <td>$\\num{5.1e+03}$</td>\n    </tr>\n    <tr>\n      <th>volume shock 60</th>\n      <td>$\\num{0.0384}$</td>\n      <td>$\\num{59.0484}$</td>\n      <td>$\\num{0.3321}$</td>\n      <td>$\\num{0.0458}$</td>\n      <td>$\\num{57.4151}$</td>\n      <td>$\\num{1.4e+04}$</td>\n    </tr>\n    <tr>\n      <th>r2_1</th>\n      <td>$\\num{-0.1488}$</td>\n      <td>$\\num{1.0000}$</td>\n      <td>$\\num{0.0032}$</td>\n      <td>$\\num{0.0095}$</td>\n      <td>$\\num{2.9416}$</td>\n      <td>$\\num{22.1135}$</td>\n    </tr>\n    <tr>\n      <th>r7_2</th>\n      <td>$\\num{-0.3243}$</td>\n      <td>$\\num{1.0000}$</td>\n      <td>$\\num{-0.0076}$</td>\n      <td>$\\num{0.0312}$</td>\n      <td>$\\num{1.0553}$</td>\n      <td>$\\num{4.7216}$</td>\n    </tr>\n    <tr>\n      <th>r13_2</th>\n      <td>$\\num{-0.5129}$</td>\n      <td>$\\num{1.0000}$</td>\n      <td>$\\num{-0.0249}$</td>\n      <td>$\\num{0.0652}$</td>\n      <td>$\\num{0.4128}$</td>\n      <td>$\\num{1.5437}$</td>\n    </tr>\n    <tr>\n      <th>r22_2</th>\n      <td>$\\num{-0.7646}$</td>\n      <td>$\\num{1.0000}$</td>\n      <td>$\\num{-0.0535}$</td>\n      <td>$\\num{0.1223}$</td>\n      <td>$\\num{-0.0190}$</td>\n      <td>$\\num{0.4096}$</td>\n    </tr>\n    <tr>\n      <th>r31_2</th>\n      <td>$\\num{-0.9988}$</td>\n      <td>$\\num{1.0000}$</td>\n      <td>$\\num{-0.0843}$</td>\n      <td>$\\num{0.1883}$</td>\n      <td>$\\num{-0.2771}$</td>\n      <td>$\\num{0.0553}$</td>\n    </tr>\n    <tr>\n      <th>r30_14</th>\n      <td>$\\num{-0.6455}$</td>\n      <td>$\\num{1.0000}$</td>\n      <td>$\\num{-0.0392}$</td>\n      <td>$\\num{0.0953}$</td>\n      <td>$\\num{0.1634}$</td>\n      <td>$\\num{0.7306}$</td>\n    </tr>\n    <tr>\n      <th>r180_60</th>\n      <td>$\\num{-2.7643}$</td>\n      <td>$\\num{1.0000}$</td>\n      <td>$\\num{-0.3652}$</td>\n      <td>$\\num{1.0715}$</td>\n      <td>$\\num{-0.9382}$</td>\n      <td>$\\num{0.0504}$</td>\n    </tr>\n    <tr>\n      <th>var_5</th>\n      <td>$\\num{-0.2535}$</td>\n      <td>$\\num{0}$</td>\n      <td>$\\num{-0.1271}$</td>\n      <td>$\\num{0.0044}$</td>\n      <td>$\\num{0.1352}$</td>\n      <td>$\\num{-0.1851}$</td>\n    </tr>\n  </tbody>\n</table>\n</div>"
     },
     "execution_count": 200,
     "metadata": {},
     "output_type": "execute_result"
    }
   ],
   "source": [
    "stats_df"
   ],
   "metadata": {
    "collapsed": false,
    "pycharm": {
     "name": "#%%\n"
    }
   }
  },
  {
   "cell_type": "markdown",
   "source": [
    "# Plot Correlation Matrix"
   ],
   "metadata": {
    "collapsed": false,
    "pycharm": {
     "name": "#%% md\n"
    }
   }
  },
  {
   "cell_type": "code",
   "execution_count": 228,
   "outputs": [],
   "source": [
    "corr = covariates_all.corr()"
   ],
   "metadata": {
    "collapsed": false,
    "pycharm": {
     "name": "#%%\n"
    }
   }
  },
  {
   "cell_type": "code",
   "execution_count": 230,
   "outputs": [
    {
     "data": {
      "text/plain": "<Figure size 936x936 with 2 Axes>",
      "image/png": "[encoded data removed]"
     },
     "metadata": {
      "needs_background": "light"
     },
     "output_type": "display_data"
    }
   ],
   "source": [
    "fig, ax = plt.subplots(figsize = [13, 13])\n",
    "sns.heatmap(\n",
    "    corr,\n",
    "    vmin=-1, vmax=1, center=0,\n",
    "    square=True,\n",
    "    cmap = \"coolwarm\",\n",
    "    ax = ax\n",
    ")\n",
    "ax.set_xticklabels(\n",
    "    ax.get_xticklabels(),\n",
    "    rotation=90,\n",
    "    horizontalalignment='right'\n",
    ");\n",
    "plt.savefig(\"../Plots/Correlation heatmap characteristics.png\", transparent = True, dpi = 600)"
   ],
   "metadata": {
    "collapsed": false,
    "pycharm": {
     "name": "#%%\n"
    }
   }
  },
  {
   "cell_type": "code",
   "execution_count": null,
   "outputs": [],
   "source": [],
   "metadata": {
    "collapsed": false,
    "pycharm": {
     "name": "#%%\n"
    }
   }
  }
 ],
 "metadata": {
  "kernelspec": {
   "display_name": "Python 3",
   "language": "python",
   "name": "python3"
  },
  "language_info": {
   "codemirror_mode": {
    "name": "ipython",
    "version": 2
   },
   "file_extension": ".py",
   "mimetype": "text/x-python",
   "name": "python",
   "nbconvert_exporter": "python",
   "pygments_lexer": "ipython2",
   "version": "2.7.6"
  }
 },
 "nbformat": 4,
 "nbformat_minor": 0
}