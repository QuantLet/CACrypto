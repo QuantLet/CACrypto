{
 "cells": [
  {
   "cell_type": "code",
   "execution_count": 34,
   "outputs": [],
   "source": [
    "import scipy as sp\n",
    "import numpy as np\n",
    "import matplotlib.pyplot as plt\n",
    "import os\n",
    "import pandas as pd\n",
    "import seaborn as sns\n",
    "import missingno as mn\n",
    "from datetime import datetime\n",
    "from functools import reduce\n",
    "plt.style.use(\"default\")"
   ],
   "metadata": {
    "collapsed": false,
    "pycharm": {
     "name": "#%%\n"
    }
   }
  },
  {
   "cell_type": "code",
   "execution_count": 3,
   "outputs": [],
   "source": [
    "price_files = os.listdir(\"../Cryptocompare data/Prices\")"
   ],
   "metadata": {
    "collapsed": false,
    "pycharm": {
     "name": "#%%\n"
    }
   }
  },
  {
   "cell_type": "code",
   "execution_count": 7,
   "outputs": [],
   "source": [
    "cryptocompare_data = dict(\n",
    "    zip(\n",
    "        [file[:-4] for file in price_files if file[-4:] == \".csv\"],\n",
    "        [pd.read_csv(\"../Cryptocompare data/Prices/\" + file, index_col= \"Unnamed: 0\") for file in price_files if file[-4:] == \".csv\"]\n",
    "    )\n",
    ")"
   ],
   "metadata": {
    "collapsed": false,
    "pycharm": {
     "name": "#%%\n"
    }
   }
  },
  {
   "cell_type": "code",
   "execution_count": 8,
   "outputs": [],
   "source": [
    "prices = {key : cryptocompare_data[key][\"close\"] for key in cryptocompare_data.keys()}"
   ],
   "metadata": {
    "collapsed": false,
    "pycharm": {
     "name": "#%%\n"
    }
   }
  },
  {
   "cell_type": "code",
   "execution_count": 19,
   "outputs": [],
   "source": [
    "returns = {key : prices[key].pct_change() for key in cryptocompare_data.keys()}\n",
    "for return_series in returns.values():\n",
    "    return_series[return_series == np.infty] = 0"
   ],
   "metadata": {
    "collapsed": false,
    "pycharm": {
     "name": "#%%\n"
    }
   }
  },
  {
   "cell_type": "code",
   "execution_count": 31,
   "outputs": [
    {
     "name": "stderr",
     "output_type": "stream",
     "text": [
      "/var/folders/13/d37n485s17n292n_3yvvjbw00000gn/T/ipykernel_11046/2486287240.py:2: RuntimeWarning: divide by zero encountered in log\n",
      "  log_max_returns = [np.log(return_series) for return_series in max_returns]\n"
     ]
    }
   ],
   "source": [
    "max_returns = [np.max(return_series) for return_series in returns.values()]\n",
    "log_max_returns = [np.log(return_series) for return_series in max_returns]"
   ],
   "metadata": {
    "collapsed": false,
    "pycharm": {
     "name": "#%%\n"
    }
   }
  },
  {
   "cell_type": "code",
   "execution_count": 42,
   "outputs": [],
   "source": [
    "max_returns_df = pd.DataFrame({\"Maximum log-returns\" :log_max_returns})"
   ],
   "metadata": {
    "collapsed": false,
    "pycharm": {
     "name": "#%%\n"
    }
   }
  },
  {
   "cell_type": "code",
   "execution_count": 44,
   "outputs": [
    {
     "data": {
      "text/plain": "<Figure size 640x480 with 1 Axes>",
      "image/png": "[encoded data removed]"
     },
     "metadata": {},
     "output_type": "display_data"
    }
   ],
   "source": [
    "fig, ax = plt.subplots()\n",
    "sns.boxplot(data = max_returns_df, x = \"Maximum log-returns\")\n",
    "plt.savefig(\"../Plots/Boxplot max log returns.png\", transparent = True, dpi = 600)"
   ],
   "metadata": {
    "collapsed": false,
    "pycharm": {
     "name": "#%%\n"
    }
   }
  },
  {
   "cell_type": "code",
   "execution_count": null,
   "outputs": [],
   "source": [],
   "metadata": {
    "collapsed": false,
    "pycharm": {
     "name": "#%%\n"
    }
   }
  }
 ],
 "metadata": {
  "kernelspec": {
   "display_name": "Python 3",
   "language": "python",
   "name": "python3"
  },
  "language_info": {
   "codemirror_mode": {
    "name": "ipython",
    "version": 2
   },
   "file_extension": ".py",
   "mimetype": "text/x-python",
   "name": "python",
   "nbconvert_exporter": "python",
   "pygments_lexer": "ipython2",
   "version": "2.7.6"
  }
 },
 "nbformat": 4,
 "nbformat_minor": 0
}