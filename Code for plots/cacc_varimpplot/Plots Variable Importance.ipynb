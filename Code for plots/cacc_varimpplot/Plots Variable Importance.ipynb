{
 "cells": [
  {
   "cell_type": "code",
   "execution_count": 1,
   "outputs": [
    {
     "data": {
      "text/plain": "<module 'my_functions_v13' from '/Users/lucasumann/PycharmProjects/Masterarbeit/Notebooks/my_functions_v13.py'>"
     },
     "execution_count": 1,
     "metadata": {},
     "output_type": "execute_result"
    }
   ],
   "source": [
    "import numpy as np\n",
    "import matplotlib.pyplot as plt\n",
    "import seaborn as sns\n",
    "from matplotlib.ticker import PercentFormatter\n",
    "from matplotlib.dates import YearLocator, DateFormatter\n",
    "plt.style.use(\"default\")\n",
    "import pandas as pd\n",
    "\n",
    "import my_functions_v13 as my\n",
    "import importlib\n",
    "\n",
    "from tqdm import tqdm\n",
    "importlib.reload(my)"
   ],
   "metadata": {
    "collapsed": false,
    "pycharm": {
     "name": "#%%\n"
    }
   }
  },
  {
   "cell_type": "markdown",
   "source": [],
   "metadata": {
    "collapsed": false,
    "pycharm": {
     "name": "#%% md\n"
    }
   }
  },
  {
   "cell_type": "markdown",
   "source": [],
   "metadata": {
    "collapsed": false,
    "pycharm": {
     "name": "#%% md\n"
    }
   }
  },
  {
   "cell_type": "code",
   "execution_count": 2,
   "outputs": [],
   "source": [
    "window_size_training = 0.1"
   ],
   "metadata": {
    "collapsed": false,
    "pycharm": {
     "name": "#%%\n"
    }
   }
  },
  {
   "cell_type": "code",
   "execution_count": 3,
   "outputs": [],
   "source": [
    "number_factors = 3"
   ],
   "metadata": {
    "collapsed": false,
    "pycharm": {
     "name": "#%%\n"
    }
   }
  },
  {
   "cell_type": "code",
   "execution_count": 4,
   "outputs": [],
   "source": [
    "full_coins_model = my.cond_auto_model(full_input = True, parallel_runs = 2, factor_dim=number_factors, model_name = \"322 coins with intercept v13 training window \"+str(window_size_training))\n",
    "full_coins_model.test_percent = 1 - window_size_training"
   ],
   "metadata": {
    "collapsed": false,
    "pycharm": {
     "name": "#%%\n"
    }
   }
  },
  {
   "cell_type": "code",
   "execution_count": 5,
   "outputs": [],
   "source": [
    "full_coins_model.initialize_X_Y()"
   ],
   "metadata": {
    "collapsed": false,
    "pycharm": {
     "name": "#%%\n"
    }
   }
  },
  {
   "cell_type": "code",
   "execution_count": 6,
   "outputs": [],
   "source": [
    "variables = full_coins_model.X[0].columns[:-1]"
   ],
   "metadata": {
    "collapsed": false,
    "pycharm": {
     "name": "#%%\n"
    }
   }
  },
  {
   "cell_type": "code",
   "execution_count": 7,
   "outputs": [],
   "source": [
    "variables = [var for var in variables]"
   ],
   "metadata": {
    "collapsed": false,
    "pycharm": {
     "name": "#%%\n"
    }
   }
  },
  {
   "cell_type": "code",
   "execution_count": 8,
   "outputs": [],
   "source": [
    "variables.append(\"none\")"
   ],
   "metadata": {
    "collapsed": false,
    "pycharm": {
     "name": "#%%\n"
    }
   }
  },
  {
   "cell_type": "code",
   "execution_count": 9,
   "outputs": [],
   "source": [
    "results = {}"
   ],
   "metadata": {
    "collapsed": false,
    "pycharm": {
     "name": "#%%\n"
    }
   }
  },
  {
   "cell_type": "code",
   "execution_count": 10,
   "outputs": [
    {
     "name": "stderr",
     "output_type": "stream",
     "text": [
      "100%|██████████| 28/28 [00:38<00:00,  1.36s/it]\n"
     ]
    }
   ],
   "source": [
    "for variable in tqdm(variables):\n",
    "    full_coins_model.update_contemporaneous_Y_predictions(set_var_to_zero= variable)\n",
    "    full_coins_model.reset_X_Y()\n",
    "    full_coins_model.calculate_contemporaneous_r2()\n",
    "    relevant_Rsquared_total = 1 - ((full_coins_model.masked_Y_pred_cont_average[-1194:] - full_coins_model.masked_Y_test[-1194:])**2).sum().sum() / (full_coins_model.masked_Y_test[-1194:]**2).sum().sum()\n",
    "    results[variable] = {\"masked Rsquared total\" : relevant_Rsquared_total}\n"
   ],
   "metadata": {
    "collapsed": false,
    "pycharm": {
     "name": "#%%\n"
    }
   }
  },
  {
   "cell_type": "code",
   "execution_count": 11,
   "outputs": [
    {
     "name": "stdout",
     "output_type": "stream",
     "text": [
      "{'new_addresses': {'masked Rsquared total': 0.24097227478140282}, 'active_addresses': {'masked Rsquared total': 0.24096502477984982}, 'bm': {'masked Rsquared total': 0.24071768300253304}, 'volume': {'masked Rsquared total': 0.24052343527390274}, 'standard deviation volume': {'masked Rsquared total': 0.24046301129985448}, 'size': {'masked Rsquared total': 0.24018469837812917}, 'illiq': {'masked Rsquared total': 0.23949609243474212}, 'capm beta': {'masked Rsquared total': 0.23951051912859123}, 'max': {'masked Rsquared total': 0.23987371498789334}, 'capm alpha': {'masked Rsquared total': 0.24120357183523955}, 'ivol': {'masked Rsquared total': 0.2413096278686887}, 'turnover': {'masked Rsquared total': 0.2412621982843547}, 'rvol': {'masked Rsquared total': 0.24123224222107165}, 'bid-ask': {'masked Rsquared total': 0.23902319022205865}, 'detrended turnover': {'masked Rsquared total': 0.2390554893038438}, 'standard deviation turnover': {'masked Rsquared total': 0.23904922699013564}, 'rel to high': {'masked Rsquared total': 0.23916165323455696}, 'volume shock 30': {'masked Rsquared total': 0.23919960368488113}, 'volume shock 60': {'masked Rsquared total': 0.24123139237571167}, 'r2_1': {'masked Rsquared total': 0.24132849588865535}, 'r7_2': {'masked Rsquared total': 0.2414854494113563}, 'r13_2': {'masked Rsquared total': 0.24180133206515508}, 'r22_2': {'masked Rsquared total': 0.24206350178046365}, 'r31_2': {'masked Rsquared total': 0.24228727214016565}, 'r30_14': {'masked Rsquared total': 0.242389830919032}, 'r180_60': {'masked Rsquared total': 0.24241329611878282}, 'var_5': {'masked Rsquared total': 0.2424824358405525}, 'none': {'masked Rsquared total': 0.2409757037313054}}\n"
     ]
    }
   ],
   "source": [
    "print(results)"
   ],
   "metadata": {
    "collapsed": false,
    "pycharm": {
     "name": "#%%\n"
    }
   }
  },
  {
   "cell_type": "code",
   "execution_count": 12,
   "outputs": [
    {
     "data": {
      "text/plain": "<AxesSubplot:xlabel='Variable', ylabel='Relevant Rsquared total'>"
     },
     "execution_count": 12,
     "metadata": {},
     "output_type": "execute_result"
    },
    {
     "data": {
      "text/plain": "<Figure size 432x288 with 1 Axes>",
      "image/png": "[encoded data removed]"
     },
     "metadata": {
      "needs_background": "light"
     },
     "output_type": "display_data"
    }
   ],
   "source": [
    "results_df = pd.DataFrame({\"Variable\": results.keys(), \"Relevant Rsquared total\": [value[\"masked Rsquared total\"] for value in results.values()]})\n",
    "sns.lineplot(data=results_df, x=\"Variable\", y=\"Relevant Rsquared total\")"
   ],
   "metadata": {
    "collapsed": false,
    "pycharm": {
     "name": "#%%\n"
    }
   }
  },
  {
   "cell_type": "code",
   "execution_count": 13,
   "outputs": [
    {
     "data": {
      "text/plain": "                       Variable  Relevant Rsquared total\n0                 new_addresses                 0.240972\n1              active_addresses                 0.240965\n2                            bm                 0.240718\n3                        volume                 0.240523\n4     standard deviation volume                 0.240463\n5                          size                 0.240185\n6                         illiq                 0.239496\n7                     capm beta                 0.239511\n8                           max                 0.239874\n9                    capm alpha                 0.241204\n10                         ivol                 0.241310\n11                     turnover                 0.241262\n12                         rvol                 0.241232\n13                      bid-ask                 0.239023\n14           detrended turnover                 0.239055\n15  standard deviation turnover                 0.239049\n16                  rel to high                 0.239162\n17              volume shock 30                 0.239200\n18              volume shock 60                 0.241231\n19                         r2_1                 0.241328\n20                         r7_2                 0.241485\n21                        r13_2                 0.241801\n22                        r22_2                 0.242064\n23                        r31_2                 0.242287\n24                       r30_14                 0.242390\n25                      r180_60                 0.242413\n26                        var_5                 0.242482\n27                         none                 0.240976",
      "text/html": "<div>\n<style scoped>\n    .dataframe tbody tr th:only-of-type {\n        vertical-align: middle;\n    }\n\n    .dataframe tbody tr th {\n        vertical-align: top;\n    }\n\n    .dataframe thead th {\n        text-align: right;\n    }\n</style>\n<table border=\"1\" class=\"dataframe\">\n  <thead>\n    <tr style=\"text-align: right;\">\n      <th></th>\n      <th>Variable</th>\n      <th>Relevant Rsquared total</th>\n    </tr>\n  </thead>\n  <tbody>\n    <tr>\n      <th>0</th>\n      <td>new_addresses</td>\n      <td>0.240972</td>\n    </tr>\n    <tr>\n      <th>1</th>\n      <td>active_addresses</td>\n      <td>0.240965</td>\n    </tr>\n    <tr>\n      <th>2</th>\n      <td>bm</td>\n      <td>0.240718</td>\n    </tr>\n    <tr>\n      <th>3</th>\n      <td>volume</td>\n      <td>0.240523</td>\n    </tr>\n    <tr>\n      <th>4</th>\n      <td>standard deviation volume</td>\n      <td>0.240463</td>\n    </tr>\n    <tr>\n      <th>5</th>\n      <td>size</td>\n      <td>0.240185</td>\n    </tr>\n    <tr>\n      <th>6</th>\n      <td>illiq</td>\n      <td>0.239496</td>\n    </tr>\n    <tr>\n      <th>7</th>\n      <td>capm beta</td>\n      <td>0.239511</td>\n    </tr>\n    <tr>\n      <th>8</th>\n      <td>max</td>\n      <td>0.239874</td>\n    </tr>\n    <tr>\n      <th>9</th>\n      <td>capm alpha</td>\n      <td>0.241204</td>\n    </tr>\n    <tr>\n      <th>10</th>\n      <td>ivol</td>\n      <td>0.241310</td>\n    </tr>\n    <tr>\n      <th>11</th>\n      <td>turnover</td>\n      <td>0.241262</td>\n    </tr>\n    <tr>\n      <th>12</th>\n      <td>rvol</td>\n      <td>0.241232</td>\n    </tr>\n    <tr>\n      <th>13</th>\n      <td>bid-ask</td>\n      <td>0.239023</td>\n    </tr>\n    <tr>\n      <th>14</th>\n      <td>detrended turnover</td>\n      <td>0.239055</td>\n    </tr>\n    <tr>\n      <th>15</th>\n      <td>standard deviation turnover</td>\n      <td>0.239049</td>\n    </tr>\n    <tr>\n      <th>16</th>\n      <td>rel to high</td>\n      <td>0.239162</td>\n    </tr>\n    <tr>\n      <th>17</th>\n      <td>volume shock 30</td>\n      <td>0.239200</td>\n    </tr>\n    <tr>\n      <th>18</th>\n      <td>volume shock 60</td>\n      <td>0.241231</td>\n    </tr>\n    <tr>\n      <th>19</th>\n      <td>r2_1</td>\n      <td>0.241328</td>\n    </tr>\n    <tr>\n      <th>20</th>\n      <td>r7_2</td>\n      <td>0.241485</td>\n    </tr>\n    <tr>\n      <th>21</th>\n      <td>r13_2</td>\n      <td>0.241801</td>\n    </tr>\n    <tr>\n      <th>22</th>\n      <td>r22_2</td>\n      <td>0.242064</td>\n    </tr>\n    <tr>\n      <th>23</th>\n      <td>r31_2</td>\n      <td>0.242287</td>\n    </tr>\n    <tr>\n      <th>24</th>\n      <td>r30_14</td>\n      <td>0.242390</td>\n    </tr>\n    <tr>\n      <th>25</th>\n      <td>r180_60</td>\n      <td>0.242413</td>\n    </tr>\n    <tr>\n      <th>26</th>\n      <td>var_5</td>\n      <td>0.242482</td>\n    </tr>\n    <tr>\n      <th>27</th>\n      <td>none</td>\n      <td>0.240976</td>\n    </tr>\n  </tbody>\n</table>\n</div>"
     },
     "execution_count": 13,
     "metadata": {},
     "output_type": "execute_result"
    }
   ],
   "source": [
    "results_df"
   ],
   "metadata": {
    "collapsed": false,
    "pycharm": {
     "name": "#%%\n"
    }
   }
  },
  {
   "cell_type": "code",
   "execution_count": 14,
   "outputs": [],
   "source": [
    "results_df[\"Delta\"] = results_df[\"Relevant Rsquared total\"] - results_df[\"Relevant Rsquared total\"].loc[27]"
   ],
   "metadata": {
    "collapsed": false,
    "pycharm": {
     "name": "#%%\n"
    }
   }
  },
  {
   "cell_type": "code",
   "execution_count": 15,
   "outputs": [
    {
     "data": {
      "text/plain": "                       Variable  Relevant Rsquared total     Delta\n0                 new_addresses                 0.240972 -0.000003\n1              active_addresses                 0.240965 -0.000011\n2                            bm                 0.240718 -0.000258\n3                        volume                 0.240523 -0.000452\n4     standard deviation volume                 0.240463 -0.000513\n5                          size                 0.240185 -0.000791\n6                         illiq                 0.239496 -0.001480\n7                     capm beta                 0.239511 -0.001465\n8                           max                 0.239874 -0.001102\n9                    capm alpha                 0.241204  0.000228\n10                         ivol                 0.241310  0.000334\n11                     turnover                 0.241262  0.000286\n12                         rvol                 0.241232  0.000257\n13                      bid-ask                 0.239023 -0.001953\n14           detrended turnover                 0.239055 -0.001920\n15  standard deviation turnover                 0.239049 -0.001926\n16                  rel to high                 0.239162 -0.001814\n17              volume shock 30                 0.239200 -0.001776\n18              volume shock 60                 0.241231  0.000256\n19                         r2_1                 0.241328  0.000353\n20                         r7_2                 0.241485  0.000510\n21                        r13_2                 0.241801  0.000826\n22                        r22_2                 0.242064  0.001088\n23                        r31_2                 0.242287  0.001312\n24                       r30_14                 0.242390  0.001414\n25                      r180_60                 0.242413  0.001438\n26                        var_5                 0.242482  0.001507\n27                         none                 0.240976  0.000000",
      "text/html": "<div>\n<style scoped>\n    .dataframe tbody tr th:only-of-type {\n        vertical-align: middle;\n    }\n\n    .dataframe tbody tr th {\n        vertical-align: top;\n    }\n\n    .dataframe thead th {\n        text-align: right;\n    }\n</style>\n<table border=\"1\" class=\"dataframe\">\n  <thead>\n    <tr style=\"text-align: right;\">\n      <th></th>\n      <th>Variable</th>\n      <th>Relevant Rsquared total</th>\n      <th>Delta</th>\n    </tr>\n  </thead>\n  <tbody>\n    <tr>\n      <th>0</th>\n      <td>new_addresses</td>\n      <td>0.240972</td>\n      <td>-0.000003</td>\n    </tr>\n    <tr>\n      <th>1</th>\n      <td>active_addresses</td>\n      <td>0.240965</td>\n      <td>-0.000011</td>\n    </tr>\n    <tr>\n      <th>2</th>\n      <td>bm</td>\n      <td>0.240718</td>\n      <td>-0.000258</td>\n    </tr>\n    <tr>\n      <th>3</th>\n      <td>volume</td>\n      <td>0.240523</td>\n      <td>-0.000452</td>\n    </tr>\n    <tr>\n      <th>4</th>\n      <td>standard deviation volume</td>\n      <td>0.240463</td>\n      <td>-0.000513</td>\n    </tr>\n    <tr>\n      <th>5</th>\n      <td>size</td>\n      <td>0.240185</td>\n      <td>-0.000791</td>\n    </tr>\n    <tr>\n      <th>6</th>\n      <td>illiq</td>\n      <td>0.239496</td>\n      <td>-0.001480</td>\n    </tr>\n    <tr>\n      <th>7</th>\n      <td>capm beta</td>\n      <td>0.239511</td>\n      <td>-0.001465</td>\n    </tr>\n    <tr>\n      <th>8</th>\n      <td>max</td>\n      <td>0.239874</td>\n      <td>-0.001102</td>\n    </tr>\n    <tr>\n      <th>9</th>\n      <td>capm alpha</td>\n      <td>0.241204</td>\n      <td>0.000228</td>\n    </tr>\n    <tr>\n      <th>10</th>\n      <td>ivol</td>\n      <td>0.241310</td>\n      <td>0.000334</td>\n    </tr>\n    <tr>\n      <th>11</th>\n      <td>turnover</td>\n      <td>0.241262</td>\n      <td>0.000286</td>\n    </tr>\n    <tr>\n      <th>12</th>\n      <td>rvol</td>\n      <td>0.241232</td>\n      <td>0.000257</td>\n    </tr>\n    <tr>\n      <th>13</th>\n      <td>bid-ask</td>\n      <td>0.239023</td>\n      <td>-0.001953</td>\n    </tr>\n    <tr>\n      <th>14</th>\n      <td>detrended turnover</td>\n      <td>0.239055</td>\n      <td>-0.001920</td>\n    </tr>\n    <tr>\n      <th>15</th>\n      <td>standard deviation turnover</td>\n      <td>0.239049</td>\n      <td>-0.001926</td>\n    </tr>\n    <tr>\n      <th>16</th>\n      <td>rel to high</td>\n      <td>0.239162</td>\n      <td>-0.001814</td>\n    </tr>\n    <tr>\n      <th>17</th>\n      <td>volume shock 30</td>\n      <td>0.239200</td>\n      <td>-0.001776</td>\n    </tr>\n    <tr>\n      <th>18</th>\n      <td>volume shock 60</td>\n      <td>0.241231</td>\n      <td>0.000256</td>\n    </tr>\n    <tr>\n      <th>19</th>\n      <td>r2_1</td>\n      <td>0.241328</td>\n      <td>0.000353</td>\n    </tr>\n    <tr>\n      <th>20</th>\n      <td>r7_2</td>\n      <td>0.241485</td>\n      <td>0.000510</td>\n    </tr>\n    <tr>\n      <th>21</th>\n      <td>r13_2</td>\n      <td>0.241801</td>\n      <td>0.000826</td>\n    </tr>\n    <tr>\n      <th>22</th>\n      <td>r22_2</td>\n      <td>0.242064</td>\n      <td>0.001088</td>\n    </tr>\n    <tr>\n      <th>23</th>\n      <td>r31_2</td>\n      <td>0.242287</td>\n      <td>0.001312</td>\n    </tr>\n    <tr>\n      <th>24</th>\n      <td>r30_14</td>\n      <td>0.242390</td>\n      <td>0.001414</td>\n    </tr>\n    <tr>\n      <th>25</th>\n      <td>r180_60</td>\n      <td>0.242413</td>\n      <td>0.001438</td>\n    </tr>\n    <tr>\n      <th>26</th>\n      <td>var_5</td>\n      <td>0.242482</td>\n      <td>0.001507</td>\n    </tr>\n    <tr>\n      <th>27</th>\n      <td>none</td>\n      <td>0.240976</td>\n      <td>0.000000</td>\n    </tr>\n  </tbody>\n</table>\n</div>"
     },
     "execution_count": 15,
     "metadata": {},
     "output_type": "execute_result"
    }
   ],
   "source": [
    "results_df"
   ],
   "metadata": {
    "collapsed": false,
    "pycharm": {
     "name": "#%%\n"
    }
   }
  },
  {
   "cell_type": "code",
   "execution_count": 16,
   "outputs": [],
   "source": [
    "results_df.sort_values(\"Delta\", inplace = True)"
   ],
   "metadata": {
    "collapsed": false,
    "pycharm": {
     "name": "#%%\n"
    }
   }
  },
  {
   "cell_type": "code",
   "execution_count": 17,
   "outputs": [
    {
     "data": {
      "text/plain": "0.02527073297816007"
     },
     "execution_count": 17,
     "metadata": {},
     "output_type": "execute_result"
    }
   ],
   "source": [
    "np.sum(np.abs(results_df[\"Delta\"]))"
   ],
   "metadata": {
    "collapsed": false,
    "pycharm": {
     "name": "#%%\n"
    }
   }
  },
  {
   "cell_type": "code",
   "execution_count": 18,
   "outputs": [],
   "source": [
    "results_df[\"Delta normalized\"] = results_df[\"Delta\"] /np.max(np.abs(results_df[\"Delta\"]))"
   ],
   "metadata": {
    "collapsed": false,
    "pycharm": {
     "name": "#%%\n"
    }
   }
  },
  {
   "cell_type": "code",
   "execution_count": 19,
   "outputs": [],
   "source": [
    "results_df = results_df[results_df[\"Variable\"] != \"none\"]"
   ],
   "metadata": {
    "collapsed": false,
    "pycharm": {
     "name": "#%%\n"
    }
   }
  },
  {
   "cell_type": "code",
   "execution_count": 21,
   "outputs": [
    {
     "data": {
      "text/plain": "<Figure size 720x1080 with 1 Axes>",
      "image/png": "[encoded data removed]"
     },
     "metadata": {},
     "output_type": "display_data"
    }
   ],
   "source": [
    "sns.set(rc={'figure.figsize':(11.7,8.27)})\n",
    "#define seaborn background colors\n",
    "sns.set(rc={'axes.facecolor':'white', 'figure.facecolor':'white'})\n",
    "\n",
    "sns.set_palette(\"deep\")\n",
    "\n",
    "cols = [[196/255, 2/255, 21/255] if (x > 0) else [0, 22/255, 189/255] for x in results_df.Delta]\n",
    "\n",
    "\n",
    "fig, ax= plt.subplots(1)\n",
    "sns.barplot(data = results_df, x = \"Delta\", y = \"Variable\", ax = ax, palette = cols, orient = \"h\")\n",
    "ax.set_ylabel(\"\")\n",
    "ax.xaxis.set_major_formatter(PercentFormatter(1, decimals = 2))\n",
    "ax.set_xlabel(\"$\\Delta R^2_{total}$\", rotation = 0, labelpad = 20)\n",
    "\n",
    "\n",
    "fig.set_size_inches(10, 15)\n",
    "\n",
    "plt.tight_layout()\n",
    "plt.savefig(\"../Plots/Variable Importance.png\", transparent = True, dpi = 600)"
   ],
   "metadata": {
    "collapsed": false,
    "pycharm": {
     "name": "#%%\n"
    }
   }
  },
  {
   "cell_type": "code",
   "execution_count": 20,
   "outputs": [],
   "source": [],
   "metadata": {
    "collapsed": false,
    "pycharm": {
     "name": "#%%\n"
    }
   }
  },
  {
   "cell_type": "code",
   "execution_count": 20,
   "outputs": [],
   "source": [],
   "metadata": {
    "collapsed": false,
    "pycharm": {
     "name": "#%%\n"
    }
   }
  }
 ],
 "metadata": {
  "kernelspec": {
   "display_name": "Python 3",
   "language": "python",
   "name": "python3"
  },
  "language_info": {
   "codemirror_mode": {
    "name": "ipython",
    "version": 2
   },
   "file_extension": ".py",
   "mimetype": "text/x-python",
   "name": "python",
   "nbconvert_exporter": "python",
   "pygments_lexer": "ipython2",
   "version": "2.7.6"
  }
 },
 "nbformat": 4,
 "nbformat_minor": 0
}