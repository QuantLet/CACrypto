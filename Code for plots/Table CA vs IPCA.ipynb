{
 "cells": [
  {
   "cell_type": "code",
   "execution_count": 22,
   "outputs": [],
   "source": [
    "import pandas as pd\n",
    "import numpy as np"
   ],
   "metadata": {
    "collapsed": false,
    "pycharm": {
     "name": "#%%\n"
    }
   }
  },
  {
   "cell_type": "code",
   "execution_count": 23,
   "outputs": [],
   "source": [
    "# Results collected from different scripts\n",
    "\n",
    "number_factors = [1, 2, 3, 4, 5, 6]\n",
    "ca_results_total = [\"20.3\\%\",\t\"22.1\\%\",\t\"22.7\\%\",\t\"23.1\\%\",\t\"23.1\\%\",\t\"23.7\\%\"]\n",
    "ca_results_predictive = [\"1.4\\%\",\t\"1.7\\%\",\t\"1.7\\%\",\t\"1.8\\%\",\t\"1.6\\%\",\t\"1.6\\%\"]\n",
    "ipca_results_total = [\"5.9\\%\", \"6.8\\%\", \"7.5\\%\", \"8.1\\%\", \"8.6\\%\", \"9.1\\%\"]\n",
    "ipca_results_predictive = [\"1.1\\%\", \"1.1\\%\", \"0.9\\%\", \"0.9\\%\", \"0.9\\%\", \"0.9\\%\"]"
   ],
   "metadata": {
    "collapsed": false,
    "pycharm": {
     "name": "#%%\n"
    }
   }
  },
  {
   "cell_type": "code",
   "execution_count": 24,
   "outputs": [],
   "source": [
    "table_main_results = pd.DataFrame(\n",
    "    {\n",
    "        r\"CA $R^2_{\\text{total}}$\" : ca_results_total,\n",
    "        r\"IPCA $R^2_{\\text{total}}$\" : ipca_results_total,\n",
    "        r\"CA $R^2_{\\text{pred}}$\" : ca_results_predictive,\n",
    "        r\"IPCA $R^2_{\\text{pred}}$\" : ipca_results_predictive\n",
    "    },\n",
    "    index = number_factors\n",
    ")\n",
    "table_main_results.index.name = \"Factor number\"\n",
    "table_main_results = table_main_results.T"
   ],
   "metadata": {
    "collapsed": false,
    "pycharm": {
     "name": "#%%\n"
    }
   }
  },
  {
   "cell_type": "code",
   "execution_count": 25,
   "outputs": [
    {
     "data": {
      "text/plain": "Factor number                   1       2       3       4       5       6\nCA $R^2_{\\text{total}}$    20.3\\%  22.1\\%  22.7\\%  23.1\\%  23.1\\%  23.7\\%\nIPCA $R^2_{\\text{total}}$   5.9\\%   6.8\\%   7.5\\%   8.1\\%   8.6\\%   9.1\\%\nCA $R^2_{\\text{pred}}$      1.4\\%   1.7\\%   1.7\\%   1.8\\%   1.6\\%   1.6\\%\nIPCA $R^2_{\\text{pred}}$    1.1\\%   1.1\\%   0.9\\%   0.9\\%   0.9\\%   0.9\\%",
      "text/html": "<div>\n<style scoped>\n    .dataframe tbody tr th:only-of-type {\n        vertical-align: middle;\n    }\n\n    .dataframe tbody tr th {\n        vertical-align: top;\n    }\n\n    .dataframe thead th {\n        text-align: right;\n    }\n</style>\n<table border=\"1\" class=\"dataframe\">\n  <thead>\n    <tr style=\"text-align: right;\">\n      <th>Factor number</th>\n      <th>1</th>\n      <th>2</th>\n      <th>3</th>\n      <th>4</th>\n      <th>5</th>\n      <th>6</th>\n    </tr>\n  </thead>\n  <tbody>\n    <tr>\n      <th>CA $R^2_{\\text{total}}$</th>\n      <td>20.3\\%</td>\n      <td>22.1\\%</td>\n      <td>22.7\\%</td>\n      <td>23.1\\%</td>\n      <td>23.1\\%</td>\n      <td>23.7\\%</td>\n    </tr>\n    <tr>\n      <th>IPCA $R^2_{\\text{total}}$</th>\n      <td>5.9\\%</td>\n      <td>6.8\\%</td>\n      <td>7.5\\%</td>\n      <td>8.1\\%</td>\n      <td>8.6\\%</td>\n      <td>9.1\\%</td>\n    </tr>\n    <tr>\n      <th>CA $R^2_{\\text{pred}}$</th>\n      <td>1.4\\%</td>\n      <td>1.7\\%</td>\n      <td>1.7\\%</td>\n      <td>1.8\\%</td>\n      <td>1.6\\%</td>\n      <td>1.6\\%</td>\n    </tr>\n    <tr>\n      <th>IPCA $R^2_{\\text{pred}}$</th>\n      <td>1.1\\%</td>\n      <td>1.1\\%</td>\n      <td>0.9\\%</td>\n      <td>0.9\\%</td>\n      <td>0.9\\%</td>\n      <td>0.9\\%</td>\n    </tr>\n  </tbody>\n</table>\n</div>"
     },
     "execution_count": 25,
     "metadata": {},
     "output_type": "execute_result"
    }
   ],
   "source": [
    "table_main_results"
   ],
   "metadata": {
    "collapsed": false,
    "pycharm": {
     "name": "#%%\n"
    }
   }
  },
  {
   "cell_type": "code",
   "execution_count": 26,
   "outputs": [
    {
     "name": "stdout",
     "output_type": "stream",
     "text": [
      "\\begin{tabular}{lllllll}\n",
      "Factor number & 1 & 2 & 3 & 4 & 5 & 6 \\\\\n",
      "CA $R^2_{\\text{total}}$ & 20.3\\% & 22.1\\% & 22.7\\% & 23.1\\% & 23.1\\% & 23.7\\% \\\\\n",
      "IPCA $R^2_{\\text{total}}$ & 5.9\\% & 6.8\\% & 7.5\\% & 8.1\\% & 8.6\\% & 9.1\\% \\\\\n",
      "CA $R^2_{\\text{pred}}$ & 1.4\\% & 1.7\\% & 1.7\\% & 1.8\\% & 1.6\\% & 1.6\\% \\\\\n",
      "IPCA $R^2_{\\text{pred}}$ & 1.1\\% & 1.1\\% & 0.9\\% & 0.9\\% & 0.9\\% & 0.9\\% \\\\\n",
      "\\end{tabular}\n",
      "\n"
     ]
    }
   ],
   "source": [
    "print(table_main_results.style.to_latex())"
   ],
   "metadata": {
    "collapsed": false,
    "pycharm": {
     "name": "#%%\n"
    }
   }
  },
  {
   "cell_type": "code",
   "execution_count": 26,
   "outputs": [],
   "source": [],
   "metadata": {
    "collapsed": false,
    "pycharm": {
     "name": "#%%\n"
    }
   }
  }
 ],
 "metadata": {
  "kernelspec": {
   "display_name": "Python 3",
   "language": "python",
   "name": "python3"
  },
  "language_info": {
   "codemirror_mode": {
    "name": "ipython",
    "version": 2
   },
   "file_extension": ".py",
   "mimetype": "text/x-python",
   "name": "python",
   "nbconvert_exporter": "python",
   "pygments_lexer": "ipython2",
   "version": "2.7.6"
  }
 },
 "nbformat": 4,
 "nbformat_minor": 0
}